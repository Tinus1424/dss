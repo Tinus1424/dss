{
 "cells": [
  {
   "cell_type": "markdown",
   "metadata": {},
   "source": [
    "1\n",
    "\n",
    "Write a function called generate_tvt_sets that takes three inputs:\n",
    "\n",
    "a two-dimensional numpy array of float numbers (named x)\n",
    "\n",
    "and two integers (named training_count and test_count)\n",
    "\n",
    "2\n",
    "\n",
    "The function should write the following 3 files.\n",
    "\n",
    "write the first training_count rows  of x to a CSV file named q1_training_data.csv.\n",
    "\n",
    "write the final test_count rows of x to a CSV file named q1_test_data.csv.\n",
    "\n",
    "write all other rows x (not in the training or test set) to a CSV file named q1_validate_data.csv.\n",
    "\n",
    "3\n",
    "\n",
    "Note: You may not use any loops (for, while, etc) to solve this question."
   ]
  },
  {
   "cell_type": "code",
   "execution_count": 43,
   "metadata": {},
   "outputs": [],
   "source": [
    "import numpy as np\n",
    "\n",
    "def generate_tvt_sets(x, training_count, test_count):\n",
    "    np.savetxt(\"q1_training_data.csv\", x[0:training_count], delimiter = \",\")\n",
    "    np.savetxt(\"q1_test_data.csv\", x[training_count: training_count + test_count], delimiter = \",\")\n",
    "    np.savetxt(\"q1_validate_data.csv\", x[test_count + training_count:], delimiter = \",\")\n",
    "    return "
   ]
  }
 ],
 "metadata": {
  "kernelspec": {
   "display_name": "base",
   "language": "python",
   "name": "python3"
  },
  "language_info": {
   "codemirror_mode": {
    "name": "ipython",
    "version": 3
   },
   "file_extension": ".py",
   "mimetype": "text/x-python",
   "name": "python",
   "nbconvert_exporter": "python",
   "pygments_lexer": "ipython3",
   "version": "3.11.5"
  }
 },
 "nbformat": 4,
 "nbformat_minor": 2
}
