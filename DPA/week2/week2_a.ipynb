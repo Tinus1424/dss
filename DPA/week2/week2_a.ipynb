{
 "cells": [
  {
   "cell_type": "markdown",
   "metadata": {},
   "source": [
    "# 2. Multidemensional Arrays"
   ]
  },
  {
   "cell_type": "markdown",
   "metadata": {},
   "source": [
    "\n",
    "An array is an ordered and structured collection of elements. Arrays are structured around the number of dimensions they contain, as well as how many elements exist along each dimension. Today we will focus on arrays that are more than one dimension.\n",
    "\n",
    "A one-dimensional array that contains six elements looks like:\n",
    "\n",
    "  4 5 6 7 8 9\n",
    "\n",
    "Or we could have a two-dimensional array that contains six elements with two rows and three columns:\n",
    "\n",
    "  4 5 6\n",
    "  \n",
    "  7 8 9\n",
    "\n",
    "In general, an array can be $n$-dimensional. One way to think of $n$-dimensional arrays in terms of the bookshelf analogy:\n",
    "\n",
    "- 1d array is a single row of a bookshelf, where a book can be identified by its position in the row\n",
    "- 2d array is the whole bookshelf, where a book can be identified by its row number and its position in the row\n",
    "- 3d array is a room full of bookshelves, where a book can be identified by the number of the bookshelf, row, and position in the row\n",
    "- 4d array is a library with rooms with bookshelves, where a book can be identified by the room, bookshelf, row and position in the row\n",
    "- ...and so on...\n",
    "\n",
    "The constraints for multi-dimensional numpy arrays are the same as for one-dimensional arrays: \n",
    "- all elements must be of the same type\n",
    "- all elements are contiguous in memory to allow for fast computations\n",
    "\n",
    "Similar to 1-dimensional arrays, we can use four methods to create multi-dimensional arrays:\n",
    "- From Python lists and tuples\n",
    "- From a file\n",
    "- Using intrinsic Numpy functions\n",
    "- Using functions in the random module in Numpy\n",
    "\n",
    "In the ramaining, we will see examples on creating multi-dimensional Numpy arrays."
   ]
  },
  {
   "cell_type": "markdown",
   "metadata": {},
   "source": [
    "## 2.1 Creating multidemensional arrays \n",
    "\n",
    "### 2.1.1 Creating multidemensional arrays from Python lists and tuples\n",
    "\n",
    "Last week we focused on creating arrays that contain one dimesion. We have learned about multiple attributes we can access to get insight about the array characteristics including:\n",
    "- `x.ndim` : the number of dimensions.\n",
    "- `x.shape` : the length of each dimension.\n",
    "- `x.size` : the total number of elements.\n",
    "- `x.dtype`: the datatype of the elements in the array."
   ]
  },
  {
   "cell_type": "code",
   "execution_count": 1,
   "metadata": {},
   "outputs": [
    {
     "name": "stdout",
     "output_type": "stream",
     "text": [
      "[1 2 3]\n",
      "1 (3,) 3 int32\n"
     ]
    }
   ],
   "source": [
    "import numpy\n",
    "\n",
    "b = numpy.array([1, 2, 3])\n",
    "print( b )\n",
    "print( b.ndim, b.shape, b.size, b.dtype )"
   ]
  },
  {
   "cell_type": "markdown",
   "metadata": {},
   "source": [
    "\n",
    "When creating two dimensional arrays, the simplist way to do so is based on python structures. Specifically, create the numpy array based off a python list, where each element of the list is another list. In this case the outer list is a list of the rows and each inner list specifies the elements of that row."
   ]
  },
  {
   "cell_type": "code",
   "execution_count": 2,
   "metadata": {
    "collapsed": false,
    "jupyter": {
     "outputs_hidden": false
    }
   },
   "outputs": [
    {
     "name": "stdout",
     "output_type": "stream",
     "text": [
      "[[1 3 6 5]\n",
      " [2 4 3 0]]\n",
      "2 (2, 4) 8 int32\n"
     ]
    }
   ],
   "source": [
    "a = numpy.array([[1, 3, 6, 5], [2, 4, 3, 0]])\n",
    "#a = numpy.array(((1, 3, 6, 5), (2, 4, 3, 0)))\n",
    "\n",
    "print( a )\n",
    "print( a.ndim, a.shape, a.size, a.dtype )"
   ]
  },
  {
   "cell_type": "markdown",
   "metadata": {},
   "source": [
    "A true 2-dimensional array (also called a matrix) is created only if the number of elements in each row is the same across all rows. Otherwise, a one-dimensional numpy array of python lists is created:"
   ]
  },
  {
   "cell_type": "code",
   "execution_count": 5,
   "metadata": {
    "collapsed": false,
    "jupyter": {
     "outputs_hidden": false
    }
   },
   "outputs": [
    {
     "data": {
      "text/plain": [
       "'b = numpy.array([[1, 3, 6, 5], [2, 4, 3]])\\n\\nprint( b )\\nprint( b.ndim, b.shape, b.size, b.dtype )'"
      ]
     },
     "execution_count": 5,
     "metadata": {},
     "output_type": "execute_result"
    }
   ],
   "source": [
    "\"\"\"b = numpy.array([[1, 3, 6, 5], [2, 4, 3]])\n",
    "\n",
    "print( b )\n",
    "print( b.ndim, b.shape, b.size, b.dtype )\"\"\""
   ]
  },
  {
   "cell_type": "markdown",
   "metadata": {},
   "source": [
    "\n",
    "N-dimensional arrays can be created in the same way as two-dimensional arrays but with more nested lists:"
   ]
  },
  {
   "cell_type": "code",
   "execution_count": 6,
   "metadata": {
    "collapsed": false,
    "jupyter": {
     "outputs_hidden": false
    }
   },
   "outputs": [
    {
     "name": "stdout",
     "output_type": "stream",
     "text": [
      "[[[ 1  3]\n",
      "  [ 2  4]]\n",
      "\n",
      " [[11 13]\n",
      "  [12 14]]]\n",
      "Number of dimensions: 3\n",
      "Length of each dimension: (2, 2, 2)\n",
      "The total number of elements: 8\n"
     ]
    }
   ],
   "source": [
    "# create a three dimensional array:\n",
    "z1 = numpy.array([[[1, 3], [2, 4]], [[11, 13], [12, 14]] ])\n",
    "\n",
    "# dimensions/shape/size of the array:\n",
    "print(z1)\n",
    "print( \"Number of dimensions:\", z1.ndim )\n",
    "print( \"Length of each dimension:\", z1.shape )\n",
    "print( \"The total number of elements:\", z1.size )"
   ]
  },
  {
   "cell_type": "markdown",
   "metadata": {},
   "source": [
    "## Exercise 2.1\n",
    "\n",
    "First, create a 2x3x2 three-dimensional array (you decide which values to include). Then, create 2x2x3 three-dimensional array. Verify the arrays have the same number of dimensions and elements but different shapes."
   ]
  },
  {
   "cell_type": "code",
   "execution_count": 21,
   "metadata": {
    "tags": []
   },
   "outputs": [
    {
     "name": "stdout",
     "output_type": "stream",
     "text": [
      "[[[0 1]\n",
      "  [2 5]\n",
      "  [2 5]]\n",
      "\n",
      " [[4 5]\n",
      "  [6 7]\n",
      "  [2 5]]]\n",
      "[[[0 1 2]\n",
      "  [2 3 4]]\n",
      "\n",
      " [[0 1 2]\n",
      "  [4 5 8]]]\n",
      "Ndim 3 3\n",
      "Ldim (2, 3, 2) (2, 2, 3)\n",
      "Size 12 12\n"
     ]
    }
   ],
   "source": [
    "a = numpy.array([[[0, 1], [2, 5], [2, 5]], [[4, 5], [6, 7], [2, 5]]])\n",
    "b = numpy.array([[[0, 1, 2], [2, 3, 4]], [[0, 1, 2], [4, 5, 8]]])\n",
    "\n",
    "print(a)\n",
    "print(b)\n",
    "print(\"Ndim\", a.ndim, b.ndim)\n",
    "print(\"Ldim\", a.shape, b.shape)\n",
    "print(\"Size\", a.size, b.size)"
   ]
  },
  {
   "cell_type": "markdown",
   "metadata": {},
   "source": [
    "### 2.1.2 Reading and writing multidimensional arrays from/to file\n",
    "\n",
    "There are two major numpy based methods for saving objects: saving them as a text file, or as a numpy-specific binary file. The first option is very similar to a csv file, the second preserves the numpy structure (like python's pickle library). The way to use these methods are:\n",
    "\n",
    "- `numpy.savetxt(filename, array)` : save a 1-dimensional or 2-dimensional array to a text file. \n",
    "- `numpy.save(filename, array)` : save an array to a binary file in numpy `.npy` format.\n",
    "\n",
    "The corresponding functions for reading these formats are `numpy.loadtxt()` and `numpy.load()`."
   ]
  },
  {
   "cell_type": "code",
   "execution_count": 22,
   "metadata": {},
   "outputs": [
    {
     "name": "stdout",
     "output_type": "stream",
     "text": [
      "[[1 3 6 5]\n",
      " [2 4 3 0]] (2, 4) int32\n"
     ]
    }
   ],
   "source": [
    "# create a two dimensional array:\n",
    "a = numpy.array([[1, 3, 6, 5], [2, 4, 3, 0]])\n",
    "print(a, a.shape, a.dtype)\n",
    "\n",
    "# saving the array in a text file\n",
    "numpy.savetxt('textfile.txt', a, fmt='%d', delimiter=',')"
   ]
  },
  {
   "cell_type": "code",
   "execution_count": 23,
   "metadata": {},
   "outputs": [
    {
     "name": "stdout",
     "output_type": "stream",
     "text": [
      "[[1 3 6 5]\n",
      " [2 4 3 0]] (2, 4) int32\n"
     ]
    }
   ],
   "source": [
    "# loading a two dimensional array form the disk\n",
    "b = numpy.loadtxt('textfile.txt', dtype='int', delimiter=',')\n",
    "print(b, b.shape, b.dtype)"
   ]
  },
  {
   "cell_type": "code",
   "execution_count": 24,
   "metadata": {},
   "outputs": [
    {
     "name": "stdout",
     "output_type": "stream",
     "text": [
      "[[[ 1  3]\n",
      "  [ 2  4]]\n",
      "\n",
      " [[11 13]\n",
      "  [12 14]]] (2, 2, 2) int32\n"
     ]
    }
   ],
   "source": [
    "# create a three dimensional array:\n",
    "a = numpy.array([[[1, 3], [2, 4]], [[11, 13], [12, 14]] ])\n",
    "print(a, a.shape, a.dtype)\n",
    "\n",
    "# saving the array in a binary file\n",
    "numpy.save('binaryfile.npy', a)"
   ]
  },
  {
   "cell_type": "code",
   "execution_count": 25,
   "metadata": {},
   "outputs": [
    {
     "name": "stdout",
     "output_type": "stream",
     "text": [
      "[[[ 1  3]\n",
      "  [ 2  4]]\n",
      "\n",
      " [[11 13]\n",
      "  [12 14]]] (2, 2, 2) int32\n"
     ]
    }
   ],
   "source": [
    "# loading an array from a binary file\n",
    "b = numpy.load('binaryfile.npy')\n",
    "print(b, b.shape, b.dtype)"
   ]
  },
  {
   "cell_type": "markdown",
   "metadata": {},
   "source": [
    "## Exercise 2.2\n",
    "\n",
    "Part 1: Generate a one dimensional array. Save to disk as a text file, and as a npy file. Create a new array that is based on reading the array back from the text file, and a new array that is based on the npy file. Is the information preserved in both formats?\n",
    "\n",
    "Part 2: Repeat part 1 with a two-dimensional array and then a three-dimensional array. What works and what does not?"
   ]
  },
  {
   "cell_type": "markdown",
   "metadata": {},
   "source": [
    "Numpy format can save n-dimensional arrays while txt can only store up to 2D"
   ]
  },
  {
   "cell_type": "code",
   "execution_count": 38,
   "metadata": {},
   "outputs": [
    {
     "name": "stdout",
     "output_type": "stream",
     "text": [
      "(2,) 1 2\n",
      "(2,) 1 2\n",
      "(2, 2) 2 4\n",
      "(2, 2) 2 4\n",
      "(2, 2, 2) 3 8\n"
     ]
    }
   ],
   "source": [
    "a = numpy.array([1, 0])\n",
    "numpy.savetxt(\"ex2.2.txt\", a)\n",
    "numpy.save(\"ex2.2.npy\", a)\n",
    "\n",
    "b0 = numpy.loadtxt(\"ex2.2.txt\")\n",
    "b1 = numpy.load(\"ex2.2.npy\")\n",
    "\n",
    "print(b0.shape, b0.ndim, b0.size)\n",
    "print(b1.shape, b1.ndim, b1.size)\n",
    "\n",
    "c = numpy.array([[1, 0], [2, 0]])\n",
    "numpy.savetxt(\"c.txt\", c)\n",
    "numpy.save(\"c.npy\", c)\n",
    "\n",
    "d0 = numpy.loadtxt(\"c.txt\")\n",
    "d1 = numpy.load(\"c.npy\") \n",
    "print(d0.shape, d0.ndim, d0.size)\n",
    "print(d1.shape, d1.ndim, d1.size) \n",
    "\n",
    "e = numpy.array([[[1, 0], [2, 0]], [[2,0], [3, 0]]]) \n",
    "#numpy.savetxt(\"e.txt\", e)\n",
    "numpy.save(\"e.npy\", e)\n",
    "\n",
    "#f0 = numpy.loadtxt(\"e.txt\")\n",
    "f1 = numpy.load(\"e.npy\")\n",
    "#print(f0.shape, f0.ndim, f0.size)\n",
    "print(f1.shape, f1.ndim, f1.size)"
   ]
  },
  {
   "cell_type": "markdown",
   "metadata": {},
   "source": [
    "### 2.1.3 Creating N-dimensional arrays using Numpy functions\n",
    "\n",
    "Creating arrays by specifying nested lists of elements is tedious. Therefore, there are nice tools for creating mulit-dimensional arrays.\n",
    "\n",
    "An empty array or an array with only zeros or ones can be created with the `empty`, `zeros` and `ones` functions. \n",
    "Be careful with the empty array. This is the fastest way to inialize an array but the content of the empty array can be anything (it will be whatever was already written in that location in memory).\n",
    "\n",
    "The shape of the array is the input for these functions:\n"
   ]
  },
  {
   "cell_type": "code",
   "execution_count": 40,
   "metadata": {
    "collapsed": false,
    "jupyter": {
     "outputs_hidden": false
    }
   },
   "outputs": [
    {
     "name": "stdout",
     "output_type": "stream",
     "text": [
      "[1.37864029e-311 0.00000000e+000 6.47591605e-319] (3,)\n"
     ]
    }
   ],
   "source": [
    "# create a one-dimensional empty array:\n",
    "a = numpy.empty([3])\n",
    "print(a, a.shape)"
   ]
  },
  {
   "cell_type": "code",
   "execution_count": 41,
   "metadata": {},
   "outputs": [
    {
     "name": "stdout",
     "output_type": "stream",
     "text": [
      "[[0. 0. 0.]\n",
      " [0. 0. 0.]] (2, 3)\n"
     ]
    }
   ],
   "source": [
    "# create two-dimensional array with only zeros:\n",
    "b = numpy.zeros([2, 3])\n",
    "print(b, b.shape)"
   ]
  },
  {
   "cell_type": "code",
   "execution_count": 42,
   "metadata": {
    "collapsed": false,
    "jupyter": {
     "outputs_hidden": false
    }
   },
   "outputs": [
    {
     "name": "stdout",
     "output_type": "stream",
     "text": [
      "[[[[1. 1.]\n",
      "   [1. 1.]]\n",
      "\n",
      "  [[1. 1.]\n",
      "   [1. 1.]]]\n",
      "\n",
      "\n",
      " [[[1. 1.]\n",
      "   [1. 1.]]\n",
      "\n",
      "  [[1. 1.]\n",
      "   [1. 1.]]]] (2, 2, 2, 2)\n"
     ]
    }
   ],
   "source": [
    "# create a four-dimensional array with only ones:\n",
    "c = numpy.ones([2,2,2,2])\n",
    "print(c, c.shape)"
   ]
  },
  {
   "cell_type": "markdown",
   "metadata": {},
   "source": [
    "An identity matrix is a two-dimensional square matrix (same number of rows and columns) in which all values are zeros, except for ones along the diagonal. \n",
    "The identity matrix can be created with the `eye(n)` function. Since the identity matrix is always a square, only one input parameter is needed to create the 2-dimensional matrix."
   ]
  },
  {
   "cell_type": "code",
   "execution_count": 43,
   "metadata": {
    "collapsed": false,
    "jupyter": {
     "outputs_hidden": false
    },
    "scrolled": true
   },
   "outputs": [
    {
     "name": "stdout",
     "output_type": "stream",
     "text": [
      "[[1. 0. 0. 0.]\n",
      " [0. 1. 0. 0.]\n",
      " [0. 0. 1. 0.]\n",
      " [0. 0. 0. 1.]]\n"
     ]
    }
   ],
   "source": [
    "# create n by n identity matrix:\n",
    "print(numpy.eye(4))"
   ]
  },
  {
   "cell_type": "markdown",
   "metadata": {},
   "source": [
    "### 2.1.4 Creating random N-dimensional arrays\n",
    "Specifying the shape of the array, we can create multi-dimensional arrays with any arbitrary dimensions:\n"
   ]
  },
  {
   "cell_type": "code",
   "execution_count": 45,
   "metadata": {},
   "outputs": [
    {
     "name": "stdout",
     "output_type": "stream",
     "text": [
      "[[0.70912826 0.33832168]\n",
      " [0.43069465 0.73810748]] (2, 2)\n"
     ]
    }
   ],
   "source": [
    "a = numpy.random.random([2,2])\n",
    "print(a, a.shape)\n"
   ]
  },
  {
   "cell_type": "code",
   "execution_count": 46,
   "metadata": {},
   "outputs": [
    {
     "name": "stdout",
     "output_type": "stream",
     "text": [
      "[[53 24]\n",
      " [18 33]\n",
      " [ 8 14]\n",
      " [39  5]\n",
      " [97 12]\n",
      " [10 12]\n",
      " [84 53]\n",
      " [82 38]\n",
      " [98 46]\n",
      " [13 38]] (10, 2)\n"
     ]
    }
   ],
   "source": [
    "a = numpy.random.randint(0, 100, [10,2])\n",
    "print(a, a.shape)\n"
   ]
  },
  {
   "cell_type": "code",
   "execution_count": 47,
   "metadata": {},
   "outputs": [
    {
     "name": "stdout",
     "output_type": "stream",
     "text": [
      "[[[30.63395114 35.06731165]\n",
      "  [86.00021025 35.23479675]]\n",
      "\n",
      " [[43.65082493 92.29964174]\n",
      "  [46.75193842 25.68873783]]\n",
      "\n",
      " [[61.07728822 21.78187135]\n",
      "  [ 1.97684496 63.62463098]]] (3, 2, 2)\n"
     ]
    }
   ],
   "source": [
    "a = numpy.random.uniform(0, 100, [3,2,2])\n",
    "print(a, a.shape)\n"
   ]
  },
  {
   "cell_type": "code",
   "execution_count": 48,
   "metadata": {},
   "outputs": [
    {
     "name": "stdout",
     "output_type": "stream",
     "text": [
      "[[ 0.59099417 -5.52282788]\n",
      " [-1.68611381 -8.10288014]] (2, 2)\n"
     ]
    }
   ],
   "source": [
    "a = numpy.random.normal(0, 5, [2,2])\n",
    "print(a, a.shape)"
   ]
  },
  {
   "cell_type": "markdown",
   "metadata": {},
   "source": [
    "## 2.2 Array stacking and splitting\n",
    "\n",
    "More complex arrays can be created by combining two or more one-dimensional arrays. This is called vector stacking. There are two functions to stack arrays and they produce arrays with different shapes:\n",
    "\n",
    "- horizontal stack: `numpy.hstack([x, y, z])`\n",
    "- vertical stack: `numpy.vstack([x, y, z])`"
   ]
  },
  {
   "cell_type": "code",
   "execution_count": 49,
   "metadata": {},
   "outputs": [],
   "source": [
    "x = numpy.arange(0, 5)                     \n",
    "y = numpy.arange(5, 10)   \n",
    "z = numpy.arange(10, 15)"
   ]
  },
  {
   "cell_type": "code",
   "execution_count": 50,
   "metadata": {},
   "outputs": [
    {
     "name": "stdout",
     "output_type": "stream",
     "text": [
      "Horizontal stack: \n",
      "[ 0  1  2  3  4  5  6  7  8  9 10 11 12 13 14]\n",
      "(15,)\n"
     ]
    }
   ],
   "source": [
    "print(\"Horizontal stack: \" )\n",
    "a = numpy.hstack([x, y, z])\n",
    "print(a)\n",
    "print(a.shape)"
   ]
  },
  {
   "cell_type": "code",
   "execution_count": 51,
   "metadata": {
    "collapsed": false,
    "jupyter": {
     "outputs_hidden": false
    },
    "scrolled": true
   },
   "outputs": [
    {
     "name": "stdout",
     "output_type": "stream",
     "text": [
      "Vertical stack: \n",
      "[[ 0  1  2  3  4]\n",
      " [ 5  6  7  8  9]\n",
      " [10 11 12 13 14]]\n",
      "(3, 5)\n"
     ]
    }
   ],
   "source": [
    "print(\"Vertical stack: \")\n",
    "a = numpy.vstack([x, y, z])\n",
    "print(a)\n",
    "print(a.shape)"
   ]
  },
  {
   "cell_type": "markdown",
   "metadata": {},
   "source": [
    "The opposite of vector stacking is to split a two-dimensional array into a list of one-dimensional arrays (vectors). The first argument is the 2D array and the second argument is the number of 1D arrays to create. It is important that that the number of pieces you want is possible given the number of rows or columns. Two different ways of splitting:\n",
    "- Vertical split: `numpy.vsplit(x, N)`\n",
    "- Horizontal split: `numpy.hsplit(x, N)`\n"
   ]
  },
  {
   "cell_type": "code",
   "execution_count": 52,
   "metadata": {},
   "outputs": [
    {
     "name": "stdout",
     "output_type": "stream",
     "text": [
      "[[ 0  1  2  3  4]\n",
      " [ 5  6  7  8  9]\n",
      " [10 11 12 13 14]] (3, 5)\n"
     ]
    }
   ],
   "source": [
    "a = numpy.arange(0, 5)                     \n",
    "b = numpy.arange(5, 10)   \n",
    "c = numpy.arange(10, 15)\n",
    "d = numpy.vstack([a, b, c])\n",
    "\n",
    "print(d, d.shape)"
   ]
  },
  {
   "cell_type": "code",
   "execution_count": 53,
   "metadata": {},
   "outputs": [
    {
     "name": "stdout",
     "output_type": "stream",
     "text": [
      "\n",
      "Vertical split: \n",
      "[array([[0, 1, 2, 3, 4]]), array([[5, 6, 7, 8, 9]]), array([[10, 11, 12, 13, 14]])]\n"
     ]
    }
   ],
   "source": [
    "print(\"\\nVertical split: \")\n",
    "print( numpy.vsplit(d, 3) )"
   ]
  },
  {
   "cell_type": "code",
   "execution_count": 54,
   "metadata": {
    "collapsed": false,
    "jupyter": {
     "outputs_hidden": false
    },
    "scrolled": true
   },
   "outputs": [
    {
     "name": "stdout",
     "output_type": "stream",
     "text": [
      "\n",
      "Horizontal split: \n",
      "[array([[ 0],\n",
      "       [ 5],\n",
      "       [10]]), array([[ 1],\n",
      "       [ 6],\n",
      "       [11]]), array([[ 2],\n",
      "       [ 7],\n",
      "       [12]]), array([[ 3],\n",
      "       [ 8],\n",
      "       [13]]), array([[ 4],\n",
      "       [ 9],\n",
      "       [14]])]\n"
     ]
    }
   ],
   "source": [
    "print(\"\\nHorizontal split: \")\n",
    "print( numpy.hsplit(d, 5) )"
   ]
  },
  {
   "cell_type": "markdown",
   "metadata": {},
   "source": [
    "## 2.3 Reshaping arrays\n",
    "\n",
    "We can use `reshape()` function to rearrange the elements of a multi-dimensional numpy array along its different dimensions. \n",
    "\n",
    "However, it is critical that the the total number of elements matches. For example, if the length of the initial list is 24, then we can reshape it to a 4 by 6 matrix. We could also transform it into a three-dimensional 2 by 3 by 4 matrix.\n",
    "\n",
    "When reshaping, the shape of the new array is specificed as a tuple that lists the number of entries along each dimension. For creating a two-dimensional array, the first element in the tuple will be the number of rows, the second is the number of columns."
   ]
  },
  {
   "cell_type": "code",
   "execution_count": 55,
   "metadata": {
    "collapsed": false,
    "jupyter": {
     "outputs_hidden": false
    }
   },
   "outputs": [
    {
     "name": "stdout",
     "output_type": "stream",
     "text": [
      "[ 2  4  6  8 10 12]\n",
      "1 (6,) 6\n",
      "[[ 2  4  6]\n",
      " [ 8 10 12]]\n",
      "2 (2, 3) 6\n"
     ]
    }
   ],
   "source": [
    "# reshape into a two dimensional array:\n",
    "y = numpy.arange(2, 14, 2)\n",
    "print(y)\n",
    "print( y.ndim, y.shape, y.size)\n",
    "\n",
    "z = y.reshape((2, 3))\n",
    "print( z )\n",
    "print( z.ndim, z.shape, z.size)"
   ]
  },
  {
   "cell_type": "markdown",
   "metadata": {},
   "source": [
    "In a three-dimensional array, however, the first value specifies the number of \"rows\", the second specifies the number of columns and the third specifies the layers."
   ]
  },
  {
   "cell_type": "code",
   "execution_count": 56,
   "metadata": {
    "collapsed": false,
    "jupyter": {
     "outputs_hidden": false
    }
   },
   "outputs": [
    {
     "name": "stdout",
     "output_type": "stream",
     "text": [
      "[[[0.86083002 0.38181301 0.21413493 0.53913839]\n",
      "  [0.05711323 0.36752536 0.14489897 0.59579943]\n",
      "  [0.75940439 0.61585179 0.10138585 0.64417888]]\n",
      "\n",
      " [[0.58733404 0.60230079 0.18434085 0.76138925]\n",
      "  [0.34406932 0.10487464 0.159      0.37638828]\n",
      "  [0.58248774 0.91535861 0.11934975 0.12458473]]]\n",
      "Number of dimensions: 3\n",
      "Length of each dimension: (2, 3, 4)\n",
      "The total number of elements: 24\n"
     ]
    }
   ],
   "source": [
    "# reshape into a three dimensional array:\n",
    "z2 = numpy.random.random([6,4]).reshape((2, 3, 4))\n",
    "\n",
    "# dimensions/shape/size of the array:\n",
    "print( z2 )\n",
    "print( \"Number of dimensions:\", z2.ndim )\n",
    "print( \"Length of each dimension:\", z2.shape )\n",
    "print( \"The total number of elements:\", z2.size )"
   ]
  },
  {
   "cell_type": "markdown",
   "metadata": {},
   "source": [
    "## Exercise 2.3\n",
    "\n",
    "First, create a 2x3x2 three-dimensional array containing random values from a normal distribution. Then, reshape that array into a 2x2x3 three-dimensional array. Verify the shape has changed."
   ]
  },
  {
   "cell_type": "code",
   "execution_count": 70,
   "metadata": {},
   "outputs": [
    {
     "data": {
      "text/plain": [
       "array([[[ -3.89092119,   3.16464689],\n",
       "        [ -6.10373638,   0.60852781],\n",
       "        [  7.32199706, -14.09883682]],\n",
       "\n",
       "       [[  3.55516345,  -1.94834942],\n",
       "        [-11.35267129,  -8.87936661],\n",
       "        [-12.32126945,  -6.54859014]]])"
      ]
     },
     "metadata": {},
     "output_type": "display_data"
    },
    {
     "data": {
      "text/plain": [
       "array([[[ -3.89092119,   3.16464689,  -6.10373638],\n",
       "        [  0.60852781,   7.32199706, -14.09883682]],\n",
       "\n",
       "       [[  3.55516345,  -1.94834942, -11.35267129],\n",
       "        [ -8.87936661, -12.32126945,  -6.54859014]]])"
      ]
     },
     "metadata": {},
     "output_type": "display_data"
    }
   ],
   "source": [
    "a = numpy.random.normal(0, 10, 12).reshape((2, 3, 2))\n",
    "display(a)\n",
    "b = a.reshape(2, 2, 3)\n",
    "display(b)"
   ]
  },
  {
   "cell_type": "markdown",
   "metadata": {},
   "source": [
    "### 2.3.1 Shallow vs. deep copying\n",
    "\n",
    "Reshaping a numpy array is (usually) blazingly fast. This is because numpy does not copy all the elements in memory. Instead, a new variable points to the same memory location (this is called a shallow copy). This can intruduce unanticipated behavior:"
   ]
  },
  {
   "cell_type": "code",
   "execution_count": 71,
   "metadata": {
    "tags": []
   },
   "outputs": [
    {
     "name": "stdout",
     "output_type": "stream",
     "text": [
      "[0 1 2 3 4 5 6 7]\n",
      "\n",
      "[[0 1 2 3]\n",
      " [4 5 6 7]]\n",
      "\n",
      "b changed:\n",
      "[[-42   1   2   3]\n",
      " [  4   5   6   7]]\n",
      "\n",
      "but so did a:\n",
      "[-42   1   2   3   4   5   6   7]\n",
      "\n"
     ]
    }
   ],
   "source": [
    "a = numpy.arange(8)\n",
    "print(a)\n",
    "print()\n",
    "\n",
    "b = a.reshape((2,4))\n",
    "print(b)\n",
    "print()\n",
    "\n",
    "b[0,0] = -42\n",
    "\n",
    "print(\"b changed:\")\n",
    "print(b)\n",
    "print()\n",
    "\n",
    "print(\"but so did a:\")\n",
    "print(a)\n",
    "print()"
   ]
  },
  {
   "cell_type": "markdown",
   "metadata": {},
   "source": [
    "The `base` attribute in numpy indicates if a variable is pointing to it's own memory or to the memory of another variable. If a variable's `base` is None, then it doesn't point to the memory of another variable. "
   ]
  },
  {
   "cell_type": "code",
   "execution_count": 72,
   "metadata": {},
   "outputs": [
    {
     "name": "stdout",
     "output_type": "stream",
     "text": [
      "None\n"
     ]
    }
   ],
   "source": [
    "print(a.base)"
   ]
  },
  {
   "cell_type": "code",
   "execution_count": 73,
   "metadata": {},
   "outputs": [
    {
     "name": "stdout",
     "output_type": "stream",
     "text": [
      "[-42   1   2   3   4   5   6   7]\n",
      "True\n"
     ]
    }
   ],
   "source": [
    "print(b.base)\n",
    "print(b.base is a)"
   ]
  },
  {
   "cell_type": "markdown",
   "metadata": {},
   "source": [
    "To avoid a shallow copy, use the numpy function copy() to create a deep copy that creates a new location in memory:"
   ]
  },
  {
   "cell_type": "code",
   "execution_count": 74,
   "metadata": {
    "tags": []
   },
   "outputs": [
    {
     "name": "stdout",
     "output_type": "stream",
     "text": [
      "[0 1 2 3 4 5 6 7]\n",
      "\n",
      "[0 1 2 3 4 5 6 7]\n",
      "\n",
      "b changed:\n",
      "[-42   1   2   3   4   5   6   7]\n",
      "\n",
      "but because of the copy() function, a did not:\n",
      "[0 1 2 3 4 5 6 7]\n",
      "\n"
     ]
    }
   ],
   "source": [
    "a = numpy.arange(8)\n",
    "print(a)\n",
    "print()\n",
    "\n",
    "b = a.copy()\n",
    "print(b)\n",
    "print()\n",
    "\n",
    "b[0] = -42\n",
    "\n",
    "print(\"b changed:\")\n",
    "print(b)\n",
    "print()\n",
    "\n",
    "print(\"but because of the copy() function, a did not:\")\n",
    "print(a)\n",
    "print()"
   ]
  },
  {
   "cell_type": "markdown",
   "metadata": {},
   "source": [
    "## 2.4 Multi-Dimensional Array Indexing\n",
    "\n",
    "### 2.4.1 Indexing a Single Element\n",
    "We can use index along different dimensions to retrieve a single element from a multi-dimensional array:"
   ]
  },
  {
   "cell_type": "code",
   "execution_count": 80,
   "metadata": {
    "collapsed": false,
    "jupyter": {
     "outputs_hidden": false
    }
   },
   "outputs": [
    {
     "name": "stdout",
     "output_type": "stream",
     "text": [
      "[[[-0.09171478  0.03815122  0.0769393  -0.0186474  -0.02879786]\n",
      "  [ 0.27008586  0.43239121  0.16775992 -0.16776555 -0.47838786]\n",
      "  [ 0.11922403 -0.2895955  -0.27858853 -0.02261327 -0.21449651]\n",
      "  [-0.48088506 -0.33330026  0.12056694  0.03240735  0.22059486]]\n",
      "\n",
      " [[-0.27648989 -0.3931822  -0.08882596 -0.27294667 -0.09204516]\n",
      "  [ 0.04539901  0.17406611 -0.04413302  0.40963122  0.10173599]\n",
      "  [-0.40417385  0.41587272  0.34540421  0.27039551  0.42396104]\n",
      "  [ 0.15398676 -0.34981655  0.46322576  0.04058355 -0.015129  ]]\n",
      "\n",
      " [[-0.35963323 -0.49101064  0.04427304  0.05641291  0.31294871]\n",
      "  [ 0.08373862 -0.35526359 -0.45286147 -0.0182546  -0.10972306]\n",
      "  [-0.4393067   0.27599387 -0.20526863  0.24645784 -0.06376668]\n",
      "  [ 0.16029205  0.10792564  0.17380371 -0.40808579 -0.30710254]]]\n",
      "========\n",
      "-0.4041738472847247\n"
     ]
    }
   ],
   "source": [
    "c = numpy.random.uniform(-0.5, .5, (3,4,5))\n",
    "print(c)\n",
    "print(\"========\")\n",
    "print(c[1,2,0])"
   ]
  },
  {
   "cell_type": "code",
   "execution_count": 81,
   "metadata": {
    "collapsed": false,
    "jupyter": {
     "outputs_hidden": false
    }
   },
   "outputs": [
    {
     "name": "stdout",
     "output_type": "stream",
     "text": [
      "[[-0.27648989 -0.3931822  -0.08882596 -0.27294667 -0.09204516]\n",
      " [ 0.04539901  0.17406611 -0.04413302  0.40963122  0.10173599]\n",
      " [-0.40417385  0.41587272  0.34540421  0.27039551  0.42396104]\n",
      " [ 0.15398676 -0.34981655  0.46322576  0.04058355 -0.015129  ]]\n",
      "------------------------------------\n",
      "[-0.40417385  0.41587272  0.34540421  0.27039551  0.42396104]\n",
      "------------------------------------\n",
      "-0.4041738472847247\n"
     ]
    }
   ],
   "source": [
    "print(c[1])\n",
    "print('------------------------------------')\n",
    "print(c[1][2])\n",
    "print('------------------------------------')\n",
    "print(c[1][2][0])"
   ]
  },
  {
   "cell_type": "markdown",
   "metadata": {},
   "source": [
    "### 2.4.2 Slicing\n",
    "\n",
    "We can fetch all the elements along a specific dimension using `:` opertaor:"
   ]
  },
  {
   "cell_type": "code",
   "execution_count": 82,
   "metadata": {
    "collapsed": false,
    "jupyter": {
     "outputs_hidden": false
    }
   },
   "outputs": [
    {
     "name": "stdout",
     "output_type": "stream",
     "text": [
      "[[ 0  1  2  3]\n",
      " [ 4  5  6  7]\n",
      " [ 8  9 10 11]\n",
      " [12 13 14 15]\n",
      " [16 17 18 19]\n",
      " [20 21 22 23]]\n"
     ]
    }
   ],
   "source": [
    "z = numpy.arange(24).reshape((6, 4))\n",
    "print( z )"
   ]
  },
  {
   "cell_type": "code",
   "execution_count": 83,
   "metadata": {
    "collapsed": false,
    "jupyter": {
     "outputs_hidden": false
    }
   },
   "outputs": [
    {
     "name": "stdout",
     "output_type": "stream",
     "text": [
      "[0 1 2 3]\n"
     ]
    }
   ],
   "source": [
    "# Fetching all the elements in the first row:\n",
    "print( z[0, :] )"
   ]
  },
  {
   "cell_type": "code",
   "execution_count": 84,
   "metadata": {},
   "outputs": [
    {
     "name": "stdout",
     "output_type": "stream",
     "text": [
      "[ 2  6 10 14 18 22]\n"
     ]
    }
   ],
   "source": [
    "# Fetching all the elements in the third column:\n",
    "print( z[:, 2] )"
   ]
  },
  {
   "cell_type": "markdown",
   "metadata": {},
   "source": [
    "We can alternatively use the `:` operator to retrieve specific slices of an array: "
   ]
  },
  {
   "cell_type": "code",
   "execution_count": 85,
   "metadata": {
    "collapsed": false,
    "jupyter": {
     "outputs_hidden": false
    }
   },
   "outputs": [
    {
     "name": "stdout",
     "output_type": "stream",
     "text": [
      "[[ 0  1  2  3]\n",
      " [ 4  5  6  7]\n",
      " [ 8  9 10 11]\n",
      " [12 13 14 15]\n",
      " [16 17 18 19]\n",
      " [20 21 22 23]]\n",
      "-----------------------\n",
      "[[ 9 10]\n",
      " [13 14]\n",
      " [17 18]]\n"
     ]
    }
   ],
   "source": [
    "print(z)\n",
    "print('-----------------------')\n",
    "print( z[2:5, 1:3] )"
   ]
  },
  {
   "cell_type": "code",
   "execution_count": 86,
   "metadata": {
    "collapsed": false,
    "jupyter": {
     "outputs_hidden": false
    }
   },
   "outputs": [
    {
     "name": "stdout",
     "output_type": "stream",
     "text": [
      "[[ 1  2]\n",
      " [ 5  6]\n",
      " [ 9 10]]\n"
     ]
    }
   ],
   "source": [
    "print( z[:3,-3:-1] )"
   ]
  },
  {
   "cell_type": "code",
   "execution_count": null,
   "metadata": {},
   "outputs": [],
   "source": []
  },
  {
   "cell_type": "markdown",
   "metadata": {},
   "source": [
    "## Exercise 2.4\n",
    "\n",
    "Generate a $5\\times 5 \\times 5$ 3D array of random numbers between -10.0 and 10.0. Reshape it to a $5 \\times 25$ matrix. Extract the last 10 elements of the first two rows of this matrix.\n"
   ]
  },
  {
   "cell_type": "code",
   "execution_count": 124,
   "metadata": {},
   "outputs": [
    {
     "name": "stdout",
     "output_type": "stream",
     "text": [
      "[[ 7.24724908  7.36372201  7.41951925 -7.08113037  2.22680094  4.58280492\n",
      "  -7.9906954  -9.55548871  3.6946573  -8.47238147  8.94945661  9.06532164\n",
      "   4.73465198  8.26205404  5.67159961  9.97933228  0.88498029 -9.73457351\n",
      "  -5.65161035 -5.96834139 -4.97139609  2.31867198 -7.15577262 -0.1392086\n",
      "   0.159159  ]\n",
      " [ 1.87027388  5.99577848  6.83560034  1.9692705  -9.07577443 -5.26603563\n",
      "   4.82190032  7.70264847  7.99859993  2.01164771 -3.69325116  0.45911635\n",
      "   1.96840239  1.54043986  6.21704092 -4.06234936  3.16825702  9.53438515\n",
      "   7.27684551 -5.84722721 -1.6065725   3.42432941  8.66253419 -3.61687124\n",
      "   7.9817914 ]\n",
      " [-2.12043428 -1.02442746  0.82031302 -2.39957642  1.87407046 -8.92539647\n",
      "   3.44595178  5.09567372  6.82324917 -1.61293944  2.11353713  8.93291602\n",
      "   6.86954475 -0.63699969  7.3689999  -8.99296426  9.98351137 -8.12372002\n",
      "   2.17044473 -6.77736098 -4.96277104 -4.62723794  2.92031341 -3.89011855\n",
      "  -9.89355245]\n",
      " [ 3.96598366 -7.10665053 -7.01490905 -6.99125112 -0.61215831  4.70829242\n",
      "  -6.0645022   3.24673648 -9.61887522  5.56168382 -8.9773454  -6.96814518\n",
      "  -8.73881134  5.32349897 -4.33620921 -8.06468642  3.29968323 -9.17954401\n",
      "   1.50758501 -8.60680321 -8.36840161  2.22365241  4.92588876 -6.87821049\n",
      "  -3.80663137]\n",
      " [-4.44981858 -0.59007348 -1.50232825  1.48633898 -0.84709768 -5.82364126\n",
      "   2.27331842 -9.2576929   6.39808996  0.81188766 -6.10210092 -6.81678268\n",
      "   4.57172342 -7.47280038  9.79053851  4.88029322  6.20337327 -3.67279311\n",
      "  -2.66896404  3.12999746 -3.73410795 -2.11319691  4.45708063 -0.41409146\n",
      "   0.12601092]]\n"
     ]
    },
    {
     "data": {
      "text/plain": [
       "array([[ 9.97933228,  0.88498029, -9.73457351, -5.65161035, -5.96834139,\n",
       "        -4.97139609,  2.31867198, -7.15577262, -0.1392086 ,  0.159159  ],\n",
       "       [-4.06234936,  3.16825702,  9.53438515,  7.27684551, -5.84722721,\n",
       "        -1.6065725 ,  3.42432941,  8.66253419, -3.61687124,  7.9817914 ]])"
      ]
     },
     "execution_count": 124,
     "metadata": {},
     "output_type": "execute_result"
    }
   ],
   "source": [
    "# a = numpy.random.uniform(-10, 10, 125).reshape(5, 5, 5)\n",
    "a\n",
    "b = a.reshape((5, 25))\n",
    "print(b)\n",
    "b[0: 2, -10:]"
   ]
  },
  {
   "cell_type": "markdown",
   "metadata": {},
   "source": [
    "### 2.4.3 Boolean Indexing\n",
    "We can use boolean indexing to retrieve the lements of an array which satisfy a certain condition. Note that the ourput will be a vector (i.e. a one dimensional array)."
   ]
  },
  {
   "cell_type": "code",
   "execution_count": 125,
   "metadata": {},
   "outputs": [
    {
     "name": "stdout",
     "output_type": "stream",
     "text": [
      "[[-1.05804772 -3.76735545  2.89857176 -2.86418916  1.04390386]\n",
      " [-3.10974883  9.74044518  1.46437859 -2.92301334 -5.12986494]\n",
      " [ 4.45612104  2.86201056  2.03528868  7.73677771  0.72951827]]\n"
     ]
    }
   ],
   "source": [
    "a = numpy.random.normal(0,5, [3,5])\n",
    "print(a)"
   ]
  },
  {
   "cell_type": "code",
   "execution_count": 126,
   "metadata": {},
   "outputs": [
    {
     "name": "stdout",
     "output_type": "stream",
     "text": [
      "[-1.05804772 -3.76735545 -2.86418916 -3.10974883 -2.92301334 -5.12986494] (6,)\n"
     ]
    }
   ],
   "source": [
    "b = a[a<0]\n",
    "print(b, b.shape)"
   ]
  },
  {
   "cell_type": "markdown",
   "metadata": {},
   "source": [
    "### 2.4.4 Using `ix_` function\n",
    "For more complext indexing, we can use `ix_` from numpy. This function constructs an open mesh from multiple sequences and can be used to retrieve arbitrary dimensions of a multi-dimensional array. "
   ]
  },
  {
   "cell_type": "code",
   "execution_count": 127,
   "metadata": {},
   "outputs": [
    {
     "name": "stdout",
     "output_type": "stream",
     "text": [
      "[[-13.99172346  -0.39263895   3.23819923   0.03950132  -2.84321023]\n",
      " [-13.98064148   3.94497455  -3.39169233   1.1347712   -4.80366509]\n",
      " [ -3.1207512    0.96126077  -5.54801497  -2.56337217   0.2675832 ]]\n",
      "-----------------\n",
      "[[-0.39263895  3.23819923 -2.84321023]\n",
      " [ 0.96126077 -5.54801497  0.2675832 ]]\n"
     ]
    }
   ],
   "source": [
    "a = numpy.random.normal(0,5, [3,5])\n",
    "print(a)\n",
    "print('-----------------')\n",
    "print(a[numpy.ix_([0,2], [1,2,4])])\n"
   ]
  },
  {
   "cell_type": "markdown",
   "metadata": {},
   "source": [
    "\n",
    "For complete information about indexing see http://docs.scipy.org/doc/numpy/user/basics.indexing.html.\n"
   ]
  },
  {
   "cell_type": "markdown",
   "metadata": {},
   "source": [
    "## 2.5 An example of indexing in RGB images\n",
    "\n",
    "An RGB image is composed of three color channels: Red (R), Green (G), and Blue (B). Each of these channels can be thought of as a 2D array (or matrix) where each entry in the matrix corresponds to the intensity of that color for a particular pixel in the image. When these channels are combined, they form a 3D array that represents the RGB image. Each entry in the 3D array is an integer value between 0 and 255 (for an 8-bit image), indicating the intensity of the color:\n",
    "- 0 represents no intensity (black).\n",
    "- 255 represents full intensity.\n",
    "\n",
    "The 3D array representing an RGB image has dimensions (height, width, 3), where:\n",
    "\n",
    "- height is the number of pixels in the vertical direction of the image.\n",
    "- width is the number of pixels in the horizontal direction of the image.\n",
    "- 3 represents the three color layers (R, G, B). The first layer (or depth slice) of the 3D array corresponds to the Red channel. The second layer corresponds to the Green channel. The third layer corresponds to the Blue channel.\n"
   ]
  },
  {
   "cell_type": "code",
   "execution_count": 129,
   "metadata": {},
   "outputs": [
    {
     "ename": "FileNotFoundError",
     "evalue": "[Errno 2] No such file or directory: 'lena_color.bmp'",
     "output_type": "error",
     "traceback": [
      "\u001b[1;31m---------------------------------------------------------------------------\u001b[0m",
      "\u001b[1;31mFileNotFoundError\u001b[0m                         Traceback (most recent call last)",
      "Cell \u001b[1;32mIn[129], line 2\u001b[0m\n\u001b[0;32m      1\u001b[0m \u001b[38;5;28;01mimport\u001b[39;00m \u001b[38;5;21;01mmatplotlib\u001b[39;00m\u001b[38;5;21;01m.\u001b[39;00m\u001b[38;5;21;01mpyplot\u001b[39;00m \u001b[38;5;28;01mas\u001b[39;00m \u001b[38;5;21;01mplt\u001b[39;00m\n\u001b[1;32m----> 2\u001b[0m color_image \u001b[38;5;241m=\u001b[39m plt\u001b[38;5;241m.\u001b[39mimread(\u001b[38;5;124m'\u001b[39m\u001b[38;5;124mlena_color.bmp\u001b[39m\u001b[38;5;124m'\u001b[39m)\n\u001b[0;32m      3\u001b[0m plt\u001b[38;5;241m.\u001b[39mimshow(color_image)\n\u001b[0;32m      4\u001b[0m \u001b[38;5;28mprint\u001b[39m(color_image\u001b[38;5;241m.\u001b[39mshape, color_image\u001b[38;5;241m.\u001b[39mdtype)\n",
      "File \u001b[1;32mc:\\ProgramData\\anaconda3\\Lib\\site-packages\\matplotlib\\pyplot.py:2195\u001b[0m, in \u001b[0;36mimread\u001b[1;34m(fname, format)\u001b[0m\n\u001b[0;32m   2193\u001b[0m \u001b[38;5;129m@_copy_docstring_and_deprecators\u001b[39m(matplotlib\u001b[38;5;241m.\u001b[39mimage\u001b[38;5;241m.\u001b[39mimread)\n\u001b[0;32m   2194\u001b[0m \u001b[38;5;28;01mdef\u001b[39;00m \u001b[38;5;21mimread\u001b[39m(fname, \u001b[38;5;28mformat\u001b[39m\u001b[38;5;241m=\u001b[39m\u001b[38;5;28;01mNone\u001b[39;00m):\n\u001b[1;32m-> 2195\u001b[0m     \u001b[38;5;28;01mreturn\u001b[39;00m matplotlib\u001b[38;5;241m.\u001b[39mimage\u001b[38;5;241m.\u001b[39mimread(fname, \u001b[38;5;28mformat\u001b[39m)\n",
      "File \u001b[1;32mc:\\ProgramData\\anaconda3\\Lib\\site-packages\\matplotlib\\image.py:1563\u001b[0m, in \u001b[0;36mimread\u001b[1;34m(fname, format)\u001b[0m\n\u001b[0;32m   1556\u001b[0m \u001b[38;5;28;01mif\u001b[39;00m \u001b[38;5;28misinstance\u001b[39m(fname, \u001b[38;5;28mstr\u001b[39m) \u001b[38;5;129;01mand\u001b[39;00m \u001b[38;5;28mlen\u001b[39m(parse\u001b[38;5;241m.\u001b[39murlparse(fname)\u001b[38;5;241m.\u001b[39mscheme) \u001b[38;5;241m>\u001b[39m \u001b[38;5;241m1\u001b[39m:\n\u001b[0;32m   1557\u001b[0m     \u001b[38;5;66;03m# Pillow doesn't handle URLs directly.\u001b[39;00m\n\u001b[0;32m   1558\u001b[0m     \u001b[38;5;28;01mraise\u001b[39;00m \u001b[38;5;167;01mValueError\u001b[39;00m(\n\u001b[0;32m   1559\u001b[0m         \u001b[38;5;124m\"\u001b[39m\u001b[38;5;124mPlease open the URL for reading and pass the \u001b[39m\u001b[38;5;124m\"\u001b[39m\n\u001b[0;32m   1560\u001b[0m         \u001b[38;5;124m\"\u001b[39m\u001b[38;5;124mresult to Pillow, e.g. with \u001b[39m\u001b[38;5;124m\"\u001b[39m\n\u001b[0;32m   1561\u001b[0m         \u001b[38;5;124m\"\u001b[39m\u001b[38;5;124m``np.array(PIL.Image.open(urllib.request.urlopen(url)))``.\u001b[39m\u001b[38;5;124m\"\u001b[39m\n\u001b[0;32m   1562\u001b[0m         )\n\u001b[1;32m-> 1563\u001b[0m \u001b[38;5;28;01mwith\u001b[39;00m img_open(fname) \u001b[38;5;28;01mas\u001b[39;00m image:\n\u001b[0;32m   1564\u001b[0m     \u001b[38;5;28;01mreturn\u001b[39;00m (_pil_png_to_float_array(image)\n\u001b[0;32m   1565\u001b[0m             \u001b[38;5;28;01mif\u001b[39;00m \u001b[38;5;28misinstance\u001b[39m(image, PIL\u001b[38;5;241m.\u001b[39mPngImagePlugin\u001b[38;5;241m.\u001b[39mPngImageFile) \u001b[38;5;28;01melse\u001b[39;00m\n\u001b[0;32m   1566\u001b[0m             pil_to_array(image))\n",
      "File \u001b[1;32mc:\\ProgramData\\anaconda3\\Lib\\site-packages\\PIL\\Image.py:3247\u001b[0m, in \u001b[0;36mopen\u001b[1;34m(fp, mode, formats)\u001b[0m\n\u001b[0;32m   3244\u001b[0m     filename \u001b[38;5;241m=\u001b[39m fp\n\u001b[0;32m   3246\u001b[0m \u001b[38;5;28;01mif\u001b[39;00m filename:\n\u001b[1;32m-> 3247\u001b[0m     fp \u001b[38;5;241m=\u001b[39m builtins\u001b[38;5;241m.\u001b[39mopen(filename, \u001b[38;5;124m\"\u001b[39m\u001b[38;5;124mrb\u001b[39m\u001b[38;5;124m\"\u001b[39m)\n\u001b[0;32m   3248\u001b[0m     exclusive_fp \u001b[38;5;241m=\u001b[39m \u001b[38;5;28;01mTrue\u001b[39;00m\n\u001b[0;32m   3250\u001b[0m \u001b[38;5;28;01mtry\u001b[39;00m:\n",
      "\u001b[1;31mFileNotFoundError\u001b[0m: [Errno 2] No such file or directory: 'lena_color.bmp'"
     ]
    }
   ],
   "source": [
    "import matplotlib.pyplot as plt\n",
    "color_image = plt.imread('lena_color.bmp')\n",
    "plt.imshow(color_image)\n",
    "print(color_image.shape, color_image.dtype)"
   ]
  },
  {
   "cell_type": "markdown",
   "metadata": {},
   "source": [
    "\n",
    "To access the RGB values of a specific pixel at (x, y) coordinates:\n",
    "\n",
    "- Red value: array[y, x, 0]\n",
    "- Green value: array[y, x, 1]\n",
    "- Blue value: array[y, x, 2]\n",
    "\n",
    "We can use array indexing to retrieve different the intesities of different color plans in an RGB image:"
   ]
  },
  {
   "cell_type": "code",
   "execution_count": null,
   "metadata": {},
   "outputs": [],
   "source": [
    "# retrieving and showing the intesities of the red layer for all pixels\n",
    "red_plane = numpy.zeros(color_image.shape, dtype='uint8')\n",
    "red_plane[:,:,0] = color_image[:,:,0]\n",
    "plt.imshow(red_plane)"
   ]
  },
  {
   "cell_type": "code",
   "execution_count": null,
   "metadata": {},
   "outputs": [],
   "source": [
    "# retrieving and showing the intesities of the green layer for all pixels\n",
    "green_plane = numpy.zeros(color_image.shape, dtype='uint8')\n",
    "green_plane[:,:,1] = color_image[:,:,1]\n",
    "plt.imshow(green_plane)"
   ]
  },
  {
   "cell_type": "code",
   "execution_count": null,
   "metadata": {},
   "outputs": [],
   "source": [
    "# retrieving and showing the intesities of the blue layer for all pixels\n",
    "blue_plane = numpy.zeros(color_image.shape, dtype='uint8')\n",
    "blue_plane[:,:,2] = color_image[:,:,2]\n",
    "plt.imshow(blue_plane)"
   ]
  },
  {
   "cell_type": "markdown",
   "metadata": {},
   "source": [
    "We can also use array indexing to crop an RGB image:"
   ]
  },
  {
   "cell_type": "code",
   "execution_count": null,
   "metadata": {},
   "outputs": [],
   "source": [
    "# Cropping the image using array indexing\n",
    "plt.imshow(color_image[100:400, 100:355, :])"
   ]
  }
 ],
 "metadata": {
  "kernelspec": {
   "display_name": "Python 3",
   "language": "python",
   "name": "python3"
  },
  "language_info": {
   "codemirror_mode": {
    "name": "ipython",
    "version": 3
   },
   "file_extension": ".py",
   "mimetype": "text/x-python",
   "name": "python",
   "nbconvert_exporter": "python",
   "pygments_lexer": "ipython3",
   "version": "3.11.5"
  },
  "name": "_merged",
  "vscode": {
   "interpreter": {
    "hash": "aee8b7b246df8f9039afb4144a1f6fd8d2ca17a180786b69acc140d282b71a49"
   }
  }
 },
 "nbformat": 4,
 "nbformat_minor": 4
}
