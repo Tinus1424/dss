{
 "cells": [
  {
   "cell_type": "markdown",
   "metadata": {},
   "source": [
    "Write a function named merge_and_anonymize that takes as input three strings, two that indicate input filenames (score_filename and group_filename) and one that indicates an output filename (output_filename).\n",
    "The function should:\n",
    "From the file named score_filename, read a pickle file into a pandas DataFrame (named score_info). You can assume this dataframe will contain two rows named id and score.\n",
    "From the file named group_filename, read a pickle file into a pandas DataFrame (named group_info). You can assume this dataframe will contain two rows named id and group.\n",
    "Merge the two DataFrames to create one new dataframe (named both_info). You can assume that every id value that appears in one dataframe appears in both.\n",
    "Create a new dataframe (named output_info) that contains only the columns group and score from `both_info` (and does not include the id column). The order of the rows should match the order in score_info and the order of the columns should be [group, score].\n",
    "Write output_info to a pickle file. Use the filename output_filename. You can assume that no files with this name already exist within the working directory of your function.\n",
    "You can test your function by calling it as follows on the two provided pickle files:\n",
    "merge_and_anonymize(\"score_info_test_input.pkl\", \"group_info_test_input.pkl\", \"q7_test_output.pkl\")"
   ]
  },
  {
   "cell_type": "code",
   "execution_count": null,
   "metadata": {},
   "outputs": [],
   "source": [
    "import pandas\n",
    "\n",
    "def merge_and_anonymize(score_filename, group_filename, output_filename):\n",
    "    score_info = pandas.read_pickle(score_filename)\n",
    "    group_info = pandas.read_pickle(group_filename)\n",
    "\n",
    "    both = pandas.merge(score_info, group_info, how='left')\n",
    "\n",
    "    group_only = both.loc[:, [\"group\", \"score\"]]\n",
    "    \n",
    "    group_only.to_pickle(output_filename)\n"
   ]
  }
 ],
 "metadata": {
  "language_info": {
   "name": "python"
  }
 },
 "nbformat": 4,
 "nbformat_minor": 2
}
