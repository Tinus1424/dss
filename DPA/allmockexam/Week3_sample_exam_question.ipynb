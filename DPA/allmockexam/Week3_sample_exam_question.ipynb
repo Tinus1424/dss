{
 "cells": [
  {
   "cell_type": "markdown",
   "metadata": {},
   "source": [
    "Write a function dot_product(a,b) that takes two matrices as input, reshapes a as necessary, and returns the dot product of a and b as a numpy array (a.b not b.a).\n",
    "\n",
    "Depending on the shape of a and b, it may not be possible to compute the dot product of the two matrices as is and it might be necessary to first reshape a such that the dot product can validly be computed.\n",
    "\n",
    "*Mathematically speaking, it isn't always possible to reshape a matrix in the right shape, but for this question, you can assume that matrix a can be reshaped appropriately.\n",
    "Note: You may not use any loops (for, while, etc) to solve this question."
   ]
  },
  {
   "cell_type": "code",
   "execution_count": null,
   "metadata": {},
   "outputs": [],
   "source": [
    "import numpy\n",
    "\n",
    "def dot_product(a,b):\n",
    "    a=a.reshape(-1,b.shape[0])\n",
    "    return(numpy.dot(a,b))"
   ]
  }
 ],
 "metadata": {
  "language_info": {
   "name": "python"
  }
 },
 "nbformat": 4,
 "nbformat_minor": 2
}
