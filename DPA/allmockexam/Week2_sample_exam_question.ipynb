{
 "cells": [
  {
   "cell_type": "markdown",
   "metadata": {},
   "source": [
    "Write a function called generate_tvt_sets that takes three inputs:\n",
    "\n",
    "a two-dimensional numpy array of float numbers (named x)\n",
    "and two integers (named training_count and test_count)\n",
    "\n",
    "The function should write the following 3 files.\n",
    "\n",
    "write the first training_count rows  of x to a CSV file named q1_training_data.csv.\n",
    "write the final test_count rows of x to a CSV file named q1_test_data.csv.\n",
    "write all other rows x (not in the training or test set) to a CSV file named q1_validate_data.csv.\n",
    "\n",
    "Note: You may not use any loops (for, while, etc) to solve this question."
   ]
  },
  {
   "cell_type": "code",
   "execution_count": null,
   "metadata": {},
   "outputs": [],
   "source": [
    "import numpy\n",
    "\n",
    "def generate_tvt_sets(x, training_count, test_count):\n",
    "    \n",
    "    train = x[:training_count, :] \n",
    "    test = x[-test_count:, :]\n",
    "    val = x[training_count:-test_count, :]\n",
    "\n",
    "    numpy.savetxt(\"q1_test_data.csv\", test, delimiter=',')\n",
    "    numpy.savetxt(\"q1_train_data.csv\", train, delimiter=',')\n",
    "    numpy.savetxt(\"q1_validate_data.csv\", val, delimiter=',')"
   ]
  }
 ],
 "metadata": {
  "language_info": {
   "name": "python"
  }
 },
 "nbformat": 4,
 "nbformat_minor": 2
}
