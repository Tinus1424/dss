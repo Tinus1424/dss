{
 "cells": [
  {
   "cell_type": "markdown",
   "metadata": {},
   "source": [
    "Create an array of 100,000 random numbers between 0 and 1. Compute the range (the highest value - the lowest value) "
   ]
  },
  {
   "cell_type": "code",
   "execution_count": 1,
   "metadata": {},
   "outputs": [],
   "source": [
    "import numpy as np"
   ]
  },
  {
   "cell_type": "markdown",
   "metadata": {},
   "source": [
    "I first tried to do a = np.array.uniform(0, 1, 100000). But that is not a thing. First of all, uniform is a normal distribution and it had to be random. Second. it is in the random part of np. Thus, should've been np.random.uniform. "
   ]
  },
  {
   "cell_type": "code",
   "execution_count": 2,
   "metadata": {},
   "outputs": [
    {
     "data": {
      "text/plain": [
       "0.9999836938332818"
      ]
     },
     "metadata": {},
     "output_type": "display_data"
    }
   ],
   "source": [
    "a = np.random.random(100000)\n",
    "\n",
    "imax = np.argmax(a)\n",
    "imin = np.argmin(a)\n",
    "\n",
    "irange = a[imax] - a[imin]\n",
    "display(irange)"
   ]
  },
  {
   "cell_type": "markdown",
   "metadata": {},
   "source": [
    "argmax returns the index for the maximum value in the array and then you can probably infer what argmin does. "
   ]
  },
  {
   "cell_type": "markdown",
   "metadata": {},
   "source": [
    "## DE 2\n",
    "Create an array of 501 numbers between 0 and 10000. Write code that prints the stepsize between the values."
   ]
  },
  {
   "cell_type": "code",
   "execution_count": 1,
   "metadata": {},
   "outputs": [
    {
     "name": "stdout",
     "output_type": "stream",
     "text": [
      "20.0\n"
     ]
    },
    {
     "data": {
      "text/plain": [
       "20.0"
      ]
     },
     "metadata": {},
     "output_type": "display_data"
    }
   ],
   "source": [
    "import numpy as np\n",
    "\n",
    "a, stepsize = np.linspace(0, 10000, 501, retstep= True)\n",
    "print(stepsize)\n",
    "\n",
    "# Second method\n",
    "b = np.linspace(0, 10000, 501, retstep = True)\n",
    "display(b[1])"
   ]
  },
  {
   "cell_type": "markdown",
   "metadata": {},
   "source": [
    "np.linspace(a, b, i) takes three inputs, a = start, b = end, i = number of elements you want in the array. retstep by default = false but when you turn it to true. You can get it to return stepsize. I assigned the code to two variables, a and stepsize. Because the method first returns the array and then the stepsize, the stepsize records, well, the stepsize."
   ]
  },
  {
   "cell_type": "markdown",
   "metadata": {},
   "source": [
    "## DE 3\n",
    "Create an array containing the numbers 1 up to and including 100 (stepsize 1). Assign the last 20 elements to a separate variable, then add 40 to each element in the new array. Bonus: Solve the problem two ways, one that changes the values in place, and one that does not change the original values but creates a new array."
   ]
  },
  {
   "cell_type": "code",
   "execution_count": 2,
   "metadata": {},
   "outputs": [
    {
     "name": "stdout",
     "output_type": "stream",
     "text": [
      "a: [  1   2   3   4   5   6   7   8   9  10  11  12  13  14  15  16  17  18\n",
      "  19  20  21  22  23  24  25  26  27  28  29  30  31  32  33  34  35  36\n",
      "  37  38  39  40  41  42  43  44  45  46  47  48  49  50  51  52  53  54\n",
      "  55  56  57  58  59  60  61  62  63  64  65  66  67  68  69  70  71  72\n",
      "  73  74  75  76  77  78  79  80 121 122 123 124 125 126 127 128 129 130\n",
      " 131 132 133 134 135 136 137 138 139 140] b: [121 122 123 124 125 126 127 128 129 130 131 132 133 134 135 136 137 138\n",
      " 139 140]\n"
     ]
    }
   ],
   "source": [
    "import numpy as np\n",
    "\n",
    "a = np.arange(1, 101)\n",
    "b = a[-20:]\n",
    "b += 40\n",
    "\n",
    "print(\"a:\", a, \"b:\", b)"
   ]
  },
  {
   "cell_type": "markdown",
   "metadata": {},
   "source": [
    "Solution that does not modify the original because we use array of indices"
   ]
  },
  {
   "cell_type": "code",
   "execution_count": 3,
   "metadata": {},
   "outputs": [],
   "source": [
    "a = np.arange(1, 101, 1)\n",
    "\n",
    "i = np.arange(-20, 0, 1)\n",
    "split = a[i]\n",
    "split += 40\n"
   ]
  },
  {
   "cell_type": "markdown",
   "metadata": {},
   "source": [
    "## DE 4\n",
    "Create a function that takes as input an integer. The function should create an array of random values between 0 and 1 the size of the input parameter, and return the number of entries with a value lower than 0.025 or higher than 0.975.\n",
    "\n",
    "Hint: Check the documentation for the binary OR operator | in Python and numpy.sum function.\n",
    "\n",
    "Note: This is a very important exercise that is very similar to the exam questions."
   ]
  },
  {
   "cell_type": "markdown",
   "metadata": {},
   "source": [
    "This was my first intution but this is kind of slow because this is O(n) time complexity."
   ]
  },
  {
   "cell_type": "code",
   "execution_count": null,
   "metadata": {},
   "outputs": [],
   "source": [
    "def specifySize(input):\n",
    "    a = np.random.random(input)\n",
    "    b = 0\n",
    "    for i in a: \n",
    "        if i < 0.025 or i > 0.975:\n",
    "            b += 1\n",
    "    return b\n",
    "\n",
    "len10 = specifySize(10)\n",
    "print(len10)"
   ]
  },
  {
   "cell_type": "markdown",
   "metadata": {},
   "source": [
    "Second attempt, lowvalue is a reference to the values array but instead makes it a boolean array whereby true is the condition stated. Same reasoning for highValue. ExtremeValues is a combination and is summed because in the boolean array, 0 = False, 1 = True.    "
   ]
  },
  {
   "cell_type": "code",
   "execution_count": 4,
   "metadata": {},
   "outputs": [
    {
     "name": "stdout",
     "output_type": "stream",
     "text": [
      "6\n"
     ]
    }
   ],
   "source": [
    "def doBetter(input):\n",
    "    values = np.random.random(input)\n",
    "    lowValue = values < 0.025\n",
    "    highValue = values > 0.975\n",
    "\n",
    "    extremeValue = lowValue | highValue\n",
    "\n",
    "    count = np.sum(extremeValue)\n",
    "    \n",
    "    return count\n",
    "\n",
    "print(doBetter(100))"
   ]
  }
 ],
 "metadata": {
  "kernelspec": {
   "display_name": "Python 3 (ipykernel)",
   "language": "python",
   "name": "python3"
  },
  "language_info": {
   "codemirror_mode": {
    "name": "ipython",
    "version": 3
   },
   "file_extension": ".py",
   "mimetype": "text/x-python",
   "name": "python",
   "nbconvert_exporter": "python",
   "pygments_lexer": "ipython3",
   "version": "3.11.5"
  }
 },
 "nbformat": 4,
 "nbformat_minor": 2
}
