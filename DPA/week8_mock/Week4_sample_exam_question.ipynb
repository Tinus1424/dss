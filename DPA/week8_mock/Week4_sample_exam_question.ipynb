{
 "cells": [
  {
   "cell_type": "markdown",
   "metadata": {},
   "source": [
    "Write a function recode_split_and_sample() that has four inputs and does the following:\n",
    "\n",
    "(a) Takes as input a filename (you can assume it is a CSV file with row names and without column names structured in the same way as sample_pandas_data.csv Download sample_pandas_data.csv) and reads the CSV data into a pandas DataFrame.\n",
    "\n",
    "(b) Takes as input two column names and excludes all columns not between them (you can assume both names exist in the dataframe and are correctly ordered). (The two given input column names should be included as well.)\n",
    "\n",
    "(c) Takes as input an integer num_test_trials and uses this value to write the *final* num_test_trials number of rows to a CSV file named test_data.csv. The non-test rows will be considered the training data and should be written to a file named train_data.csv.\n",
    "\n",
    "(d) Sample with replacement from the training data to create a new dataframe containing 90,000 entries. Write this result to a CSV file named sampled_train_data.csv."
   ]
  },
  {
   "cell_type": "code",
   "execution_count": null,
   "metadata": {},
   "outputs": [],
   "source": [
    "import numpy\n",
    "import pandas\n",
    "\n",
    "def recode_split_and_sample (file_name, start, end, num_test_trials):\n",
    "    data = pandas.read_csv(file_name)\n",
    "    subset_data = data.loc[:, start:end]\n",
    "    test_data = subset_data.iloc[-num_test_trials:]\n",
    "    train_data = subset_data.iloc[:-num_test_trials]\n",
    "    resampled_train_data = train_data.sample(90000, replace=True)\n",
    "    test_data.to_csv(\"test_data.csv\")\n",
    "    train_data.to_csv(\"train_data.csv\")\n",
    "    resampled_train_data.to_csv(\"sampled_train_data.csv\")"
   ]
  }
 ],
 "metadata": {
  "language_info": {
   "name": "python"
  }
 },
 "nbformat": 4,
 "nbformat_minor": 2
}
