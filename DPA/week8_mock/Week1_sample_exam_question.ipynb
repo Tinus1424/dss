{
 "cells": [
  {
   "cell_type": "markdown",
   "id": "831d1259-2d27-4168-9ca3-9d852678213f",
   "metadata": {},
   "source": [
    "In a file named sample_exam_question.py, write a function ```convert_and_check()``` that takes as input a one-dimensional numpy array of strings named `initial_input` and returns two objects:\n",
    "\n",
    "(a) a one-dimensional numpy array with the same number of elements as `initial_input` but with the type set to an eight (8) character string.\n",
    "\n",
    "(b) a boolean value indicating if all characters from ```initial_input``` are preserved in the output array.\n",
    "\n",
    "For example, running the following code:\n",
    "```\n",
    "import numpy\n",
    "initial_input = numpy.array(['a','b','c','d','e','f','g'])\n",
    "output, match = convert_and_check(initial_input)\n",
    "print(output)\n",
    "print(match)\n",
    "```\n",
    "\n",
    "should result in:\n",
    "```\n",
    "['a' 'b' 'c' 'd' 'e' 'f' 'g']\n",
    "True\n",
    "```\n",
    "\n",
    "And running:\n",
    "```\n",
    "import numpy\n",
    "initial_input = numpy.array(['aaaaaaaaaa','bbbbbb','ccccc','ddddddddddd','ee','f','gggggggggggg'])\n",
    "output, match = convert_and_check(initial_input)\n",
    "print(output)\n",
    "print(match)\n",
    "```\n",
    "Should result in:\n",
    "```\n",
    "['aaaaaaaa' 'bbbbbb' 'ccccc' 'dddddddd' 'ee' 'f' 'gggggggg']\n",
    "False\n",
    "```"
   ]
  },
  {
   "cell_type": "code",
   "execution_count": 1,
   "metadata": {},
   "outputs": [],
   "source": [
    "import numpy\n",
    "def convert_and_check(initial_input):\n",
    "    output = initial_input.astype('U8')\n",
    "    match = numpy.all(initial_input == output)\n",
    "    return output, match"
   ]
  }
 ],
 "metadata": {
  "kernelspec": {
   "display_name": "Python 3",
   "language": "python",
   "name": "python3"
  },
  "language_info": {
   "codemirror_mode": {
    "name": "ipython",
    "version": 3
   },
   "file_extension": ".py",
   "mimetype": "text/x-python",
   "name": "python",
   "nbconvert_exporter": "python",
   "pygments_lexer": "ipython3",
   "version": "3.9.13"
  }
 },
 "nbformat": 4,
 "nbformat_minor": 5
}
