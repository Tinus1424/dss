{
 "cells": [
  {
   "cell_type": "markdown",
   "metadata": {},
   "source": [
    "# Sample Exam Question"
   ]
  },
  {
   "cell_type": "code",
   "execution_count": 1,
   "metadata": {},
   "outputs": [],
   "source": [
    "import pandas as pd"
   ]
  },
  {
   "cell_type": "code",
   "execution_count": 2,
   "metadata": {},
   "outputs": [],
   "source": [
    "def recode_split_and_sample(file, name1, name2, num_test_trials):\n",
    "    df = pd.read_csv(file)\n",
    "    df = df.loc[:, name1 : name2]\n",
    "    test = df[:num_test_trials]\n",
    "    test.to_csv(\"data/test_data.csv\")\n",
    "    train = df[num_test_trials: ]\n",
    "    train.to_csv(\"data/train_data.csv\")\n",
    "    sample = train.sample(90000, replace = True)\n",
    "    sample.to_csv(\"data/sampled_train_data.csv\")\n",
    "    return\n",
    "\n",
    "recode_split_and_sample(\"data/sample_pandas_data.csv\", \"B\", \"E\", 10)"
   ]
  },
  {
   "cell_type": "code",
   "execution_count": 3,
   "metadata": {},
   "outputs": [],
   "source": [
    "def recode_split_and_sample(file, name1, name2, num_test_trials):\n",
    "    df = pd.read_csv(file)\n",
    "    df = df.loc[:, name1 : name2]\n",
    "    df[:num_test_trials].to_csv(\"data/test_data2.csv\")\n",
    "    train = df[num_test_trials: ]\n",
    "    train.to_csv(\"data/train_data2.csv\")\n",
    "    train.sample(90000, replace = True).to_csv(\"data/sampled_train_data2.csv\")\n",
    "    return\n",
    "\n",
    "recode_split_and_sample(\"data/sample_pandas_data.csv\", \"B\", \"E\", 10)"
   ]
  }
 ],
 "metadata": {
  "kernelspec": {
   "display_name": "base",
   "language": "python",
   "name": "python3"
  },
  "language_info": {
   "codemirror_mode": {
    "name": "ipython",
    "version": 3
   },
   "file_extension": ".py",
   "mimetype": "text/x-python",
   "name": "python",
   "nbconvert_exporter": "python",
   "pygments_lexer": "ipython3",
   "version": "3.11.5"
  }
 },
 "nbformat": 4,
 "nbformat_minor": 2
}
