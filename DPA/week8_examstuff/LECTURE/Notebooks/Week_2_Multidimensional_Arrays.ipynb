{
 "cells": [
  {
   "cell_type": "markdown",
   "metadata": {},
   "source": [
    "# 2. Multidemensional Arrays"
   ]
  },
  {
   "cell_type": "markdown",
   "metadata": {},
   "source": [
    "\n",
    "An array is an ordered and structured collection of elements. Arrays are structured around the number of dimensions they contain, as well as how many elements exist along each dimension. Today we will focus on arrays that are more than one dimension.\n",
    "\n",
    "A one-dimensional array that contains six elements looks like:\n",
    "\n",
    "  4 5 6 7 8 9\n",
    "\n",
    "Or we could have a two-dimensional array that contains six elements with two rows and three columns:\n",
    "\n",
    "  4 5 6\n",
    "  \n",
    "  7 8 9\n",
    "\n",
    "In general, an array can be $n$-dimensional. One way to think of $n$-dimensional arrays in terms of the bookshelf analogy:\n",
    "\n",
    "- 1d array is a single row of a bookshelf, where a book can be identified by its position in the row\n",
    "- 2d array is the whole bookshelf, where a book can be identified by its row number and its position in the row\n",
    "- 3d array is a room full of bookshelves, where a book can be identified by the number of the bookshelf, row, and position in the row\n",
    "- 4d array is a library with rooms with bookshelves, where a book can be identified by the room, bookshelf, row and position in the row\n",
    "- ...and so on...\n",
    "\n",
    "The constraints for multi-dimensional numpy arrays are the same as for one-dimensional arrays: \n",
    "- all elements must be of the same type\n",
    "- all elements are contiguous in memory to allow for fast computations\n",
    "\n",
    "Similar to 1-dimensional arrays, we can use four methods to create multi-dimensional arrays:\n",
    "- From Python lists and tuples\n",
    "- From a file\n",
    "- Using intrinsic Numpy functions\n",
    "- Using functions in the random module in Numpy\n",
    "\n",
    "In the ramaining, we will see examples on creating multi-dimensional Numpy arrays."
   ]
  },
  {
   "cell_type": "markdown",
   "metadata": {},
   "source": [
    "## 2.1 Creating multidemensional arrays \n",
    "\n",
    "### 2.1.1 Creating multidemensional arrays from Python lists and tuples\n",
    "\n",
    "Last week we focused on creating arrays that contain one dimesion. We have learned about multiple attributes we can access to get insight about the array characteristics including:\n",
    "- `x.ndim` : the number of dimensions.\n",
    "- `x.shape` : the length of each dimension.\n",
    "- `x.size` : the total number of elements.\n",
    "- `x.dtype`: the datatype of the elements in the array."
   ]
  },
  {
   "cell_type": "code",
   "execution_count": null,
   "metadata": {},
   "outputs": [],
   "source": [
    "import numpy\n",
    "\n",
    "b = numpy.array([1, 2, 3])\n",
    "print( b )\n",
    "print( b.ndim, b.shape, b.size, b.dtype )"
   ]
  },
  {
   "cell_type": "markdown",
   "metadata": {},
   "source": [
    "\n",
    "When creating two dimensional arrays, the simplist way to do so is based on python structures. Specifically, create the numpy array based off a python list, where each element of the list is another list. In this case the outer list is a list of the rows and each inner list specifies the elements of that row."
   ]
  },
  {
   "cell_type": "code",
   "execution_count": null,
   "metadata": {
    "collapsed": false,
    "jupyter": {
     "outputs_hidden": false
    }
   },
   "outputs": [],
   "source": [
    "a = numpy.array([[1, 3, 6, 5], [2, 4, 3, 0]])\n",
    "#a = numpy.array(((1, 3, 6, 5), (2, 4, 3, 0)))\n",
    "\n",
    "print( a )\n",
    "print( a.ndim, a.shape, a.size, a.dtype )"
   ]
  },
  {
   "cell_type": "markdown",
   "metadata": {},
   "source": [
    "A true 2-dimensional array (also called a matrix) is created only if the number of elements in each row is the same across all rows. Otherwise, a one-dimensional numpy array of python lists is created:"
   ]
  },
  {
   "cell_type": "code",
   "execution_count": null,
   "metadata": {
    "collapsed": false,
    "jupyter": {
     "outputs_hidden": false
    }
   },
   "outputs": [],
   "source": [
    "b = numpy.array([[1, 3, 6, 5], [2, 4, 3]])\n",
    "\n",
    "print( b )\n",
    "print( b.ndim, b.shape, b.size, b.dtype )"
   ]
  },
  {
   "cell_type": "markdown",
   "metadata": {},
   "source": [
    "\n",
    "N-dimensional arrays can be created in the same way as two-dimensional arrays but with more nested lists:"
   ]
  },
  {
   "cell_type": "code",
   "execution_count": null,
   "metadata": {
    "collapsed": false,
    "jupyter": {
     "outputs_hidden": false
    }
   },
   "outputs": [],
   "source": [
    "# create a three dimensional array:\n",
    "z1 = numpy.array([[[1, 3], [2, 4]], [[11, 13], [12, 14]] ])\n",
    "\n",
    "# dimensions/shape/size of the array:\n",
    "print(z1)\n",
    "print( \"Number of dimensions:\", z1.ndim )\n",
    "print( \"Length of each dimension:\", z1.shape )\n",
    "print( \"The total number of elements:\", z1.size )"
   ]
  },
  {
   "cell_type": "markdown",
   "metadata": {},
   "source": [
    "## Exercise 2.1\n",
    "\n",
    "First, create a 2x3x2 three-dimensional array (you decide which values to include). Then, create 2x2x3 three-dimensional array. Verify the arrays have the same number of dimensions and elements but different shapes."
   ]
  },
  {
   "cell_type": "code",
   "execution_count": null,
   "metadata": {
    "tags": []
   },
   "outputs": [],
   "source": []
  },
  {
   "cell_type": "markdown",
   "metadata": {},
   "source": [
    "### 2.1.2 Reading and writing multidimensional arrays from/to file\n",
    "\n",
    "There are two major numpy based methods for saving objects: saving them as a text file, or as a numpy-specific binary file. The first option is very similar to a csv file, the second preserves the numpy structure (like python's pickle library). The way to use these methods are:\n",
    "\n",
    "- `numpy.savetxt(filename, array)` : save a 1-dimensional or 2-dimensional array to a text file. \n",
    "- `numpy.save(filename, array)` : save an array to a binary file in numpy `.npy` format.\n",
    "\n",
    "The corresponding functions for reading these formats are `numpy.loadtxt()` and `numpy.load()`."
   ]
  },
  {
   "cell_type": "code",
   "execution_count": null,
   "metadata": {},
   "outputs": [],
   "source": [
    "# create a two dimensional array:\n",
    "a = numpy.array([[1, 3, 6, 5], [2, 4, 3, 0]])\n",
    "print(a, a.shape, a.dtype)\n",
    "\n",
    "# saving the array in a text file\n",
    "numpy.savetxt('textfile.txt', a, fmt='%d', delimiter=',')"
   ]
  },
  {
   "cell_type": "code",
   "execution_count": null,
   "metadata": {},
   "outputs": [],
   "source": [
    "# loading a two dimensional array form the disk\n",
    "b = numpy.loadtxt('textfile.txt', dtype='int', delimiter=',')\n",
    "print(b, b.shape, b.dtype)"
   ]
  },
  {
   "cell_type": "code",
   "execution_count": null,
   "metadata": {},
   "outputs": [],
   "source": [
    "# create a three dimensional array:\n",
    "a = numpy.array([[[1, 3], [2, 4]], [[11, 13], [12, 14]] ])\n",
    "print(a, a.shape, a.dtype)\n",
    "\n",
    "# saving the array in a binary file\n",
    "numpy.save('binaryfile.npy', a)"
   ]
  },
  {
   "cell_type": "code",
   "execution_count": null,
   "metadata": {},
   "outputs": [],
   "source": [
    "# loading an array from a binary file\n",
    "b = numpy.load('binaryfile.npy')\n",
    "print(b, b.shape, b.dtype)"
   ]
  },
  {
   "cell_type": "markdown",
   "metadata": {},
   "source": [
    "## Exercise 2.2\n",
    "\n",
    "Part 1: Generate a one dimensional array. Save to disk as a text file, and as a npy file. Create a new array that is based on reading the array back from the text file, and a new array that is based on the npy file. Is the information preserved in both formats?\n",
    "\n",
    "Part 2: Repeat part 1 with a two-dimensional array and then a three-dimensional array. What works and what does not?"
   ]
  },
  {
   "cell_type": "code",
   "execution_count": null,
   "metadata": {},
   "outputs": [],
   "source": []
  },
  {
   "cell_type": "markdown",
   "metadata": {},
   "source": [
    "### 2.1.3 Creating N-dimensional arrays using Numpy functions\n",
    "\n",
    "Creating arrays by specifying nested lists of elements is tedious. Therefore, there are nice tools for creating mulit-dimensional arrays.\n",
    "\n",
    "An empty array or an array with only zeros or ones can be created with the `empty`, `zeros` and `ones` functions. \n",
    "Be careful with the empty array. This is the fastest way to inialize an array but the content of the empty array can be anything (it will be whatever was already written in that location in memory).\n",
    "\n",
    "The shape of the array is the input for these functions:\n"
   ]
  },
  {
   "cell_type": "code",
   "execution_count": null,
   "metadata": {
    "collapsed": false,
    "jupyter": {
     "outputs_hidden": false
    }
   },
   "outputs": [],
   "source": [
    "# create a one-dimensional empty array:\n",
    "a = numpy.empty([3])\n",
    "print(a, a.shape)"
   ]
  },
  {
   "cell_type": "code",
   "execution_count": null,
   "metadata": {},
   "outputs": [],
   "source": [
    "# create two-dimensional array with only zeros:\n",
    "b = numpy.zeros([2, 3])\n",
    "print(b, b.shape)"
   ]
  },
  {
   "cell_type": "code",
   "execution_count": null,
   "metadata": {
    "collapsed": false,
    "jupyter": {
     "outputs_hidden": false
    }
   },
   "outputs": [],
   "source": [
    "# create a four-dimensional array with only ones:\n",
    "c = numpy.ones([2,2,2,2])\n",
    "print(c, c.shape)"
   ]
  },
  {
   "cell_type": "markdown",
   "metadata": {},
   "source": [
    "An identity matrix is a two-dimensional square matrix (same number of rows and columns) in which all values are zeros, except for ones along the diagonal. \n",
    "The identity matrix can be created with the `eye(n)` function. Since the identity matrix is always a square, only one input parameter is needed to create the 2-dimensional matrix."
   ]
  },
  {
   "cell_type": "code",
   "execution_count": null,
   "metadata": {
    "collapsed": false,
    "jupyter": {
     "outputs_hidden": false
    },
    "scrolled": true
   },
   "outputs": [],
   "source": [
    "# create n by n identity matrix:\n",
    "print(numpy.eye(4))"
   ]
  },
  {
   "cell_type": "markdown",
   "metadata": {},
   "source": [
    "### 2.1.4 Creating random N-dimensional arrays\n",
    "Specifying the shape of the array, we can create multi-dimensional arrays with any arbitrary dimensions:\n"
   ]
  },
  {
   "cell_type": "code",
   "execution_count": null,
   "metadata": {},
   "outputs": [],
   "source": [
    "a = numpy.random.random([2,2])\n",
    "print(a, a.shape)\n"
   ]
  },
  {
   "cell_type": "code",
   "execution_count": null,
   "metadata": {},
   "outputs": [],
   "source": [
    "a = numpy.random.randint(0, 100, [10,2])\n",
    "print(a, a.shape)\n"
   ]
  },
  {
   "cell_type": "code",
   "execution_count": null,
   "metadata": {},
   "outputs": [],
   "source": [
    "a = numpy.random.uniform(0, 100, [3,2,2])\n",
    "print(a, a.shape)\n"
   ]
  },
  {
   "cell_type": "code",
   "execution_count": null,
   "metadata": {},
   "outputs": [],
   "source": [
    "a = numpy.random.normal(0, 5, [2,2])\n",
    "print(a, a.shape)"
   ]
  },
  {
   "cell_type": "markdown",
   "metadata": {},
   "source": [
    "## 2.2 Array stacking and splitting\n",
    "\n",
    "More complex arrays can be created by combining two or more one-dimensional arrays. This is called vector stacking. There are two functions to stack arrays and they produce arrays with different shapes:\n",
    "\n",
    "- horizontal stack: `numpy.hstack([x, y, z])`\n",
    "- vertical stack: `numpy.vstack([x, y, z])`"
   ]
  },
  {
   "cell_type": "code",
   "execution_count": null,
   "metadata": {},
   "outputs": [],
   "source": [
    "x = numpy.arange(0, 5)                     \n",
    "y = numpy.arange(5, 10)   \n",
    "z = numpy.arange(10, 15)"
   ]
  },
  {
   "cell_type": "code",
   "execution_count": null,
   "metadata": {},
   "outputs": [],
   "source": [
    "print(\"Horizontal stack: \" )\n",
    "a = numpy.hstack([x, y, z])\n",
    "print(a)\n",
    "print(a.shape)"
   ]
  },
  {
   "cell_type": "code",
   "execution_count": null,
   "metadata": {
    "collapsed": false,
    "jupyter": {
     "outputs_hidden": false
    },
    "scrolled": true
   },
   "outputs": [],
   "source": [
    "print(\"Vertical stack: \")\n",
    "a = numpy.vstack([x, y, z])\n",
    "print(a)\n",
    "print(a.shape)"
   ]
  },
  {
   "cell_type": "markdown",
   "metadata": {},
   "source": [
    "The opposite of vector stacking is to split a two-dimensional array into a list of one-dimensional arrays (vectors). The first argument is the 2D array and the second argument is the number of 1D arrays to create. It is important that that the number of pieces you want is possible given the number of rows or columns. Two different ways of splitting:\n",
    "- Vertical split: `numpy.vsplit(x, N)`\n",
    "- Horizontal split: `numpy.hsplit(x, N)`\n"
   ]
  },
  {
   "cell_type": "code",
   "execution_count": null,
   "metadata": {},
   "outputs": [],
   "source": [
    "a = numpy.arange(0, 5)                     \n",
    "b = numpy.arange(5, 10)   \n",
    "c = numpy.arange(10, 15)\n",
    "d = numpy.vstack([a, b, c])\n",
    "\n",
    "print(d, d.shape)"
   ]
  },
  {
   "cell_type": "code",
   "execution_count": null,
   "metadata": {},
   "outputs": [],
   "source": [
    "print(\"\\nVertical split: \")\n",
    "print( numpy.vsplit(d, 3) )"
   ]
  },
  {
   "cell_type": "code",
   "execution_count": null,
   "metadata": {
    "collapsed": false,
    "jupyter": {
     "outputs_hidden": false
    },
    "scrolled": true
   },
   "outputs": [],
   "source": [
    "print(\"\\nHorizontal split: \")\n",
    "print( numpy.hsplit(d, 5) )"
   ]
  },
  {
   "cell_type": "markdown",
   "metadata": {},
   "source": [
    "## 2.3 Reshaping arrays\n",
    "\n",
    "We can use `reshape()` function to rearrange the elements of a multi-dimensional numpy array along its different dimensions. \n",
    "\n",
    "However, it is critical that the the total number of elements matches. For example, if the length of the initial list is 24, then we can reshape it to a 4 by 6 matrix. We could also transform it into a three-dimensional 2 by 3 by 4 array.\n",
    "\n",
    "When reshaping, the shape of the new array is specificed as a tuple that lists the number of entries along each dimension. For creating a two-dimensional array, the first element in the tuple will be the number of rows, the second is the number of columns."
   ]
  },
  {
   "cell_type": "code",
   "execution_count": null,
   "metadata": {
    "collapsed": false,
    "jupyter": {
     "outputs_hidden": false
    }
   },
   "outputs": [],
   "source": [
    "# reshape into a two dimensional array:\n",
    "y = numpy.arange(2, 14, 2)\n",
    "print(y)\n",
    "print( y.ndim, y.shape, y.size)\n",
    "\n",
    "z = y.reshape((2, 3))\n",
    "print( z )\n",
    "print( z.ndim, z.shape, z.size)"
   ]
  },
  {
   "cell_type": "markdown",
   "metadata": {},
   "source": [
    "In a three-dimensional array, however, the first value specifies the number of \"layers\", the second specifies the number of \"rows\" and the third specifies the \"columns\"."
   ]
  },
  {
   "cell_type": "code",
   "execution_count": null,
   "metadata": {
    "collapsed": false,
    "jupyter": {
     "outputs_hidden": false
    }
   },
   "outputs": [],
   "source": [
    "# reshape into a three dimensional array:\n",
    "z2 = numpy.random.random([6,4]).reshape((2, 3, 4))\n",
    "\n",
    "# dimensions/shape/size of the array:\n",
    "print( z2 )\n",
    "print( \"Number of dimensions:\", z2.ndim )\n",
    "print( \"Length of each dimension:\", z2.shape )\n",
    "print( \"The total number of elements:\", z2.size )"
   ]
  },
  {
   "cell_type": "markdown",
   "metadata": {},
   "source": [
    "## Exercise 2.3\n",
    "\n",
    "First, create a 2x3x2 three-dimensional array containing random values from a normal distribution. Then, reshape that array into a 2x2x3 three-dimensional array. Verify the shape has changed."
   ]
  },
  {
   "cell_type": "code",
   "execution_count": null,
   "metadata": {},
   "outputs": [],
   "source": []
  },
  {
   "cell_type": "markdown",
   "metadata": {},
   "source": [
    "### 2.3.1 Shallow vs. deep copying\n",
    "\n",
    "Reshaping a numpy array is (usually) blazingly fast. This is because numpy does not copy all the elements in memory. Instead, a new variable points to the same memory location (this is called a shallow copy). This can intruduce unanticipated behavior:"
   ]
  },
  {
   "cell_type": "code",
   "execution_count": null,
   "metadata": {
    "tags": []
   },
   "outputs": [],
   "source": [
    "a = numpy.arange(8)\n",
    "print(a)\n",
    "print()\n",
    "\n",
    "b = a.reshape((2,4))\n",
    "print(b)\n",
    "print()\n",
    "\n",
    "b[0,0] = -42\n",
    "\n",
    "print(\"b changed:\")\n",
    "print(b)\n",
    "print()\n",
    "\n",
    "print(\"but so did a:\")\n",
    "print(a)\n",
    "print()"
   ]
  },
  {
   "cell_type": "markdown",
   "metadata": {},
   "source": [
    "The `base` attribute in numpy indicates if a variable is pointing to it's own memory or to the memory of another variable. If a variable's `base` is None, then it doesn't point to the memory of another variable. "
   ]
  },
  {
   "cell_type": "code",
   "execution_count": null,
   "metadata": {},
   "outputs": [],
   "source": [
    "print(a.base)"
   ]
  },
  {
   "cell_type": "code",
   "execution_count": null,
   "metadata": {},
   "outputs": [],
   "source": [
    "print(b.base)\n",
    "print(b.base is a)"
   ]
  },
  {
   "cell_type": "markdown",
   "metadata": {},
   "source": [
    "To avoid a shallow copy, use the numpy function copy() to create a deep copy that creates a new location in memory:"
   ]
  },
  {
   "cell_type": "code",
   "execution_count": null,
   "metadata": {
    "tags": []
   },
   "outputs": [],
   "source": [
    "a = numpy.arange(8)\n",
    "print(a)\n",
    "print()\n",
    "\n",
    "b = a.copy()\n",
    "print(b)\n",
    "print()\n",
    "\n",
    "b[0] = -42\n",
    "\n",
    "print(\"b changed:\")\n",
    "print(b)\n",
    "print()\n",
    "\n",
    "print(\"but because of the copy() function, a did not:\")\n",
    "print(a)\n",
    "print()"
   ]
  },
  {
   "cell_type": "markdown",
   "metadata": {},
   "source": [
    "## 2.4 Multi-Dimensional Array Indexing\n",
    "\n",
    "### 2.4.1 Indexing a Single Element\n",
    "We can use index along different dimensions to retrieve a single element from a multi-dimensional array:"
   ]
  },
  {
   "cell_type": "code",
   "execution_count": null,
   "metadata": {
    "collapsed": false,
    "jupyter": {
     "outputs_hidden": false
    }
   },
   "outputs": [],
   "source": [
    "c = numpy.random.uniform(-0.5, .5, (3,4,5))\n",
    "print(c)\n",
    "print(\"========\")\n",
    "print(c[1,2,0])"
   ]
  },
  {
   "cell_type": "code",
   "execution_count": null,
   "metadata": {
    "collapsed": false,
    "jupyter": {
     "outputs_hidden": false
    }
   },
   "outputs": [],
   "source": [
    "print(c[1])\n",
    "print('------------------------------------')\n",
    "print(c[1][2])\n",
    "print('------------------------------------')\n",
    "print(c[1][2][0])"
   ]
  },
  {
   "cell_type": "markdown",
   "metadata": {},
   "source": [
    "### 2.4.2 Slicing\n",
    "\n",
    "We can fetch all the elements along a specific dimension using `:` opertaor:"
   ]
  },
  {
   "cell_type": "code",
   "execution_count": null,
   "metadata": {
    "collapsed": false,
    "jupyter": {
     "outputs_hidden": false
    }
   },
   "outputs": [],
   "source": [
    "z = numpy.arange(24).reshape((6, 4))\n",
    "print( z )"
   ]
  },
  {
   "cell_type": "code",
   "execution_count": null,
   "metadata": {
    "collapsed": false,
    "jupyter": {
     "outputs_hidden": false
    }
   },
   "outputs": [],
   "source": [
    "# Fetching all the elements in the first row:\n",
    "print( z[0, :] )"
   ]
  },
  {
   "cell_type": "code",
   "execution_count": null,
   "metadata": {},
   "outputs": [],
   "source": [
    "# Fetching all the elements in the third column:\n",
    "print( z[:, 2] )"
   ]
  },
  {
   "cell_type": "markdown",
   "metadata": {},
   "source": [
    "We can alternatively use the `:` opertaor to retrieve specific slices of an array: "
   ]
  },
  {
   "cell_type": "code",
   "execution_count": null,
   "metadata": {
    "collapsed": false,
    "jupyter": {
     "outputs_hidden": false
    }
   },
   "outputs": [],
   "source": [
    "print(z)\n",
    "print('-----------------------')\n",
    "print( z[2:5, 1:3] )"
   ]
  },
  {
   "cell_type": "code",
   "execution_count": null,
   "metadata": {
    "collapsed": false,
    "jupyter": {
     "outputs_hidden": false
    }
   },
   "outputs": [],
   "source": [
    "print( z[:3,-3:-1] )"
   ]
  },
  {
   "cell_type": "markdown",
   "metadata": {},
   "source": [
    "## Exercise 2.4\n",
    "\n",
    "Generate a $5\\times 5 \\times 5$ 3D array of random numbers between -10.0 and 10.0. Reshape it to a $5 \\times 25$ matrix. Extract the last 10 elements of the first two rows of this matrix.\n"
   ]
  },
  {
   "cell_type": "code",
   "execution_count": null,
   "metadata": {},
   "outputs": [],
   "source": []
  },
  {
   "cell_type": "markdown",
   "metadata": {},
   "source": [
    "### 2.4.3 Boolean Indexing\n",
    "We can use boolean indexing to retrieve the lements of an array which satisfy a certain condition. Note that the ourput will be a vector (i.e. a one dimensional array)."
   ]
  },
  {
   "cell_type": "code",
   "execution_count": null,
   "metadata": {},
   "outputs": [],
   "source": [
    "a = numpy.random.normal(0,5, [3,5])\n",
    "print(a)"
   ]
  },
  {
   "cell_type": "code",
   "execution_count": null,
   "metadata": {},
   "outputs": [],
   "source": [
    "b = a[a<0]\n",
    "print(b, b.shape)"
   ]
  },
  {
   "cell_type": "markdown",
   "metadata": {},
   "source": [
    "### 2.4.4 Using `ix_` function\n",
    "For more complext indexing, we can use `ix_` from numpy. This function constructs an open mesh from multiple sequences and can be used to retrieve arbitrary dimensions of a multi-dimensional array. "
   ]
  },
  {
   "cell_type": "code",
   "execution_count": null,
   "metadata": {},
   "outputs": [],
   "source": [
    "a = numpy.random.normal(0,5, [3,5])\n",
    "print(a)\n",
    "print('-----------------')\n",
    "print(a[numpy.ix_([0,2], [1,2,4])])\n"
   ]
  },
  {
   "cell_type": "markdown",
   "metadata": {},
   "source": [
    "\n",
    "For complete information about indexing see http://docs.scipy.org/doc/numpy/user/basics.indexing.html.\n"
   ]
  },
  {
   "cell_type": "markdown",
   "metadata": {},
   "source": [
    "## 2.5 An example of indexing in RGB images\n",
    "\n",
    "An RGB image is composed of three color channels: Red (R), Green (G), and Blue (B). Each of these channels can be thought of as a 2D array (or matrix) where each entry in the matrix corresponds to the intensity of that color for a particular pixel in the image. When these channels are combined, they form a 3D array that represents the RGB image. Each entry in the 3D array is an integer value between 0 and 255 (for an 8-bit image), indicating the intensity of the color:\n",
    "- 0 represents no intensity (black).\n",
    "- 255 represents full intensity.\n",
    "\n",
    "The 3D array representing an RGB image has dimensions (height, width, 3), where:\n",
    "\n",
    "- height is the number of pixels in the vertical direction of the image.\n",
    "- width is the number of pixels in the horizontal direction of the image.\n",
    "- 3 represents the three color layers (R, G, B). The first layer (or depth slice) of the 3D array corresponds to the Red channel. The second layer corresponds to the Green channel. The third layer corresponds to the Blue channel.\n"
   ]
  },
  {
   "cell_type": "code",
   "execution_count": null,
   "metadata": {},
   "outputs": [],
   "source": [
    "import matplotlib.pyplot as plt\n",
    "color_image = plt.imread('lena_color.bmp')\n",
    "plt.imshow(color_image)\n",
    "print(color_image.shape, color_image.dtype)"
   ]
  },
  {
   "cell_type": "markdown",
   "metadata": {},
   "source": [
    "\n",
    "To access the RGB values of a specific pixel at (x, y) coordinates:\n",
    "\n",
    "- Red value: array[y, x, 0]\n",
    "- Green value: array[y, x, 1]\n",
    "- Blue value: array[y, x, 2]\n",
    "\n",
    "We can use array indexing to retrieve different the intesities of different color plans in an RGB image:"
   ]
  },
  {
   "cell_type": "code",
   "execution_count": null,
   "metadata": {},
   "outputs": [],
   "source": [
    "# retrieving and showing the intesities of the red layer for all pixels\n",
    "red_plane = numpy.zeros(color_image.shape, dtype='uint8')\n",
    "red_plane[:,:,0] = color_image[:,:,0]\n",
    "plt.imshow(red_plane)"
   ]
  },
  {
   "cell_type": "code",
   "execution_count": null,
   "metadata": {},
   "outputs": [],
   "source": [
    "# retrieving and showing the intesities of the green layer for all pixels\n",
    "green_plane = numpy.zeros(color_image.shape, dtype='uint8')\n",
    "green_plane[:,:,1] = color_image[:,:,1]\n",
    "plt.imshow(green_plane)"
   ]
  },
  {
   "cell_type": "code",
   "execution_count": null,
   "metadata": {},
   "outputs": [],
   "source": [
    "# retrieving and showing the intesities of the blue layer for all pixels\n",
    "blue_plane = numpy.zeros(color_image.shape, dtype='uint8')\n",
    "blue_plane[:,:,2] = color_image[:,:,2]\n",
    "plt.imshow(blue_plane)"
   ]
  },
  {
   "cell_type": "markdown",
   "metadata": {},
   "source": [
    "We can also use array indexing to crop an RGB image:"
   ]
  },
  {
   "cell_type": "code",
   "execution_count": null,
   "metadata": {},
   "outputs": [],
   "source": [
    "# Cropping the image using array indexing\n",
    "plt.imshow(color_image[100:400, 100:355, :])"
   ]
  }
 ],
 "metadata": {
  "kernelspec": {
   "display_name": "Python 3",
   "language": "python",
   "name": "python3"
  },
  "language_info": {
   "codemirror_mode": {
    "name": "ipython",
    "version": 3
   },
   "file_extension": ".py",
   "mimetype": "text/x-python",
   "name": "python",
   "nbconvert_exporter": "python",
   "pygments_lexer": "ipython3",
   "version": "3.9.13"
  },
  "name": "_merged",
  "vscode": {
   "interpreter": {
    "hash": "aee8b7b246df8f9039afb4144a1f6fd8d2ca17a180786b69acc140d282b71a49"
   }
  }
 },
 "nbformat": 4,
 "nbformat_minor": 4
}
