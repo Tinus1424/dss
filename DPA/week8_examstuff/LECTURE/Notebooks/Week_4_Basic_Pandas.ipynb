{
 "cells": [
  {
   "cell_type": "markdown",
   "metadata": {},
   "source": [
    "# 4. Pandas Basics\n",
    "\n",
    "Pandas is a python library designed to work with tabular data (two-dimensional structure where columns and rows have meaning) that have a mixuture of data types throughout the data. Furthermore, the aim is to provide functionality that makes many common types of data analysis straightforward but also provides the flexibility to perform complex data transformations.\n",
    "\n",
    "Pandas is designed to a few things very well. It is incredibly useful for grouping data, aggregating and processing these groups, and reshaping data. Support for time-series analyses in Pandas is also strong with built-in date and time representations.\n",
    "\n",
    "## 4.1 Data structure\n",
    "\n",
    "### 4.1.1 Series\n",
    "\n",
    "The basic data structure in Pandas is a Series. The Pandas Series contains three structures: \n",
    "- a numpy one-dimensional array of elements (therefore, all elements are of the same type), \n",
    "- a mapping of Series indexes (which can be numeric, as in numpy, but can also be strings) to positions within the numpy array (this is actually saved as a very efficient dictionary object),\n",
    "- some additional header information.\n",
    "\n",
    "### 4.1.2 DataFrame\n",
    "\n",
    "The most used data structure in Pandas is a DataFrame. A dataframe contains two dimensions: every column is a Series object, and every column has the same number of elements (rows).\n",
    "\n",
    "The way a DataFrame is stored in Pandas is as a python dictionary object (with some additional header information). The key in this dictionary indicates the column name, and the value is the Pandas Series.\n",
    "\n",
    "There are some advantages and disadvantages to how Pandas structures memory. First, by having each column be a numpy array, computations within each column are really fast and get all the benefits of numpy over python. Second, by having a dedicated and reasonably fast data structure to connect row indexes, computations across rows are reasonably fast. However, by storing additional index information for every column (it isn't really *that* bad, but is definitely extra) additional memory is needed to store a pandas DataFrame relative to a numpy multi-dimensional array with the same number of elements.\n",
    "\n",
    "\n",
    "## 4.2 Relating Pandas DataFrames to other representations\n",
    "\n",
    "### 4.2.1 Relationship to a Numpy two-dimensional array\n",
    "\n",
    "A numpy two-dimensional array can be the same shape as a Pandas DataFrame. However, a numpy array can contain only one type of element, whereas each column in a Pandas DataFrame can have a different type.\n",
    "\n",
    "This gives an advantage in processing speed for numpy arrays when data is appropriate for a multi-dimensional numpy array: when all elements are the same type. However, when data is a mixture of types, the flexibility of a Pandas DataFrame is often beneficial and provides functionality that is not easy with a Numpy array.\n",
    "\n",
    "\n",
    "### 4.2.2 Relationship to the dataFrame object in R\n",
    "\n",
    "Very similar. Much of how Pandas is designed was inspired by what works really well with R dataFrames.\n",
    "\n",
    "\n",
    "### 4.2.3 Relationship to SQL and other databases\n",
    "\n",
    "Similar. It is very straightforward to export a Pandas DataFrame to SQL (and import from SQL). Though they are represented in memory very differently, the basic structure is similar.\n",
    "\n",
    "The major difference is that Pandas is (mostly) designed to work with data that fits within the memory of a single computer. SQL and other databases often provide functionality to work with much bigger datasets where only a portion of data is being manipuated or used at any time. This is not the goal of Pandas.\n",
    "\n"
   ]
  },
  {
   "cell_type": "code",
   "execution_count": null,
   "metadata": {
    "collapsed": false,
    "jupyter": {
     "outputs_hidden": false
    }
   },
   "outputs": [],
   "source": [
    "import numpy\n",
    "import pandas"
   ]
  },
  {
   "cell_type": "markdown",
   "metadata": {},
   "source": [
    "## 4.3 Creating Data Frames\n",
    "\n",
    "### 4.3.1 From a numpy array\n",
    "\n",
    "Including specifying the names of rows and columns:"
   ]
  },
  {
   "cell_type": "code",
   "execution_count": null,
   "metadata": {},
   "outputs": [],
   "source": [
    "# creating the Numpy array\n",
    "grades = numpy.array([[90, 9.0],[52, 5.0],[76, 7.5],[68, 7.0],[84, 8.5]])\n",
    "\n",
    "# creating a list of row names\n",
    "student_numbers = [42343, 23423, 57567,54644, 34534]\n",
    "   \n",
    "# creating a list of column names\n",
    "column_labels = ['Marks', 'Grade']\n",
    "  \n",
    "# creating the dataframe\n",
    "df = pandas.DataFrame(data = grades, \n",
    "                      index = student_numbers, \n",
    "                      columns = column_labels)\n",
    "df"
   ]
  },
  {
   "cell_type": "markdown",
   "metadata": {},
   "source": [
    "### 4.3.2 Creating Pandas Dataframes From Python Lists"
   ]
  },
  {
   "cell_type": "code",
   "execution_count": null,
   "metadata": {},
   "outputs": [],
   "source": [
    "# creating list\n",
    "students_info = [['Anna', 'van Rossum', 'F', 92, 9.0, True],\n",
    "          ['David', 'Alberts', 'M', 52, 5.0, False],\n",
    "         ['Ibrahim', 'Assad', 'M', 76, 7.5, True],\n",
    "         ['Maria', 'Esposito', 'F', 68, 7.0, True],\n",
    "         ['Sophie', 'van Dee', 'F', 84, 8.5, True]]\n",
    "  \n",
    "# creating a list of row names\n",
    "student_numbers = [42343, 23423, 57567,54644, 34534]\n",
    "   \n",
    "# creating a list of column names\n",
    "column_labels = ['Name', 'Surname', 'Gender', 'Marks', 'Grade', 'Pass']\n",
    "  \n",
    "# creating the dataframe\n",
    "ADP_grades = pandas.DataFrame(data = students_info, \n",
    "                      index = student_numbers, \n",
    "                      columns = column_labels)\n",
    "  \n",
    "ADP_grades"
   ]
  },
  {
   "cell_type": "markdown",
   "metadata": {},
   "source": [
    "### 4.3.3 Creating Pandas Dataframes From Dictionaries"
   ]
  },
  {
   "cell_type": "code",
   "execution_count": null,
   "metadata": {},
   "outputs": [],
   "source": [
    "ADP_grades = {'Name' : ['Anna', 'David', 'Ibrahim', 'Maria', 'Sophie'],\n",
    "              'Surname' : ['van Rossum', 'Alberts', 'Assad', 'Esposito', 'van Dee'],\n",
    "              'Gender' : ['F','M','M','F','F'],\n",
    "             'Marks': [92, 52, 76, 68, 84],\n",
    "             'Grade': [9.0, 5.0, 7.5, 7, 8.5],\n",
    "             'Pass': [True, False, True, True, True]}\n",
    "\n",
    "# creating a list of row names\n",
    "student_numbers = [42343, 23423, 57567,54644, 34534]\n",
    "\n",
    "ADP_grades = pandas.DataFrame(ADP_grades, index=student_numbers)\n",
    "\n",
    "ADP_grades"
   ]
  },
  {
   "cell_type": "markdown",
   "metadata": {},
   "source": [
    "### 4.3.4 Creating Pandas Dataframes From Files"
   ]
  },
  {
   "cell_type": "code",
   "execution_count": null,
   "metadata": {
    "collapsed": false,
    "jupyter": {
     "outputs_hidden": false
    }
   },
   "outputs": [],
   "source": [
    "# read a data file into pandas\n",
    "ADP_grades.to_csv('ADP_grades.csv')\n",
    "\n",
    "df = pandas.read_csv('ADP_grades.csv', index_col=0)\n",
    "\n",
    "df"
   ]
  },
  {
   "cell_type": "markdown",
   "metadata": {},
   "source": [
    "Other input and output: https://pandas.pydata.org/pandas-docs/stable/user_guide/io.html#io"
   ]
  },
  {
   "cell_type": "markdown",
   "metadata": {},
   "source": [
    "## 4.4 Simple Functions to work with Pandas Dataframes\n",
    "\n",
    "### 4.4.1 Retrieving Index and Columns Labels"
   ]
  },
  {
   "cell_type": "code",
   "execution_count": null,
   "metadata": {},
   "outputs": [],
   "source": [
    "# Retrieving index labels\n",
    "ADP_grades.index"
   ]
  },
  {
   "cell_type": "code",
   "execution_count": null,
   "metadata": {},
   "outputs": [],
   "source": [
    "# Retrieving column labels\n",
    "ADP_grades.columns"
   ]
  },
  {
   "cell_type": "code",
   "execution_count": null,
   "metadata": {},
   "outputs": [],
   "source": [
    "# changing the index\n",
    "temp = ADP_grades.copy() # Creating a copy of the original dataframe\n",
    "temp.set_index('Name') # Why this is not a good idea?"
   ]
  },
  {
   "cell_type": "markdown",
   "metadata": {},
   "source": [
    "### 4.4.2 Retrieving some information about the dataframe\n",
    "There are many simple functions that can be called on any DataFrame to provide you with additional information or details about the object.\n",
    "\n",
    "You can use the `head(n)` and `tail(n)` functions to view the first `n` and last`n` rows of a DataFrame "
   ]
  },
  {
   "cell_type": "code",
   "execution_count": null,
   "metadata": {
    "collapsed": false,
    "jupyter": {
     "outputs_hidden": false
    }
   },
   "outputs": [],
   "source": [
    "ADP_grades.head(3)"
   ]
  },
  {
   "cell_type": "code",
   "execution_count": null,
   "metadata": {
    "collapsed": false,
    "jupyter": {
     "outputs_hidden": false
    }
   },
   "outputs": [],
   "source": [
    "ADP_grades.tail(2)"
   ]
  },
  {
   "cell_type": "markdown",
   "metadata": {},
   "source": [
    "The `info()` function can tell you about the structure of the DataFrame, including the number of rows and columns, as well as the type of each column"
   ]
  },
  {
   "cell_type": "code",
   "execution_count": null,
   "metadata": {
    "collapsed": false,
    "jupyter": {
     "outputs_hidden": false
    }
   },
   "outputs": [],
   "source": [
    "ADP_grades.info()"
   ]
  },
  {
   "cell_type": "markdown",
   "metadata": {},
   "source": [
    "\n",
    "The `describe()` function provides descriptive statistics of a numeric columns in a dataFrame. See below, non-numeric columns are skipped."
   ]
  },
  {
   "cell_type": "code",
   "execution_count": null,
   "metadata": {
    "collapsed": false,
    "jupyter": {
     "outputs_hidden": false
    }
   },
   "outputs": [],
   "source": [
    "ADP_grades.describe()"
   ]
  },
  {
   "cell_type": "markdown",
   "metadata": {},
   "source": [
    "The output of the `describe` function is also a dataframe:"
   ]
  },
  {
   "cell_type": "code",
   "execution_count": null,
   "metadata": {},
   "outputs": [],
   "source": [
    "df = ADP_grades.describe()\n",
    "df.info()\n"
   ]
  },
  {
   "cell_type": "code",
   "execution_count": null,
   "metadata": {},
   "outputs": [],
   "source": [
    "df.index"
   ]
  },
  {
   "cell_type": "code",
   "execution_count": null,
   "metadata": {},
   "outputs": [],
   "source": [
    "df.columns"
   ]
  },
  {
   "cell_type": "markdown",
   "metadata": {},
   "source": [
    "## 4.5 Indexing data frames\n",
    "\n",
    "As with any data structure, it is important to be able to access subsets of the dataframe. Pandas has a number of methods for accessing both rows and columns in a number of ways.\n",
    "\n",
    "\n",
    "### 4.5.1 Attribute indexing\n",
    "\n",
    "First, much like python dictionaries, you can access a single, complete column from a Pandas Dataframe as an attribute. This method will return a Series object (one column from the DataFrame).\n",
    "\n",
    "This method can only work when the attribute is a valid python attribute (so data.1 would not be allowed even if there is a column named 1 in data) and when that attribute does not already exist (for example, data.min would not work even if a column in data was named min because there is already an attribute min() for any Pandas DataFrame)."
   ]
  },
  {
   "cell_type": "code",
   "execution_count": null,
   "metadata": {},
   "outputs": [],
   "source": [
    "ADP_grades"
   ]
  },
  {
   "cell_type": "code",
   "execution_count": null,
   "metadata": {},
   "outputs": [],
   "source": [
    "# Slection by Attribute\n",
    "ADP_grades.Grade"
   ]
  },
  {
   "cell_type": "markdown",
   "metadata": {},
   "source": [
    "The attribute indexing can also be used for assignment, but only if the column already exists:"
   ]
  },
  {
   "cell_type": "code",
   "execution_count": null,
   "metadata": {},
   "outputs": [],
   "source": [
    "tmp = ADP_grades.copy()\n",
    "tmp.head()"
   ]
  },
  {
   "cell_type": "code",
   "execution_count": null,
   "metadata": {},
   "outputs": [],
   "source": [
    "tmp.Marks = 42\n",
    "tmp.head()"
   ]
  },
  {
   "cell_type": "markdown",
   "metadata": {},
   "source": [
    "### Selection by isin\n",
    "\n",
    "We can also use the attribute indexing in combination with `isin` function to retrieve records with specific values:"
   ]
  },
  {
   "cell_type": "code",
   "execution_count": null,
   "metadata": {},
   "outputs": [],
   "source": [
    "# column values\n",
    "tmp = ADP_grades[ADP_grades.Gender.isin(['M'])]\n",
    "tmp"
   ]
  },
  {
   "cell_type": "code",
   "execution_count": null,
   "metadata": {},
   "outputs": [],
   "source": [
    "# row indexes\n",
    "tmp = ADP_grades[ADP_grades.index.isin([23423,57567])]\n",
    "tmp"
   ]
  },
  {
   "cell_type": "markdown",
   "metadata": {},
   "source": [
    "### 4.5.2 Numpy-style matrix indexing\n",
    "\n",
    "Much like numpy, the `[]` notation can be used for indexing columns and rows. \n",
    "\n",
    "#### Columns\n",
    "\n",
    "For columns, you can specify a single column name and the object returned will be a Series:"
   ]
  },
  {
   "cell_type": "code",
   "execution_count": null,
   "metadata": {},
   "outputs": [],
   "source": [
    "# Numpy style Selection for columns\n",
    "ADP_grades['Marks']"
   ]
  },
  {
   "cell_type": "markdown",
   "metadata": {},
   "source": [
    "Or, you can specify a list of column labels to retreive sevral columns:"
   ]
  },
  {
   "cell_type": "code",
   "execution_count": null,
   "metadata": {},
   "outputs": [],
   "source": [
    "# Numpy style Selection for columns\n",
    "ADP_grades[['Marks', 'Grade']]"
   ]
  },
  {
   "cell_type": "markdown",
   "metadata": {},
   "source": [
    "#### Rows\n",
    "\n",
    "When using the `[]` notation to index rows by their index, you cannot specify a single index (this is reserved for columns), you must specify a range (a slice):"
   ]
  },
  {
   "cell_type": "code",
   "execution_count": null,
   "metadata": {},
   "outputs": [],
   "source": [
    "# Numpy style Selection for rows\n",
    "ADP_grades[0:2]"
   ]
  },
  {
   "cell_type": "code",
   "execution_count": null,
   "metadata": {},
   "outputs": [],
   "source": [
    "ADP_grades[0::2]"
   ]
  },
  {
   "cell_type": "code",
   "execution_count": null,
   "metadata": {},
   "outputs": [],
   "source": [
    "# boolean indexing of rows also works\n",
    "ADP_grades[(ADP_grades['Gender'] == \"F\") & (ADP_grades['Marks'] > 70)]"
   ]
  },
  {
   "cell_type": "markdown",
   "metadata": {},
   "source": [
    "#### Rows and columns\n",
    "\n",
    "Unlike with numpy, you cannot specify a subset along multiple dimensions within a single set of []s:"
   ]
  },
  {
   "cell_type": "code",
   "execution_count": null,
   "metadata": {},
   "outputs": [],
   "source": [
    "# doesn't work!\n",
    "ADP_grades[:3, 'Marks']"
   ]
  },
  {
   "cell_type": "markdown",
   "metadata": {},
   "source": [
    "Instead, the two subsets must be chained together in separate []s. We will see that this is not the optimal way of doing these indexing calls, but it is _allowed_"
   ]
  },
  {
   "cell_type": "code",
   "execution_count": null,
   "metadata": {},
   "outputs": [],
   "source": [
    "# does work!\n",
    "ADP_grades[:3]['Marks']"
   ]
  },
  {
   "cell_type": "code",
   "execution_count": null,
   "metadata": {},
   "outputs": [],
   "source": [
    "# also works!\n",
    "ADP_grades['Marks'][:3]"
   ]
  },
  {
   "cell_type": "markdown",
   "metadata": {},
   "source": [
    "### 4.5.3 Selection using labels\n",
    "\n",
    "The .loc attribute can be used to index:\n",
    "- A single row with a specified index\n",
    "- Multiple rows \n",
    "- Multiple rows and columns"
   ]
  },
  {
   "cell_type": "code",
   "execution_count": null,
   "metadata": {},
   "outputs": [],
   "source": [
    "ADP_grades"
   ]
  },
  {
   "cell_type": "markdown",
   "metadata": {},
   "source": [
    "#### Indexing a single row\n",
    "\n",
    "When a single label is specified, it is assumed to be an index label (of a row)"
   ]
  },
  {
   "cell_type": "code",
   "execution_count": null,
   "metadata": {},
   "outputs": [],
   "source": [
    "# Selection by Label for rows\n",
    "ADP_grades.loc[57567]"
   ]
  },
  {
   "cell_type": "markdown",
   "metadata": {},
   "source": [
    "#### Indexing Multiple Rows\n"
   ]
  },
  {
   "cell_type": "code",
   "execution_count": null,
   "metadata": {},
   "outputs": [],
   "source": [
    "# Selection by Label for rows\n",
    "ADP_grades.loc[57567:34534]"
   ]
  },
  {
   "cell_type": "markdown",
   "metadata": {},
   "source": [
    "#### Indexing Multiple Rows and Columns\n",
    "\n",
    "Looking for a label in a column requires including the full range of rows (:) and the comma:"
   ]
  },
  {
   "cell_type": "code",
   "execution_count": null,
   "metadata": {},
   "outputs": [],
   "source": [
    "# Selection by Label for columns\n",
    "ADP_grades.loc[:,['Name', 'Grade', 'Pass']]"
   ]
  },
  {
   "cell_type": "code",
   "execution_count": null,
   "metadata": {},
   "outputs": [],
   "source": [
    "# Selection by labels  for rows and columns\n",
    "ADP_grades.loc[57567:54644,['Name', 'Grade', 'Pass']]"
   ]
  },
  {
   "cell_type": "markdown",
   "metadata": {},
   "source": [
    "#### Slice of labels"
   ]
  },
  {
   "cell_type": "code",
   "execution_count": null,
   "metadata": {},
   "outputs": [],
   "source": [
    "ADP_grades.loc[42343:57567, 'Name':'Grade']"
   ]
  },
  {
   "cell_type": "markdown",
   "metadata": {},
   "source": [
    "#### Boolean array\n",
    "\n",
    "This is slightly different than above because instaed of specifying labels a boolean value is specified for each label:"
   ]
  },
  {
   "cell_type": "code",
   "execution_count": null,
   "metadata": {},
   "outputs": [],
   "source": [
    "ADP_grades.loc[:, [True, False, False, False, True, True]]"
   ]
  },
  {
   "cell_type": "markdown",
   "metadata": {},
   "source": [
    "### 4.5.4 Selection by location"
   ]
  },
  {
   "cell_type": "markdown",
   "metadata": {},
   "source": [
    "As with the label selection, you can select via position (or location). You can think of this as the _implicit_ position location that does not change when you rename the _labels_.\n",
    "\n",
    "To index based on location, use the .iloc attribute. This can be done via:\n",
    "- a single position (e.g. 14, 2)\n",
    "- a list of positions ([1, 3, 2])\n",
    "- a slice object with integers (3:42) (Note: just like in Numpy, only lower is included, upper is excluded. This is different than loc[]!)"
   ]
  },
  {
   "cell_type": "code",
   "execution_count": null,
   "metadata": {},
   "outputs": [],
   "source": [
    "ADP_grades"
   ]
  },
  {
   "cell_type": "markdown",
   "metadata": {},
   "source": [
    "#### single position"
   ]
  },
  {
   "cell_type": "code",
   "execution_count": null,
   "metadata": {
    "tags": []
   },
   "outputs": [],
   "source": [
    "ADP_grades.iloc[3]"
   ]
  },
  {
   "cell_type": "code",
   "execution_count": null,
   "metadata": {},
   "outputs": [],
   "source": [
    "ADP_grades.iloc[3, 2]"
   ]
  },
  {
   "cell_type": "markdown",
   "metadata": {},
   "source": [
    "#### a slice of positions"
   ]
  },
  {
   "cell_type": "code",
   "execution_count": null,
   "metadata": {},
   "outputs": [],
   "source": [
    "# Selection by index for rows\n",
    "ADP_grades.iloc[3:5, 0:5]"
   ]
  },
  {
   "cell_type": "code",
   "execution_count": null,
   "metadata": {},
   "outputs": [],
   "source": [
    "# Selection by index for rows and columns\n",
    "ADP_grades.iloc[3:5, [1,3,5]]"
   ]
  },
  {
   "cell_type": "markdown",
   "metadata": {},
   "source": [
    "### 4.5.5 Selection by sample\n",
    "\n",
    "Often in data science you want to sample a random set of rows (or columns) from your data. This is easy within Pandas using the sample() attribute. By default, it assumes you are sampling without replacement from rows:"
   ]
  },
  {
   "cell_type": "code",
   "execution_count": null,
   "metadata": {},
   "outputs": [],
   "source": [
    "#Selection by sampling\n",
    "ADP_grades.sample(3)"
   ]
  },
  {
   "cell_type": "code",
   "execution_count": null,
   "metadata": {},
   "outputs": [],
   "source": [
    "# sample n = 3 random rows with replacement\n",
    "ADP_grades.sample(3, replace=True)"
   ]
  },
  {
   "cell_type": "code",
   "execution_count": null,
   "metadata": {},
   "outputs": [],
   "source": [
    "# sample 30% of all rows\n",
    "ADP_grades.sample(frac=0.30)"
   ]
  },
  {
   "cell_type": "code",
   "execution_count": null,
   "metadata": {},
   "outputs": [],
   "source": [
    "# sample 2 columns\n",
    "ADP_grades.sample(2, axis=1).head()"
   ]
  },
  {
   "cell_type": "markdown",
   "metadata": {},
   "source": [
    "# Exercises\n",
    "\n",
    "We are going to use Iris dataset for this exercise. We first need to load the iris data from the `iris.csv` file (available in Canvas)."
   ]
  },
  {
   "cell_type": "code",
   "execution_count": null,
   "metadata": {},
   "outputs": [],
   "source": [
    "# read a data file into pandas\n",
    "data = pandas.read_csv(\"iris.csv\", index_col=0)\n",
    "data"
   ]
  },
  {
   "cell_type": "markdown",
   "metadata": {},
   "source": [
    "#### Exercise 1\n",
    "\n",
    "Find the index of the maximum sepal length for an iris type in the dataset (so the index of a setosa, versicolor or virdinica plant with the maximum sepal length of their respective types).\n",
    "\n",
    "**Hint:** Have a look at Pandas documentation for `idxmax()` function."
   ]
  },
  {
   "cell_type": "code",
   "execution_count": null,
   "metadata": {},
   "outputs": [],
   "source": []
  },
  {
   "cell_type": "markdown",
   "metadata": {},
   "source": [
    "#### Exercise 2\n",
    "\n",
    "Find the most common iris type amongst irises that have a sepal width larger than or equal to the 75% percentile of the entire dataset's sepal widths.\n",
    "\n",
    "Hint: use the .describe() function - it returns a DataFrame!\n",
    "\n",
    "Hint: to get the counts of values in a column, you can use the function .value_counts()"
   ]
  },
  {
   "cell_type": "code",
   "execution_count": null,
   "metadata": {},
   "outputs": [],
   "source": []
  },
  {
   "cell_type": "markdown",
   "metadata": {},
   "source": [
    "#### Exercise 3\n",
    "\n",
    "Find the index of virginica irises whose sepal width is smaller than the minimum sepal width of setosa irises."
   ]
  },
  {
   "cell_type": "code",
   "execution_count": null,
   "metadata": {},
   "outputs": [],
   "source": []
  }
 ],
 "metadata": {
  "kernelspec": {
   "display_name": "Python 3",
   "language": "python",
   "name": "python3"
  },
  "language_info": {
   "codemirror_mode": {
    "name": "ipython",
    "version": 3
   },
   "file_extension": ".py",
   "mimetype": "text/x-python",
   "name": "python",
   "nbconvert_exporter": "python",
   "pygments_lexer": "ipython3",
   "version": "3.9.13"
  }
 },
 "nbformat": 4,
 "nbformat_minor": 4
}
