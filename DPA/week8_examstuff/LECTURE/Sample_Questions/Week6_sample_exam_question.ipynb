{
 "cells": [
  {
   "cell_type": "markdown",
   "metadata": {},
   "source": [
    "For her thesis project, Beth evaluated 5 models on 4 prediction tasks and saved the results (F1 scores that vary between 0 and 1) in four npy files named task1_results.npy through task4_results.npy. The model names go from \"A\" to \"E\" and are saved in that order within each file.\n",
    "\n",
    "- task1_results.npy\n",
    "- task2_results.npy\n",
    "- task3_results.npy\n",
    "- task4_results.npy\n",
    "\n",
    "Since she knows it is misleading for her to plot different tasks within the same figure panel, Beth decided to load the results from the saved files and visualize the results in a figure with four panels (2 rows, 2 columns), with one panel for each task. The arrangement of the four tasks in these panels should be:\n",
    "\n",
    "1   2\n",
    "\n",
    "3   4\n",
    "\n",
    "On each panel, each bar should be labeled along the x-axis with the model name (\"A\" through \"E\"). The color of each bar should be different for each model and consistent across panels.\n",
    "The x-axis should have an axis label on the figure panels for tasks 3 and 4.\n",
    "The y range should extend from 0 to 1 and the y values should be the F1 scores from the appropriate file. The y-axis should have an axis label on the figure panels for tasks 1 and 3.\n",
    "The resulting figure should be saved as a pdf file named thesis_results.pdf\n",
    "\n",
    "Write code in a Python notebook file (not a .py file) that produces a figure that matches these criteria."
   ]
  },
  {
   "cell_type": "code",
   "execution_count": null,
   "metadata": {},
   "outputs": [],
   "source": [
    "%matplotlib inline\n",
    "import numpy\n",
    "import matplotlib.pyplot as plt\n",
    "\n",
    "task_1 = numpy.load('task1_results.npy')\n",
    "task_2 = numpy.load('task2_results.npy')\n",
    "task_3 = numpy.load('task3_results.npy')\n",
    "task_4 = numpy.load('task4_results.npy')\n",
    "\n",
    "index = ['A','B','C','D','E']\n",
    "bar_width = 0.5\n",
    "\n",
    "fig, axes = plt.subplots(nrows=2, ncols=2, figsize=(6,6), sharey=True)\n",
    "\n",
    "axes[0,0].bar(index, task_1, bar_width, color='b', label='task 1')\n",
    "axes[0,1].bar(index, task_2, bar_width, color='b', label='task 2')\n",
    "axes[1,0].bar(index, task_3, bar_width, color='b', label='task 3')\n",
    "axes[1,1].bar(index, task_4, bar_width, color='b', label='task 4')\n",
    "\n",
    "axes[0,0].set_ylabel('F1')\n",
    "axes[1,0].set_ylabel('F1')\n",
    "axes[1,0].set_xlabel('Task')\n",
    "axes[1,1].set_xlabel('Task')\n",
    "\n",
    "axes[0,0].set_ylim([0,1])\n",
    "axes[0,1].set_ylim([0,1])\n",
    "axes[1,0].set_ylim([0,1])\n",
    "axes[1,1].set_ylim([0,1])\n",
    "\n",
    "plt.savefig('thesis_results.pdf')"
   ]
  }
 ],
 "metadata": {
  "language_info": {
   "name": "python"
  }
 },
 "nbformat": 4,
 "nbformat_minor": 2
}
