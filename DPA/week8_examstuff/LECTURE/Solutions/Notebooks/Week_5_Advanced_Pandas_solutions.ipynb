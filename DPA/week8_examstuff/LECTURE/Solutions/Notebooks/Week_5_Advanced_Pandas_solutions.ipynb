{
 "cells": [
  {
   "cell_type": "markdown",
   "metadata": {},
   "source": [
    "## 5. Advanced Pandas: Solutions\n"
   ]
  },
  {
   "cell_type": "markdown",
   "metadata": {},
   "source": [
    "**Exercise 5.1:** Load the preprocessed Google App Store data from a csv file called ```'googleplaystore_preprocessed.csv'```. Then:\n",
    "1) Compute the average price only for the paid apps.\n",
    "2) Compute the max Installs for apps with rating 1.0.\n",
    "3) Compute the number of apps in the Medical genre."
   ]
  },
  {
   "cell_type": "code",
   "execution_count": null,
   "metadata": {},
   "outputs": [],
   "source": [
    "import pandas as pd"
   ]
  },
  {
   "cell_type": "code",
   "execution_count": null,
   "metadata": {},
   "outputs": [],
   "source": [
    "df = pd.read_csv('googleplaystore_preprocessed.csv', index_col=0)\n",
    "df.loc[df.Type=='Paid', 'Price'].mean()"
   ]
  },
  {
   "cell_type": "code",
   "execution_count": null,
   "metadata": {},
   "outputs": [],
   "source": [
    "df.loc[df.Rating==1.0, 'Installs'].max()"
   ]
  },
  {
   "cell_type": "code",
   "execution_count": null,
   "metadata": {},
   "outputs": [],
   "source": [
    "df.loc[df.Genres=='Medical'].shape[0]"
   ]
  },
  {
   "cell_type": "markdown",
   "metadata": {},
   "source": [
    "**Exercise 5.2:** Given the following dataframe, return the mean of the values column C, grouped by the values in B."
   ]
  },
  {
   "cell_type": "code",
   "execution_count": null,
   "metadata": {},
   "outputs": [],
   "source": [
    "import numpy \n",
    "df2 = pd.DataFrame({'A' : ['foo', 'bar', 'foo', 'bar', \n",
    "                              'foo', 'bar', 'foo', 'foo'],\n",
    "                       'B' : ['one', 'one', 'two', 'three', \n",
    "                              'two', 'two', 'one', 'three'],\n",
    "                       'C' : numpy.random.randn(8),\n",
    "                       'D' : numpy.random.randn(8)})"
   ]
  },
  {
   "cell_type": "code",
   "execution_count": null,
   "metadata": {},
   "outputs": [],
   "source": [
    "df2.groupby(\"B\")[\"C\"].mean()"
   ]
  },
  {
   "cell_type": "markdown",
   "metadata": {},
   "source": [
    "**Exercise 5.3:** On the preprocessed googleplaystore dataset (`googleplaystore_preprocessed.csv`) calculate the mean of the rating per genre."
   ]
  },
  {
   "cell_type": "code",
   "execution_count": null,
   "metadata": {},
   "outputs": [],
   "source": [
    "genre_grouped = df.groupby('Genres')\n",
    "genre_grouped['Rating'].mean()"
   ]
  },
  {
   "cell_type": "markdown",
   "metadata": {},
   "source": [
    "**Exercise 5.4** When running the following code, we are only left with two rows (Alice and Bryce could be merged on both id and subject_id, and Ayan and Betty too.) Look at the documentation and figure our why that is the case. Use the pandas documentation on ```merge``` and change the parameter responsible for the type of merge. This time merge by using all the rows (keys) from the first Dataframe (df1) and retrieve from the second dataframe only those that match."
   ]
  },
  {
   "cell_type": "code",
   "execution_count": null,
   "metadata": {},
   "outputs": [],
   "source": [
    "df1 = pd.DataFrame({\n",
    "         'id':[1,2,3,4,5],\n",
    "         'Name': ['Alex', 'Amy', 'Allen', 'Alice', 'Ayan'],\n",
    "         'subject_id':['sub1','sub2','sub4','sub6','sub5']})\n",
    "\n",
    "df2 = pd.DataFrame(\n",
    "         {'id':[1,2,3,4,5],\n",
    "         'Name': ['Billy', 'Brian', 'Brock', 'Bryce', 'Betty'],\n",
    "         'subject_id':['sub2','sub4','sub3','sub6','sub5']})\n",
    "\n",
    "pd.merge(df1, df2, on=['id','subject_id'])"
   ]
  },
  {
   "cell_type": "code",
   "execution_count": null,
   "metadata": {},
   "outputs": [],
   "source": [
    "pd.merge(df1, df2, on=['id','subject_id'], how='left')"
   ]
  }
 ],
 "metadata": {
  "kernelspec": {
   "display_name": "Python 3",
   "language": "python",
   "name": "python3"
  },
  "language_info": {
   "codemirror_mode": {
    "name": "ipython",
    "version": 3
   },
   "file_extension": ".py",
   "mimetype": "text/x-python",
   "name": "python",
   "nbconvert_exporter": "python",
   "pygments_lexer": "ipython3",
   "version": "3.10.9"
  }
 },
 "nbformat": 4,
 "nbformat_minor": 2
}
