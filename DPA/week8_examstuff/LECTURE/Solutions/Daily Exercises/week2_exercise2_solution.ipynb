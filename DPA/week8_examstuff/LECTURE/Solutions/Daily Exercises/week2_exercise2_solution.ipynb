{
 "cells": [
  {
   "cell_type": "markdown",
   "metadata": {},
   "source": [
    "## Week 2: Daily Exercise 2:\n",
    "\n",
    "By default, the `reshape` function uses the 'C' order to fill in multi-dimensional arrays (see https://numpy.org/doc/stable/reference/generated/numpy.reshape.html for more information). ‘C’ means to read/write the elements using C-like index order, with the last axis index changing fastest, back to the first axis index changing slowest. To test this, use the arange function to create a one-dimensional array with values between 2 and 12 with step size 2. Then reshape it to a 2 by 3 two-dimensional array. Check the order of numbers in rows and columns.\n",
    "\n",
    "Now, write code that fills in values the other way around when reshaping, i.e. the first axis index should change fastest. Print the results and compare them with the outputs of the previous setting.\n",
    "\n",
    "### Solution"
   ]
  },
  {
   "cell_type": "code",
   "execution_count": null,
   "metadata": {},
   "outputs": [],
   "source": [
    "# standard reshape, \n",
    "\n",
    "import numpy\n",
    "\n",
    "y = numpy.arange(2, 14, 2)\n",
    "z = y.reshape((2, 3))\n",
    "\n",
    "print(y)\n",
    "print()\n",
    "print(z)"
   ]
  },
  {
   "cell_type": "code",
   "execution_count": null,
   "metadata": {},
   "outputs": [],
   "source": [
    "# the order parameter controls the order values are filled in\n",
    "# the F option indicates reshape should start across the highest dimension first\n",
    "\n",
    "y = numpy.arange(2, 14, 2)\n",
    "z = y.reshape((2, 3), order='F')\n",
    "\n",
    "print(y)\n",
    "print()\n",
    "print(z)"
   ]
  }
 ],
 "metadata": {
  "kernelspec": {
   "display_name": "Python 3",
   "language": "python",
   "name": "python3"
  },
  "language_info": {
   "codemirror_mode": {
    "name": "ipython",
    "version": 3
   },
   "file_extension": ".py",
   "mimetype": "text/x-python",
   "name": "python",
   "nbconvert_exporter": "python",
   "pygments_lexer": "ipython3",
   "version": "3.9.13"
  }
 },
 "nbformat": 4,
 "nbformat_minor": 4
}
