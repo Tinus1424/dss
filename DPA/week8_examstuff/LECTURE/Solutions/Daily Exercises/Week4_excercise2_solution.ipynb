{
 "cells": [
  {
   "cell_type": "markdown",
   "id": "9a1300c5-9cac-418b-b7de-0f230c67456d",
   "metadata": {},
   "source": [
    "## Week 4: Daily Exercise 4.2\n",
    "\n",
    "Read the excel file named `exercise4_2_data.xlsx` into a pandas dataframe. Subset the data to only keep rows whose position (index) is evenly divisible by 9. Write a file called `summary4_2.csv` that contains these resulting values.\n",
    "\n",
    "### Solution:"
   ]
  },
  {
   "cell_type": "code",
   "execution_count": null,
   "id": "82a6bfb7-3529-4198-b127-7b34d5e9d76e",
   "metadata": {},
   "outputs": [],
   "source": [
    "import pandas"
   ]
  },
  {
   "cell_type": "code",
   "execution_count": null,
   "id": "e591e865-d916-4b33-b7f1-299fc8f2ee30",
   "metadata": {},
   "outputs": [],
   "source": [
    "raw_data = pandas.read_excel('exercise4_2_data.xlsx')\n",
    "raw_data"
   ]
  },
  {
   "cell_type": "code",
   "execution_count": null,
   "id": "82b8e48b-1962-4ab5-a7e8-53a6afb4882f",
   "metadata": {},
   "outputs": [],
   "source": [
    "subset_data = raw_data.iloc[range(0,raw_data.shape[0], 9)]\n",
    "subset_data"
   ]
  },
  {
   "cell_type": "code",
   "execution_count": null,
   "id": "bc36b5b5-5175-4358-b3d2-b5d60e6a9e67",
   "metadata": {},
   "outputs": [],
   "source": [
    "subset_data.to_csv(\"summary4_2.csv\", index=False)"
   ]
  }
 ],
 "metadata": {
  "kernelspec": {
   "display_name": "Python 3",
   "language": "python",
   "name": "python3"
  },
  "language_info": {
   "codemirror_mode": {
    "name": "ipython",
    "version": 3
   },
   "file_extension": ".py",
   "mimetype": "text/x-python",
   "name": "python",
   "nbconvert_exporter": "python",
   "pygments_lexer": "ipython3",
   "version": "3.9.13"
  }
 },
 "nbformat": 4,
 "nbformat_minor": 5
}
