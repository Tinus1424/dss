{
 "cells": [
  {
   "cell_type": "markdown",
   "metadata": {},
   "source": [
    "## Week 3 Daily Exercise 4\n",
    "\n",
    "Create a 2 x 3 x 4 array of normally distributed values centered at 10 with a standard deviation of 3 called `sample`.\n",
    "\n",
    "First, compute the mean `mu` across the 0th dimension (which has a length of 2). Before you write this code, what should the shape of the array of means be? What should the values approximately be?\n",
    "\n",
    "Second, subtract `mu` from `sample` (this involves implicit broadcasting because the arrays are of different sizes). How does the resulting array relate to `sample`?\n",
    "\n",
    "Third, repeat step 1 but use the mean `mu2` across the 2nd dimension (which has a length of 4). How should shape relate to the shape of `mu`?\n",
    "\n",
    "Finally, repeat step 2 but use `mu2`. It shouldn't work as smoothly as it did with step 2. Why? Research a solution (or read the solution file, this one is tricky) to fix `mu2` to make the broadcast work correctly."
   ]
  },
  {
   "cell_type": "code",
   "execution_count": null,
   "metadata": {},
   "outputs": [],
   "source": [
    "import numpy"
   ]
  },
  {
   "cell_type": "code",
   "execution_count": null,
   "metadata": {},
   "outputs": [],
   "source": [
    "numpy.random.seed(42)"
   ]
  },
  {
   "cell_type": "code",
   "execution_count": null,
   "metadata": {},
   "outputs": [],
   "source": [
    "sample = numpy.random.normal(10, scale=3, size=(2, 3, 4))\n",
    "print(sample)"
   ]
  },
  {
   "cell_type": "markdown",
   "metadata": {},
   "source": [
    "## This works"
   ]
  },
  {
   "cell_type": "code",
   "execution_count": null,
   "metadata": {},
   "outputs": [],
   "source": [
    "mu = sample.mean(axis=0)\n",
    "print(mu)"
   ]
  },
  {
   "cell_type": "code",
   "execution_count": null,
   "metadata": {},
   "outputs": [],
   "source": [
    "centered_sample = sample - mu\n",
    "print(centered_sample)"
   ]
  },
  {
   "cell_type": "markdown",
   "metadata": {},
   "source": [
    "## This doesn't work"
   ]
  },
  {
   "cell_type": "code",
   "execution_count": null,
   "metadata": {},
   "outputs": [],
   "source": [
    "mu2 = sample.mean(axis=2)\n",
    "print(mu2)"
   ]
  },
  {
   "cell_type": "code",
   "execution_count": null,
   "metadata": {},
   "outputs": [],
   "source": [
    "centered_sample = sample - mu2"
   ]
  },
  {
   "cell_type": "markdown",
   "metadata": {},
   "source": [
    "## This is the fix\n",
    "\n",
    "Add back the missing dimension into $mu2$, with length 1, so that the broadcast works!"
   ]
  },
  {
   "cell_type": "code",
   "execution_count": null,
   "metadata": {},
   "outputs": [],
   "source": [
    "mu2 = sample.mean(axis=2)[:, :, None]\n",
    "print(mu2)\n",
    "print(mu2.shape)"
   ]
  },
  {
   "cell_type": "code",
   "execution_count": null,
   "metadata": {},
   "outputs": [],
   "source": [
    "centered_sample = sample - mu2\n",
    "print(centered_sample)"
   ]
  },
  {
   "cell_type": "markdown",
   "metadata": {},
   "source": [
    "Using reshape() would also work. It has the downside of using hard-coded numerical values, though there are ways to get around this."
   ]
  },
  {
   "cell_type": "code",
   "execution_count": null,
   "metadata": {},
   "outputs": [],
   "source": [
    "mu3 = sample.mean(axis=2).reshape((2,3,1))\n",
    "print(mu3)\n",
    "print(mu3.shape)"
   ]
  },
  {
   "cell_type": "code",
   "execution_count": null,
   "metadata": {},
   "outputs": [],
   "source": [
    "# these values should be the same as above\n",
    "centered_sample = sample - mu3\n",
    "print(centered_sample)"
   ]
  }
 ],
 "metadata": {
  "kernelspec": {
   "display_name": "Python 3",
   "language": "python",
   "name": "python3"
  },
  "language_info": {
   "codemirror_mode": {
    "name": "ipython",
    "version": 3
   },
   "file_extension": ".py",
   "mimetype": "text/x-python",
   "name": "python",
   "nbconvert_exporter": "python",
   "pygments_lexer": "ipython3",
   "version": "3.8.8"
  }
 },
 "nbformat": 4,
 "nbformat_minor": 4
}
