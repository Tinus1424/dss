{
 "cells": [
  {
   "cell_type": "markdown",
   "id": "a6e46eb8",
   "metadata": {},
   "source": [
    "## Exercise 4\n",
    "\n",
    "You are given a toy DataFrame `df` that contains various missing values (see below code). Impute the missing values but instead of taking the mean over all values, use the mean of the group it belongs to. For example, if a value is missing for `A` (name) then you want to replace it with the mean of the values of all `A`'s.\n"
   ]
  },
  {
   "cell_type": "code",
   "execution_count": null,
   "id": "3ee2a33a-1fc6-443f-8b78-6ce5f13be979",
   "metadata": {},
   "outputs": [],
   "source": [
    "import pandas as pd\n",
    "import numpy as np\n",
    "\n",
    "df = pd.DataFrame({'value': [1.3, 4.4, np.nan, np.nan, 2.1, 3.3, 1.8, 3.9, np.nan, 3.4], \n",
    "                   'name': ['A','A','A', 'B','B','B','B', 'C','C','C']})"
   ]
  },
  {
   "cell_type": "markdown",
   "id": "bd82b86c",
   "metadata": {},
   "source": [
    "### Solution"
   ]
  },
  {
   "cell_type": "code",
   "execution_count": null,
   "id": "bb768b45-7b4f-4f86-ba4a-24ba9d00bdbe",
   "metadata": {},
   "outputs": [],
   "source": [
    "# inspecting the data\n",
    "df"
   ]
  },
  {
   "cell_type": "code",
   "execution_count": null,
   "id": "9e9663e5-6357-42aa-bc96-777e3d0bb47f",
   "metadata": {},
   "outputs": [],
   "source": [
    "df[\"value\"] = df.groupby(\"name\").transform(lambda x: x.fillna(x.mean()))"
   ]
  },
  {
   "cell_type": "code",
   "execution_count": null,
   "id": "8b5f972d-f42f-4efb-9d58-aa4348feb003",
   "metadata": {},
   "outputs": [],
   "source": [
    "# checking that the NaN values are gone and replaced by the mean of the group:\n",
    "df"
   ]
  }
 ],
 "metadata": {
  "kernelspec": {
   "display_name": "Python 3",
   "language": "python",
   "name": "python3"
  },
  "language_info": {
   "codemirror_mode": {
    "name": "ipython",
    "version": 3
   },
   "file_extension": ".py",
   "mimetype": "text/x-python",
   "name": "python",
   "nbconvert_exporter": "python",
   "pygments_lexer": "ipython3",
   "version": "3.9.13"
  }
 },
 "nbformat": 4,
 "nbformat_minor": 5
}
