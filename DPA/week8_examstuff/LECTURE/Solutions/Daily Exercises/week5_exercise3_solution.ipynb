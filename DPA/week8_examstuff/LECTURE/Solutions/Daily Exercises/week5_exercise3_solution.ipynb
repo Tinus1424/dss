{
 "cells": [
  {
   "cell_type": "markdown",
   "id": "a7f9abf6",
   "metadata": {},
   "source": [
    "## Week 5: Daily Exercise 3\n",
    "\n",
    "Use the googleplaystore dataset from `googleplaystore_sample.csv` and calculate the mean of the `Rating` per `Genre`.\n",
    "\n",
    "### Solution:"
   ]
  },
  {
   "cell_type": "code",
   "execution_count": null,
   "id": "3ee2a33a-1fc6-443f-8b78-6ce5f13be979",
   "metadata": {},
   "outputs": [],
   "source": [
    "import pandas as pd"
   ]
  },
  {
   "cell_type": "code",
   "execution_count": null,
   "id": "b0100ee4-e2bf-49fc-9a9a-4b0825851e92",
   "metadata": {},
   "outputs": [],
   "source": [
    "df = pd.read_csv('googleplaystore_sample.csv')"
   ]
  },
  {
   "cell_type": "code",
   "execution_count": null,
   "id": "3ff493b6",
   "metadata": {},
   "outputs": [],
   "source": [
    "genre_grouped = df.groupby('Genres')\n",
    "genre_grouped['Rating'].mean()"
   ]
  }
 ],
 "metadata": {
  "kernelspec": {
   "display_name": "Python 3",
   "language": "python",
   "name": "python3"
  },
  "language_info": {
   "codemirror_mode": {
    "name": "ipython",
    "version": 3
   },
   "file_extension": ".py",
   "mimetype": "text/x-python",
   "name": "python",
   "nbconvert_exporter": "python",
   "pygments_lexer": "ipython3",
   "version": "3.8.8"
  }
 },
 "nbformat": 4,
 "nbformat_minor": 5
}
