{
 "cells": [
  {
   "cell_type": "markdown",
   "metadata": {},
   "source": [
    "## Week 1: Daily Exercise 3\n",
    "\n",
    "Create an array containing the numbers 1 up to and including 100 (stepsize 1). Assign the last 20 elements to a separate variable, then add 40 to each element in the new array. \n",
    "\n",
    "**Bonus:** Solve the problem two ways, one that changes the values in place, and one that does not change the original values but creates a new array."
   ]
  },
  {
   "cell_type": "markdown",
   "metadata": {},
   "source": [
    "## Solution 1: that changes the original array\n",
    "\n",
    "Here we use linear indexing to refere to the last elements in the array. The new variable will just a reference to the original, thus, chenging it results in changing original values."
   ]
  },
  {
   "cell_type": "code",
   "execution_count": null,
   "metadata": {},
   "outputs": [],
   "source": [
    "import numpy\n",
    "\n",
    "# create the initial array\n",
    "a = numpy.arange(1,101)\n",
    "\n",
    "# select the last 20 elements\n",
    "split = a[-20:]\n",
    "\n",
    "# add 40 to each element\n",
    "split += 40\n",
    "\n",
    "print(a)\n",
    "\n",
    "#the last 20 elements in the original array have also been increased by 40"
   ]
  },
  {
   "cell_type": "markdown",
   "metadata": {},
   "source": [
    "## Solution 2: that does not modify the original array\n",
    "\n",
    "Here we use array of indices to refere to the last 20 elements, thus the new array will be a new copy and changing it does not affect the original values."
   ]
  },
  {
   "cell_type": "code",
   "execution_count": null,
   "metadata": {},
   "outputs": [],
   "source": [
    "# solution that does not modify the original array\n",
    "\n",
    "# create the initial array\n",
    "a = numpy.arange(1,101)\n",
    "\n",
    "# create an index for the final values\n",
    "i = numpy.arange(-20,0,1)\n",
    "split = a[i]\n",
    "split += 40\n",
    "print(a)"
   ]
  }
 ],
 "metadata": {
  "kernelspec": {
   "display_name": "Python 3",
   "language": "python",
   "name": "python3"
  },
  "language_info": {
   "codemirror_mode": {
    "name": "ipython",
    "version": 3
   },
   "file_extension": ".py",
   "mimetype": "text/x-python",
   "name": "python",
   "nbconvert_exporter": "python",
   "pygments_lexer": "ipython3",
   "version": "3.9.13"
  }
 },
 "nbformat": 4,
 "nbformat_minor": 2
}
