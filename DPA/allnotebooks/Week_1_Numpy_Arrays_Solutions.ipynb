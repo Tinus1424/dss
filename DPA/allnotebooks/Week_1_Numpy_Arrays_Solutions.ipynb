{
 "cells": [
  {
   "cell_type": "code",
   "execution_count": null,
   "metadata": {},
   "outputs": [],
   "source": [
    "import numpy"
   ]
  },
  {
   "cell_type": "markdown",
   "metadata": {},
   "source": [
    "## Exercise 1.1\n",
    "\n",
    "Create an array of length 15 with equally spaced values from 13 to 99. Confirm that the number of elements is correct."
   ]
  },
  {
   "cell_type": "code",
   "execution_count": null,
   "metadata": {},
   "outputs": [],
   "source": [
    "a = numpy.linspace(13, 99, 15)\n",
    "print(a.size)"
   ]
  },
  {
   "cell_type": "markdown",
   "metadata": {},
   "source": [
    "## Exercise 1.2\n",
    "\n",
    "Create an array that ranges from 0 to 1 in steps of 0.015."
   ]
  },
  {
   "cell_type": "code",
   "execution_count": null,
   "metadata": {},
   "outputs": [],
   "source": [
    "b = numpy.arange(0, 1, 0.015)\n",
    "print(b[0], b[1], b[2])\n",
    "print(b.size, 1 / 0.015)"
   ]
  },
  {
   "cell_type": "markdown",
   "metadata": {},
   "source": [
    "## Exercise 1.3\n",
    "\n",
    "Create an array of length 10,000,000 with random values between 0 and 100. Confirm that the number of elements is correct."
   ]
  },
  {
   "cell_type": "code",
   "execution_count": null,
   "metadata": {},
   "outputs": [],
   "source": [
    "c = numpy.random.uniform(0, 100, 10000000)\n",
    "print(c.size)"
   ]
  },
  {
   "cell_type": "markdown",
   "metadata": {},
   "source": [
    "## Exercise 1.4\n",
    "\n",
    "Create an array of length 5 containing random values between 1 and 10. Determine the type of the array. Convert the array to type `<U8`, which is a string that uses 8 bytes, and then convert it back to an array of float values. Describe what happens to the values."
   ]
  },
  {
   "cell_type": "code",
   "execution_count": null,
   "metadata": {},
   "outputs": [],
   "source": [
    "a = numpy.random.uniform(1, 10, 5)\n",
    "print(a)\n",
    "print(a.dtype)\n",
    "print()\n",
    "\n",
    "b = a.astype('<U8')\n",
    "print(b)\n",
    "print(b.dtype)\n",
    "print()\n",
    "\n",
    "c = b.astype('float')\n",
    "print(c)\n",
    "print(c.dtype)\n",
    "print()"
   ]
  },
  {
   "cell_type": "markdown",
   "metadata": {},
   "source": [
    "## Exercise 1.5\n",
    "\n",
    "Create an array of length 5 containing random values between 1 and 10. Convert the resulting array into an array of integers. Then convert it back to float values. Describe what happens to the values."
   ]
  },
  {
   "cell_type": "code",
   "execution_count": null,
   "metadata": {},
   "outputs": [],
   "source": [
    "a = numpy.random.uniform(1, 10, 5)\n",
    "print(a)\n",
    "print(a.dtype)\n",
    "print()\n",
    "\n",
    "b = a.astype('int')\n",
    "print(b)\n",
    "print(b.dtype)\n",
    "print()\n",
    "\n",
    "c = b.astype('float')\n",
    "print(c)\n",
    "print(c.dtype)"
   ]
  },
  {
   "cell_type": "markdown",
   "metadata": {},
   "source": [
    "## Exercise 1.6\n",
    "\n",
    "Build an array of 100 random values between 0 and 1. On three separate lines print A) the first 4 elements, B) the last 3 elements, C) the 37th to 42nd elements."
   ]
  },
  {
   "cell_type": "code",
   "execution_count": null,
   "metadata": {},
   "outputs": [],
   "source": [
    "a = numpy.random.uniform(0, 1, 100)\n",
    "\n",
    "print(a[:4])\n",
    "print(a[-3:])\n",
    "print(a[36:42])"
   ]
  },
  {
   "cell_type": "markdown",
   "metadata": {},
   "source": [
    "## Exercise 1.7\n",
    "\n",
    "Build an array of 10,000,000 random values between 0 and 1. Print the minimum value of the array as well as the five values that occur before the minimum."
   ]
  },
  {
   "cell_type": "code",
   "execution_count": null,
   "metadata": {},
   "outputs": [],
   "source": [
    "a = numpy.random.uniform(0, 1, 10000000)\n",
    "print(a.size)"
   ]
  },
  {
   "cell_type": "code",
   "execution_count": null,
   "metadata": {},
   "outputs": [],
   "source": [
    "min_index = numpy.argmin(a)\n",
    "\n",
    "print(a[min_index])\n",
    "print(a[min_index-5:min_index])"
   ]
  },
  {
   "cell_type": "markdown",
   "metadata": {},
   "source": [
    "## Exercise 1.8\n",
    "\n",
    "Draw 1,000,000 samples from a normal distribution with a mean of 1 and a standard deviation of 0.5. Compute the proportion of samples that are below 0.\n"
   ]
  },
  {
   "cell_type": "code",
   "execution_count": null,
   "metadata": {},
   "outputs": [],
   "source": [
    "a = numpy.random.normal(1, 0.5, 1000000)\n",
    "b = a[a < 0]\n",
    "\n",
    "print( a.size, b.size )\n",
    "print( b.size / a.size )"
   ]
  },
  {
   "cell_type": "markdown",
   "metadata": {},
   "source": [
    "## Exercise 1.9\n",
    "\n",
    "Build an array with 10,000 random values between 0 and 1. Determine the value of the entry that is the largest value of all entries whose index is divisable by 5.\n"
   ]
  },
  {
   "cell_type": "code",
   "execution_count": null,
   "metadata": {},
   "outputs": [],
   "source": [
    "a = numpy.random.uniform(0, 1, 10000)\n",
    "\n",
    "b = numpy.arange(0, 10000, 5)\n",
    "\n",
    "c = a[b]\n",
    "\n",
    "print( c[numpy.argmax(c)])"
   ]
  }
 ],
 "metadata": {
  "kernelspec": {
   "display_name": "Python 3 (ipykernel)",
   "language": "python",
   "name": "python3"
  },
  "language_info": {
   "codemirror_mode": {
    "name": "ipython",
    "version": 3
   },
   "file_extension": ".py",
   "mimetype": "text/x-python",
   "name": "python",
   "nbconvert_exporter": "python",
   "pygments_lexer": "ipython3",
   "version": "3.9.13"
  },
  "vscode": {
   "interpreter": {
    "hash": "aee8b7b246df8f9039afb4144a1f6fd8d2ca17a180786b69acc140d282b71a49"
   }
  }
 },
 "nbformat": 4,
 "nbformat_minor": 4
}
