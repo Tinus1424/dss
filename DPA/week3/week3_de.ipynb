{
 "cells": [
  {
   "cell_type": "markdown",
   "metadata": {},
   "source": [
    "# Week 3\n",
    "## Daily Exercise 1\n",
    "Write a function propPositiveSine that takes in a one-dimensional numpy array x as input. The function should return the proportion of values in the input x where sin(x) is greater than 0. For fun, check and see if your function also works for multi-dimensional arrays (the most straightforward solution should work for an array of any size!)."
   ]
  },
  {
   "cell_type": "code",
   "execution_count": 18,
   "metadata": {},
   "outputs": [],
   "source": [
    "import numpy\n",
    "\n",
    "def propPositiveSine(x):\n",
    "    a = numpy.sin(x) > 0\n",
    "    return numpy.average(a)"
   ]
  },
  {
   "cell_type": "markdown",
   "metadata": {},
   "source": [
    "### Tests"
   ]
  },
  {
   "cell_type": "code",
   "execution_count": 19,
   "metadata": {},
   "outputs": [
    {
     "name": "stdout",
     "output_type": "stream",
     "text": [
      "0.45\n"
     ]
    }
   ],
   "source": [
    "one_dim_random = numpy.random.random(20) * 100\n",
    "print(propPositiveSine(one_dim_random))"
   ]
  },
  {
   "cell_type": "code",
   "execution_count": 20,
   "metadata": {},
   "outputs": [
    {
     "name": "stdout",
     "output_type": "stream",
     "text": [
      "0.507125\n"
     ]
    }
   ],
   "source": [
    "three_dim_random = numpy.random.random((20, 20, 20)) * 100\n",
    "print(propPositiveSine(three_dim_random))"
   ]
  },
  {
   "cell_type": "markdown",
   "metadata": {},
   "source": [
    "## Daily Exercise 2\n",
    "Write a function summaryStatistic that takes as input three one-dimensional numpy arrays of equal length composed of float value, a, b, and c.\n",
    "\n",
    "This function should compute the following summary statistic: https://tilburguniversity.instructure.com/courses/13953/assignments/121468?module_item_id=683145"
   ]
  },
  {
   "cell_type": "code",
   "execution_count": 23,
   "metadata": {},
   "outputs": [],
   "source": [
    "def summaryStatistic(a, b, c):\n",
    "    aMean = numpy.mean(a)\n",
    "    bMedian = numpy.median(b)\n",
    "    cMean = numpy.mean(c)\n",
    "    numerator = numpy.sum(pow(a - aMean))"
   ]
  }
 ],
 "metadata": {
  "kernelspec": {
   "display_name": "base",
   "language": "python",
   "name": "python3"
  },
  "language_info": {
   "codemirror_mode": {
    "name": "ipython",
    "version": 3
   },
   "file_extension": ".py",
   "mimetype": "text/x-python",
   "name": "python",
   "nbconvert_exporter": "python",
   "pygments_lexer": "ipython3",
   "version": "3.11.5"
  }
 },
 "nbformat": 4,
 "nbformat_minor": 2
}
