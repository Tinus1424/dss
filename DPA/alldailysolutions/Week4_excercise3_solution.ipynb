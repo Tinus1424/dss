{
 "cells": [
  {
   "cell_type": "markdown",
   "id": "4ec17be7-685d-487e-b1c3-c5312fe28006",
   "metadata": {},
   "source": [
    "## Week 4: Daily Exercise 4.3\n",
    "\n",
    "Read the json file named `exercise4_3_data.json` into a Pandas dataframe. Change the row labels to be the column `true_row_names` (this should remove this column from the dataframe). Reorder the columns to be in decreasing order (from column_5 to column_1). Write the results to an excel file named `reordered4_3.xlsx`.\n",
    "\n",
    "### Solution:"
   ]
  },
  {
   "cell_type": "code",
   "execution_count": null,
   "id": "82a6bfb7-3529-4198-b127-7b34d5e9d76e",
   "metadata": {},
   "outputs": [],
   "source": [
    "import pandas"
   ]
  },
  {
   "cell_type": "code",
   "execution_count": null,
   "id": "315a04da-6500-4799-b614-a8d9cfe882e2",
   "metadata": {},
   "outputs": [],
   "source": [
    "data = pandas.read_json(\"exercise4_3_data.json\")"
   ]
  },
  {
   "cell_type": "code",
   "execution_count": null,
   "id": "922c8690-c7d1-41f0-b88e-4d5b9622855e",
   "metadata": {},
   "outputs": [],
   "source": [
    "data_2 = data.set_index('true_row_names')\n",
    "data_2.head()"
   ]
  },
  {
   "cell_type": "code",
   "execution_count": null,
   "id": "0410c659-5691-4755-8b88-c22c9ec967b9",
   "metadata": {},
   "outputs": [],
   "source": [
    "data_3 = data_2[['column_5', 'column_4', 'column_3', 'column_2', 'column_1']]\n",
    "data_3.head()"
   ]
  },
  {
   "cell_type": "code",
   "execution_count": null,
   "id": "9ff40609-cbde-4ea5-ba46-dc302352099c",
   "metadata": {},
   "outputs": [],
   "source": [
    "data_3.to_excel('reordered4_3.xlsx')"
   ]
  }
 ],
 "metadata": {
  "kernelspec": {
   "display_name": "Python 3",
   "language": "python",
   "name": "python3"
  },
  "language_info": {
   "codemirror_mode": {
    "name": "ipython",
    "version": 3
   },
   "file_extension": ".py",
   "mimetype": "text/x-python",
   "name": "python",
   "nbconvert_exporter": "python",
   "pygments_lexer": "ipython3",
   "version": "3.9.13"
  }
 },
 "nbformat": 4,
 "nbformat_minor": 5
}
