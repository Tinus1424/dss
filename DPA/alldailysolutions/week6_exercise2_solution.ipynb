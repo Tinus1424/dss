{
 "cells": [
  {
   "cell_type": "markdown",
   "metadata": {},
   "source": [
    "## Week 6: Daily Exercise 2\n",
    "\n",
    "For this exercise we will be working again with the Iris dataset.\n",
    "\n",
    "- First, load the dataset from `iris.csv` file and convert it to a numpy array (you may leave out the fifth column) and make sure it is in `float64` datatype. \n",
    "- Now, From the 4 subplots you created in Exercise 1, choose the one that shows the highest correlation between the two measurements you plotted against each other. Recreate that scatterplot here, but add a linear regression line (check Numpy documentation for `numpy.polyfit`), x- and y-labels, and a title.\n",
    "- From the 4 subplots you created in Exercise 1, choose the one that most clearly shows two (or more) separate groups. Recreate that scatterplot here, but make sure each iris species is represented by a different color and shape in the scatterplot. One way this can be done is by subsetting the iris dataset (tip: the top 50 rows of the dataset are iris setosa, the middle 50 iris versicolor, and the bottom 50 iris virginica). Add a title, x- and y-labels, and a legend to your plot."
   ]
  },
  {
   "cell_type": "code",
   "execution_count": null,
   "metadata": {},
   "outputs": [],
   "source": [
    "%matplotlib inline\n",
    "\n",
    "import numpy\n",
    "import pandas\n",
    "import matplotlib.pyplot as plt"
   ]
  },
  {
   "cell_type": "code",
   "execution_count": null,
   "metadata": {},
   "outputs": [],
   "source": [
    "# Loading and preparing the dataset\n",
    "iris = pandas.read_csv(\"iris.csv\", index_col=0).to_numpy()\n",
    "iris = iris[:, :-1] #remove the fifth column\n",
    "iris = numpy.float64(iris)\n",
    "\n",
    "#saving each column under a variable name for clarity in future code\n",
    "sep_len = iris[:,0]\n",
    "sep_wid = iris[:,1]\n",
    "pet_len = iris[:,2]\n",
    "pet_wid = iris[:,3]"
   ]
  },
  {
   "cell_type": "code",
   "execution_count": null,
   "metadata": {},
   "outputs": [],
   "source": [
    "#example solution\n",
    "#I plotted petal length against petal width, but other combinations are possible\n",
    "m, b = numpy.polyfit(pet_len, pet_wid, 1)\n",
    "\n",
    "plt.figure(1)\n",
    "plt.plot(pet_len, pet_wid, 'b.')\n",
    "plt.plot(pet_len, m * pet_len + b, 'r-')\n",
    "\n",
    "plt.xlabel(\"petal length (cm)\")\n",
    "plt.ylabel(\"petal width (cm)\")\n",
    "plt.title(\"Correlation of petal length and width of irises\", fontsize = 14)"
   ]
  },
  {
   "cell_type": "code",
   "execution_count": null,
   "metadata": {},
   "outputs": [],
   "source": [
    "#subsetting the dataset\n",
    "seto = iris[:50, :]\n",
    "vers = iris[50:100, :]\n",
    "virg = iris[100:, :]\n",
    "\n",
    "#for future code clarity:\n",
    "sep_len_set = seto[:, 0]\n",
    "sep_wid_set = seto[:, 1]\n",
    "pet_len_set = seto[:, 2]\n",
    "pet_wid_set = seto[:, 3]\n",
    "sep_len_ver = vers[:, 0]\n",
    "sep_wid_ver = vers[:, 1]\n",
    "pet_len_ver = vers[:, 2]\n",
    "pet_wid_ver = vers[:, 3]\n",
    "sep_len_vir = virg[:, 0]\n",
    "sep_wid_vir = virg[:, 1]\n",
    "pet_len_vir = virg[:, 2]\n",
    "pet_wid_vir = virg[:, 3]\n",
    "\n",
    "# this could be skipped without making additional copies of the data if you prefer. It is done here for readability."
   ]
  },
  {
   "cell_type": "code",
   "execution_count": null,
   "metadata": {},
   "outputs": [],
   "source": [
    "#example solution\n",
    "#I plotted petal width against sepal width here, but there are other possibilities\n",
    "\n",
    "plt.figure(1)\n",
    "#plot data seperately for each iris type, so we can change the color and shape each time\n",
    "plt.plot(pet_wid_set, sep_wid_set, \"co\", label = \"iris setosa\")\n",
    "\n",
    "plt.plot(pet_wid_ver, sep_wid_ver, \"y^\", label = \"iris versicolor\")\n",
    "\n",
    "plt.plot(pet_wid_vir, sep_wid_vir, \"m+\", label = \"iris virginica\")\n",
    "\n",
    "plt.legend()\n",
    "plt.xlabel(\"petal width (cm)\")\n",
    "plt.ylabel(\"sepal width (cm)\")\n",
    "plt.title(\"Classifying different iris species based on petal and sepal width\", fontsize = 13)"
   ]
  }
 ],
 "metadata": {
  "kernelspec": {
   "display_name": "Python 3",
   "language": "python",
   "name": "python3"
  },
  "language_info": {
   "codemirror_mode": {
    "name": "ipython",
    "version": 3
   },
   "file_extension": ".py",
   "mimetype": "text/x-python",
   "name": "python",
   "nbconvert_exporter": "python",
   "pygments_lexer": "ipython3",
   "version": "3.9.13"
  }
 },
 "nbformat": 4,
 "nbformat_minor": 2
}
