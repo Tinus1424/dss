{
 "cells": [
  {
   "cell_type": "markdown",
   "metadata": {},
   "source": [
    "## Week 3 Daily Exercise 7\n",
    "\n",
    "Create a function that takes as an input matrix $A$ (a two-dimensional numpy array) of any shape, and returns the dot product of $A$ and its transpose as output.\n",
    "\n",
    "Is there a possible shape that the input could take that would make a dot product with its transposition impossible?\n",
    "\n",
    "**Bonus:** modify your solution so that a second input argument indicates the order of the dot product.\n",
    "\n",
    "### Solution:"
   ]
  },
  {
   "cell_type": "code",
   "execution_count": null,
   "metadata": {},
   "outputs": [],
   "source": [
    "import numpy"
   ]
  },
  {
   "cell_type": "code",
   "execution_count": null,
   "metadata": {},
   "outputs": [],
   "source": [
    "def a_dot_a_transpose(A, reverse = False):\n",
    "    '''Calculates the dot product of matrix A and its transpose:\n",
    "      reverse: False calculates dot product a.a^T, True calculates reversed dot product a^T.a'''\n",
    "    if reverse:\n",
    "        return A.T.dot(A)\n",
    "    return A.dot(A.T)"
   ]
  },
  {
   "cell_type": "markdown",
   "metadata": {},
   "source": [
    "## Testing below:"
   ]
  },
  {
   "cell_type": "code",
   "execution_count": null,
   "metadata": {},
   "outputs": [],
   "source": [
    "test = numpy.random.randint(1,10,(3,5))"
   ]
  },
  {
   "cell_type": "code",
   "execution_count": null,
   "metadata": {},
   "outputs": [],
   "source": [
    "print(a_dot_a_transpose(test, reverse = True))"
   ]
  },
  {
   "cell_type": "code",
   "execution_count": null,
   "metadata": {},
   "outputs": [],
   "source": [
    "print(a_dot_a_transpose(test, reverse = False))"
   ]
  }
 ],
 "metadata": {
  "kernelspec": {
   "display_name": "Python 3",
   "language": "python",
   "name": "python3"
  },
  "language_info": {
   "codemirror_mode": {
    "name": "ipython",
    "version": 3
   },
   "file_extension": ".py",
   "mimetype": "text/x-python",
   "name": "python",
   "nbconvert_exporter": "python",
   "pygments_lexer": "ipython3",
   "version": "3.8.8"
  }
 },
 "nbformat": 4,
 "nbformat_minor": 4
}
