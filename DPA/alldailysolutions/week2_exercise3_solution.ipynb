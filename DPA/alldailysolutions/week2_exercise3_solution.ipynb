{
 "cells": [
  {
   "cell_type": "markdown",
   "metadata": {},
   "source": [
    "## Week 2: Daily Exercise 3\n",
    "\n",
    "Create two 4x4, 2-dimensional arrays: one containing only zeros, the other containing only ones.\n",
    "\n",
    "Stack them using a vertical stack, then reshape the stacked array into a 3-dimensional array. Now, use array indexing to retrieve only ones from the stacked array.\n",
    "\n",
    "Now reshape the stacked array into a 3-dimensional array in such a way that the first (the left most) dimension consists of only ones or zeros, but not both. Again, use array indexing to retrieve only ones from the reshaped 3D array.\n",
    "\n",
    "### Solution:"
   ]
  },
  {
   "cell_type": "code",
   "execution_count": null,
   "metadata": {},
   "outputs": [],
   "source": [
    "import numpy\n",
    "\n",
    "# Create the two arrays\n",
    "z = numpy.zeros((4,4))\n",
    "o = numpy.ones((4,4))"
   ]
  },
  {
   "cell_type": "code",
   "execution_count": null,
   "metadata": {},
   "outputs": [],
   "source": [
    "# vertical stack\n",
    "zov = numpy.vstack([z,o])\n",
    "print(zov)"
   ]
  },
  {
   "cell_type": "code",
   "execution_count": null,
   "metadata": {},
   "outputs": [],
   "source": [
    "# Retrieving ones\n",
    "print(zov[4:,:])"
   ]
  },
  {
   "cell_type": "code",
   "execution_count": null,
   "metadata": {},
   "outputs": [],
   "source": [
    "# reshaping\n",
    "rzov = numpy.reshape(zov, [2,4,4])\n",
    "print(rzov)"
   ]
  },
  {
   "cell_type": "code",
   "execution_count": null,
   "metadata": {},
   "outputs": [],
   "source": [
    "# Retrieving ones\n",
    "print(rzov[1,:,:])"
   ]
  }
 ],
 "metadata": {
  "kernelspec": {
   "display_name": "Python 3",
   "language": "python",
   "name": "python3"
  },
  "language_info": {
   "codemirror_mode": {
    "name": "ipython",
    "version": 3
   },
   "file_extension": ".py",
   "mimetype": "text/x-python",
   "name": "python",
   "nbconvert_exporter": "python",
   "pygments_lexer": "ipython3",
   "version": "3.9.13"
  }
 },
 "nbformat": 4,
 "nbformat_minor": 4
}
