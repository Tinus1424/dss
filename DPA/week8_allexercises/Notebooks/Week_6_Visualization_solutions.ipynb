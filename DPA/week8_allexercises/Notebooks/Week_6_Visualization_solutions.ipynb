{
 "cells": [
  {
   "cell_type": "markdown",
   "metadata": {},
   "source": [
    "# 6. Data Visualization using Matplotlib\n",
    "\n",
    "**Exercise 6.1:** We are going to use the preprocessed Google Play Store dataset in this exercise. \n",
    "1) Create a figure with two subplots and set the figure size to `[10,4]`. \n",
    "2) Use `groupby` and `sort_values` functions to compute the average price of apps per genre and sort them. \n",
    "3) In the left subplot, use a bar plot to compare the average price of apps in top 10 most expensive genres. Set the title of the subplot to `Expensive Apps`, and the label of y-axis to `Average Price`. Set the color of bars to red.\n",
    "4) In the left subplot, do the same for the 10 least expensive genres. Set the title of the subplot to `Cheap Apps`, and the label of y-axis to `Average Price`. Set the color of bars to green."
   ]
  },
  {
   "cell_type": "code",
   "execution_count": null,
   "metadata": {},
   "outputs": [],
   "source": [
    "%matplotlib inline \n",
    "import numpy\n",
    "import pandas\n",
    "import matplotlib.pyplot as plt\n",
    "\n",
    "df = pandas.read_csv('googleplaystore_preprocessed.csv', index_col=0)\n",
    "\n",
    "grouped_stats = df[df['Type']=='Paid'].groupby(['Genres']).describe()\n",
    "expensive_apps = grouped_stats['Price'].sort_values(by='mean', ascending=False).iloc[0:10,:]\n",
    "cheap_apps = grouped_stats['Price'].sort_values(by='mean', ascending=False).iloc[-10:,:]\n",
    "\n",
    "fig, ax = plt.subplots(1,2, figsize=[10,4])\n",
    "expensive_apps['mean'].plot.bar(ax=ax[0], color='r')\n",
    "ax[0].set_title('Expensive Apps')\n",
    "ax[0].set_ylabel('Average Price')\n",
    "\n",
    "cheap_apps['mean'].plot.bar(ax=ax[1], color='g')\n",
    "ax[1].set_title('Cheap Apps')\n",
    "ax[1].set_ylabel('Average Price')"
   ]
  }
 ],
 "metadata": {
  "kernelspec": {
   "display_name": "Python 3",
   "language": "python",
   "name": "python3"
  },
  "language_info": {
   "codemirror_mode": {
    "name": "ipython",
    "version": 3
   },
   "file_extension": ".py",
   "mimetype": "text/x-python",
   "name": "python",
   "nbconvert_exporter": "python",
   "pygments_lexer": "ipython3",
   "version": "3.9.13"
  }
 },
 "nbformat": 4,
 "nbformat_minor": 2
}
