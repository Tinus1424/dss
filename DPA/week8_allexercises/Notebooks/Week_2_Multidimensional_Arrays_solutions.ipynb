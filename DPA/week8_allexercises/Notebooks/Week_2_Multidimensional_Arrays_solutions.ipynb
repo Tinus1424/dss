{
 "cells": [
  {
   "cell_type": "code",
   "execution_count": 2,
   "metadata": {
    "tags": []
   },
   "outputs": [],
   "source": [
    "import numpy"
   ]
  },
  {
   "cell_type": "code",
   "execution_count": 3,
   "metadata": {},
   "outputs": [],
   "source": [
    "numpy.random.seed(42)"
   ]
  },
  {
   "cell_type": "markdown",
   "metadata": {},
   "source": [
    "## Exercise 2.1\n",
    "\n",
    "First, create a 2x3x2 three-dimensional array (you decide which values to include). Then, create 2x2x3 three-dimensional array. Verify the arrays have the same number of dimensions and elements but different shapes."
   ]
  },
  {
   "cell_type": "code",
   "execution_count": null,
   "metadata": {
    "collapsed": false,
    "jupyter": {
     "outputs_hidden": false
    }
   },
   "outputs": [],
   "source": [
    "a = numpy.array([[[1,2], [3,4], [5,6]], [[7,8], [9, 10], [11,12]]])\n",
    "print(a.ndim, a.size, a.shape)"
   ]
  },
  {
   "cell_type": "code",
   "execution_count": null,
   "metadata": {
    "collapsed": false,
    "jupyter": {
     "outputs_hidden": false
    }
   },
   "outputs": [],
   "source": [
    "a = numpy.array([[[1,2, 3], [4,5,6]], [[7,8,9],[10, 11,12]]])\n",
    "print(a.shape)"
   ]
  },
  {
   "cell_type": "markdown",
   "metadata": {},
   "source": [
    "## Exercise 2.2\n",
    "\n",
    "Part 1: Generate a one dimensional array. Save to disk as a text file, and as a npy file. Create a new array that is based on reading the array back from the text file, and a new array that is based on the npy file. Is the information preserved in both formats?\n",
    "\n",
    "Part 2: Repeat part 1 with a two-dimensional array and then a three-dimensional array. What works and what does not?"
   ]
  },
  {
   "cell_type": "code",
   "execution_count": null,
   "metadata": {
    "collapsed": false,
    "jupyter": {
     "outputs_hidden": false
    }
   },
   "outputs": [],
   "source": [
    "a = numpy.random.random(25)\n",
    "numpy.savetxt(\"tmp.txt\", a)\n",
    "numpy.save(\"tmp.npy\", a)\n",
    "b = numpy.loadtxt(\"tmp.txt\")\n",
    "c = numpy.load(\"tmp.npy\")\n",
    "print(a.shape )\n",
    "print(b.shape)\n",
    "print(c.shape)"
   ]
  },
  {
   "cell_type": "code",
   "execution_count": null,
   "metadata": {
    "collapsed": false,
    "jupyter": {
     "outputs_hidden": false
    }
   },
   "outputs": [],
   "source": [
    "a = numpy.random.random((5,5))\n",
    "numpy.savetxt(\"tmp.txt\", a)\n",
    "numpy.save(\"tmp.npy\", a)\n",
    "b = numpy.loadtxt(\"tmp.txt\")\n",
    "c = numpy.load(\"tmp.npy\")\n",
    "print(a.shape )\n",
    "print(b.shape)\n",
    "print(c.shape)"
   ]
  },
  {
   "cell_type": "code",
   "execution_count": null,
   "metadata": {
    "collapsed": false,
    "jupyter": {
     "outputs_hidden": false
    }
   },
   "outputs": [],
   "source": [
    "a = numpy.random.random((5,5,5))\n",
    "#numpy.savetxt(\"tmp.txt\", a)\n",
    "numpy.save(\"tmp.npy\", a)\n",
    "#b = numpy.loadtxt(\"tmp.txt\")\n",
    "c = numpy.load(\"tmp.npy\")\n",
    "print(a.shape )\n",
    "#print(b.shape)\n",
    "print(c.shape)"
   ]
  },
  {
   "cell_type": "markdown",
   "metadata": {},
   "source": [
    "## Exercise 2.3\n",
    "\n",
    "First, create a 2x3x2 three-dimensional array containing random values from a normal distribution. Then, reshape that array into a 2x2x3 three-dimensional array. Verify the shape has changed."
   ]
  },
  {
   "cell_type": "code",
   "execution_count": 4,
   "metadata": {
    "collapsed": false,
    "jupyter": {
     "outputs_hidden": false
    }
   },
   "outputs": [
    {
     "name": "stdout",
     "output_type": "stream",
     "text": [
      "(2, 3, 2)\n"
     ]
    }
   ],
   "source": [
    "# creating the initial array with random values\n",
    "a = numpy.random.normal(0, 1, [2,3,2])\n",
    "print(a.shape)"
   ]
  },
  {
   "cell_type": "code",
   "execution_count": 5,
   "metadata": {
    "collapsed": false,
    "jupyter": {
     "outputs_hidden": false
    }
   },
   "outputs": [
    {
     "name": "stdout",
     "output_type": "stream",
     "text": [
      "(2, 2, 3)\n"
     ]
    }
   ],
   "source": [
    "# reshaping the array into the new shape\n",
    "a = a.reshape([2,2,3])\n",
    "print(a.shape)"
   ]
  },
  {
   "cell_type": "markdown",
   "metadata": {},
   "source": [
    "## Exercise 2.4\n",
    "\n",
    "Generate a $5\\times 5 \\times 5$ 3D array of random numbers between -10.0 and 10.0. Reshape it to a $5 \\times 25$ matrix. Extract the last 10 elements of the first two rows of this matrix.\n"
   ]
  },
  {
   "cell_type": "code",
   "execution_count": null,
   "metadata": {
    "collapsed": false,
    "jupyter": {
     "outputs_hidden": false
    }
   },
   "outputs": [],
   "source": [
    "a = numpy.random.uniform(-10, 10, (5,5,5))\n",
    "print(a.shape)\n",
    "\n",
    "b = a.reshape((5, 25))\n",
    "print(b.shape)\n",
    "\n",
    "print(b[:2, -10:])"
   ]
  }
 ],
 "metadata": {
  "kernelspec": {
   "display_name": "Python 3",
   "language": "python",
   "name": "python3"
  },
  "language_info": {
   "codemirror_mode": {
    "name": "ipython",
    "version": 3
   },
   "file_extension": ".py",
   "mimetype": "text/x-python",
   "name": "python",
   "nbconvert_exporter": "python",
   "pygments_lexer": "ipython3",
   "version": "3.12.1"
  }
 },
 "nbformat": 4,
 "nbformat_minor": 4
}
