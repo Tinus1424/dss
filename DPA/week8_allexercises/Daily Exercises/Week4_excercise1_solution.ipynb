{
 "cells": [
  {
   "cell_type": "markdown",
   "id": "2f839d6c-f670-482c-9e24-1397b3703d12",
   "metadata": {},
   "source": [
    "## Daily Exercise 4.1\n",
    "\n",
    "Build a Pandas DataFrame by specifying a python dictionary containing three columns with at least 5 elements. One column should be strings, and two columns should be numerical.\n",
    "\n",
    "### Solution"
   ]
  },
  {
   "cell_type": "code",
   "execution_count": null,
   "id": "82a6bfb7-3529-4198-b127-7b34d5e9d76e",
   "metadata": {},
   "outputs": [],
   "source": [
    "import numpy\n",
    "import pandas"
   ]
  },
  {
   "cell_type": "code",
   "execution_count": null,
   "id": "4d02dcc2-f3d9-4196-b6c6-9e280672cfde",
   "metadata": {},
   "outputs": [],
   "source": [
    "clothes_list = ['hats', 'mittens', 'coats', 'scarfs', 'gloves']\n",
    "info = {'clothes' : clothes_list,\n",
    "       'count' : numpy.random.randint(3, 9, len(clothes_list)),\n",
    "       'value' : numpy.random.normal(50, 10, len(clothes_list))}\n",
    "info"
   ]
  },
  {
   "cell_type": "code",
   "execution_count": null,
   "id": "59c1e541-96a4-4768-b75a-9c3f2569617d",
   "metadata": {},
   "outputs": [],
   "source": [
    "my_df = pandas.DataFrame(info)\n",
    "my_df"
   ]
  }
 ],
 "metadata": {
  "kernelspec": {
   "display_name": "Python 3",
   "language": "python",
   "name": "python3"
  },
  "language_info": {
   "codemirror_mode": {
    "name": "ipython",
    "version": 3
   },
   "file_extension": ".py",
   "mimetype": "text/x-python",
   "name": "python",
   "nbconvert_exporter": "python",
   "pygments_lexer": "ipython3",
   "version": "3.8.8"
  }
 },
 "nbformat": 4,
 "nbformat_minor": 5
}
