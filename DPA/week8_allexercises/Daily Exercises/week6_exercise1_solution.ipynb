{
 "cells": [
  {
   "cell_type": "markdown",
   "metadata": {},
   "source": [
    "## Week 6: Daily Exercise 1\n",
    "\n",
    "For this exercise we will be working with the Iris dataset. This dataset consists of 150 samples of the setosa, versicolor and virginica irises (50 each). The columns represent, in the following order: sepal length (cm), sepal width (cm), petal length (cm), petal width (cm), and type of iris.\n",
    "\n",
    "- First, load the dataset from `iris.csv` file and convert it to a numpy array (you may leave out the fifth column). \n",
    "- Now, create a figure with 4 subplots. Each subplot should be a scatterplot, plotting the data of one column in the iris dataset against the data of another column (e.g. petal length against sepal width). Many combinations are possible, but you may stick to 4 for this exercise.\n",
    "- Make sure the plot is annotated properly adding titles, x and y labels."
   ]
  },
  {
   "cell_type": "code",
   "execution_count": null,
   "metadata": {},
   "outputs": [],
   "source": [
    "%matplotlib inline\n",
    "\n",
    "import numpy\n",
    "import pandas\n",
    "import matplotlib.pyplot as plt"
   ]
  },
  {
   "cell_type": "code",
   "execution_count": null,
   "metadata": {},
   "outputs": [],
   "source": [
    "# Loading and preparing the dataset\n",
    "\n",
    "iris = pandas.read_csv(\"iris.csv\", index_col=0).to_numpy()\n",
    "iris = iris[:, :-1] #remove the fifth column\n",
    "\n",
    "#saving each column under a variable name for clarity in future code\n",
    "sep_len = iris[:,0]\n",
    "sep_wid = iris[:,1]\n",
    "pet_len = iris[:,2]\n",
    "pet_wid = iris[:,3]"
   ]
  },
  {
   "cell_type": "code",
   "execution_count": null,
   "metadata": {},
   "outputs": [],
   "source": [
    "#example solution\n",
    "plt.figure(figsize=[10,6])\n",
    "plt.subplot(2, 2, 1) \n",
    "plt.plot(sep_len, sep_wid, 'b.')\n",
    "plt.title('Subplot 1')\n",
    "plt.xlabel('Sepal Length')\n",
    "plt.ylabel('Sepal Width')\n",
    "\n",
    "plt.subplot(2, 2, 2) \n",
    "plt.plot(pet_len, pet_wid, 'b.')\n",
    "plt.title('Subplot 2')\n",
    "plt.xlabel('Petal Length')\n",
    "plt.ylabel('Petal Width')\n",
    "\n",
    "plt.subplot(2, 2, 3) \n",
    "plt.plot(sep_len, pet_len, 'b.')\n",
    "plt.title('Subplot 3')\n",
    "plt.xlabel('Sepal Length')\n",
    "plt.ylabel('Petal Length')\n",
    "\n",
    "plt.subplot(2, 2, 4) \n",
    "plt.plot(pet_wid, sep_wid, 'b.')\n",
    "plt.title('Subplot 4')\n",
    "plt.xlabel('Petal Width')\n",
    "plt.ylabel('Sepal Width')\n",
    "\n",
    "plt.tight_layout() # this makes our plots better fit in the figure, try also without this line to see the effect."
   ]
  }
 ],
 "metadata": {
  "kernelspec": {
   "display_name": "Python 3",
   "language": "python",
   "name": "python3"
  },
  "language_info": {
   "codemirror_mode": {
    "name": "ipython",
    "version": 3
   },
   "file_extension": ".py",
   "mimetype": "text/x-python",
   "name": "python",
   "nbconvert_exporter": "python",
   "pygments_lexer": "ipython3",
   "version": "3.9.13"
  }
 },
 "nbformat": 4,
 "nbformat_minor": 4
}
