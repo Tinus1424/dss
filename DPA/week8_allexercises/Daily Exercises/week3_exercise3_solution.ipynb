{
 "cells": [
  {
   "cell_type": "markdown",
   "metadata": {},
   "source": [
    "## Week 3 Daily Exercise 3\n",
    "\n",
    "In a notebook Re-write the code from Week 3 Exercise 2 such that all inputs are three-dimensional arrays and the statistic is computed across the 0th dimension (in the bookcase analogy, this would be the bookcase dimension of the bookcases-bookshelfs-books 3D array). What happens when you try to do the same across rows or columns (dimensions 1 or 2)? For fun, write this as a function that takes 3 arrays of arbitrary dimensionality as input. These dimensions should be equally long (e.g., 3x3x3, 4x4 or 6x6x6x6).\n",
    "\n",
    "### Solution:"
   ]
  },
  {
   "cell_type": "code",
   "execution_count": 9,
   "metadata": {},
   "outputs": [],
   "source": [
    "import numpy"
   ]
  },
  {
   "cell_type": "code",
   "execution_count": 10,
   "metadata": {},
   "outputs": [],
   "source": [
    "# you may also change the shapes of arrays to any arbitrary dimension. Just make sure they have all the same shape.\n",
    "a = numpy.random.random((3, 4, 5))\n",
    "b = numpy.random.random((3, 4, 5))\n",
    "c = numpy.random.random((3, 4, 5))"
   ]
  },
  {
   "cell_type": "code",
   "execution_count": 11,
   "metadata": {},
   "outputs": [],
   "source": [
    "# change this to experiment with different dimensions\n",
    "dim = 0"
   ]
  },
  {
   "cell_type": "code",
   "execution_count": 12,
   "metadata": {},
   "outputs": [],
   "source": [
    "a_x = numpy.square(a - numpy.mean(a, axis=dim))\n",
    "b_x = numpy.abs(b - numpy.median(b, axis=dim))\n",
    "c_x = numpy.sqrt(numpy.abs(c - numpy.mean(c, axis=dim)))"
   ]
  },
  {
   "cell_type": "code",
   "execution_count": 13,
   "metadata": {},
   "outputs": [
    {
     "name": "stdout",
     "output_type": "stream",
     "text": [
      "(4, 5)\n"
     ]
    }
   ],
   "source": [
    "num = numpy.sum(a_x * b_x * c_x, axis=dim)\n",
    "print(num.shape)"
   ]
  },
  {
   "cell_type": "code",
   "execution_count": 14,
   "metadata": {},
   "outputs": [],
   "source": [
    "a_y = numpy.square(numpy.sum(a - numpy.mean(a, axis=dim), axis=dim))\n",
    "b_y = numpy.sum(b_x, axis=dim)\n",
    "c_y = numpy.sum(c_x, axis=dim)"
   ]
  },
  {
   "cell_type": "code",
   "execution_count": 15,
   "metadata": {},
   "outputs": [],
   "source": [
    "denom = a_y * b_y * c_y"
   ]
  },
  {
   "cell_type": "code",
   "execution_count": 16,
   "metadata": {},
   "outputs": [
    {
     "name": "stdout",
     "output_type": "stream",
     "text": [
      "[[6.46375700e+28 2.19340034e+28            inf 9.68542488e+29\n",
      "  1.85717569e+29]\n",
      " [2.96517137e+28 9.52658790e+29 1.58724329e+28            inf\n",
      "             inf]\n",
      " [4.81667521e+27 4.28376131e+30 1.04793383e+28 1.28212523e+30\n",
      "             inf]\n",
      " [2.29876563e+31 3.28580292e+30            inf 9.44680583e+29\n",
      "             inf]]\n"
     ]
    },
    {
     "name": "stderr",
     "output_type": "stream",
     "text": [
      "/var/folders/cz/v2blzqkj6575g_x64rdyngt00000gp/T/ipykernel_85637/2837237690.py:1: RuntimeWarning: divide by zero encountered in divide\n",
      "  out = num / denom\n"
     ]
    }
   ],
   "source": [
    "out = num / denom\n",
    "print(out)"
   ]
  }
 ],
 "metadata": {
  "kernelspec": {
   "display_name": "Python 3",
   "language": "python",
   "name": "python3"
  },
  "language_info": {
   "codemirror_mode": {
    "name": "ipython",
    "version": 3
   },
   "file_extension": ".py",
   "mimetype": "text/x-python",
   "name": "python",
   "nbconvert_exporter": "python",
   "pygments_lexer": "ipython3",
   "version": "3.9.13"
  }
 },
 "nbformat": 4,
 "nbformat_minor": 4
}
