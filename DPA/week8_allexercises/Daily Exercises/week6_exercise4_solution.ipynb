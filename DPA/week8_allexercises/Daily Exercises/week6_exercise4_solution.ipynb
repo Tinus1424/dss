{
 "cells": [
  {
   "cell_type": "markdown",
   "metadata": {},
   "source": [
    "## Week 6: Daily Exercise 4\n",
    "\n",
    "For this exercise we will be working again with the Iris dataset.\n",
    "\n",
    "- First, load the dataset from `iris.csv` file and convert it to a numpy array (you may leave out the fifth column) and make sure it is in `float64` datatype. \n",
    "- Create a barchart showing each of the 4 measurements in such a way that it's easy to compare them between the different iris species. Add errorbars representing standard deviation. Also add a title, labels, and a legend (hint: don't forget that functions such as `numpy.mean()` and `numpy.std()` have the `axis` argument.)"
   ]
  },
  {
   "cell_type": "code",
   "execution_count": null,
   "metadata": {},
   "outputs": [],
   "source": [
    "%matplotlib inline\n",
    "\n",
    "import numpy\n",
    "import pandas\n",
    "import matplotlib.pyplot as plt"
   ]
  },
  {
   "cell_type": "code",
   "execution_count": null,
   "metadata": {},
   "outputs": [],
   "source": [
    "# Loading and preparing the dataset\n",
    "iris = pandas.read_csv(\"iris.csv\", index_col=0).to_numpy()\n",
    "iris = iris[:, :-1] #remove the fifth column\n",
    "iris = numpy.float64(iris)\n"
   ]
  },
  {
   "cell_type": "code",
   "execution_count": null,
   "metadata": {},
   "outputs": [],
   "source": [
    "#subsetting the dataset\n",
    "seto = iris[:50, :]\n",
    "vers = iris[50:100, :]\n",
    "virg = iris[100:, :]"
   ]
  },
  {
   "cell_type": "code",
   "execution_count": null,
   "metadata": {},
   "outputs": [],
   "source": [
    "n_groups = 4\n",
    "\n",
    "means_seto = numpy.mean(seto, axis = 0)\n",
    "std_seto = numpy.std(seto, axis = 0)\n",
    "\n",
    "means_vers = numpy.mean(vers, axis = 0)\n",
    "std_vers = numpy.std(vers, axis = 0)\n",
    "\n",
    "means_virg = numpy.mean(virg, axis = 0)\n",
    "std_virg = numpy.std(virg, axis = 0)\n",
    "\n",
    "index = numpy.arange(n_groups)\n",
    "bar_width = 0.25\n",
    "\n",
    "plt.figure(1)\n",
    "rects1 = plt.bar(index, means_seto, bar_width, color = 'c', yerr = std_seto, label = \"iris setosa\")\n",
    "rects2 = plt.bar(index + bar_width, means_vers, bar_width, color = 'y', yerr = std_vers, label = \"iris versicolor\")\n",
    "rects3 = plt.bar(index + 2*bar_width, means_virg, bar_width, color = 'm', yerr = std_virg, label = \"iris virginica\")\n",
    "\n",
    "plt.xticks(index+bar_width, (\"sepal length\", \"sepal width\", \"petal length\", \"petal width\"))\n",
    "plt.ylabel(\"mean length/width (cm)\")\n",
    "plt.title(\"Mean sepal and petal measurements per iris species\")\n",
    "plt.legend()"
   ]
  }
 ],
 "metadata": {
  "kernelspec": {
   "display_name": "Python 3",
   "language": "python",
   "name": "python3"
  },
  "language_info": {
   "codemirror_mode": {
    "name": "ipython",
    "version": 3
   },
   "file_extension": ".py",
   "mimetype": "text/x-python",
   "name": "python",
   "nbconvert_exporter": "python",
   "pygments_lexer": "ipython3",
   "version": "3.9.13"
  }
 },
 "nbformat": 4,
 "nbformat_minor": 2
}
