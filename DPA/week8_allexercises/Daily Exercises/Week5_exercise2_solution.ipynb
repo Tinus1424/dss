{
 "cells": [
  {
   "cell_type": "markdown",
   "id": "a3d40fa5",
   "metadata": {},
   "source": [
    "## Week 5: Daily Exercise 2\n",
    "\n",
    "On the googleplaystore dataset in `googleplaystore_sample.csv`, determine:\n",
    "\n",
    "* Part 1: which 10 `Apps` have the best rating and the lowest rating.\n",
    "* Part 2: Since many of the `Apps` have a similar rating, order them according to the amount of reviews they received.\n",
    "\n",
    "### Solution:"
   ]
  },
  {
   "cell_type": "code",
   "execution_count": null,
   "id": "c807fdac-c6e6-4ee1-8303-5cc109ae0095",
   "metadata": {},
   "outputs": [],
   "source": [
    "import pandas as pd"
   ]
  },
  {
   "cell_type": "code",
   "execution_count": null,
   "id": "b8aaffe9-dddb-4f25-87c8-dcacc444be32",
   "metadata": {},
   "outputs": [],
   "source": [
    "df = pd.read_csv('googleplaystore_sample.csv')"
   ]
  },
  {
   "cell_type": "markdown",
   "id": "a5da7c58-9a44-44a8-848c-62393bd341d3",
   "metadata": {},
   "source": [
    "#### Part 1:"
   ]
  },
  {
   "cell_type": "code",
   "execution_count": null,
   "id": "e974b43f-4d61-45e3-befe-3e8d9f206342",
   "metadata": {},
   "outputs": [],
   "source": [
    "# highest rating\n",
    "df.sort_values(\"Rating\", ascending=False).head(10)"
   ]
  },
  {
   "cell_type": "code",
   "execution_count": null,
   "id": "16e168d8-cbec-4db4-ac12-298e589fe968",
   "metadata": {},
   "outputs": [],
   "source": [
    "# lowest rating\n",
    "df.sort_values(\"Rating\", ascending=True).head(10)"
   ]
  },
  {
   "cell_type": "markdown",
   "id": "3074dc6f-824d-44ea-904f-13b012cc6562",
   "metadata": {},
   "source": [
    "#### Part 2:"
   ]
  },
  {
   "cell_type": "code",
   "execution_count": null,
   "id": "ed76e2d1",
   "metadata": {},
   "outputs": [],
   "source": [
    "## Ordering from the highest to lowest (first considering the rating and then the number of reviews)\n",
    "df.sort_values([\"Rating\",\"Reviews\"],ascending=[False,False]).head(10)"
   ]
  },
  {
   "cell_type": "code",
   "execution_count": null,
   "id": "68966d6b",
   "metadata": {},
   "outputs": [],
   "source": [
    "## Ordering from the lowest to highest (first considering the rating and then the number of reviews)\n",
    "df.sort_values([\"Rating\",\"Reviews\"],ascending=[True,True]).head(10)\n"
   ]
  }
 ],
 "metadata": {
  "kernelspec": {
   "display_name": "Python 3",
   "language": "python",
   "name": "python3"
  },
  "language_info": {
   "codemirror_mode": {
    "name": "ipython",
    "version": 3
   },
   "file_extension": ".py",
   "mimetype": "text/x-python",
   "name": "python",
   "nbconvert_exporter": "python",
   "pygments_lexer": "ipython3",
   "version": "3.9.13"
  }
 },
 "nbformat": 4,
 "nbformat_minor": 5
}
