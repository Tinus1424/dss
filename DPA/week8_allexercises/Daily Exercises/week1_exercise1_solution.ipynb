{
 "cells": [
  {
   "cell_type": "markdown",
   "metadata": {},
   "source": [
    "## Week 1: Daily Exercise 1\n",
    "\n",
    "Create an array of 100,000 random number between 0 and 1. Compute the range (the highest value - the lowest value).\n",
    "\n",
    "**Hint:** Check the Numpy documentation for `argmax` and `argmin` functions.  "
   ]
  },
  {
   "cell_type": "code",
   "execution_count": null,
   "metadata": {},
   "outputs": [],
   "source": [
    "import numpy\n",
    "\n",
    "# create an array of random values\n",
    "a = numpy.random.random(100000)\n",
    "\n",
    "# find the index of the min and max\n",
    "imax = numpy.argmax(a)\n",
    "imin = numpy.argmin(a)\n",
    "\n",
    "# compute the range\n",
    "r = a[imax] - a[imin]\n",
    "\n",
    "print(r)"
   ]
  }
 ],
 "metadata": {
  "kernelspec": {
   "display_name": "Python 3",
   "language": "python",
   "name": "python3"
  },
  "language_info": {
   "codemirror_mode": {
    "name": "ipython",
    "version": 3
   },
   "file_extension": ".py",
   "mimetype": "text/x-python",
   "name": "python",
   "nbconvert_exporter": "python",
   "pygments_lexer": "ipython3",
   "version": "3.9.13"
  }
 },
 "nbformat": 4,
 "nbformat_minor": 2
}
