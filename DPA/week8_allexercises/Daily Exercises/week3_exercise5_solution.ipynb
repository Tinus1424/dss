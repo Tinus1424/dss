{
 "cells": [
  {
   "cell_type": "markdown",
   "metadata": {},
   "source": [
    "## Week 3 Daily Exercise 5\n",
    "\n",
    "Create three matrices: A 4x4 matrix of random numbers ($A$), a 1x4 matrix of ones ($B$), and a 4x1 matrix of ones ($C$).\n",
    "Calculate the following:\n",
    "\n",
    "\n",
    "*   The sum over the rows of $A$ (called $W$)\n",
    "*   The sum over the columns of $A$ (called $X$)\n",
    "*   Dot product $AC$ (called $Y$)\n",
    "*   Dot product $BA$ (called $Z$)\n",
    "\n",
    "How are $W$, $X$, $Y$, and $Z$ related? Why?\n",
    "\n",
    "### Solution:"
   ]
  },
  {
   "cell_type": "code",
   "execution_count": 1,
   "metadata": {},
   "outputs": [],
   "source": [
    "import numpy"
   ]
  },
  {
   "cell_type": "code",
   "execution_count": 2,
   "metadata": {},
   "outputs": [],
   "source": [
    "#create matrices\n",
    "numpy.random.seed( 42 )\n",
    "A = numpy.random.randint(1,10,(4,4))\n",
    "B = numpy.ones((1,4))\n",
    "C = numpy.ones((4,1))"
   ]
  },
  {
   "cell_type": "code",
   "execution_count": 3,
   "metadata": {},
   "outputs": [
    {
     "name": "stdout",
     "output_type": "stream",
     "text": [
      "[[7 4 8 5]\n",
      " [7 3 7 8]\n",
      " [5 4 8 8]\n",
      " [3 6 5 2]]\n",
      "\n",
      "[[1. 1. 1. 1.]]\n",
      "\n",
      "[[1.]\n",
      " [1.]\n",
      " [1.]\n",
      " [1.]]\n"
     ]
    }
   ],
   "source": [
    "print(A)\n",
    "print()\n",
    "print(B)\n",
    "print()\n",
    "print(C)"
   ]
  },
  {
   "cell_type": "code",
   "execution_count": 4,
   "metadata": {},
   "outputs": [
    {
     "name": "stdout",
     "output_type": "stream",
     "text": [
      "[24 25 25 16]\n"
     ]
    }
   ],
   "source": [
    "# this computes the sum across the rows of A\n",
    "\n",
    "W = numpy.sum(A, axis = 1)\n",
    "print(W)"
   ]
  },
  {
   "cell_type": "code",
   "execution_count": 5,
   "metadata": {},
   "outputs": [
    {
     "name": "stdout",
     "output_type": "stream",
     "text": [
      "[22 17 28 23]\n"
     ]
    }
   ],
   "source": [
    "# this computes the sum across the columns of A\n",
    "\n",
    "X = numpy.sum(A, axis = 0)\n",
    "print(X)"
   ]
  },
  {
   "cell_type": "code",
   "execution_count": 6,
   "metadata": {},
   "outputs": [
    {
     "name": "stdout",
     "output_type": "stream",
     "text": [
      "[[24.]\n",
      " [25.]\n",
      " [25.]\n",
      " [16.]]\n"
     ]
    }
   ],
   "source": [
    "# this computes the dot product of A and C\n",
    "\n",
    "Y = A.dot(C)\n",
    "print(Y)"
   ]
  },
  {
   "cell_type": "code",
   "execution_count": 7,
   "metadata": {},
   "outputs": [
    {
     "name": "stdout",
     "output_type": "stream",
     "text": [
      "[[22. 17. 28. 23.]]\n"
     ]
    }
   ],
   "source": [
    "# this computes the dot product of B and A\n",
    "\n",
    "Z = B.dot(A)\n",
    "print(Z)"
   ]
  },
  {
   "cell_type": "markdown",
   "metadata": {},
   "source": [
    "The values of $W$ and $Y$, as well as $X$ and $Z$ are the same (though the shapes differ).\n",
    "\n",
    "This is because computing the dot product with a vector of ones is the same as computing the sum along a dimension."
   ]
  }
 ],
 "metadata": {
  "kernelspec": {
   "display_name": "Python 3",
   "language": "python",
   "name": "python3"
  },
  "language_info": {
   "codemirror_mode": {
    "name": "ipython",
    "version": 3
   },
   "file_extension": ".py",
   "mimetype": "text/x-python",
   "name": "python",
   "nbconvert_exporter": "python",
   "pygments_lexer": "ipython3",
   "version": "3.7.7"
  }
 },
 "nbformat": 4,
 "nbformat_minor": 4
}
