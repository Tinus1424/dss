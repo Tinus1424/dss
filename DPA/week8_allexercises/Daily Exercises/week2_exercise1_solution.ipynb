{
 "cells": [
  {
   "cell_type": "markdown",
   "metadata": {},
   "source": [
    "## Week 2: Daily Exercise 1:\n",
    "Write a function that takes three positive integer parameters `size`, `start`, and `step` and returns a square two dimensional matrix with `size` entries per dimension. The values in the matrix should all be zero except values on the principle diagonal. The first value on this diagonal should be `start` and each subsequent value should be `step` larger.\n",
    "\n",
    "### Solution:"
   ]
  },
  {
   "cell_type": "code",
   "execution_count": null,
   "metadata": {},
   "outputs": [],
   "source": [
    "import numpy\n",
    "\n",
    "def build_nifty_matrix(size, start, step):\n",
    "    a = numpy.arange(start, start + step * size, step)\n",
    "    b = numpy.eye(size)\n",
    "    return a*b\n"
   ]
  },
  {
   "cell_type": "code",
   "execution_count": null,
   "metadata": {},
   "outputs": [],
   "source": [
    "print(build_nifty_matrix(3, 42, 2))"
   ]
  },
  {
   "cell_type": "code",
   "execution_count": null,
   "metadata": {},
   "outputs": [],
   "source": [
    "print(build_nifty_matrix(5, -1, 100))"
   ]
  },
  {
   "cell_type": "code",
   "execution_count": null,
   "metadata": {},
   "outputs": [],
   "source": [
    "print(build_nifty_matrix(7, 0.2, 1))"
   ]
  },
  {
   "cell_type": "markdown",
   "metadata": {},
   "source": [
    "# Note: using a non-integer for both start and step can produce an error due to rounding! Currently this solution merely produces an error in that case."
   ]
  }
 ],
 "metadata": {
  "kernelspec": {
   "display_name": "Python 3",
   "language": "python",
   "name": "python3"
  },
  "language_info": {
   "codemirror_mode": {
    "name": "ipython",
    "version": 3
   },
   "file_extension": ".py",
   "mimetype": "text/x-python",
   "name": "python",
   "nbconvert_exporter": "python",
   "pygments_lexer": "ipython3",
   "version": "3.9.13"
  }
 },
 "nbformat": 4,
 "nbformat_minor": 4
}
