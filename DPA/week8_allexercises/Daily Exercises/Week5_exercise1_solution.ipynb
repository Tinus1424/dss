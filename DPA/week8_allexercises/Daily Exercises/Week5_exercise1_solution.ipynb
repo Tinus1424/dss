{
 "cells": [
  {
   "cell_type": "markdown",
   "id": "10046d49",
   "metadata": {},
   "source": [
    "## Week 5: Daily Exercise 1\n",
    "\n",
    "Load the googleplaystore dataset from `googleplaystore_sample.csv`. Convert the `Price` column to numerical data by first taking the necessary preprocessing steps and then converting the data type from object to `float64` using `astype()`. Call the newly created column `Price_cleaned`.\n",
    "\n",
    "### Solution:"
   ]
  },
  {
   "cell_type": "code",
   "execution_count": 17,
   "id": "e732b348-df09-488a-8522-f9681070a3b2",
   "metadata": {},
   "outputs": [],
   "source": [
    "import pandas as pd\n",
    "import numpy"
   ]
  },
  {
   "cell_type": "code",
   "execution_count": 18,
   "id": "03b74f83-3d91-4db1-8828-75e1406a13fa",
   "metadata": {},
   "outputs": [],
   "source": [
    "df = pd.read_csv('googleplaystore_sample.csv')"
   ]
  },
  {
   "cell_type": "code",
   "execution_count": 19,
   "id": "c7f019ad-94a1-4fcc-a7ca-3b24c9120a4a",
   "metadata": {},
   "outputs": [
    {
     "data": {
      "text/plain": [
       "array(['0', '$0.99', '$16.99', '$3.99', '$4.99', '$2.99', '$1.99',\n",
       "       '$4.80', '$9.99', '$1.00', '$3.49', '$10.00', '$2.49', '$5.99',\n",
       "       '$1.70', '$19.99', '$109.99', '$1.97', '$4.59', '$8.49', '$1.49',\n",
       "       '$4.49', '$379.99', '$19.90', '$4.60', '$12.99', '$9.00', '$10.99',\n",
       "       '$24.99', '$14.99', '$1.50', '$399.99', '$11.99', '$1.76',\n",
       "       '$19.40', '$1.61', '$5.49', '$3.88', '$1.04', '$6.99', '$7.99',\n",
       "       '$28.99', '$29.99', '$3.95', '$2.90', '$15.99', '$1.75', '$33.99',\n",
       "       '$17.99', '$25.99', '$389.99', '$79.99', '$400.00', '$1.96',\n",
       "       '$30.99', '$8.99', '$1.29', '$4.85', '$200.00', '$13.99', '$6.49',\n",
       "       '$2.60', '$7.49', '$4.84', '$37.99', '$2.95', '$3.90', '$154.99',\n",
       "       '$2.00', '$89.99', '$2.50', '$5.00', '$46.99', 'Everyone', '$3.28',\n",
       "       '$3.61', '$18.99', '$3.08', '$39.99', '$3.02', '$299.99', '$1.26',\n",
       "       '$3.04', '$4.77', '$1.59', '$2.56', '$1.20'], dtype=object)"
      ]
     },
     "execution_count": 19,
     "metadata": {},
     "output_type": "execute_result"
    }
   ],
   "source": [
    "# inspect the Price variable\n",
    "# we will need to remove the $ signs\n",
    "# and replace 'Everyone' with a numeric value\n",
    "df[\"Price\"].unique()"
   ]
  },
  {
   "cell_type": "code",
   "execution_count": 20,
   "id": "e0b60253-d0d3-41f7-be62-0f08bbe93b75",
   "metadata": {},
   "outputs": [],
   "source": [
    "df[\"Price_cleaned\"] = df.Price.apply(lambda x: x.strip(\"$\"))"
   ]
  },
  {
   "cell_type": "code",
   "execution_count": 21,
   "id": "9122dbcd-ac09-49d2-b951-2c763fb01959",
   "metadata": {},
   "outputs": [],
   "source": [
    "df[\"Price_cleaned\"] = df[\"Price_cleaned\"].replace([\"Everyone\"], numpy.nan)"
   ]
  },
  {
   "cell_type": "code",
   "execution_count": 22,
   "id": "c8b0b483-5af0-481d-b914-00bed8f7d9d8",
   "metadata": {},
   "outputs": [
    {
     "data": {
      "text/plain": [
       "array(['0', '0.99', '16.99', '3.99', '4.99', '2.99', '1.99', '4.80',\n",
       "       '9.99', '1.00', '3.49', '10.00', '2.49', '5.99', '1.70', '19.99',\n",
       "       '109.99', '1.97', '4.59', '8.49', '1.49', '4.49', '379.99',\n",
       "       '19.90', '4.60', '12.99', '9.00', '10.99', '24.99', '14.99',\n",
       "       '1.50', '399.99', '11.99', '1.76', '19.40', '1.61', '5.49', '3.88',\n",
       "       '1.04', '6.99', '7.99', '28.99', '29.99', '3.95', '2.90', '15.99',\n",
       "       '1.75', '33.99', '17.99', '25.99', '389.99', '79.99', '400.00',\n",
       "       '1.96', '30.99', '8.99', '1.29', '4.85', '200.00', '13.99', '6.49',\n",
       "       '2.60', '7.49', '4.84', '37.99', '2.95', '3.90', '154.99', '2.00',\n",
       "       '89.99', '2.50', '5.00', '46.99', nan, '3.28', '3.61', '18.99',\n",
       "       '3.08', '39.99', '3.02', '299.99', '1.26', '3.04', '4.77', '1.59',\n",
       "       '2.56', '1.20'], dtype=object)"
      ]
     },
     "execution_count": 22,
     "metadata": {},
     "output_type": "execute_result"
    }
   ],
   "source": [
    "# confirm all values are appropriate for float\n",
    "df[\"Price_cleaned\"].unique()"
   ]
  },
  {
   "cell_type": "code",
   "execution_count": 23,
   "id": "92e656f5-36ec-415a-94ec-41d792134e5f",
   "metadata": {},
   "outputs": [],
   "source": [
    "df[\"Price_cleaned\"] = pd.to_numeric(df.Price_cleaned)"
   ]
  },
  {
   "cell_type": "code",
   "execution_count": 24,
   "id": "f7a71035-6f26-46a3-93fb-558c7908cc7e",
   "metadata": {},
   "outputs": [
    {
     "name": "stdout",
     "output_type": "stream",
     "text": [
      "<class 'pandas.core.frame.DataFrame'>\n",
      "RangeIndex: 10000 entries, 0 to 9999\n",
      "Data columns (total 15 columns):\n",
      " #   Column          Non-Null Count  Dtype  \n",
      "---  ------          --------------  -----  \n",
      " 0   Unnamed: 0      10000 non-null  int64  \n",
      " 1   App             10000 non-null  object \n",
      " 2   Category        10000 non-null  object \n",
      " 3   Rating          8649 non-null   float64\n",
      " 4   Reviews         10000 non-null  object \n",
      " 5   Size            10000 non-null  object \n",
      " 6   Installs        10000 non-null  object \n",
      " 7   Type            10000 non-null  object \n",
      " 8   Price           10000 non-null  object \n",
      " 9   Content Rating  9999 non-null   object \n",
      " 10  Genres          10000 non-null  object \n",
      " 11  Last Updated    10000 non-null  object \n",
      " 12  Current Ver     9993 non-null   object \n",
      " 13  Android Ver     9997 non-null   object \n",
      " 14  Price_cleaned   9999 non-null   float64\n",
      "dtypes: float64(2), int64(1), object(12)\n",
      "memory usage: 1.1+ MB\n"
     ]
    }
   ],
   "source": [
    "df.info()"
   ]
  }
 ],
 "metadata": {
  "kernelspec": {
   "display_name": "Python 3",
   "language": "python",
   "name": "python3"
  },
  "language_info": {
   "codemirror_mode": {
    "name": "ipython",
    "version": 3
   },
   "file_extension": ".py",
   "mimetype": "text/x-python",
   "name": "python",
   "nbconvert_exporter": "python",
   "pygments_lexer": "ipython3",
   "version": "3.9.13"
  }
 },
 "nbformat": 4,
 "nbformat_minor": 5
}
