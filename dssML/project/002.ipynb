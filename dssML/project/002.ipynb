{
 "cells": [
  {
   "cell_type": "markdown",
   "metadata": {},
   "source": [
    "# EXPERIMENT"
   ]
  },
  {
   "cell_type": "code",
   "execution_count": 2,
   "metadata": {
    "tags": []
   },
   "outputs": [],
   "source": [
    "import pandas as pd\n",
    "import numpy as np\n",
    "import matplotlib.pyplot as plt\n",
    "import warnings\n",
    "warnings.simplefilter(action='ignore', category=pd.errors.SettingWithCopyWarning)\n",
    "warnings.simplefilter(action='ignore', category=FutureWarning)\n",
    "\n",
    "def loadFile(googleTrue, file = None ):\n",
    "    if googleTrue == True:\n",
    "        from google.colab import drive\n",
    "        drive.mount('/content/drive')\n",
    "        x = pd.read_csv(\"drive/MyDrive/train_data.csv\")\n",
    "    else:\n",
    "        x = pd.read_csv(file)\n",
    "    return x"
   ]
  },
  {
   "cell_type": "code",
   "execution_count": 3,
   "metadata": {
    "tags": []
   },
   "outputs": [],
   "source": [
    "train_data = loadFile(False, \"data/train_data.csv\")\n",
    "test_data = loadFile(False, \"data/test_data.csv\")\n",
    "supp_data = loadFile(False, \"data/supplimental_data.csv\")"
   ]
  },
  {
   "cell_type": "code",
   "execution_count": 4,
   "metadata": {
    "tags": []
   },
   "outputs": [],
   "source": [
    "def binaryQuestionTiming(df):\n",
    "    df.loc[:, \"QuestionTiming\"] = df.loc[:, \"QuestionTiming\"].astype(str)\n",
    "    df.loc[:, \"QuestionTiming\"] = df.loc[:, \"QuestionTiming\"].apply(lambda x: 1 if x == \"System Initiated\" else 0)\n",
    "    return df\n",
    "    \n",
    "def binaryCurrentGameMode(df):\n",
    "    df.loc[:, \"CurrentGameMode\"] = df.loc[:, \"CurrentGameMode\"].astype(str)\n",
    "    df.loc[:, \"CurrentGameMode\"] = df.loc[:, \"CurrentGameMode\"].apply(lambda x: 1 if x == \"Career\" else 0)\n",
    "    return df\n",
    "\n",
    "def numericalTime(df):\n",
    "    df.loc[:, \"TimeUtcX\"] = pd.to_datetime(df.loc[:, \"TimeUtc\"])\n",
    "    df.loc[:, \"TimeUtcY\"] = pd.to_numeric(df.loc[:, \"TimeUtcX\"])\n",
    "    df = df.drop(columns= [\"TimeUtc\", \"TimeUtcX\"])\n",
    "    return df\n",
    "\n",
    "def fillLPA(df):\n",
    "    df.loc[:, \"LevelProgressionAmount\"] = df.loc[:, \"LevelProgressionAmount\"].apply(lambda x: 0 if pd.isna(x) else x)\n",
    "    return df"
   ]
  },
  {
   "cell_type": "code",
   "execution_count": 5,
   "metadata": {
    "tags": []
   },
   "outputs": [],
   "source": [
    "FEATURES = [\"UserID\", \"TimeUtc\", \"QuestionTiming\", \"CurrentGameMode\", \"CurrentSessionLength\", \"LevelProgressionAmount\", \"ResponseValue\"]\n",
    "X = train_data[FEATURES]\n",
    "X = binaryQuestionTiming(X)\n",
    "X = binaryCurrentGameMode(X)\n",
    "X = numericalTime(X)\n",
    "X = fillLPA(X)"
   ]
  },
  {
   "cell_type": "markdown",
   "metadata": {
    "jp-MarkdownHeadingCollapsed": true,
    "tags": []
   },
   "source": [
    "## Learning Algorithms"
   ]
  },
  {
   "cell_type": "code",
   "execution_count": 7,
   "metadata": {
    "tags": []
   },
   "outputs": [],
   "source": [
    "from sklearn.model_selection import TimeSeriesSplit\n",
    "from sklearn.model_selection import cross_validate\n",
    "from sklearn import tree\n",
    "from sklearn.metrics import mean_absolute_error\n",
    "from sklearn.metrics import mean_squared_error"
   ]
  },
  {
   "cell_type": "code",
   "execution_count": 8,
   "metadata": {
    "tags": []
   },
   "outputs": [],
   "source": [
    "grouped = X.groupby(\"UserID\")\n",
    "features = [\"TimeUtcY\", \"QuestionTiming\", \"CurrentGameMode\", \"CurrentSessionLength\", \"LevelProgressionAmount\"]\n",
    "target = [\"ResponseValue\"]\n",
    "userDf = {user_id: group for user_id, group in grouped}"
   ]
  },
  {
   "cell_type": "code",
   "execution_count": 9,
   "metadata": {
    "tags": []
   },
   "outputs": [],
   "source": [
    "trainData, testData = pd.DataFrame(), pd.DataFrame()\n",
    "\n",
    "for key in userDf.values():\n",
    "    data = pd.DataFrame(key)\n",
    "    dataSize = int(len(data))\n",
    "    trainSize = int(dataSize // 1.2)\n",
    "    trainData = pd.concat([trainData, data.iloc[: trainSize]])\n",
    "    testData = pd.concat([testData, data.iloc[trainSize:]])\n",
    "                \n",
    "X_train, y_train, X_test, y_test = trainData[features], trainData[target], testData[features], testData[target]\n",
    "reg0 = tree.DecisionTreeRegressor(criterion = \"squared_error\", max_depth = 5) # squared_error because I could do hand calculations faster than absolute_error\n",
    "reg0 = reg0.fit(X_train, y_train)\n",
    "reg0Pred = reg0.predict(X_test)"
   ]
  },
  {
   "cell_type": "code",
   "execution_count": 10,
   "metadata": {
    "tags": []
   },
   "outputs": [],
   "source": [
    "reg0Mae = mean_absolute_error(y_test, reg0Pred)\n",
    "reg0Mse = mean_squared_error(y_test, reg0Pred)"
   ]
  },
  {
   "cell_type": "code",
   "execution_count": 11,
   "metadata": {
    "tags": []
   },
   "outputs": [],
   "source": [
    "preds = []\n",
    "tests = []\n",
    "models = {}\n",
    "\n",
    "for key in userDf.values():\n",
    "    data = pd.DataFrame(key)\n",
    "    UserID = data.iloc[0][0]\n",
    "    data = data.reset_index()\n",
    "    dataSize = int(len(data))\n",
    "    if dataSize < 1:\n",
    "        preds.extend([500])\n",
    "        tests.extend(data[\"ResponseValue\"])\n",
    "    else:\n",
    "        trainSize = dataSize // 1.3\n",
    "        X, y = data[features], data[target]\n",
    "        X_train, y_train , X_test, y_test = X.loc[:trainSize], y.loc[:trainSize], X.loc[trainSize:], y.loc[trainSize:]\n",
    "        reg1 = tree.DecisionTreeRegressor(criterion = \"squared_error\", max_depth = 5) # squared_error because I could do hand calculations faster than absolute_error\n",
    "        reg1 = reg1.fit(X_train, y_train)\n",
    "        \n",
    "        preds.extend(reg1.predict(X_test))\n",
    "        tests.extend(list(y_test[\"ResponseValue\"]))\n",
    "        models.update({UserID: reg1})"
   ]
  },
  {
   "cell_type": "code",
   "execution_count": 12,
   "metadata": {
    "tags": []
   },
   "outputs": [],
   "source": [
    "reg1Mae = mean_absolute_error(tests, preds)\n",
    "reg1Mse= mean_squared_error(tests, preds)"
   ]
  },
  {
   "cell_type": "code",
   "execution_count": 13,
   "metadata": {
    "tags": []
   },
   "outputs": [],
   "source": [
    "for UserID, model in models.items():\n",
    "    featureImportance = model.feature_importances_\n",
    "    models.update({UserID: featureImportance})"
   ]
  },
  {
   "cell_type": "code",
   "execution_count": 14,
   "metadata": {
    "tags": []
   },
   "outputs": [],
   "source": [
    "models = pd.DataFrame(models).T"
   ]
  },
  {
   "cell_type": "code",
   "execution_count": 15,
   "metadata": {
    "tags": []
   },
   "outputs": [
    {
     "data": {
      "text/plain": [
       "TimeUtcY                  3132.935896\n",
       "QuestionTiming             243.722923\n",
       "GameMode                   242.683321\n",
       "SessionLength             2002.649861\n",
       "LevelProgressionAmount    1598.007999\n",
       "dtype: float64"
      ]
     },
     "execution_count": 15,
     "metadata": {},
     "output_type": "execute_result"
    }
   ],
   "source": [
    "models = models.rename(columns={0: \"TimeUtcY\", 1 : \"QuestionTiming\", 2: \"GameMode\", 3 : \"SessionLength\", 4 : \"LevelProgressionAmount\"})\n",
    "models.sum()"
   ]
  },
  {
   "cell_type": "code",
   "execution_count": 16,
   "metadata": {
    "tags": []
   },
   "outputs": [
    {
     "name": "stdout",
     "output_type": "stream",
     "text": [
      " General Model    : MAE 173.43, MSE 45992.14\n",
      " User Unique Model: MAE 83.81, MSE 23519.21\n"
     ]
    }
   ],
   "source": [
    "print(f\" General Model    : MAE {round(reg0Mae, 2)}, MSE {round(reg0Mse, 2)}\")\n",
    "print(f\" User Unique Model: MAE {round(reg1Mae, 2)}, MSE {round(reg1Mse, 2)}\")"
   ]
  },
  {
   "cell_type": "markdown",
   "metadata": {
    "tags": []
   },
   "source": [
    "## Clustering"
   ]
  },
  {
   "cell_type": "code",
   "execution_count": 18,
   "metadata": {
    "tags": []
   },
   "outputs": [],
   "source": [
    "from sklearn.preprocessing import StandardScaler\n",
    "from sklearn.cluster import DBSCAN\n",
    "FEATURES = [\"UserID\", \"TimeUtc\", \"CurrentSessionLength\", \"LevelProgressionAmount\", \"ResponseValue\"]\n",
    "X = train_data[FEATURES]\n",
    "X = numericalTime(X)\n",
    "X = fillLPA(X)\n",
    "standard = StandardScaler().set_output(transform = \"pandas\")"
   ]
  },
  {
   "cell_type": "code",
   "execution_count": 19,
   "metadata": {
    "tags": []
   },
   "outputs": [],
   "source": [
    "sumX = pd.DataFrame(columns = [\"UserID\", \"SessionLengthSum\", \"LevelProgressionSum\"])\n",
    "i = 0\n",
    "for UserID, UserData in userDf.items():\n",
    "    SessionLengthSum = UserData[\"CurrentSessionLength\"].sum()\n",
    "    LevelProgressionSum = UserData[\"LevelProgressionAmount\"].sum()\n",
    "    data = {\"UserID\": UserID, \"SessionLengthSum\" : SessionLengthSum, \"LevelProgressionSum\" : LevelProgressionSum}\n",
    "    data = pd.DataFrame(data, index = [i])\n",
    "    sumX = pd.concat([sumX, data])\n",
    "    i += 1"
   ]
  },
  {
   "cell_type": "code",
   "execution_count": 20,
   "metadata": {
    "tags": []
   },
   "outputs": [
    {
     "data": {
      "text/html": [
       "<div>\n",
       "<style scoped>\n",
       "    .dataframe tbody tr th:only-of-type {\n",
       "        vertical-align: middle;\n",
       "    }\n",
       "\n",
       "    .dataframe tbody tr th {\n",
       "        vertical-align: top;\n",
       "    }\n",
       "\n",
       "    .dataframe thead th {\n",
       "        text-align: right;\n",
       "    }\n",
       "</style>\n",
       "<table border=\"1\" class=\"dataframe\">\n",
       "  <thead>\n",
       "    <tr style=\"text-align: right;\">\n",
       "      <th></th>\n",
       "      <th>SessionLengthSum</th>\n",
       "      <th>LevelProgressionSum</th>\n",
       "    </tr>\n",
       "    <tr>\n",
       "      <th>UserID</th>\n",
       "      <th></th>\n",
       "      <th></th>\n",
       "    </tr>\n",
       "  </thead>\n",
       "  <tbody>\n",
       "    <tr>\n",
       "      <th>p1</th>\n",
       "      <td>333</td>\n",
       "      <td>9.236761</td>\n",
       "    </tr>\n",
       "    <tr>\n",
       "      <th>p10</th>\n",
       "      <td>16894</td>\n",
       "      <td>43.968389</td>\n",
       "    </tr>\n",
       "    <tr>\n",
       "      <th>p100</th>\n",
       "      <td>1</td>\n",
       "      <td>0.000000</td>\n",
       "    </tr>\n",
       "    <tr>\n",
       "      <th>p10002</th>\n",
       "      <td>558</td>\n",
       "      <td>6.807661</td>\n",
       "    </tr>\n",
       "    <tr>\n",
       "      <th>p10003</th>\n",
       "      <td>398</td>\n",
       "      <td>5.890150</td>\n",
       "    </tr>\n",
       "    <tr>\n",
       "      <th>...</th>\n",
       "      <td>...</td>\n",
       "      <td>...</td>\n",
       "    </tr>\n",
       "    <tr>\n",
       "      <th>p9995</th>\n",
       "      <td>420</td>\n",
       "      <td>6.100568</td>\n",
       "    </tr>\n",
       "    <tr>\n",
       "      <th>p9996</th>\n",
       "      <td>162</td>\n",
       "      <td>1.536824</td>\n",
       "    </tr>\n",
       "    <tr>\n",
       "      <th>p9997</th>\n",
       "      <td>2</td>\n",
       "      <td>0.000000</td>\n",
       "    </tr>\n",
       "    <tr>\n",
       "      <th>p9998</th>\n",
       "      <td>2128</td>\n",
       "      <td>9.227791</td>\n",
       "    </tr>\n",
       "    <tr>\n",
       "      <th>p9999</th>\n",
       "      <td>933</td>\n",
       "      <td>7.622272</td>\n",
       "    </tr>\n",
       "  </tbody>\n",
       "</table>\n",
       "<p>8169 rows × 2 columns</p>\n",
       "</div>"
      ],
      "text/plain": [
       "       SessionLengthSum  LevelProgressionSum\n",
       "UserID                                      \n",
       "p1                  333             9.236761\n",
       "p10               16894            43.968389\n",
       "p100                  1             0.000000\n",
       "p10002              558             6.807661\n",
       "p10003              398             5.890150\n",
       "...                 ...                  ...\n",
       "p9995               420             6.100568\n",
       "p9996               162             1.536824\n",
       "p9997                 2             0.000000\n",
       "p9998              2128             9.227791\n",
       "p9999               933             7.622272\n",
       "\n",
       "[8169 rows x 2 columns]"
      ]
     },
     "execution_count": 20,
     "metadata": {},
     "output_type": "execute_result"
    }
   ],
   "source": [
    "sumX = sumX.set_index(\"UserID\")\n",
    "sumX"
   ]
  },
  {
   "cell_type": "code",
   "execution_count": 21,
   "metadata": {
    "tags": []
   },
   "outputs": [],
   "source": [
    "cols = [\"SessionLengthSum\", \"LevelProgressionSum\"] \n",
    "standX = standard.fit_transform(sumX[cols])"
   ]
  },
  {
   "cell_type": "code",
   "execution_count": 22,
   "metadata": {
    "tags": []
   },
   "outputs": [
    {
     "name": "stdout",
     "output_type": "stream",
     "text": [
      "Estimated number of clusters: 4\n",
      "Estimated number of noise points : 1909\n"
     ]
    }
   ],
   "source": [
    "db = DBSCAN(eps = 0.05, min_samples = 15).fit(standX)\n",
    "labels = db.labels_\n",
    "\n",
    "n_clusters_ = len(set(labels)) - (1 if -1 in labels else 0)\n",
    "n_noise_ = list(labels).count(-1)\n",
    "\n",
    "print(\"Estimated number of clusters: %d\" % n_clusters_)\n",
    "print(\"Estimated number of noise points : %d\" % n_noise_)"
   ]
  },
  {
   "cell_type": "code",
   "execution_count": 23,
   "metadata": {
    "tags": []
   },
   "outputs": [],
   "source": [
    "check = standX.reset_index()\n",
    "db = DBSCAN(eps = 0.05, min_samples = 15).fit_predict(standX)\n",
    "db0 = pd.Series(db, name = \"Cluster\")\n",
    "two = check.join(db0, how = \"left\")\n",
    "two = two.drop(columns = [\"SessionLengthSum\", \"LevelProgressionSum\"])"
   ]
  },
  {
   "cell_type": "code",
   "execution_count": 24,
   "metadata": {
    "tags": []
   },
   "outputs": [],
   "source": [
    "merged = X.merge(two)"
   ]
  },
  {
   "cell_type": "code",
   "execution_count": 25,
   "metadata": {
    "tags": []
   },
   "outputs": [
    {
     "data": {
      "text/html": [
       "<div>\n",
       "<style scoped>\n",
       "    .dataframe tbody tr th:only-of-type {\n",
       "        vertical-align: middle;\n",
       "    }\n",
       "\n",
       "    .dataframe tbody tr th {\n",
       "        vertical-align: top;\n",
       "    }\n",
       "\n",
       "    .dataframe thead th {\n",
       "        text-align: right;\n",
       "    }\n",
       "</style>\n",
       "<table border=\"1\" class=\"dataframe\">\n",
       "  <thead>\n",
       "    <tr style=\"text-align: right;\">\n",
       "      <th></th>\n",
       "      <th>UserID</th>\n",
       "      <th>CurrentSessionLength</th>\n",
       "      <th>LevelProgressionAmount</th>\n",
       "      <th>ResponseValue</th>\n",
       "      <th>TimeUtcY</th>\n",
       "      <th>Cluster</th>\n",
       "    </tr>\n",
       "  </thead>\n",
       "  <tbody>\n",
       "    <tr>\n",
       "      <th>988</th>\n",
       "      <td>p10126</td>\n",
       "      <td>31</td>\n",
       "      <td>0.760935</td>\n",
       "      <td>861.0</td>\n",
       "      <td>1660854875000000000</td>\n",
       "      <td>2</td>\n",
       "    </tr>\n",
       "    <tr>\n",
       "      <th>989</th>\n",
       "      <td>p10126</td>\n",
       "      <td>0</td>\n",
       "      <td>0.000000</td>\n",
       "      <td>931.0</td>\n",
       "      <td>1660912742000000000</td>\n",
       "      <td>2</td>\n",
       "    </tr>\n",
       "    <tr>\n",
       "      <th>990</th>\n",
       "      <td>p10126</td>\n",
       "      <td>18</td>\n",
       "      <td>0.524482</td>\n",
       "      <td>982.0</td>\n",
       "      <td>1660913802000000000</td>\n",
       "      <td>2</td>\n",
       "    </tr>\n",
       "    <tr>\n",
       "      <th>991</th>\n",
       "      <td>p10126</td>\n",
       "      <td>37</td>\n",
       "      <td>0.044208</td>\n",
       "      <td>1000.0</td>\n",
       "      <td>1660914964000000000</td>\n",
       "      <td>2</td>\n",
       "    </tr>\n",
       "    <tr>\n",
       "      <th>992</th>\n",
       "      <td>p10126</td>\n",
       "      <td>43</td>\n",
       "      <td>0.130842</td>\n",
       "      <td>1000.0</td>\n",
       "      <td>1660915335000000000</td>\n",
       "      <td>2</td>\n",
       "    </tr>\n",
       "    <tr>\n",
       "      <th>...</th>\n",
       "      <td>...</td>\n",
       "      <td>...</td>\n",
       "      <td>...</td>\n",
       "      <td>...</td>\n",
       "      <td>...</td>\n",
       "      <td>...</td>\n",
       "    </tr>\n",
       "    <tr>\n",
       "      <th>129549</th>\n",
       "      <td>p6747</td>\n",
       "      <td>24</td>\n",
       "      <td>0.212790</td>\n",
       "      <td>972.0</td>\n",
       "      <td>1673485994000000000</td>\n",
       "      <td>2</td>\n",
       "    </tr>\n",
       "    <tr>\n",
       "      <th>129550</th>\n",
       "      <td>p6747</td>\n",
       "      <td>70</td>\n",
       "      <td>0.681911</td>\n",
       "      <td>981.0</td>\n",
       "      <td>1673488723000000000</td>\n",
       "      <td>2</td>\n",
       "    </tr>\n",
       "    <tr>\n",
       "      <th>129551</th>\n",
       "      <td>p6747</td>\n",
       "      <td>88</td>\n",
       "      <td>0.892457</td>\n",
       "      <td>969.0</td>\n",
       "      <td>1673489791000000000</td>\n",
       "      <td>2</td>\n",
       "    </tr>\n",
       "    <tr>\n",
       "      <th>129552</th>\n",
       "      <td>p6747</td>\n",
       "      <td>97</td>\n",
       "      <td>0.952305</td>\n",
       "      <td>976.0</td>\n",
       "      <td>1673490358000000000</td>\n",
       "      <td>2</td>\n",
       "    </tr>\n",
       "    <tr>\n",
       "      <th>129553</th>\n",
       "      <td>p6747</td>\n",
       "      <td>82</td>\n",
       "      <td>0.511684</td>\n",
       "      <td>988.0</td>\n",
       "      <td>1673561335000000000</td>\n",
       "      <td>2</td>\n",
       "    </tr>\n",
       "  </tbody>\n",
       "</table>\n",
       "<p>601 rows × 6 columns</p>\n",
       "</div>"
      ],
      "text/plain": [
       "        UserID  CurrentSessionLength  LevelProgressionAmount  ResponseValue  \\\n",
       "988     p10126                    31                0.760935          861.0   \n",
       "989     p10126                     0                0.000000          931.0   \n",
       "990     p10126                    18                0.524482          982.0   \n",
       "991     p10126                    37                0.044208         1000.0   \n",
       "992     p10126                    43                0.130842         1000.0   \n",
       "...        ...                   ...                     ...            ...   \n",
       "129549   p6747                    24                0.212790          972.0   \n",
       "129550   p6747                    70                0.681911          981.0   \n",
       "129551   p6747                    88                0.892457          969.0   \n",
       "129552   p6747                    97                0.952305          976.0   \n",
       "129553   p6747                    82                0.511684          988.0   \n",
       "\n",
       "                   TimeUtcY  Cluster  \n",
       "988     1660854875000000000        2  \n",
       "989     1660912742000000000        2  \n",
       "990     1660913802000000000        2  \n",
       "991     1660914964000000000        2  \n",
       "992     1660915335000000000        2  \n",
       "...                     ...      ...  \n",
       "129549  1673485994000000000        2  \n",
       "129550  1673488723000000000        2  \n",
       "129551  1673489791000000000        2  \n",
       "129552  1673490358000000000        2  \n",
       "129553  1673561335000000000        2  \n",
       "\n",
       "[601 rows x 6 columns]"
      ]
     },
     "execution_count": 25,
     "metadata": {},
     "output_type": "execute_result"
    }
   ],
   "source": [
    "merged[merged[\"Cluster\"] == 2]"
   ]
  },
  {
   "cell_type": "code",
   "execution_count": 26,
   "metadata": {
    "tags": []
   },
   "outputs": [
    {
     "ename": "ValueError",
     "evalue": "The feature names should match those that were passed during fit.\nFeature names unseen at fit time:\n- ResponseValue\nFeature names seen at fit time, yet now missing:\n- CurrentGameMode\n- QuestionTiming\n",
     "output_type": "error",
     "traceback": [
      "\u001b[1;31m---------------------------------------------------------------------------\u001b[0m",
      "\u001b[1;31mValueError\u001b[0m                                Traceback (most recent call last)",
      "Cell \u001b[1;32mIn[26], line 18\u001b[0m\n\u001b[0;32m     16\u001b[0m reg2 \u001b[38;5;241m=\u001b[39m tree\u001b[38;5;241m.\u001b[39mDecisionTreeRegressor(criterion \u001b[38;5;241m=\u001b[39m \u001b[38;5;124m\"\u001b[39m\u001b[38;5;124msquared_error\u001b[39m\u001b[38;5;124m\"\u001b[39m, max_depth \u001b[38;5;241m=\u001b[39m \u001b[38;5;241m5\u001b[39m) \u001b[38;5;66;03m# squared_error because I could do hand calculations faster than absolute_error\u001b[39;00m\n\u001b[0;32m     17\u001b[0m reg2 \u001b[38;5;241m=\u001b[39m reg2\u001b[38;5;241m.\u001b[39mfit(X_train, y_train)\n\u001b[1;32m---> 18\u001b[0m preds\u001b[38;5;241m.\u001b[39mextend(reg1\u001b[38;5;241m.\u001b[39mpredict(X_test))\n\u001b[0;32m     19\u001b[0m tests\u001b[38;5;241m.\u001b[39mextend(\u001b[38;5;28mlist\u001b[39m(y_test[\u001b[38;5;124m\"\u001b[39m\u001b[38;5;124mResponseValue\u001b[39m\u001b[38;5;124m\"\u001b[39m]))\n\u001b[0;32m     20\u001b[0m i \u001b[38;5;241m+\u001b[39m\u001b[38;5;241m=\u001b[39m \u001b[38;5;241m1\u001b[39m\n",
      "File \u001b[1;32mC:\\ProgramData\\anaconda3\\Lib\\site-packages\\sklearn\\tree\\_classes.py:529\u001b[0m, in \u001b[0;36mBaseDecisionTree.predict\u001b[1;34m(self, X, check_input)\u001b[0m\n\u001b[0;32m    506\u001b[0m \u001b[38;5;250m\u001b[39m\u001b[38;5;124;03m\"\"\"Predict class or regression value for X.\u001b[39;00m\n\u001b[0;32m    507\u001b[0m \n\u001b[0;32m    508\u001b[0m \u001b[38;5;124;03mFor a classification model, the predicted class for each sample in X is\u001b[39;00m\n\u001b[1;32m   (...)\u001b[0m\n\u001b[0;32m    526\u001b[0m \u001b[38;5;124;03m    The predicted classes, or the predict values.\u001b[39;00m\n\u001b[0;32m    527\u001b[0m \u001b[38;5;124;03m\"\"\"\u001b[39;00m\n\u001b[0;32m    528\u001b[0m check_is_fitted(\u001b[38;5;28mself\u001b[39m)\n\u001b[1;32m--> 529\u001b[0m X \u001b[38;5;241m=\u001b[39m \u001b[38;5;28mself\u001b[39m\u001b[38;5;241m.\u001b[39m_validate_X_predict(X, check_input)\n\u001b[0;32m    530\u001b[0m proba \u001b[38;5;241m=\u001b[39m \u001b[38;5;28mself\u001b[39m\u001b[38;5;241m.\u001b[39mtree_\u001b[38;5;241m.\u001b[39mpredict(X)\n\u001b[0;32m    531\u001b[0m n_samples \u001b[38;5;241m=\u001b[39m X\u001b[38;5;241m.\u001b[39mshape[\u001b[38;5;241m0\u001b[39m]\n",
      "File \u001b[1;32mC:\\ProgramData\\anaconda3\\Lib\\site-packages\\sklearn\\tree\\_classes.py:489\u001b[0m, in \u001b[0;36mBaseDecisionTree._validate_X_predict\u001b[1;34m(self, X, check_input)\u001b[0m\n\u001b[0;32m    487\u001b[0m \u001b[38;5;28;01melse\u001b[39;00m:\n\u001b[0;32m    488\u001b[0m     force_all_finite \u001b[38;5;241m=\u001b[39m \u001b[38;5;28;01mTrue\u001b[39;00m\n\u001b[1;32m--> 489\u001b[0m X \u001b[38;5;241m=\u001b[39m \u001b[38;5;28mself\u001b[39m\u001b[38;5;241m.\u001b[39m_validate_data(\n\u001b[0;32m    490\u001b[0m     X,\n\u001b[0;32m    491\u001b[0m     dtype\u001b[38;5;241m=\u001b[39mDTYPE,\n\u001b[0;32m    492\u001b[0m     accept_sparse\u001b[38;5;241m=\u001b[39m\u001b[38;5;124m\"\u001b[39m\u001b[38;5;124mcsr\u001b[39m\u001b[38;5;124m\"\u001b[39m,\n\u001b[0;32m    493\u001b[0m     reset\u001b[38;5;241m=\u001b[39m\u001b[38;5;28;01mFalse\u001b[39;00m,\n\u001b[0;32m    494\u001b[0m     force_all_finite\u001b[38;5;241m=\u001b[39mforce_all_finite,\n\u001b[0;32m    495\u001b[0m )\n\u001b[0;32m    496\u001b[0m \u001b[38;5;28;01mif\u001b[39;00m issparse(X) \u001b[38;5;129;01mand\u001b[39;00m (\n\u001b[0;32m    497\u001b[0m     X\u001b[38;5;241m.\u001b[39mindices\u001b[38;5;241m.\u001b[39mdtype \u001b[38;5;241m!=\u001b[39m np\u001b[38;5;241m.\u001b[39mintc \u001b[38;5;129;01mor\u001b[39;00m X\u001b[38;5;241m.\u001b[39mindptr\u001b[38;5;241m.\u001b[39mdtype \u001b[38;5;241m!=\u001b[39m np\u001b[38;5;241m.\u001b[39mintc\n\u001b[0;32m    498\u001b[0m ):\n\u001b[0;32m    499\u001b[0m     \u001b[38;5;28;01mraise\u001b[39;00m \u001b[38;5;167;01mValueError\u001b[39;00m(\u001b[38;5;124m\"\u001b[39m\u001b[38;5;124mNo support for np.int64 index based sparse matrices\u001b[39m\u001b[38;5;124m\"\u001b[39m)\n",
      "File \u001b[1;32mC:\\ProgramData\\anaconda3\\Lib\\site-packages\\sklearn\\base.py:608\u001b[0m, in \u001b[0;36mBaseEstimator._validate_data\u001b[1;34m(self, X, y, reset, validate_separately, cast_to_ndarray, **check_params)\u001b[0m\n\u001b[0;32m    537\u001b[0m \u001b[38;5;28;01mdef\u001b[39;00m \u001b[38;5;21m_validate_data\u001b[39m(\n\u001b[0;32m    538\u001b[0m     \u001b[38;5;28mself\u001b[39m,\n\u001b[0;32m    539\u001b[0m     X\u001b[38;5;241m=\u001b[39m\u001b[38;5;124m\"\u001b[39m\u001b[38;5;124mno_validation\u001b[39m\u001b[38;5;124m\"\u001b[39m,\n\u001b[1;32m   (...)\u001b[0m\n\u001b[0;32m    544\u001b[0m     \u001b[38;5;241m*\u001b[39m\u001b[38;5;241m*\u001b[39mcheck_params,\n\u001b[0;32m    545\u001b[0m ):\n\u001b[0;32m    546\u001b[0m \u001b[38;5;250m    \u001b[39m\u001b[38;5;124;03m\"\"\"Validate input data and set or check the `n_features_in_` attribute.\u001b[39;00m\n\u001b[0;32m    547\u001b[0m \n\u001b[0;32m    548\u001b[0m \u001b[38;5;124;03m    Parameters\u001b[39;00m\n\u001b[1;32m   (...)\u001b[0m\n\u001b[0;32m    606\u001b[0m \u001b[38;5;124;03m        validated.\u001b[39;00m\n\u001b[0;32m    607\u001b[0m \u001b[38;5;124;03m    \"\"\"\u001b[39;00m\n\u001b[1;32m--> 608\u001b[0m     \u001b[38;5;28mself\u001b[39m\u001b[38;5;241m.\u001b[39m_check_feature_names(X, reset\u001b[38;5;241m=\u001b[39mreset)\n\u001b[0;32m    610\u001b[0m     \u001b[38;5;28;01mif\u001b[39;00m y \u001b[38;5;129;01mis\u001b[39;00m \u001b[38;5;28;01mNone\u001b[39;00m \u001b[38;5;129;01mand\u001b[39;00m \u001b[38;5;28mself\u001b[39m\u001b[38;5;241m.\u001b[39m_get_tags()[\u001b[38;5;124m\"\u001b[39m\u001b[38;5;124mrequires_y\u001b[39m\u001b[38;5;124m\"\u001b[39m]:\n\u001b[0;32m    611\u001b[0m         \u001b[38;5;28;01mraise\u001b[39;00m \u001b[38;5;167;01mValueError\u001b[39;00m(\n\u001b[0;32m    612\u001b[0m             \u001b[38;5;124mf\u001b[39m\u001b[38;5;124m\"\u001b[39m\u001b[38;5;124mThis \u001b[39m\u001b[38;5;132;01m{\u001b[39;00m\u001b[38;5;28mself\u001b[39m\u001b[38;5;241m.\u001b[39m\u001b[38;5;18m__class__\u001b[39m\u001b[38;5;241m.\u001b[39m\u001b[38;5;18m__name__\u001b[39m\u001b[38;5;132;01m}\u001b[39;00m\u001b[38;5;124m estimator \u001b[39m\u001b[38;5;124m\"\u001b[39m\n\u001b[0;32m    613\u001b[0m             \u001b[38;5;124m\"\u001b[39m\u001b[38;5;124mrequires y to be passed, but the target y is None.\u001b[39m\u001b[38;5;124m\"\u001b[39m\n\u001b[0;32m    614\u001b[0m         )\n",
      "File \u001b[1;32mC:\\ProgramData\\anaconda3\\Lib\\site-packages\\sklearn\\base.py:535\u001b[0m, in \u001b[0;36mBaseEstimator._check_feature_names\u001b[1;34m(self, X, reset)\u001b[0m\n\u001b[0;32m    530\u001b[0m \u001b[38;5;28;01mif\u001b[39;00m \u001b[38;5;129;01mnot\u001b[39;00m missing_names \u001b[38;5;129;01mand\u001b[39;00m \u001b[38;5;129;01mnot\u001b[39;00m unexpected_names:\n\u001b[0;32m    531\u001b[0m     message \u001b[38;5;241m+\u001b[39m\u001b[38;5;241m=\u001b[39m (\n\u001b[0;32m    532\u001b[0m         \u001b[38;5;124m\"\u001b[39m\u001b[38;5;124mFeature names must be in the same order as they were in fit.\u001b[39m\u001b[38;5;130;01m\\n\u001b[39;00m\u001b[38;5;124m\"\u001b[39m\n\u001b[0;32m    533\u001b[0m     )\n\u001b[1;32m--> 535\u001b[0m \u001b[38;5;28;01mraise\u001b[39;00m \u001b[38;5;167;01mValueError\u001b[39;00m(message)\n",
      "\u001b[1;31mValueError\u001b[0m: The feature names should match those that were passed during fit.\nFeature names unseen at fit time:\n- ResponseValue\nFeature names seen at fit time, yet now missing:\n- CurrentGameMode\n- QuestionTiming\n"
     ]
    }
   ],
   "source": [
    "preds = []\n",
    "tests = []\n",
    "features = [\"CurrentSessionLength\", \"LevelProgressionAmount\", \"ResponseValue\", \"TimeUtcY\"]\n",
    "target = [\"ResponseValue\"]\n",
    "n_cluster = merged[\"Cluster\"].max()\n",
    "i = -1\n",
    "df = merged.drop(columns = \"UserID\")\n",
    "\n",
    "while i <= n_cluster:\n",
    "    data = df[df[\"Cluster\"] == i]\n",
    "    data = data.reset_index()\n",
    "    dataSize = int(len(data))\n",
    "    trainSize = dataSize // 1.3\n",
    "    X, y = data[features], data[target]\n",
    "    X_train, y_train , X_test, y_test = X.loc[:trainSize], y.loc[:trainSize], X.loc[trainSize:], y.loc[trainSize:]\n",
    "    reg2 = tree.DecisionTreeRegressor(criterion = \"squared_error\", max_depth = 5) # squared_error because I could do hand calculations faster than absolute_error\n",
    "    reg2 = reg2.fit(X_train, y_train)\n",
    "    preds.extend(reg1.predict(X_test))\n",
    "    tests.extend(list(y_test[\"ResponseValue\"]))\n",
    "    i += 1"
   ]
  },
  {
   "cell_type": "code",
   "execution_count": null,
   "metadata": {
    "tags": []
   },
   "outputs": [],
   "source": [
    "mean_absolute_error(tests, preds)"
   ]
  }
 ],
 "metadata": {
  "colab": {
   "provenance": []
  },
  "kernelspec": {
   "display_name": "Python 3 (ipykernel)",
   "language": "python",
   "name": "python3"
  },
  "language_info": {
   "codemirror_mode": {
    "name": "ipython",
    "version": 3
   },
   "file_extension": ".py",
   "mimetype": "text/x-python",
   "name": "python",
   "nbconvert_exporter": "python",
   "pygments_lexer": "ipython3",
   "version": "3.11.5"
  }
 },
 "nbformat": 4,
 "nbformat_minor": 4
}
