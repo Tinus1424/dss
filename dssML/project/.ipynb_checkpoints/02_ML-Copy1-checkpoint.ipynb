{
 "cells": [
  {
   "cell_type": "code",
   "execution_count": 1,
   "metadata": {
    "colab": {
     "base_uri": "https://localhost:8080/"
    },
    "executionInfo": {
     "elapsed": 2223,
     "status": "ok",
     "timestamp": 1716193241539,
     "user": {
      "displayName": "Martijn van 't Zelfden",
      "userId": "17777520305535195490"
     },
     "user_tz": -120
    },
    "id": "gBXSxsRGXG-j",
    "outputId": "4309e092-51c1-4b45-92f0-c5d114e933c0"
   },
   "outputs": [
    {
     "name": "stderr",
     "output_type": "stream",
     "text": [
      "C:\\Users\\marti\\AppData\\Roaming\\Python\\Python311\\site-packages\\pandas\\core\\arrays\\masked.py:60: UserWarning: Pandas requires version '1.3.6' or newer of 'bottleneck' (version '1.3.5' currently installed).\n",
      "  from pandas.core import (\n"
     ]
    }
   ],
   "source": [
    "import pandas as pd\n",
    "import numpy as np\n",
    "from sklearn.preprocessing import OrdinalEncoder\n",
    "from sklearn.preprocessing import OneHotEncoder\n",
    "from sklearn.model_selection import train_test_split\n",
    "\n",
    "from google.colab import drive\n",
    "drive.mount('/content/drive')\n",
    "\n",
    "x = pd.read_csv(\"data/train_data.csv\")\n",
    "\n",
    "\n",
    "FEATURES = [\"QuestionTiming\", \"TimeUtc\", \"CurrentGameMode\", \"LevelProgressionAmount\", \"ResponseValue\"]\n",
    "FEATURESTEST = [\"QuestionTiming\", \"TimeUtc\", \"CurrentGameMode\", \"LevelProgressionAmount\"]\n",
    "\n",
    "df = x[FEATURES]\n",
    "df = df.dropna()"
   ]
  },
  {
   "cell_type": "markdown",
   "metadata": {
    "tags": []
   },
   "source": [
    "# Feature Engineering"
   ]
  },
  {
   "cell_type": "markdown",
   "metadata": {},
   "source": [
    "## prepareDf(df, FEATURES)"
   ]
  },
  {
   "cell_type": "code",
   "execution_count": 110,
   "metadata": {
    "tags": []
   },
   "outputs": [],
   "source": [
    "def prepareDf(df, FEATURES):\n",
    "    df = df.dropna()\n",
    "    df = df[FEATURES]\n",
    "    return df"
   ]
  },
  {
   "cell_type": "markdown",
   "metadata": {
    "id": "Unp08kLZ0nGE",
    "tags": []
   },
   "source": [
    "## fixQuestionTiming(df)\n",
    "\"User Initiated\" == 1, \"System Initiated\" == 0"
   ]
  },
  {
   "cell_type": "code",
   "execution_count": 80,
   "metadata": {
    "executionInfo": {
     "elapsed": 1247,
     "status": "ok",
     "timestamp": 1716193242783,
     "user": {
      "displayName": "Martijn van 't Zelfden",
      "userId": "17777520305535195490"
     },
     "user_tz": -120
    },
    "id": "-QlyDtYR0rGi"
   },
   "outputs": [],
   "source": [
    "def fixQuestionTiming(df):\n",
    "    oe = OrdinalEncoder().set_output(transform = \"pandas\")\n",
    "    oeData = oe.fit_transform(df[[\"QuestionTiming\"]])\n",
    "    oeData = oeData.rename(columns = {\"QuestionTiming\": \"QuestionTimingBinary\"})\n",
    "    newDf = pd.concat([df, oeData], axis = 1).drop(columns = \"QuestionTiming\")\n",
    "    return newDf"
   ]
  },
  {
   "cell_type": "markdown",
   "metadata": {
    "id": "wOpP9XR30r4R"
   },
   "source": [
    "## fixCurrentGameMode(df)\n"
   ]
  },
  {
   "cell_type": "code",
   "execution_count": 82,
   "metadata": {
    "executionInfo": {
     "elapsed": 9,
     "status": "ok",
     "timestamp": 1716193243210,
     "user": {
      "displayName": "Martijn van 't Zelfden",
      "userId": "17777520305535195490"
     },
     "user_tz": -120
    },
    "id": "DeoGAKYt0yrT"
   },
   "outputs": [],
   "source": [
    "def fixCurrentGameMode(df):\n",
    "    df.dropna()\n",
    "    ohe = OneHotEncoder(sparse_output = False).set_output(transform = \"pandas\")\n",
    "    oheData = ohe.fit_transform(df[[\"CurrentGameMode\"]])\n",
    "    newDf = pd.concat([df, oheData], axis = 1).drop(columns = \"CurrentGameMode\")\n",
    "    return newDf"
   ]
  },
  {
   "cell_type": "markdown",
   "metadata": {
    "id": "iGcltrZh0zGg"
   },
   "source": [
    "## fixTimeUtc(df)"
   ]
  },
  {
   "cell_type": "code",
   "execution_count": 84,
   "metadata": {
    "executionInfo": {
     "elapsed": 8,
     "status": "ok",
     "timestamp": 1716193243211,
     "user": {
      "displayName": "Martijn van 't Zelfden",
      "userId": "17777520305535195490"
     },
     "user_tz": -120
    },
    "id": "n-j2KYta03Ax"
   },
   "outputs": [],
   "source": [
    "def fixTimeUtc(df):\n",
    "    df[\"TimeUtc\"] = pd.to_datetime(df[\"TimeUtc\"])\n",
    "    df[\"TimeUtc\"] = pd.to_numeric(df[\"TimeUtc\"])\n",
    "    return df\n"
   ]
  },
  {
   "cell_type": "markdown",
   "metadata": {
    "id": "gbk-cIPpELpS"
   },
   "source": [
    "## fixCurrentTasks(s, df)"
   ]
  },
  {
   "cell_type": "code",
   "execution_count": 86,
   "metadata": {
    "colab": {
     "base_uri": "https://localhost:8080/",
     "height": 297
    },
    "executionInfo": {
     "elapsed": 438,
     "status": "error",
     "timestamp": 1716193243643,
     "user": {
      "displayName": "Martijn van 't Zelfden",
      "userId": "17777520305535195490"
     },
     "user_tz": -120
    },
    "id": "Evi1NTrq5e63",
    "outputId": "0482bb27-bd5f-4cc0-bb43-cd4a0661a0f6"
   },
   "outputs": [],
   "source": [
    "def fixCurrentTask(s, df):\n",
    "    if '_' in s:\n",
    "        x = s.find('_')\n",
    "        s = s[:x]\n",
    "    ohe = OneHotEncoder(sparse_output = False).set_output(transform = \"pandas\")\n",
    "    oheData = ohe.fit_transform(df[[\"CurrentTask\"]])\n",
    "    newDf = pd.concat([df, oheData], axis = 1).drop(columns = \"CurrentTask\")\n",
    "    return newDf"
   ]
  },
  {
   "cell_type": "markdown",
   "metadata": {
    "id": "MYGSXMIg5JOi"
   },
   "source": [
    "# Data Split"
   ]
  },
  {
   "cell_type": "code",
   "execution_count": 92,
   "metadata": {
    "tags": []
   },
   "outputs": [
    {
     "data": {
      "text/html": [
       "<div>\n",
       "<style scoped>\n",
       "    .dataframe tbody tr th:only-of-type {\n",
       "        vertical-align: middle;\n",
       "    }\n",
       "\n",
       "    .dataframe tbody tr th {\n",
       "        vertical-align: top;\n",
       "    }\n",
       "\n",
       "    .dataframe thead th {\n",
       "        text-align: right;\n",
       "    }\n",
       "</style>\n",
       "<table border=\"1\" class=\"dataframe\">\n",
       "  <thead>\n",
       "    <tr style=\"text-align: right;\">\n",
       "      <th></th>\n",
       "      <th>TimeUtc</th>\n",
       "      <th>LevelProgressionAmount</th>\n",
       "      <th>ResponseValue</th>\n",
       "      <th>QuestionTimingBinary</th>\n",
       "      <th>CurrentGameMode_Career</th>\n",
       "      <th>CurrentGameMode_Challenge</th>\n",
       "      <th>CurrentGameMode_FreePlay</th>\n",
       "      <th>CurrentGameMode_Special</th>\n",
       "    </tr>\n",
       "  </thead>\n",
       "  <tbody>\n",
       "    <tr>\n",
       "      <th>2</th>\n",
       "      <td>1660865964000000000</td>\n",
       "      <td>1.000000</td>\n",
       "      <td>705.0</td>\n",
       "      <td>1.0</td>\n",
       "      <td>1.0</td>\n",
       "      <td>0.0</td>\n",
       "      <td>0.0</td>\n",
       "      <td>0.0</td>\n",
       "    </tr>\n",
       "    <tr>\n",
       "      <th>3</th>\n",
       "      <td>1660866301000000000</td>\n",
       "      <td>0.168267</td>\n",
       "      <td>817.0</td>\n",
       "      <td>0.0</td>\n",
       "      <td>1.0</td>\n",
       "      <td>0.0</td>\n",
       "      <td>0.0</td>\n",
       "      <td>0.0</td>\n",
       "    </tr>\n",
       "    <tr>\n",
       "      <th>4</th>\n",
       "      <td>1660866682000000000</td>\n",
       "      <td>0.429364</td>\n",
       "      <td>810.0</td>\n",
       "      <td>0.0</td>\n",
       "      <td>1.0</td>\n",
       "      <td>0.0</td>\n",
       "      <td>0.0</td>\n",
       "      <td>0.0</td>\n",
       "    </tr>\n",
       "    <tr>\n",
       "      <th>5</th>\n",
       "      <td>1660868244000000000</td>\n",
       "      <td>0.999766</td>\n",
       "      <td>829.0</td>\n",
       "      <td>0.0</td>\n",
       "      <td>1.0</td>\n",
       "      <td>0.0</td>\n",
       "      <td>0.0</td>\n",
       "      <td>0.0</td>\n",
       "    </tr>\n",
       "    <tr>\n",
       "      <th>6</th>\n",
       "      <td>1660868924000000000</td>\n",
       "      <td>0.315248</td>\n",
       "      <td>779.0</td>\n",
       "      <td>0.0</td>\n",
       "      <td>1.0</td>\n",
       "      <td>0.0</td>\n",
       "      <td>0.0</td>\n",
       "      <td>0.0</td>\n",
       "    </tr>\n",
       "    <tr>\n",
       "      <th>...</th>\n",
       "      <td>...</td>\n",
       "      <td>...</td>\n",
       "      <td>...</td>\n",
       "      <td>...</td>\n",
       "      <td>...</td>\n",
       "      <td>...</td>\n",
       "      <td>...</td>\n",
       "      <td>...</td>\n",
       "    </tr>\n",
       "    <tr>\n",
       "      <th>134415</th>\n",
       "      <td>1678939091000000000</td>\n",
       "      <td>0.837365</td>\n",
       "      <td>634.0</td>\n",
       "      <td>0.0</td>\n",
       "      <td>1.0</td>\n",
       "      <td>0.0</td>\n",
       "      <td>0.0</td>\n",
       "      <td>0.0</td>\n",
       "    </tr>\n",
       "    <tr>\n",
       "      <th>134416</th>\n",
       "      <td>1678941794000000000</td>\n",
       "      <td>0.983866</td>\n",
       "      <td>806.0</td>\n",
       "      <td>0.0</td>\n",
       "      <td>1.0</td>\n",
       "      <td>0.0</td>\n",
       "      <td>0.0</td>\n",
       "      <td>0.0</td>\n",
       "    </tr>\n",
       "    <tr>\n",
       "      <th>134417</th>\n",
       "      <td>1676236506000000000</td>\n",
       "      <td>0.999620</td>\n",
       "      <td>902.0</td>\n",
       "      <td>0.0</td>\n",
       "      <td>1.0</td>\n",
       "      <td>0.0</td>\n",
       "      <td>0.0</td>\n",
       "      <td>0.0</td>\n",
       "    </tr>\n",
       "    <tr>\n",
       "      <th>134418</th>\n",
       "      <td>1676237611000000000</td>\n",
       "      <td>0.763144</td>\n",
       "      <td>1000.0</td>\n",
       "      <td>0.0</td>\n",
       "      <td>1.0</td>\n",
       "      <td>0.0</td>\n",
       "      <td>0.0</td>\n",
       "      <td>0.0</td>\n",
       "    </tr>\n",
       "    <tr>\n",
       "      <th>134419</th>\n",
       "      <td>1676241209000000000</td>\n",
       "      <td>0.936303</td>\n",
       "      <td>1000.0</td>\n",
       "      <td>0.0</td>\n",
       "      <td>1.0</td>\n",
       "      <td>0.0</td>\n",
       "      <td>0.0</td>\n",
       "      <td>0.0</td>\n",
       "    </tr>\n",
       "  </tbody>\n",
       "</table>\n",
       "<p>117402 rows × 8 columns</p>\n",
       "</div>"
      ],
      "text/plain": [
       "                    TimeUtc  LevelProgressionAmount  ResponseValue  \\\n",
       "2       1660865964000000000                1.000000          705.0   \n",
       "3       1660866301000000000                0.168267          817.0   \n",
       "4       1660866682000000000                0.429364          810.0   \n",
       "5       1660868244000000000                0.999766          829.0   \n",
       "6       1660868924000000000                0.315248          779.0   \n",
       "...                     ...                     ...            ...   \n",
       "134415  1678939091000000000                0.837365          634.0   \n",
       "134416  1678941794000000000                0.983866          806.0   \n",
       "134417  1676236506000000000                0.999620          902.0   \n",
       "134418  1676237611000000000                0.763144         1000.0   \n",
       "134419  1676241209000000000                0.936303         1000.0   \n",
       "\n",
       "        QuestionTimingBinary  CurrentGameMode_Career  \\\n",
       "2                        1.0                     1.0   \n",
       "3                        0.0                     1.0   \n",
       "4                        0.0                     1.0   \n",
       "5                        0.0                     1.0   \n",
       "6                        0.0                     1.0   \n",
       "...                      ...                     ...   \n",
       "134415                   0.0                     1.0   \n",
       "134416                   0.0                     1.0   \n",
       "134417                   0.0                     1.0   \n",
       "134418                   0.0                     1.0   \n",
       "134419                   0.0                     1.0   \n",
       "\n",
       "        CurrentGameMode_Challenge  CurrentGameMode_FreePlay  \\\n",
       "2                             0.0                       0.0   \n",
       "3                             0.0                       0.0   \n",
       "4                             0.0                       0.0   \n",
       "5                             0.0                       0.0   \n",
       "6                             0.0                       0.0   \n",
       "...                           ...                       ...   \n",
       "134415                        0.0                       0.0   \n",
       "134416                        0.0                       0.0   \n",
       "134417                        0.0                       0.0   \n",
       "134418                        0.0                       0.0   \n",
       "134419                        0.0                       0.0   \n",
       "\n",
       "        CurrentGameMode_Special  \n",
       "2                           0.0  \n",
       "3                           0.0  \n",
       "4                           0.0  \n",
       "5                           0.0  \n",
       "6                           0.0  \n",
       "...                         ...  \n",
       "134415                      0.0  \n",
       "134416                      0.0  \n",
       "134417                      0.0  \n",
       "134418                      0.0  \n",
       "134419                      0.0  \n",
       "\n",
       "[117402 rows x 8 columns]"
      ]
     },
     "execution_count": 92,
     "metadata": {},
     "output_type": "execute_result"
    }
   ],
   "source": [
    "df1 = fixQuestionTiming(df)\n",
    "df1 = fixCurrentGameMode(df1)\n",
    "df1 = fixTimeUtc(df1)"
   ]
  },
  {
   "cell_type": "code",
   "execution_count": 18,
   "metadata": {
    "executionInfo": {
     "elapsed": 10,
     "status": "aborted",
     "timestamp": 1716193243645,
     "user": {
      "displayName": "Martijn van 't Zelfden",
      "userId": "17777520305535195490"
     },
     "user_tz": -120
    },
    "id": "1u0kE7835IOj"
   },
   "outputs": [],
   "source": [
    "X = df1.loc[:, df1.columns != \"ResponseValue\"]\n",
    "y = df1.loc[:, df1.columns == \"ResponseValue\"]\n",
    "X_train, X_test, y_train, y_test = train_test_split(\n",
    "    X, y, test_size = 0.33, random_state = 14\n",
    ")"
   ]
  },
  {
   "cell_type": "markdown",
   "metadata": {},
   "source": [
    "# Learning Algorithms"
   ]
  },
  {
   "cell_type": "markdown",
   "metadata": {
    "id": "OtAnKl6H66aG"
   },
   "source": [
    "## Linear Regression"
   ]
  },
  {
   "cell_type": "code",
   "execution_count": 20,
   "metadata": {
    "executionInfo": {
     "elapsed": 11,
     "status": "aborted",
     "timestamp": 1716193243646,
     "user": {
      "displayName": "Martijn van 't Zelfden",
      "userId": "17777520305535195490"
     },
     "user_tz": -120
    },
    "id": "JLM-7Qu67En1"
   },
   "outputs": [],
   "source": [
    "from sklearn.linear_model import LinearRegression\n",
    "\n",
    "linReg = LinearRegression().fit(X_train, y_train)\n",
    "linPred = linReg.predict(X_test)\n"
   ]
  },
  {
   "cell_type": "code",
   "execution_count": 21,
   "metadata": {
    "executionInfo": {
     "elapsed": 11,
     "status": "aborted",
     "timestamp": 1716193243646,
     "user": {
      "displayName": "Martijn van 't Zelfden",
      "userId": "17777520305535195490"
     },
     "user_tz": -120
    },
    "id": "FYm5VdR66xfj"
   },
   "outputs": [
    {
     "name": "stdout",
     "output_type": "stream",
     "text": [
      "165.6326550185021\n"
     ]
    }
   ],
   "source": [
    "from sklearn.metrics import mean_absolute_error\n",
    "\n",
    "MAE = mean_absolute_error(y_test, linPred)\n",
    "print(MAE)"
   ]
  },
  {
   "cell_type": "markdown",
   "metadata": {
    "id": "jkWJB5vk7ip6"
   },
   "source": [
    "## Decision Tree"
   ]
  },
  {
   "cell_type": "code",
   "execution_count": 23,
   "metadata": {
    "executionInfo": {
     "elapsed": 10,
     "status": "aborted",
     "timestamp": 1716193243646,
     "user": {
      "displayName": "Martijn van 't Zelfden",
      "userId": "17777520305535195490"
     },
     "user_tz": -120
    },
    "id": "sztaHDuV7hbK"
   },
   "outputs": [
    {
     "name": "stdout",
     "output_type": "stream",
     "text": [
      "Max Depth = 1 165.46980140720177\n",
      "Max Depth = 2 165.1713078948107\n",
      "Max Depth = 3 165.06504559413952\n",
      "Max Depth = 4 164.9094733307937\n",
      "Max Depth = 5 164.89089426028764\n",
      "Max Depth = 6 164.93011810438531\n",
      "Max Depth = 7 164.99710588605612\n",
      "Max Depth = 8 165.114992865013\n",
      "Max Depth = 9 165.1166666497375\n"
     ]
    }
   ],
   "source": [
    "from sklearn import tree\n",
    "\n",
    "i = 1\n",
    "while i < 10:\n",
    "  treeReg = tree.DecisionTreeRegressor(max_depth = i)\n",
    "  treeReg = treeReg.fit(X_train, y_train)\n",
    "  treePred = treeReg.predict(X_test)\n",
    "  print(\"Max Depth = {}\".format(i), mean_absolute_error(y_test, treePred))\n",
    "  i += 1\n"
   ]
  },
  {
   "cell_type": "markdown",
   "metadata": {
    "id": "WyWUMINLEPMD"
   },
   "source": [
    "## KNN"
   ]
  },
  {
   "cell_type": "code",
   "execution_count": 25,
   "metadata": {
    "executionInfo": {
     "elapsed": 10,
     "status": "aborted",
     "timestamp": 1716193243646,
     "user": {
      "displayName": "Martijn van 't Zelfden",
      "userId": "17777520305535195490"
     },
     "user_tz": -120
    },
    "id": "RNv6SyEGEOmM"
   },
   "outputs": [],
   "source": [
    "from sklearn.neighbors import KNeighborsRegressor\n",
    "i = 10\n",
    "bestModel = {\"Neighbors\": 0, \"MAE\" : 999}\n",
    "\n",
    "while i < 201:\n",
    "  knnReg = KNeighborsRegressor(n_neighbors = i)\n",
    "  knnReg = knnReg.fit(X_train, y_train)\n",
    "  knnPred = knnReg.predict(X_test)\n",
    "  mae = mean_absolute_error(y_test, knnPred)\n",
    "  if mae < bestModel[\"MAE\"]:\n",
    "    bestModel.update({\"Neighbors\": i, \"MAE\" : mae})\n",
    "  i += 10"
   ]
  },
  {
   "cell_type": "code",
   "execution_count": 26,
   "metadata": {
    "executionInfo": {
     "elapsed": 11,
     "status": "aborted",
     "timestamp": 1716193243647,
     "user": {
      "displayName": "Martijn van 't Zelfden",
      "userId": "17777520305535195490"
     },
     "user_tz": -120
    },
    "id": "oQvh7W-yHZjM"
   },
   "outputs": [],
   "source": [
    "knnReg = KNeighborsRegressor(n_neighbors = bestModel[\"Neighbors\"])\n",
    "knnReg = knnReg.fit(X_train, y_train)\n",
    "knnPred = knnReg.predict(X_test)"
   ]
  },
  {
   "cell_type": "markdown",
   "metadata": {
    "id": "EHeRjpu_H8Qf"
   },
   "source": [
    "## Random Forest"
   ]
  },
  {
   "cell_type": "code",
   "execution_count": 28,
   "metadata": {
    "executionInfo": {
     "elapsed": 11,
     "status": "aborted",
     "timestamp": 1716193243647,
     "user": {
      "displayName": "Martijn van 't Zelfden",
      "userId": "17777520305535195490"
     },
     "user_tz": -120
    },
    "id": "zdBdCuz7H74e"
   },
   "outputs": [],
   "source": [
    "from sklearn.ensemble import RandomForestRegressor\n",
    "y_trainrf = np.ravel(y_train)\n",
    "\n",
    "rfReg = RandomForestRegressor(n_estimators = 10, criterion = \"absolute_error\", max_depth = 3)\n",
    "rfReg = rfReg.fit(X_train, y_trainrf)\n",
    "rfPred = rfReg.predict(X_test)"
   ]
  },
  {
   "cell_type": "markdown",
   "metadata": {
    "id": "RLvEG_Da71hN"
   },
   "source": [
    "# Evaluation"
   ]
  },
  {
   "cell_type": "code",
   "execution_count": 30,
   "metadata": {
    "executionInfo": {
     "elapsed": 10,
     "status": "aborted",
     "timestamp": 1716193243647,
     "user": {
      "displayName": "Martijn van 't Zelfden",
      "userId": "17777520305535195490"
     },
     "user_tz": -120
    },
    "id": "pEFuCQIF74b_",
    "tags": []
   },
   "outputs": [
    {
     "name": "stdout",
     "output_type": "stream",
     "text": [
      "Model 0, MAE = 165.6326550185021\n",
      "Model 1, MAE = 165.1166666497375\n",
      "Model 2, MAE = 165.178790039491\n",
      "Model 3, MAE = 162.78920579201406\n"
     ]
    }
   ],
   "source": [
    "from sklearn.metrics import mean_absolute_error\n",
    "\n",
    "pred = [linPred, treePred, knnPred, rfPred]\n",
    "i = 0\n",
    "\n",
    "for y_pred in pred:\n",
    "  MAE = mean_absolute_error(y_test, y_pred)\n",
    "  print(\"Model {},\".format(i), \"MAE = {}\".format(MAE))\n",
    "  i += 1"
   ]
  },
  {
   "cell_type": "markdown",
   "metadata": {},
   "source": [
    "# Predicting"
   ]
  },
  {
   "cell_type": "code",
   "execution_count": 146,
   "metadata": {
    "tags": []
   },
   "outputs": [],
   "source": [
    "y = pd.read_csv(\"data/test_data.csv\")\n",
    "test = y[FEATURESTEST]\n",
    "test = fixQuestionTiming(test)\n",
    "test = fixCurrentGameMode(test)\n",
    "test = fixTimeUtc(test)\n",
    "test = test.drop(columns = \"CurrentGameMode_nan\")\n",
    "test = test.fillna(0)\n",
    "\n",
    "testPred = rfReg.predict(test)\n",
    "np.savetxt(\"predicted.csv\", testPred)"
   ]
  }
 ],
 "metadata": {
  "colab": {
   "provenance": []
  },
  "kernelspec": {
   "display_name": "Python 3 (ipykernel)",
   "language": "python",
   "name": "python3"
  },
  "language_info": {
   "codemirror_mode": {
    "name": "ipython",
    "version": 3
   },
   "file_extension": ".py",
   "mimetype": "text/x-python",
   "name": "python",
   "nbconvert_exporter": "python",
   "pygments_lexer": "ipython3",
   "version": "3.11.5"
  }
 },
 "nbformat": 4,
 "nbformat_minor": 4
}
