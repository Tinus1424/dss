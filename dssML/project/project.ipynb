{
 "cells": [
  {
   "cell_type": "markdown",
   "id": "543bf47e-58ed-4f0f-bd98-f5eaba2749b3",
   "metadata": {},
   "source": [
    "# Machine Learning Group Project\n",
    "\"The task is to predict a momentary self-reported well being score that was measured while people were playing a video game designed to lower stress and improve mental health.\""
   ]
  },
  {
   "cell_type": "markdown",
   "id": "5e2ce2e9-963c-4620-ae85-28665757cc2c",
   "metadata": {},
   "source": [
    "## Packages and Data"
   ]
  },
  {
   "cell_type": "code",
   "execution_count": 3,
   "id": "a15ac816-4625-4da6-9f6d-e8ddbf603450",
   "metadata": {
    "tags": []
   },
   "outputs": [],
   "source": [
    "import pandas as pd\n",
    "import numpy as np\n",
    "from datetime import datetime\n",
    "df = pd.read_csv(\"data/train_data.csv\")\n",
    "test = pd.read_csv(\"data/test_data.csv\")\n",
    "val = pd.read_csv(\"data/supplimental_data.csv\")"
   ]
  },
  {
   "cell_type": "markdown",
   "id": "99e02e85-3aae-470a-941d-4b03cb98b15e",
   "metadata": {},
   "source": [
    "## Functions"
   ]
  },
  {
   "cell_type": "code",
   "execution_count": 5,
   "id": "d0a14f63-303d-4505-a06e-8a6026e251ec",
   "metadata": {
    "tags": []
   },
   "outputs": [],
   "source": [
    "def make_categorical(dataFrame, featureList):\n",
    "    for feature in featureList:\n",
    "        dataFrame[feature] = dataFrame[feature].astype(\"category\")\n",
    "    return dataFrame\n",
    "\n",
    "def make_datetime(dataFrame, feature):\n",
    "    dataFrame[feature] = pd.to_datetime(dataFrame[feature])\n",
    "    dataFrame[feature] = dataFrame[feature].astype(\"int64\") \n",
    "    return dataFrame"
   ]
  },
  {
   "cell_type": "markdown",
   "id": "550e2c37-5f0e-43e8-b504-39a15da673ba",
   "metadata": {},
   "source": [
    "## Features and splits"
   ]
  },
  {
   "cell_type": "code",
   "execution_count": 7,
   "id": "6f858ea0-1e8f-497e-ab8f-80981154bb0a",
   "metadata": {
    "tags": []
   },
   "outputs": [
    {
     "name": "stdout",
     "output_type": "stream",
     "text": [
      "[nan]\n"
     ]
    },
    {
     "data": {
      "text/html": [
       "<div>\n",
       "<style scoped>\n",
       "    .dataframe tbody tr th:only-of-type {\n",
       "        vertical-align: middle;\n",
       "    }\n",
       "\n",
       "    .dataframe tbody tr th {\n",
       "        vertical-align: top;\n",
       "    }\n",
       "\n",
       "    .dataframe thead th {\n",
       "        text-align: right;\n",
       "    }\n",
       "</style>\n",
       "<table border=\"1\" class=\"dataframe\">\n",
       "  <thead>\n",
       "    <tr style=\"text-align: right;\">\n",
       "      <th></th>\n",
       "      <th>UserID</th>\n",
       "      <th>QuestionTiming</th>\n",
       "      <th>TimeUtc</th>\n",
       "      <th>CurrentGameMode</th>\n",
       "      <th>CurrentTask</th>\n",
       "      <th>CurrentSessionLength</th>\n",
       "      <th>LastTaskCompleted</th>\n",
       "      <th>LevelProgressionAmount</th>\n",
       "      <th>QuestionType</th>\n",
       "      <th>ResponseValue</th>\n",
       "    </tr>\n",
       "  </thead>\n",
       "  <tbody>\n",
       "    <tr>\n",
       "      <th>0</th>\n",
       "      <td>p1</td>\n",
       "      <td>User Initiated</td>\n",
       "      <td>2022-08-18 22:55:27</td>\n",
       "      <td>NaN</td>\n",
       "      <td>NaN</td>\n",
       "      <td>2</td>\n",
       "      <td>NaN</td>\n",
       "      <td>NaN</td>\n",
       "      <td>Wellbeing</td>\n",
       "      <td>509.0</td>\n",
       "    </tr>\n",
       "    <tr>\n",
       "      <th>1</th>\n",
       "      <td>p1</td>\n",
       "      <td>System Initiated</td>\n",
       "      <td>2022-08-18 23:38:31</td>\n",
       "      <td>NaN</td>\n",
       "      <td>NaN</td>\n",
       "      <td>0</td>\n",
       "      <td>NaN</td>\n",
       "      <td>NaN</td>\n",
       "      <td>Wellbeing</td>\n",
       "      <td>653.0</td>\n",
       "    </tr>\n",
       "    <tr>\n",
       "      <th>2</th>\n",
       "      <td>p1</td>\n",
       "      <td>User Initiated</td>\n",
       "      <td>2022-08-18 23:39:24</td>\n",
       "      <td>Career</td>\n",
       "      <td>HOME_VAN</td>\n",
       "      <td>1</td>\n",
       "      <td>WASH_PWVan</td>\n",
       "      <td>1.000000</td>\n",
       "      <td>Wellbeing</td>\n",
       "      <td>705.0</td>\n",
       "    </tr>\n",
       "    <tr>\n",
       "      <th>3</th>\n",
       "      <td>p1</td>\n",
       "      <td>System Initiated</td>\n",
       "      <td>2022-08-18 23:45:01</td>\n",
       "      <td>Career</td>\n",
       "      <td>RESIDENTIALSMALL_BACKYARD</td>\n",
       "      <td>6</td>\n",
       "      <td>WASH_PWVan</td>\n",
       "      <td>0.168267</td>\n",
       "      <td>Wellbeing</td>\n",
       "      <td>817.0</td>\n",
       "    </tr>\n",
       "    <tr>\n",
       "      <th>4</th>\n",
       "      <td>p1</td>\n",
       "      <td>System Initiated</td>\n",
       "      <td>2022-08-18 23:51:22</td>\n",
       "      <td>Career</td>\n",
       "      <td>RESIDENTIALSMALL_BACKYARD</td>\n",
       "      <td>13</td>\n",
       "      <td>WASH_PWVan</td>\n",
       "      <td>0.429364</td>\n",
       "      <td>Wellbeing</td>\n",
       "      <td>810.0</td>\n",
       "    </tr>\n",
       "  </tbody>\n",
       "</table>\n",
       "</div>"
      ],
      "text/plain": [
       "  UserID    QuestionTiming              TimeUtc CurrentGameMode  \\\n",
       "0     p1    User Initiated  2022-08-18 22:55:27             NaN   \n",
       "1     p1  System Initiated  2022-08-18 23:38:31             NaN   \n",
       "2     p1    User Initiated  2022-08-18 23:39:24          Career   \n",
       "3     p1  System Initiated  2022-08-18 23:45:01          Career   \n",
       "4     p1  System Initiated  2022-08-18 23:51:22          Career   \n",
       "\n",
       "                 CurrentTask  CurrentSessionLength LastTaskCompleted  \\\n",
       "0                        NaN                     2               NaN   \n",
       "1                        NaN                     0               NaN   \n",
       "2                   HOME_VAN                     1        WASH_PWVan   \n",
       "3  RESIDENTIALSMALL_BACKYARD                     6        WASH_PWVan   \n",
       "4  RESIDENTIALSMALL_BACKYARD                    13        WASH_PWVan   \n",
       "\n",
       "   LevelProgressionAmount QuestionType  ResponseValue  \n",
       "0                     NaN    Wellbeing          509.0  \n",
       "1                     NaN    Wellbeing          653.0  \n",
       "2                1.000000    Wellbeing          705.0  \n",
       "3                0.168267    Wellbeing          817.0  \n",
       "4                0.429364    Wellbeing          810.0  "
      ]
     },
     "execution_count": 7,
     "metadata": {},
     "output_type": "execute_result"
    }
   ],
   "source": [
    "print(df[0:1][\"CurrentTask\"].values)\n",
    "df.head()"
   ]
  },
  {
   "cell_type": "code",
   "execution_count": 15,
   "id": "f5d94371-9707-4917-b665-2de1c7f5bd5f",
   "metadata": {
    "tags": []
   },
   "outputs": [
    {
     "data": {
      "text/html": [
       "<div>\n",
       "<style scoped>\n",
       "    .dataframe tbody tr th:only-of-type {\n",
       "        vertical-align: middle;\n",
       "    }\n",
       "\n",
       "    .dataframe tbody tr th {\n",
       "        vertical-align: top;\n",
       "    }\n",
       "\n",
       "    .dataframe thead th {\n",
       "        text-align: right;\n",
       "    }\n",
       "</style>\n",
       "<table border=\"1\" class=\"dataframe\">\n",
       "  <thead>\n",
       "    <tr style=\"text-align: right;\">\n",
       "      <th></th>\n",
       "      <th>0</th>\n",
       "      <th>1</th>\n",
       "      <th>2</th>\n",
       "      <th>3</th>\n",
       "      <th>4</th>\n",
       "      <th>5</th>\n",
       "      <th>6</th>\n",
       "      <th>7</th>\n",
       "      <th>8</th>\n",
       "      <th>9</th>\n",
       "    </tr>\n",
       "  </thead>\n",
       "  <tbody>\n",
       "    <tr>\n",
       "      <th>0</th>\n",
       "      <td>p1</td>\n",
       "      <td>User Initiated</td>\n",
       "      <td>2022-08-18 22:55:27</td>\n",
       "      <td>Career</td>\n",
       "      <td>RECREATIONGROUND_PLAYGROUND</td>\n",
       "      <td>2</td>\n",
       "      <td>WASH_PWVan</td>\n",
       "      <td>1.0</td>\n",
       "      <td>Wellbeing</td>\n",
       "      <td>509.0</td>\n",
       "    </tr>\n",
       "    <tr>\n",
       "      <th>1</th>\n",
       "      <td>p1</td>\n",
       "      <td>System Initiated</td>\n",
       "      <td>2022-08-18 23:38:31</td>\n",
       "      <td>Career</td>\n",
       "      <td>RECREATIONGROUND_PLAYGROUND</td>\n",
       "      <td>0</td>\n",
       "      <td>WASH_PWVan</td>\n",
       "      <td>1.0</td>\n",
       "      <td>Wellbeing</td>\n",
       "      <td>653.0</td>\n",
       "    </tr>\n",
       "    <tr>\n",
       "      <th>2</th>\n",
       "      <td>p1</td>\n",
       "      <td>User Initiated</td>\n",
       "      <td>2022-08-18 23:39:24</td>\n",
       "      <td>Career</td>\n",
       "      <td>HOME_VAN</td>\n",
       "      <td>1</td>\n",
       "      <td>WASH_PWVan</td>\n",
       "      <td>1.0</td>\n",
       "      <td>Wellbeing</td>\n",
       "      <td>705.0</td>\n",
       "    </tr>\n",
       "    <tr>\n",
       "      <th>3</th>\n",
       "      <td>p1</td>\n",
       "      <td>System Initiated</td>\n",
       "      <td>2022-08-18 23:45:01</td>\n",
       "      <td>Career</td>\n",
       "      <td>RESIDENTIALSMALL_BACKYARD</td>\n",
       "      <td>6</td>\n",
       "      <td>WASH_PWVan</td>\n",
       "      <td>0.168267</td>\n",
       "      <td>Wellbeing</td>\n",
       "      <td>817.0</td>\n",
       "    </tr>\n",
       "    <tr>\n",
       "      <th>4</th>\n",
       "      <td>p1</td>\n",
       "      <td>System Initiated</td>\n",
       "      <td>2022-08-18 23:51:22</td>\n",
       "      <td>Career</td>\n",
       "      <td>RESIDENTIALSMALL_BACKYARD</td>\n",
       "      <td>13</td>\n",
       "      <td>WASH_PWVan</td>\n",
       "      <td>0.429364</td>\n",
       "      <td>Wellbeing</td>\n",
       "      <td>810.0</td>\n",
       "    </tr>\n",
       "  </tbody>\n",
       "</table>\n",
       "</div>"
      ],
      "text/plain": [
       "    0                 1                    2       3  \\\n",
       "0  p1    User Initiated  2022-08-18 22:55:27  Career   \n",
       "1  p1  System Initiated  2022-08-18 23:38:31  Career   \n",
       "2  p1    User Initiated  2022-08-18 23:39:24  Career   \n",
       "3  p1  System Initiated  2022-08-18 23:45:01  Career   \n",
       "4  p1  System Initiated  2022-08-18 23:51:22  Career   \n",
       "\n",
       "                             4   5           6         7          8      9  \n",
       "0  RECREATIONGROUND_PLAYGROUND   2  WASH_PWVan       1.0  Wellbeing  509.0  \n",
       "1  RECREATIONGROUND_PLAYGROUND   0  WASH_PWVan       1.0  Wellbeing  653.0  \n",
       "2                     HOME_VAN   1  WASH_PWVan       1.0  Wellbeing  705.0  \n",
       "3    RESIDENTIALSMALL_BACKYARD   6  WASH_PWVan  0.168267  Wellbeing  817.0  \n",
       "4    RESIDENTIALSMALL_BACKYARD  13  WASH_PWVan  0.429364  Wellbeing  810.0  "
      ]
     },
     "execution_count": 15,
     "metadata": {},
     "output_type": "execute_result"
    }
   ],
   "source": [
    "from sklearn.impute import SimpleImputer\n",
    "\n",
    "imp = SimpleImputer(strategy = \"most_frequent\")\n",
    "imp.fit_transform(df)\n",
    "df1 = imp.transform(df)\n",
    "df1 = pd.DataFrame(df1)\n",
    "df1.head()"
   ]
  },
  {
   "cell_type": "code",
   "execution_count": 9,
   "id": "a92d0343-34d1-4686-8a46-07d3442d8b43",
   "metadata": {
    "tags": []
   },
   "outputs": [
    {
     "ename": "KeyError",
     "evalue": "'UserID'",
     "output_type": "error",
     "traceback": [
      "\u001b[1;31m---------------------------------------------------------------------------\u001b[0m",
      "\u001b[1;31mKeyError\u001b[0m                                  Traceback (most recent call last)",
      "Cell \u001b[1;32mIn[9], line 2\u001b[0m\n\u001b[0;32m      1\u001b[0m featureList \u001b[38;5;241m=\u001b[39m [\u001b[38;5;124m\"\u001b[39m\u001b[38;5;124mUserID\u001b[39m\u001b[38;5;124m\"\u001b[39m, \u001b[38;5;124m\"\u001b[39m\u001b[38;5;124mQuestionTiming\u001b[39m\u001b[38;5;124m\"\u001b[39m, \u001b[38;5;124m\"\u001b[39m\u001b[38;5;124mCurrentGameMode\u001b[39m\u001b[38;5;124m\"\u001b[39m, \u001b[38;5;124m\"\u001b[39m\u001b[38;5;124mCurrentTask\u001b[39m\u001b[38;5;124m\"\u001b[39m, \u001b[38;5;124m\"\u001b[39m\u001b[38;5;124mLastTaskCompleted\u001b[39m\u001b[38;5;124m\"\u001b[39m]\n\u001b[1;32m----> 2\u001b[0m df1 \u001b[38;5;241m=\u001b[39m make_categorical(df1, featureList)\n\u001b[0;32m      3\u001b[0m df1 \u001b[38;5;241m=\u001b[39m make_datetime(df1, \u001b[38;5;124m\"\u001b[39m\u001b[38;5;124mTimeUtc\u001b[39m\u001b[38;5;124m\"\u001b[39m)\n\u001b[0;32m      5\u001b[0m FEATURES \u001b[38;5;241m=\u001b[39m  [\u001b[38;5;124m\"\u001b[39m\u001b[38;5;124mUserID\u001b[39m\u001b[38;5;124m\"\u001b[39m, \u001b[38;5;124m\"\u001b[39m\u001b[38;5;124mQuestionTiming\u001b[39m\u001b[38;5;124m\"\u001b[39m, \u001b[38;5;124m\"\u001b[39m\u001b[38;5;124mTimeUtc\u001b[39m\u001b[38;5;124m\"\u001b[39m, \u001b[38;5;124m\"\u001b[39m\u001b[38;5;124mCurrentGameMode\u001b[39m\u001b[38;5;124m\"\u001b[39m, \u001b[38;5;124m\"\u001b[39m\u001b[38;5;124mCurrentTask\u001b[39m\u001b[38;5;124m\"\u001b[39m, \u001b[38;5;124m\"\u001b[39m\u001b[38;5;124mCurrentSessionLength\u001b[39m\u001b[38;5;124m\"\u001b[39m, \u001b[38;5;124m\"\u001b[39m\u001b[38;5;124mLastTaskCompleted\u001b[39m\u001b[38;5;124m\"\u001b[39m, \u001b[38;5;124m\"\u001b[39m\u001b[38;5;124mLevelProgressionAmount\u001b[39m\u001b[38;5;124m\"\u001b[39m]\n",
      "Cell \u001b[1;32mIn[5], line 3\u001b[0m, in \u001b[0;36mmake_categorical\u001b[1;34m(dataFrame, featureList)\u001b[0m\n\u001b[0;32m      1\u001b[0m \u001b[38;5;28;01mdef\u001b[39;00m \u001b[38;5;21mmake_categorical\u001b[39m(dataFrame, featureList):\n\u001b[0;32m      2\u001b[0m     \u001b[38;5;28;01mfor\u001b[39;00m feature \u001b[38;5;129;01min\u001b[39;00m featureList:\n\u001b[1;32m----> 3\u001b[0m         dataFrame[feature] \u001b[38;5;241m=\u001b[39m dataFrame[feature]\u001b[38;5;241m.\u001b[39mastype(\u001b[38;5;124m\"\u001b[39m\u001b[38;5;124mcategory\u001b[39m\u001b[38;5;124m\"\u001b[39m)\n\u001b[0;32m      4\u001b[0m     \u001b[38;5;28;01mreturn\u001b[39;00m dataFrame\n",
      "File \u001b[1;32mC:\\ProgramData\\anaconda3\\Lib\\site-packages\\pandas\\core\\frame.py:3893\u001b[0m, in \u001b[0;36mDataFrame.__getitem__\u001b[1;34m(self, key)\u001b[0m\n\u001b[0;32m   3891\u001b[0m \u001b[38;5;28;01mif\u001b[39;00m \u001b[38;5;28mself\u001b[39m\u001b[38;5;241m.\u001b[39mcolumns\u001b[38;5;241m.\u001b[39mnlevels \u001b[38;5;241m>\u001b[39m \u001b[38;5;241m1\u001b[39m:\n\u001b[0;32m   3892\u001b[0m     \u001b[38;5;28;01mreturn\u001b[39;00m \u001b[38;5;28mself\u001b[39m\u001b[38;5;241m.\u001b[39m_getitem_multilevel(key)\n\u001b[1;32m-> 3893\u001b[0m indexer \u001b[38;5;241m=\u001b[39m \u001b[38;5;28mself\u001b[39m\u001b[38;5;241m.\u001b[39mcolumns\u001b[38;5;241m.\u001b[39mget_loc(key)\n\u001b[0;32m   3894\u001b[0m \u001b[38;5;28;01mif\u001b[39;00m is_integer(indexer):\n\u001b[0;32m   3895\u001b[0m     indexer \u001b[38;5;241m=\u001b[39m [indexer]\n",
      "File \u001b[1;32mC:\\ProgramData\\anaconda3\\Lib\\site-packages\\pandas\\core\\indexes\\range.py:418\u001b[0m, in \u001b[0;36mRangeIndex.get_loc\u001b[1;34m(self, key)\u001b[0m\n\u001b[0;32m    416\u001b[0m         \u001b[38;5;28;01mraise\u001b[39;00m \u001b[38;5;167;01mKeyError\u001b[39;00m(key) \u001b[38;5;28;01mfrom\u001b[39;00m \u001b[38;5;21;01merr\u001b[39;00m\n\u001b[0;32m    417\u001b[0m \u001b[38;5;28;01mif\u001b[39;00m \u001b[38;5;28misinstance\u001b[39m(key, Hashable):\n\u001b[1;32m--> 418\u001b[0m     \u001b[38;5;28;01mraise\u001b[39;00m \u001b[38;5;167;01mKeyError\u001b[39;00m(key)\n\u001b[0;32m    419\u001b[0m \u001b[38;5;28mself\u001b[39m\u001b[38;5;241m.\u001b[39m_check_indexing_error(key)\n\u001b[0;32m    420\u001b[0m \u001b[38;5;28;01mraise\u001b[39;00m \u001b[38;5;167;01mKeyError\u001b[39;00m(key)\n",
      "\u001b[1;31mKeyError\u001b[0m: 'UserID'"
     ]
    }
   ],
   "source": [
    "featureList = [\"UserID\", \"QuestionTiming\", \"CurrentGameMode\", \"CurrentTask\", \"LastTaskCompleted\"]\n",
    "df1 = make_categorical(df1, featureList)\n",
    "df1 = make_datetime(df1, \"TimeUtc\")\n",
    "\n",
    "FEATURES =  [\"UserID\", \"QuestionTiming\", \"TimeUtc\", \"CurrentGameMode\", \"CurrentTask\", \"CurrentSessionLength\", \"LastTaskCompleted\", \"LevelProgressionAmount\"]\n",
    "RESTRICTED = [\"UserID\", \"TimeUtc\", \"CurrentGameMode\", \"CurrentTask\", \"CurrentSessionLength\", \"LastTaskCompleted\"]\n",
    "TARGET = [\"ResponseValue\"]"
   ]
  },
  {
   "cell_type": "code",
   "execution_count": null,
   "id": "758da7f5-9997-4520-a971-35199c9d8f1f",
   "metadata": {
    "tags": []
   },
   "outputs": [],
   "source": [
    "train = pd.DataFrame()\n",
    "test = pd.DataFrame()\n",
    "\n",
    "\n",
    "for userID, entry in df1.groupby(\"UserID\", observed = True):\n",
    "    numEntries = len(entry)\n",
    "    trainSize = int(numEntries * 0.5)\n",
    "    trainCon = entry[:trainSize]\n",
    "    testCon = entry[trainSize:]\n",
    "    train = pd.concat([train, trainCon])\n",
    "    test = pd.concat([test, testCon])"
   ]
  },
  {
   "cell_type": "code",
   "execution_count": null,
   "id": "e1ddd7d9-4839-4772-8057-b57b49c24c2f",
   "metadata": {
    "tags": []
   },
   "outputs": [],
   "source": [
    "X_train = train[RESTRICTED]\n",
    "y_train = train[TARGET]\n",
    "X_test = test[RESTRICTED]\n",
    "y_test = test[TARGET]\n"
   ]
  },
  {
   "cell_type": "code",
   "execution_count": null,
   "id": "15effec3-65a3-40eb-b69f-df3dea8dd5a4",
   "metadata": {
    "tags": []
   },
   "outputs": [],
   "source": [
    "import xgboost as xgb\n",
    "reg = xgb.XGBRegressor(tree_method=\"hist\", enable_categorical=True, eval_metric = \"mae\", n_estimators = 500)\n",
    "\n",
    "reg = reg.fit(X_train, y_train, \n",
    "        eval_set = [(X_train, y_train), (X_test, y_test)],\n",
    "        verbose = 100)"
   ]
  },
  {
   "cell_type": "code",
   "execution_count": null,
   "id": "51cffc29-76fb-4316-afc3-7292f19ced14",
   "metadata": {
    "tags": []
   },
   "outputs": [],
   "source": [
    "from sklearn.neighbors import KNeighborsRegressor\n",
    "neigh = KNeighborsRegressor(n_neighbors = 2)\n",
    "neigh.fit(X_train, y_train)\n",
    "neigh.predict(X_test)"
   ]
  }
 ],
 "metadata": {
  "kernelspec": {
   "display_name": "Python 3 (ipykernel)",
   "language": "python",
   "name": "python3"
  },
  "language_info": {
   "codemirror_mode": {
    "name": "ipython",
    "version": 3
   },
   "file_extension": ".py",
   "mimetype": "text/x-python",
   "name": "python",
   "nbconvert_exporter": "python",
   "pygments_lexer": "ipython3",
   "version": "3.11.5"
  }
 },
 "nbformat": 4,
 "nbformat_minor": 5
}
