{
 "cells": [
  {
   "cell_type": "markdown",
   "metadata": {},
   "source": [
    "# Data Processing Inspection Midterm Notebook\n",
    "\n",
    "---\n",
    "\n",
    "> **README**: To use this notebook, paste your solutions to the exam questions in the cells underneath `Paste your answer below:`. The first line can be used to verify the name of the function (you should paste over the `#...` part). If you execute all cells in order, the very last cell at the bottom should give you the total amount of points you would get for your midterm. \n"
   ]
  },
  {
   "cell_type": "code",
   "execution_count": 41,
   "metadata": {},
   "outputs": [],
   "source": [
    "def grade_function(function, tests, question_n):\n",
    "    \"\"\"This grades the provided function against our solution\n",
    "       function with a list of tests as input.\"\"\"\n",
    "    total_points = 0\n",
    "    for i, test_input in enumerate(tests):  # for every test input\n",
    "        \n",
    "        if isinstance(test_input, str):  # if string input, don't split args\n",
    "            inputs = 'test_input'\n",
    "        elif isinstance(test_input, list):  # same with list\n",
    "            inputs = 'test_input'\n",
    "        else:  # if it's a tuple, the input has to be split over multiple args\n",
    "            inputs = '*test_input'\n",
    "        \n",
    "        try:  # eval executes: solution_function_name(inputs)\n",
    "            correct_output = eval(f'solution_{function}({inputs})')\n",
    "            print(\"Correct output:\\t {\", correct_output, \"}\")\n",
    "            \n",
    "            print(\"Your output:\\t { \", end='')\n",
    "            # here eval executes: function_name(inputs) (i.e., your function)\n",
    "            student_output = eval(f'{function}({inputs})')\n",
    "            print(student_output, \"}\")\n",
    "            \n",
    "            # if the solution ouput is the same as your ouput you get points\n",
    "            if str(correct_output) == str(student_output):\n",
    "                item_points = 2 \n",
    "                total_points += item_points  # add your points to the total\n",
    "                print(f\"Output {i + 1} correct, points + {item_points}\")\n",
    "        # if the script runs into an error, no points are allocated\n",
    "        except Exception as e:\n",
    "            print(\"Error:\", e, \"\\n no points for this answer\")\n",
    "\n",
    "    print(\"-\" * 30 + \"\\n points for question:\", total_points)\n",
    "    return total_points  # total points for this question are returned"
   ]
  },
  {
   "cell_type": "markdown",
   "metadata": {},
   "source": [
    "<strong>Question 1</strong>\n",
    "<br>\n",
    "<br>\n",
    "<br><strong>Parameters</strong>: Write a function <code>is_palindrome</code> which as input takes a single argument:\n",
    "<br>\n",
    "\n",
    "<ul>\n",
    "\t<li><code>input</code> : a <code>str</code>, representing a single sequence of characters.</li>\n",
    "</ul>\n",
    "<br><strong>Return</strong>: a <code>bool</code> where <code>True</code> means <code>input</code> is a palindrome and <code>False</code> that it is not.\n",
    "<br>\n",
    "<br><strong>Note</strong>: A palindrome is a word, number, phrase, or other sequence of characters which reads the same backward as forward, such as <em>madam,&nbsp;racecar</em> or <em>2002.</em>\n",
    "<br>\n",
    "<br><strong>Examples:</strong> so,\n",
    "<br><pre><code>is_palindrome(\"madam\")\n",
    "</code></pre>\n",
    "<br>Should return:\n",
    "<br><pre><code>True\n",
    "</code></pre>\n"
   ]
  },
  {
   "cell_type": "markdown",
   "metadata": {},
   "source": [
    "**Solution:**"
   ]
  },
  {
   "cell_type": "code",
   "execution_count": 42,
   "metadata": {},
   "outputs": [],
   "source": [
    "def solution_is_palindrome(word):\n",
    "    rev = word[::-1]\n",
    "    if rev == word:\n",
    "        return True\n",
    "    return False "
   ]
  },
  {
   "cell_type": "markdown",
   "metadata": {},
   "source": [
    "**Paste your answer below:**"
   ]
  },
  {
   "cell_type": "code",
   "execution_count": 43,
   "metadata": {},
   "outputs": [],
   "source": [
    "def is_palindrome(word):\n",
    "    input2 = word[::-1]\n",
    "    if input2 == word:\n",
    "        return True\n",
    "    else:\n",
    "        return False"
   ]
  },
  {
   "cell_type": "markdown",
   "metadata": {},
   "source": [
    "**Test Cases:**"
   ]
  },
  {
   "cell_type": "code",
   "execution_count": 44,
   "metadata": {},
   "outputs": [
    {
     "name": "stdout",
     "output_type": "stream",
     "text": [
      "Correct output:\t { True }\n",
      "Your output:\t { True }\n",
      "Output 1 correct, points + 2\n",
      "Correct output:\t { True }\n",
      "Your output:\t { True }\n",
      "Output 2 correct, points + 2\n",
      "Correct output:\t { True }\n",
      "Your output:\t { True }\n",
      "Output 3 correct, points + 2\n",
      "Correct output:\t { False }\n",
      "Your output:\t { False }\n",
      "Output 4 correct, points + 2\n",
      "Correct output:\t { False }\n",
      "Your output:\t { False }\n",
      "Output 5 correct, points + 2\n",
      "------------------------------\n",
      " points for question: 10\n"
     ]
    }
   ],
   "source": [
    "tests = [\n",
    "    (\"\"),\n",
    "    (\"2002\"),\n",
    "    (\"02022020\"),\n",
    "    (\"ghggggggggggggggggggggggggh\"),\n",
    "    (\"ab\")\n",
    "]\n",
    "\n",
    "q1 = grade_function('is_palindrome', tests, question_n=1)"
   ]
  },
  {
   "cell_type": "markdown",
   "metadata": {},
   "source": [
    "<strong>Question 2</strong>\n",
    "<br>\n",
    "<br>A social media influencer wants to increase their followers. They noticed that every time they post a give-away, followers increase by 10%. Naively assuming this goes on forever, they’d like to know how many give-aways to post in order to reach a particular target number of followers.\n",
    "<br>\n",
    "<br><strong>Parameters</strong>: Write a function <code>get_followers</code> which as input takes two arguments:\n",
    "<br>\n",
    "\n",
    "<ul>\n",
    "\t<li><code>n_followers</code> : a non-negative <code>int</code>, representing the current number of followers.</li>\n",
    "\t<li><code>t_followers</code> : a non-negative <code>int</code>, representing the target number of followers.</li>\n",
    "</ul>\n",
    "<br><strong>Return</strong>: a non-negative <code>int</code> representing the number of give-aways that ensures reaching the target number of followers (assuming the current number of followers as a start).\n",
    "<br>\n",
    "<br><strong>Example</strong>: so,\n",
    "<br><pre><code>get_followers(100000,200000)\n",
    "</code></pre>\n",
    "<br>should return:\n",
    "<br><pre><code>8\n",
    "</code></pre>\n"
   ]
  },
  {
   "cell_type": "markdown",
   "metadata": {},
   "source": [
    "**Solution:**"
   ]
  },
  {
   "cell_type": "code",
   "execution_count": 45,
   "metadata": {},
   "outputs": [],
   "source": [
    "def solution_get_followers(n_followers, t_followers):\n",
    "    give_aways = 0\n",
    "    while n_followers < t_followers:\n",
    "        give_aways += 1\n",
    "        n_followers = n_followers * 1.10\n",
    "    return give_aways"
   ]
  },
  {
   "cell_type": "markdown",
   "metadata": {},
   "source": [
    "**Paste your answer below:**"
   ]
  },
  {
   "cell_type": "code",
   "execution_count": 46,
   "metadata": {},
   "outputs": [],
   "source": [
    "def get_followers(n_followers, t_followers):\n",
    "    i = 0\n",
    "    while n_followers < t_followers:\n",
    "        n_followers = n_followers * 1.1\n",
    "        i += 1\n",
    "    return i"
   ]
  },
  {
   "cell_type": "markdown",
   "metadata": {},
   "source": [
    "**Test Cases:**"
   ]
  },
  {
   "cell_type": "code",
   "execution_count": 47,
   "metadata": {},
   "outputs": [
    {
     "name": "stdout",
     "output_type": "stream",
     "text": [
      "Correct output:\t { 0 }\n",
      "Your output:\t { 0 }\n",
      "Output 1 correct, points + 2\n",
      "Correct output:\t { 0 }\n",
      "Your output:\t { 0 }\n",
      "Output 2 correct, points + 2\n",
      "Correct output:\t { 15 }\n",
      "Your output:\t { 15 }\n",
      "Output 3 correct, points + 2\n",
      "Correct output:\t { 1 }\n",
      "Your output:\t { 1 }\n",
      "Output 4 correct, points + 2\n",
      "Correct output:\t { 0 }\n",
      "Your output:\t { 0 }\n",
      "Output 5 correct, points + 2\n",
      "------------------------------\n",
      " points for question: 10\n"
     ]
    }
   ],
   "source": [
    "tests = [\n",
    "    (0,0),\n",
    "    (100,10),\n",
    "    (10,40),\n",
    "    (100,110),\n",
    "    (100,0),\n",
    "]\n",
    "\n",
    "\n",
    "q2 = grade_function('get_followers', tests, question_n=2)"
   ]
  },
  {
   "cell_type": "markdown",
   "metadata": {},
   "source": [
    "<strong>Question 3</strong>\n",
    "<br>\n",
    "<br>B.S. wants to order food. He wrote his rather sizeable order in <code>order.txt</code> with a clarification of the order after the name, and the estimated price for every item at the end. For example:\n",
    "<br>\n",
    "<br><pre><code>#9 two                 20\n",
    "#9 large               10\n",
    "#6 extra-dip           10\n",
    "#7 -                    5\n",
    "#45 two,1-with-cheese  25\n",
    "</code></pre>\n",
    "<br><strong>Parameters</strong>: Write a function <code>total_charge</code> which as input takes one argument:\n",
    "<br>\n",
    "\n",
    "<ul>\n",
    "\t<li><code>filename</code> : a <code>str</code>, pointing to a file name <strong>and path</strong> (e.g., <code>./dir/file.txt</code>).</li>\n",
    "</ul>\n",
    "<br><strong>Return</strong>: an <code>int</code> with the total amount B.S. will be charged.\n",
    "<br>\n",
    "<br><strong>Note</strong>: to test this function, create the file by copy-pasting the example contents above. Do not mess with the spaces.\n",
    "<br>\n",
    "<br><strong>Example</strong>: so,\n",
    "<br><pre><code>total_charge(\"./cluck/order.txt\")\n",
    "</code></pre>\n",
    "<br>should return:\n",
    "<br><pre><code>70\n",
    "</code></pre>\n"
   ]
  },
  {
   "cell_type": "markdown",
   "metadata": {},
   "source": [
    "**Solution:**"
   ]
  },
  {
   "cell_type": "code",
   "execution_count": 48,
   "metadata": {},
   "outputs": [],
   "source": [
    "def solution_total_charge(filename):\n",
    "    f = open(filename)\n",
    "    total = 0\n",
    "    for line in f:\n",
    "        if len(line)>1:         \n",
    "            line = line.strip().split()\n",
    "            total += int(line[-1])\n",
    "    return total"
   ]
  },
  {
   "cell_type": "markdown",
   "metadata": {},
   "source": [
    "**Paste your answer below:**"
   ]
  },
  {
   "cell_type": "code",
   "execution_count": 49,
   "metadata": {},
   "outputs": [],
   "source": [
    "def total_charge(filename):\n",
    "    with open(filename) as ot:\n",
    "        total = 0\n",
    "        while True:\n",
    "            line = ot.readline()\n",
    "            if not line:\n",
    "                break\n",
    "            number = int(line[-3:])\n",
    "            total += number\n",
    "    return total"
   ]
  },
  {
   "cell_type": "markdown",
   "metadata": {},
   "source": [
    "**Test Cases:**"
   ]
  },
  {
   "cell_type": "code",
   "execution_count": 50,
   "metadata": {},
   "outputs": [
    {
     "name": "stdout",
     "output_type": "stream",
     "text": [
      "Correct output:\t { 0 }\n",
      "Your output:\t { 0 }\n",
      "Output 1 correct, points + 2\n",
      "Correct output:\t { 20 }\n",
      "Your output:\t { 20 }\n",
      "Output 2 correct, points + 2\n",
      "Correct output:\t { 30 }\n",
      "Your output:\t { 30 }\n",
      "Output 3 correct, points + 2\n",
      "Correct output:\t { 45 }\n",
      "Your output:\t { 45 }\n",
      "Output 4 correct, points + 2\n",
      "Correct output:\t { 70 }\n",
      "Your output:\t { 70 }\n",
      "Output 5 correct, points + 2\n",
      "------------------------------\n",
      " points for question: 10\n"
     ]
    }
   ],
   "source": [
    "def create_files(fn):\n",
    "    if '1' in fn:\n",
    "        line = ''\n",
    "    elif '2' in fn:\n",
    "        line = '#9 two                 20'\n",
    "    elif '3' in fn:\n",
    "        line = '#9 two                 20\\n#9 large               10'\n",
    "    elif '4' in fn:\n",
    "        line = '#9 two                 20\\n#9 large               10\\n#6 extra-dip           10\\n#7 -                    5'\n",
    "    elif '5' in fn:\n",
    "        line = '#9 two                 20\\n#9 large               10\\n#6 extra-dip           10\\n#7 -                    5\\n#45 two,1-with-cheese  25'\n",
    "    with open(fn, 'w') as fo:\n",
    "        fo.write(line)\n",
    "\n",
    "tests = [\n",
    "    ('./midterm_total_charge1.txt'),\n",
    "    ('./midterm_total_charge2.txt'),\n",
    "    ('./midterm_total_charge3.txt'),\n",
    "    ('./midterm_total_charge4.txt'),\n",
    "    ('./midterm_total_charge5.txt')\n",
    "]\n",
    "[create_files(fn) for fn in tests]\n",
    "q3 = grade_function('total_charge', tests, question_n=3)"
   ]
  },
  {
   "cell_type": "markdown",
   "metadata": {},
   "source": [
    "**Final Score out of 30** "
   ]
  },
  {
   "cell_type": "code",
   "execution_count": 51,
   "metadata": {},
   "outputs": [
    {
     "data": {
      "text/plain": [
       "30"
      ]
     },
     "execution_count": 51,
     "metadata": {},
     "output_type": "execute_result"
    }
   ],
   "source": [
    "sum([eval('q' + str(i)) for i in range(1,4)])"
   ]
  }
 ],
 "metadata": {
  "kernelspec": {
   "display_name": "Python 3 (ipykernel)",
   "language": "python",
   "name": "python3"
  },
  "language_info": {
   "codemirror_mode": {
    "name": "ipython",
    "version": 3
   },
   "file_extension": ".py",
   "mimetype": "text/x-python",
   "name": "python",
   "nbconvert_exporter": "python",
   "pygments_lexer": "ipython3",
   "version": "3.11.5"
  }
 },
 "nbformat": 4,
 "nbformat_minor": 4
}
