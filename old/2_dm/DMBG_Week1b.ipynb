{
 "cells": [
  {
   "cell_type": "markdown",
   "id": "13ad00ea",
   "metadata": {},
   "source": [
    "## Data Preprocessing\n",
    "In this notebook, we explain some pre-processing techniques:\n",
    "- Removing and imputing missing values.\n",
    "- Normalization and standardization of numerical data .\n",
    "- Encoding non-numerical data. "
   ]
  },
  {
   "cell_type": "markdown",
   "id": "fa540f1e",
   "metadata": {},
   "source": [
    "<div class=\"alert alert-info\">Read the dataset.</div>"
   ]
  },
  {
   "cell_type": "markdown",
   "id": "6420935b-4937-4bc9-a586-da49f11465f2",
   "metadata": {},
   "source": [
    "<div class=\"alert alert-danger\">Exercise 1: Write a code snippet to read the  titanic dataset from local drive?</div>"
   ]
  },
  {
   "cell_type": "code",
   "execution_count": 26,
   "id": "2e3a964f-cc95-4f7e-a1ac-24fc45b935e5",
   "metadata": {},
   "outputs": [],
   "source": [
    "import pandas as pd\n",
    "file = \"hepatitis.csv\"\n",
    "df = pd.read_csv(file)"
   ]
  },
  {
   "cell_type": "code",
   "execution_count": null,
   "id": "3529d8b9-8fd1-409a-812a-e116d5f7d97a",
   "metadata": {},
   "outputs": [],
   "source": []
  },
  {
   "cell_type": "code",
   "execution_count": null,
   "id": "114f9f6d-44ab-4bc1-b13b-7b17543fcba0",
   "metadata": {},
   "outputs": [],
   "source": []
  },
  {
   "cell_type": "markdown",
   "id": "699eef61",
   "metadata": {},
   "source": [
    "<div class=\"alert alert-info\">Removing the missing values.</div>"
   ]
  },
  {
   "cell_type": "code",
   "execution_count": 27,
   "id": "0031bcd8",
   "metadata": {},
   "outputs": [
    {
     "data": {
      "text/plain": [
       "age                 0.000000\n",
       "sex                 0.000000\n",
       "steroid             0.645161\n",
       "antivirals          0.000000\n",
       "fatigue             0.645161\n",
       "malaise             0.645161\n",
       "anorexia            0.645161\n",
       "liver_big           6.451613\n",
       "liver_firm          7.096774\n",
       "spleen_palpable     3.225806\n",
       "spiders             3.225806\n",
       "ascites             3.225806\n",
       "varices             3.225806\n",
       "bilirubin           3.870968\n",
       "alk_phosphate      18.709677\n",
       "sgot                2.580645\n",
       "albumin            10.322581\n",
       "protime            43.225806\n",
       "histology           0.000000\n",
       "class               0.000000\n",
       "dtype: float64"
      ]
     },
     "execution_count": 27,
     "metadata": {},
     "output_type": "execute_result"
    }
   ],
   "source": [
    "# Check the proportion of missing values in each column\n",
    "missing_percentage = (df.isna().sum() / len(df)) * 100\n",
    "missing_percentage"
   ]
  },
  {
   "cell_type": "markdown",
   "id": "fe682885-13cd-49c2-b3f9-1696e7c13587",
   "metadata": {},
   "source": [
    "<div class=\"alert alert-danger\">Exercise 2: Which column has the highest number of missing values?</div>"
   ]
  },
  {
   "cell_type": "code",
   "execution_count": 28,
   "id": "31520b88-12c7-444c-adfb-a02fa85bab47",
   "metadata": {},
   "outputs": [
    {
     "name": "stdout",
     "output_type": "stream",
     "text": [
      "(155, 20)\n",
      "(155, 5)\n"
     ]
    }
   ],
   "source": [
    "df1=df.dropna(axis=1)\n",
    "print(df.shape)\n",
    "print(df1.shape)"
   ]
  },
  {
   "cell_type": "code",
   "execution_count": 29,
   "id": "5cead992",
   "metadata": {},
   "outputs": [
    {
     "name": "stdout",
     "output_type": "stream",
     "text": [
      "(155, 20)\n",
      "(80, 20)\n"
     ]
    }
   ],
   "source": [
    "df1=df.dropna(axis=0)\n",
    "print(df.shape)\n",
    "print(df1.shape)"
   ]
  },
  {
   "cell_type": "code",
   "execution_count": 30,
   "id": "30b5c6f5",
   "metadata": {},
   "outputs": [
    {
     "data": {
      "text/plain": [
       "(88, 20)"
      ]
     },
     "execution_count": 30,
     "metadata": {},
     "output_type": "execute_result"
    }
   ],
   "source": [
    "df1=df.copy()\n",
    "df1.dropna(subset=['protime'],axis=0,inplace=True)\n",
    "df1.shape"
   ]
  },
  {
   "cell_type": "code",
   "execution_count": 31,
   "id": "8a057e40",
   "metadata": {},
   "outputs": [
    {
     "data": {
      "text/plain": [
       "(155, 17)"
      ]
     },
     "execution_count": 31,
     "metadata": {},
     "output_type": "execute_result"
    }
   ],
   "source": [
    "df1=df.copy()\n",
    "df1.dropna(thresh=0.9*len(df),axis=1,inplace=True)\n",
    "df1.shape"
   ]
  },
  {
   "cell_type": "markdown",
   "id": "6706d342-139f-4ad6-9395-b6ad4f2ba051",
   "metadata": {},
   "source": [
    "<div class=\"alert alert-danger\">Exercise 3: What is the outcome of running the following code?</div>"
   ]
  },
  {
   "cell_type": "code",
   "execution_count": 32,
   "id": "2844f2d1-901c-41c5-a2ae-0fc074a60f6c",
   "metadata": {},
   "outputs": [],
   "source": [
    "df2=df.copy()\n",
    "df2.dropna(thresh=0.95*len(df2),axis=1,inplace=True)"
   ]
  },
  {
   "cell_type": "code",
   "execution_count": null,
   "id": "92ca3b14-f6f5-407b-abfb-ab9e62845fa6",
   "metadata": {},
   "outputs": [],
   "source": []
  },
  {
   "cell_type": "markdown",
   "id": "858017a6",
   "metadata": {},
   "source": [
    "<div class=\"alert alert-info\">Impute the missing values for numeric data.</div>"
   ]
  },
  {
   "cell_type": "code",
   "execution_count": 33,
   "id": "12cd4ef0",
   "metadata": {},
   "outputs": [
    {
     "name": "stdout",
     "output_type": "stream",
     "text": [
      "0\n"
     ]
    }
   ],
   "source": [
    "#Mean Imputation for numerical data\n",
    "df1=df.copy()\n",
    "mean_value = df['protime'].mean()\n",
    "df['protime'].fillna(mean_value, inplace=True)\n",
    "missing_count = df['protime'].isna().sum()\n",
    "print(missing_count)"
   ]
  },
  {
   "cell_type": "code",
   "execution_count": 34,
   "id": "3e6061ed",
   "metadata": {},
   "outputs": [
    {
     "name": "stdout",
     "output_type": "stream",
     "text": [
      "0\n"
     ]
    }
   ],
   "source": [
    "#Median Imputation for numerical data\n",
    "df1=df.copy()\n",
    "median_value = df1['protime'].median()\n",
    "df1['protime'].fillna(median_value, inplace=True)\n",
    "missing_count = df1['protime'].isna().sum()\n",
    "print(missing_count)"
   ]
  },
  {
   "cell_type": "markdown",
   "id": "743aba58",
   "metadata": {},
   "source": [
    "<div class=\"alert alert-info\">Impute the missing values for categorical data.</div>"
   ]
  },
  {
   "cell_type": "code",
   "execution_count": 35,
   "id": "c5a30eb5",
   "metadata": {},
   "outputs": [],
   "source": [
    "#Mode Imputation for categorical data\n",
    "mode_value = df['steroid'].mode()[0]\n",
    "df['steroid'].fillna(mode_value, inplace=True)\n"
   ]
  },
  {
   "cell_type": "markdown",
   "id": "a77977ba",
   "metadata": {},
   "source": [
    "<div class=\"alert alert-info\">Normalization of numerical features</div>"
   ]
  },
  {
   "cell_type": "code",
   "execution_count": 36,
   "id": "289be5a8",
   "metadata": {},
   "outputs": [],
   "source": [
    "# First replce the missing values with mean of the column \n",
    "mean_value = df['protime'].mean()\n",
    "df['protime'].fillna(mean_value, inplace=True)"
   ]
  },
  {
   "cell_type": "code",
   "execution_count": 44,
   "id": "1c78d57a",
   "metadata": {},
   "outputs": [],
   "source": [
    "from sklearn.preprocessing import MinMaxScaler\n",
    "scaler = MinMaxScaler()\n",
    "df['protime'] = scaler.fit_transform(df[['protime']])"
   ]
  },
  {
   "cell_type": "markdown",
   "id": "faf3d2ba-f7fc-4367-8604-fedb928d3b20",
   "metadata": {},
   "source": [
    "<div class=\"alert alert-danger\">Exercise 4: Given the code below, the value \"a\" and \"b\" are equal to...?(use print to see the values)</div>"
   ]
  },
  {
   "cell_type": "code",
   "execution_count": 39,
   "id": "1e1d0a2d-fd1e-42de-a15c-117d3d1421dc",
   "metadata": {},
   "outputs": [],
   "source": [
    "a=(df['protime'].min())\n",
    "b=(df['protime'].max())"
   ]
  },
  {
   "cell_type": "code",
   "execution_count": 40,
   "id": "8d5a9add-fb2a-4e49-bd9e-8b6ea10f95d4",
   "metadata": {},
   "outputs": [
    {
     "name": "stdout",
     "output_type": "stream",
     "text": [
      "0.0\n",
      "1.0\n"
     ]
    }
   ],
   "source": [
    "print(a)\n",
    "print(b)"
   ]
  },
  {
   "cell_type": "markdown",
   "id": "3f333629",
   "metadata": {},
   "source": [
    "<div class=\"alert alert-info\">Standardization of numerical features</div>"
   ]
  },
  {
   "cell_type": "code",
   "execution_count": 43,
   "id": "0719a3d6",
   "metadata": {},
   "outputs": [
    {
     "name": "stdout",
     "output_type": "stream",
     "text": [
      "0.0\n",
      "1.0\n"
     ]
    }
   ],
   "source": [
    "from sklearn.preprocessing import StandardScaler\n",
    "scaler = StandardScaler()\n",
    "df['protime'] = scaler.fit_transform(df[['protime']])\n",
    "# check the mean and standard deviation\n",
    "print(round(df['protime'].mean(),2))\n",
    "import numpy as np\n",
    "std = np.std(df['protime'])\n",
    "print(round(std,2))"
   ]
  },
  {
   "cell_type": "markdown",
   "id": "a9b1a74b",
   "metadata": {},
   "source": [
    "<div class=\"alert alert-info\">Handling categorical data (creating dummy variables)</div>"
   ]
  },
  {
   "cell_type": "code",
   "execution_count": 42,
   "id": "d72cba9b",
   "metadata": {},
   "outputs": [
    {
     "data": {
      "text/html": [
       "<div>\n",
       "<style scoped>\n",
       "    .dataframe tbody tr th:only-of-type {\n",
       "        vertical-align: middle;\n",
       "    }\n",
       "\n",
       "    .dataframe tbody tr th {\n",
       "        vertical-align: top;\n",
       "    }\n",
       "\n",
       "    .dataframe thead th {\n",
       "        text-align: right;\n",
       "    }\n",
       "</style>\n",
       "<table border=\"1\" class=\"dataframe\">\n",
       "  <thead>\n",
       "    <tr style=\"text-align: right;\">\n",
       "      <th></th>\n",
       "      <th>age</th>\n",
       "      <th>sex</th>\n",
       "      <th>antivirals</th>\n",
       "      <th>fatigue</th>\n",
       "      <th>malaise</th>\n",
       "      <th>anorexia</th>\n",
       "      <th>liver_big</th>\n",
       "      <th>liver_firm</th>\n",
       "      <th>spleen_palpable</th>\n",
       "      <th>spiders</th>\n",
       "      <th>ascites</th>\n",
       "      <th>varices</th>\n",
       "      <th>bilirubin</th>\n",
       "      <th>alk_phosphate</th>\n",
       "      <th>sgot</th>\n",
       "      <th>albumin</th>\n",
       "      <th>protime</th>\n",
       "      <th>histology</th>\n",
       "      <th>class</th>\n",
       "      <th>steroid_True</th>\n",
       "    </tr>\n",
       "  </thead>\n",
       "  <tbody>\n",
       "    <tr>\n",
       "      <th>0</th>\n",
       "      <td>30</td>\n",
       "      <td>male</td>\n",
       "      <td>False</td>\n",
       "      <td>False</td>\n",
       "      <td>False</td>\n",
       "      <td>False</td>\n",
       "      <td>False</td>\n",
       "      <td>False</td>\n",
       "      <td>False</td>\n",
       "      <td>False</td>\n",
       "      <td>False</td>\n",
       "      <td>False</td>\n",
       "      <td>1.0</td>\n",
       "      <td>85.0</td>\n",
       "      <td>18.0</td>\n",
       "      <td>4.0</td>\n",
       "      <td>6.478146e-16</td>\n",
       "      <td>False</td>\n",
       "      <td>live</td>\n",
       "      <td>False</td>\n",
       "    </tr>\n",
       "    <tr>\n",
       "      <th>1</th>\n",
       "      <td>50</td>\n",
       "      <td>female</td>\n",
       "      <td>False</td>\n",
       "      <td>True</td>\n",
       "      <td>False</td>\n",
       "      <td>False</td>\n",
       "      <td>False</td>\n",
       "      <td>False</td>\n",
       "      <td>False</td>\n",
       "      <td>False</td>\n",
       "      <td>False</td>\n",
       "      <td>False</td>\n",
       "      <td>0.9</td>\n",
       "      <td>135.0</td>\n",
       "      <td>42.0</td>\n",
       "      <td>3.5</td>\n",
       "      <td>6.478146e-16</td>\n",
       "      <td>False</td>\n",
       "      <td>live</td>\n",
       "      <td>False</td>\n",
       "    </tr>\n",
       "    <tr>\n",
       "      <th>2</th>\n",
       "      <td>78</td>\n",
       "      <td>female</td>\n",
       "      <td>False</td>\n",
       "      <td>True</td>\n",
       "      <td>False</td>\n",
       "      <td>False</td>\n",
       "      <td>True</td>\n",
       "      <td>False</td>\n",
       "      <td>False</td>\n",
       "      <td>False</td>\n",
       "      <td>False</td>\n",
       "      <td>False</td>\n",
       "      <td>0.7</td>\n",
       "      <td>96.0</td>\n",
       "      <td>32.0</td>\n",
       "      <td>4.0</td>\n",
       "      <td>6.478146e-16</td>\n",
       "      <td>False</td>\n",
       "      <td>live</td>\n",
       "      <td>True</td>\n",
       "    </tr>\n",
       "    <tr>\n",
       "      <th>3</th>\n",
       "      <td>31</td>\n",
       "      <td>female</td>\n",
       "      <td>True</td>\n",
       "      <td>False</td>\n",
       "      <td>False</td>\n",
       "      <td>False</td>\n",
       "      <td>True</td>\n",
       "      <td>False</td>\n",
       "      <td>False</td>\n",
       "      <td>False</td>\n",
       "      <td>False</td>\n",
       "      <td>False</td>\n",
       "      <td>0.7</td>\n",
       "      <td>46.0</td>\n",
       "      <td>52.0</td>\n",
       "      <td>4.0</td>\n",
       "      <td>1.058919e+00</td>\n",
       "      <td>False</td>\n",
       "      <td>live</td>\n",
       "      <td>True</td>\n",
       "    </tr>\n",
       "    <tr>\n",
       "      <th>4</th>\n",
       "      <td>34</td>\n",
       "      <td>female</td>\n",
       "      <td>False</td>\n",
       "      <td>False</td>\n",
       "      <td>False</td>\n",
       "      <td>False</td>\n",
       "      <td>True</td>\n",
       "      <td>False</td>\n",
       "      <td>False</td>\n",
       "      <td>False</td>\n",
       "      <td>False</td>\n",
       "      <td>False</td>\n",
       "      <td>1.0</td>\n",
       "      <td>NaN</td>\n",
       "      <td>200.0</td>\n",
       "      <td>4.0</td>\n",
       "      <td>6.478146e-16</td>\n",
       "      <td>False</td>\n",
       "      <td>live</td>\n",
       "      <td>True</td>\n",
       "    </tr>\n",
       "  </tbody>\n",
       "</table>\n",
       "</div>"
      ],
      "text/plain": [
       "   age     sex  antivirals fatigue malaise anorexia liver_big liver_firm  \\\n",
       "0   30    male       False   False   False    False     False      False   \n",
       "1   50  female       False    True   False    False     False      False   \n",
       "2   78  female       False    True   False    False      True      False   \n",
       "3   31  female        True   False   False    False      True      False   \n",
       "4   34  female       False   False   False    False      True      False   \n",
       "\n",
       "  spleen_palpable spiders ascites varices  bilirubin  alk_phosphate   sgot  \\\n",
       "0           False   False   False   False        1.0           85.0   18.0   \n",
       "1           False   False   False   False        0.9          135.0   42.0   \n",
       "2           False   False   False   False        0.7           96.0   32.0   \n",
       "3           False   False   False   False        0.7           46.0   52.0   \n",
       "4           False   False   False   False        1.0            NaN  200.0   \n",
       "\n",
       "   albumin       protime  histology class  steroid_True  \n",
       "0      4.0  6.478146e-16      False  live         False  \n",
       "1      3.5  6.478146e-16      False  live         False  \n",
       "2      4.0  6.478146e-16      False  live          True  \n",
       "3      4.0  1.058919e+00      False  live          True  \n",
       "4      4.0  6.478146e-16      False  live          True  "
      ]
     },
     "execution_count": 42,
     "metadata": {},
     "output_type": "execute_result"
    }
   ],
   "source": [
    "dummy_df = pd.get_dummies(df, columns=['steroid'], drop_first=True)\n",
    "dummy_df.head()"
   ]
  },
  {
   "cell_type": "markdown",
   "id": "48dedd7a",
   "metadata": {},
   "source": [
    "<div class=\"alert alert-info\">Handling categorical data (label encoding)</div>"
   ]
  },
  {
   "cell_type": "code",
   "execution_count": 20,
   "id": "3a3e29fe",
   "metadata": {},
   "outputs": [
    {
     "data": {
      "text/html": [
       "<div>\n",
       "<style scoped>\n",
       "    .dataframe tbody tr th:only-of-type {\n",
       "        vertical-align: middle;\n",
       "    }\n",
       "\n",
       "    .dataframe tbody tr th {\n",
       "        vertical-align: top;\n",
       "    }\n",
       "\n",
       "    .dataframe thead th {\n",
       "        text-align: right;\n",
       "    }\n",
       "</style>\n",
       "<table border=\"1\" class=\"dataframe\">\n",
       "  <thead>\n",
       "    <tr style=\"text-align: right;\">\n",
       "      <th></th>\n",
       "      <th>age</th>\n",
       "      <th>sex</th>\n",
       "      <th>steroid</th>\n",
       "      <th>antivirals</th>\n",
       "      <th>fatigue</th>\n",
       "      <th>malaise</th>\n",
       "      <th>anorexia</th>\n",
       "      <th>liver_big</th>\n",
       "      <th>liver_firm</th>\n",
       "      <th>spleen_palpable</th>\n",
       "      <th>spiders</th>\n",
       "      <th>ascites</th>\n",
       "      <th>varices</th>\n",
       "      <th>bilirubin</th>\n",
       "      <th>alk_phosphate</th>\n",
       "      <th>sgot</th>\n",
       "      <th>albumin</th>\n",
       "      <th>protime</th>\n",
       "      <th>histology</th>\n",
       "      <th>class</th>\n",
       "    </tr>\n",
       "  </thead>\n",
       "  <tbody>\n",
       "    <tr>\n",
       "      <th>0</th>\n",
       "      <td>30</td>\n",
       "      <td>1</td>\n",
       "      <td>False</td>\n",
       "      <td>False</td>\n",
       "      <td>False</td>\n",
       "      <td>False</td>\n",
       "      <td>False</td>\n",
       "      <td>False</td>\n",
       "      <td>False</td>\n",
       "      <td>False</td>\n",
       "      <td>False</td>\n",
       "      <td>False</td>\n",
       "      <td>False</td>\n",
       "      <td>1.0</td>\n",
       "      <td>85.0</td>\n",
       "      <td>18.0</td>\n",
       "      <td>4.0</td>\n",
       "      <td>6.478146e-16</td>\n",
       "      <td>False</td>\n",
       "      <td>live</td>\n",
       "    </tr>\n",
       "    <tr>\n",
       "      <th>1</th>\n",
       "      <td>50</td>\n",
       "      <td>0</td>\n",
       "      <td>False</td>\n",
       "      <td>False</td>\n",
       "      <td>True</td>\n",
       "      <td>False</td>\n",
       "      <td>False</td>\n",
       "      <td>False</td>\n",
       "      <td>False</td>\n",
       "      <td>False</td>\n",
       "      <td>False</td>\n",
       "      <td>False</td>\n",
       "      <td>False</td>\n",
       "      <td>0.9</td>\n",
       "      <td>135.0</td>\n",
       "      <td>42.0</td>\n",
       "      <td>3.5</td>\n",
       "      <td>6.478146e-16</td>\n",
       "      <td>False</td>\n",
       "      <td>live</td>\n",
       "    </tr>\n",
       "    <tr>\n",
       "      <th>2</th>\n",
       "      <td>78</td>\n",
       "      <td>0</td>\n",
       "      <td>True</td>\n",
       "      <td>False</td>\n",
       "      <td>True</td>\n",
       "      <td>False</td>\n",
       "      <td>False</td>\n",
       "      <td>True</td>\n",
       "      <td>False</td>\n",
       "      <td>False</td>\n",
       "      <td>False</td>\n",
       "      <td>False</td>\n",
       "      <td>False</td>\n",
       "      <td>0.7</td>\n",
       "      <td>96.0</td>\n",
       "      <td>32.0</td>\n",
       "      <td>4.0</td>\n",
       "      <td>6.478146e-16</td>\n",
       "      <td>False</td>\n",
       "      <td>live</td>\n",
       "    </tr>\n",
       "    <tr>\n",
       "      <th>3</th>\n",
       "      <td>31</td>\n",
       "      <td>0</td>\n",
       "      <td>True</td>\n",
       "      <td>True</td>\n",
       "      <td>False</td>\n",
       "      <td>False</td>\n",
       "      <td>False</td>\n",
       "      <td>True</td>\n",
       "      <td>False</td>\n",
       "      <td>False</td>\n",
       "      <td>False</td>\n",
       "      <td>False</td>\n",
       "      <td>False</td>\n",
       "      <td>0.7</td>\n",
       "      <td>46.0</td>\n",
       "      <td>52.0</td>\n",
       "      <td>4.0</td>\n",
       "      <td>1.058919e+00</td>\n",
       "      <td>False</td>\n",
       "      <td>live</td>\n",
       "    </tr>\n",
       "    <tr>\n",
       "      <th>4</th>\n",
       "      <td>34</td>\n",
       "      <td>0</td>\n",
       "      <td>True</td>\n",
       "      <td>False</td>\n",
       "      <td>False</td>\n",
       "      <td>False</td>\n",
       "      <td>False</td>\n",
       "      <td>True</td>\n",
       "      <td>False</td>\n",
       "      <td>False</td>\n",
       "      <td>False</td>\n",
       "      <td>False</td>\n",
       "      <td>False</td>\n",
       "      <td>1.0</td>\n",
       "      <td>NaN</td>\n",
       "      <td>200.0</td>\n",
       "      <td>4.0</td>\n",
       "      <td>6.478146e-16</td>\n",
       "      <td>False</td>\n",
       "      <td>live</td>\n",
       "    </tr>\n",
       "  </tbody>\n",
       "</table>\n",
       "</div>"
      ],
      "text/plain": [
       "   age  sex  steroid  antivirals fatigue malaise anorexia liver_big  \\\n",
       "0   30    1    False       False   False   False    False     False   \n",
       "1   50    0    False       False    True   False    False     False   \n",
       "2   78    0     True       False    True   False    False      True   \n",
       "3   31    0     True        True   False   False    False      True   \n",
       "4   34    0     True       False   False   False    False      True   \n",
       "\n",
       "  liver_firm spleen_palpable spiders ascites varices  bilirubin  \\\n",
       "0      False           False   False   False   False        1.0   \n",
       "1      False           False   False   False   False        0.9   \n",
       "2      False           False   False   False   False        0.7   \n",
       "3      False           False   False   False   False        0.7   \n",
       "4      False           False   False   False   False        1.0   \n",
       "\n",
       "   alk_phosphate   sgot  albumin       protime  histology class  \n",
       "0           85.0   18.0      4.0  6.478146e-16      False  live  \n",
       "1          135.0   42.0      3.5  6.478146e-16      False  live  \n",
       "2           96.0   32.0      4.0  6.478146e-16      False  live  \n",
       "3           46.0   52.0      4.0  1.058919e+00      False  live  \n",
       "4            NaN  200.0      4.0  6.478146e-16      False  live  "
      ]
     },
     "execution_count": 20,
     "metadata": {},
     "output_type": "execute_result"
    }
   ],
   "source": [
    "from sklearn.preprocessing import LabelEncoder\n",
    "encoder = LabelEncoder()\n",
    "df['sex'] = encoder.fit_transform(df['sex'])\n",
    "df.head()"
   ]
  },
  {
   "cell_type": "code",
   "execution_count": 21,
   "id": "770cef8e",
   "metadata": {},
   "outputs": [
    {
     "name": "stdout",
     "output_type": "stream",
     "text": [
      "Cancer_risk: ['Low', 'Medium', 'High', 'Low', 'High', 'Medium', 'Low']\n",
      "Cancer_risk: [1 2 0 1 0 2 1]\n"
     ]
    }
   ],
   "source": [
    "# Sample ordinal data\n",
    "Cancer_risk = ['Low', 'Medium', 'High', 'Low', 'High', 'Medium', 'Low']\n",
    "\n",
    "# Initialize the LabelEncoder\n",
    "label_encoder = LabelEncoder()\n",
    "\n",
    "# Fit and transform the ordinal data using label encoding\n",
    "encoded_data = label_encoder.fit_transform(Cancer_risk)\n",
    "\n",
    "print(\"Cancer_risk:\", Cancer_risk)\n",
    "print(\"Cancer_risk:\", encoded_data)"
   ]
  },
  {
   "cell_type": "code",
   "execution_count": null,
   "id": "ce955da4-7a39-4fdf-9a36-cd0e785cee50",
   "metadata": {},
   "outputs": [],
   "source": []
  },
  {
   "cell_type": "code",
   "execution_count": null,
   "id": "34f25e4e",
   "metadata": {},
   "outputs": [],
   "source": []
  }
 ],
 "metadata": {
  "kernelspec": {
   "display_name": "Python 3 (ipykernel)",
   "language": "python",
   "name": "python3"
  },
  "language_info": {
   "codemirror_mode": {
    "name": "ipython",
    "version": 3
   },
   "file_extension": ".py",
   "mimetype": "text/x-python",
   "name": "python",
   "nbconvert_exporter": "python",
   "pygments_lexer": "ipython3",
   "version": "3.11.5"
  }
 },
 "nbformat": 4,
 "nbformat_minor": 5
}
