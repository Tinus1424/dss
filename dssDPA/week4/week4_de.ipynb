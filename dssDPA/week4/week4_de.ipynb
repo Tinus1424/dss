{
 "cells": [
  {
   "cell_type": "markdown",
   "metadata": {},
   "source": [
    "# Week 4 Daily Exercises"
   ]
  },
  {
   "cell_type": "markdown",
   "metadata": {},
   "source": [
    "## Exercise 1\n",
    "Build a Pandas DataFrame by specifying a Python dictionary containing three columns with at least 5 elements. One column should be strings, and two columns should be numerical."
   ]
  },
  {
   "cell_type": "code",
   "execution_count": 2,
   "metadata": {},
   "outputs": [],
   "source": [
    "import pandas as pd"
   ]
  },
  {
   "cell_type": "code",
   "execution_count": 8,
   "metadata": {},
   "outputs": [
    {
     "data": {
      "text/html": [
       "<div>\n",
       "<style scoped>\n",
       "    .dataframe tbody tr th:only-of-type {\n",
       "        vertical-align: middle;\n",
       "    }\n",
       "\n",
       "    .dataframe tbody tr th {\n",
       "        vertical-align: top;\n",
       "    }\n",
       "\n",
       "    .dataframe thead th {\n",
       "        text-align: right;\n",
       "    }\n",
       "</style>\n",
       "<table border=\"1\" class=\"dataframe\">\n",
       "  <thead>\n",
       "    <tr style=\"text-align: right;\">\n",
       "      <th></th>\n",
       "      <th>char</th>\n",
       "      <th>strength</th>\n",
       "      <th>like</th>\n",
       "    </tr>\n",
       "  </thead>\n",
       "  <tbody>\n",
       "    <tr>\n",
       "      <th>0</th>\n",
       "      <td>Frodo</td>\n",
       "      <td>5</td>\n",
       "      <td>8.0</td>\n",
       "    </tr>\n",
       "    <tr>\n",
       "      <th>1</th>\n",
       "      <td>Gandalf</td>\n",
       "      <td>10</td>\n",
       "      <td>10.0</td>\n",
       "    </tr>\n",
       "    <tr>\n",
       "      <th>2</th>\n",
       "      <td>Sam</td>\n",
       "      <td>4</td>\n",
       "      <td>7.0</td>\n",
       "    </tr>\n",
       "    <tr>\n",
       "      <th>3</th>\n",
       "      <td>Aragorn</td>\n",
       "      <td>9</td>\n",
       "      <td>6.5</td>\n",
       "    </tr>\n",
       "    <tr>\n",
       "      <th>4</th>\n",
       "      <td>Pippin</td>\n",
       "      <td>3</td>\n",
       "      <td>5.5</td>\n",
       "    </tr>\n",
       "  </tbody>\n",
       "</table>\n",
       "</div>"
      ],
      "text/plain": [
       "      char  strength  like\n",
       "0    Frodo         5   8.0\n",
       "1  Gandalf        10  10.0\n",
       "2      Sam         4   7.0\n",
       "3  Aragorn         9   6.5\n",
       "4   Pippin         3   5.5"
      ]
     },
     "metadata": {},
     "output_type": "display_data"
    }
   ],
   "source": [
    "dic = {\"char\": [\"Frodo\", \"Gandalf\", \"Sam\", \"Aragorn\", \"Pippin\"], \"strength\" : [5, 10, 4, 9, 3], \"like\" : [8, 10, 7, 6.5, 5.5]}\n",
    "df = pd.DataFrame(dic)\n",
    "display(df)"
   ]
  },
  {
   "cell_type": "markdown",
   "metadata": {},
   "source": [
    "## Exercise 2\n",
    "Read the Excel file named exercise4_2_data.xlsx into a pandas dataframe. Subset the data to only keep rows whose position (index) is evenly divisible by 9. Write a file called summary4_2.csv that contains these resulting values."
   ]
  },
  {
   "cell_type": "code",
   "execution_count": 21,
   "metadata": {},
   "outputs": [],
   "source": [
    "df = pd.read_excel(\"exercise4_2_data.xlsx\", skiprows = lambda x: x % 9 > 0)\n",
    "df.to_csv(\"summary4_2.csv\")"
   ]
  },
  {
   "cell_type": "markdown",
   "metadata": {},
   "source": [
    "## Exercise 3\n",
    "Read the JSON file named exercise4_3_data.json into a Pandas dataframe. Change the row labels to the column true_row_names (this should remove this column from the dataframe). Reorder the columns to be in decreasing order (from column_5 to column_1). Write the results to an Excel file named reordered4_3.xlsx."
   ]
  },
  {
   "cell_type": "code",
   "execution_count": 3,
   "metadata": {},
   "outputs": [
    {
     "data": {
      "text/html": [
       "<div>\n",
       "<style scoped>\n",
       "    .dataframe tbody tr th:only-of-type {\n",
       "        vertical-align: middle;\n",
       "    }\n",
       "\n",
       "    .dataframe tbody tr th {\n",
       "        vertical-align: top;\n",
       "    }\n",
       "\n",
       "    .dataframe thead th {\n",
       "        text-align: right;\n",
       "    }\n",
       "</style>\n",
       "<table border=\"1\" class=\"dataframe\">\n",
       "  <thead>\n",
       "    <tr style=\"text-align: right;\">\n",
       "      <th></th>\n",
       "      <th>column_5</th>\n",
       "      <th>column_4</th>\n",
       "      <th>column_3</th>\n",
       "      <th>column_2</th>\n",
       "    </tr>\n",
       "    <tr>\n",
       "      <th>true_row_names</th>\n",
       "      <th></th>\n",
       "      <th></th>\n",
       "      <th></th>\n",
       "      <th></th>\n",
       "    </tr>\n",
       "  </thead>\n",
       "  <tbody>\n",
       "    <tr>\n",
       "      <th>observation_1</th>\n",
       "      <td>-12</td>\n",
       "      <td>26</td>\n",
       "      <td>57</td>\n",
       "      <td>-2</td>\n",
       "    </tr>\n",
       "    <tr>\n",
       "      <th>observation_2</th>\n",
       "      <td>68</td>\n",
       "      <td>85</td>\n",
       "      <td>3</td>\n",
       "      <td>9</td>\n",
       "    </tr>\n",
       "    <tr>\n",
       "      <th>observation_3</th>\n",
       "      <td>70</td>\n",
       "      <td>93</td>\n",
       "      <td>99</td>\n",
       "      <td>61</td>\n",
       "    </tr>\n",
       "    <tr>\n",
       "      <th>observation_4</th>\n",
       "      <td>-4</td>\n",
       "      <td>22</td>\n",
       "      <td>35</td>\n",
       "      <td>40</td>\n",
       "    </tr>\n",
       "    <tr>\n",
       "      <th>observation_5</th>\n",
       "      <td>-23</td>\n",
       "      <td>59</td>\n",
       "      <td>-77</td>\n",
       "      <td>0</td>\n",
       "    </tr>\n",
       "    <tr>\n",
       "      <th>...</th>\n",
       "      <td>...</td>\n",
       "      <td>...</td>\n",
       "      <td>...</td>\n",
       "      <td>...</td>\n",
       "    </tr>\n",
       "    <tr>\n",
       "      <th>observation_99996</th>\n",
       "      <td>76</td>\n",
       "      <td>-66</td>\n",
       "      <td>-64</td>\n",
       "      <td>-62</td>\n",
       "    </tr>\n",
       "    <tr>\n",
       "      <th>observation_99997</th>\n",
       "      <td>61</td>\n",
       "      <td>12</td>\n",
       "      <td>88</td>\n",
       "      <td>-61</td>\n",
       "    </tr>\n",
       "    <tr>\n",
       "      <th>observation_99998</th>\n",
       "      <td>-6</td>\n",
       "      <td>-96</td>\n",
       "      <td>80</td>\n",
       "      <td>-4</td>\n",
       "    </tr>\n",
       "    <tr>\n",
       "      <th>observation_99999</th>\n",
       "      <td>4</td>\n",
       "      <td>83</td>\n",
       "      <td>82</td>\n",
       "      <td>76</td>\n",
       "    </tr>\n",
       "    <tr>\n",
       "      <th>observation_100000</th>\n",
       "      <td>-98</td>\n",
       "      <td>-39</td>\n",
       "      <td>-4</td>\n",
       "      <td>30</td>\n",
       "    </tr>\n",
       "  </tbody>\n",
       "</table>\n",
       "<p>100000 rows × 4 columns</p>\n",
       "</div>"
      ],
      "text/plain": [
       "                    column_5  column_4  column_3  column_2\n",
       "true_row_names                                            \n",
       "observation_1            -12        26        57        -2\n",
       "observation_2             68        85         3         9\n",
       "observation_3             70        93        99        61\n",
       "observation_4             -4        22        35        40\n",
       "observation_5            -23        59       -77         0\n",
       "...                      ...       ...       ...       ...\n",
       "observation_99996         76       -66       -64       -62\n",
       "observation_99997         61        12        88       -61\n",
       "observation_99998         -6       -96        80        -4\n",
       "observation_99999          4        83        82        76\n",
       "observation_100000       -98       -39        -4        30\n",
       "\n",
       "[100000 rows x 4 columns]"
      ]
     },
     "execution_count": 3,
     "metadata": {},
     "output_type": "execute_result"
    }
   ],
   "source": [
    "df = pd.read_json(\"exercise4_3_data.json\")\n",
    "df.set_index(\"true_row_names\", inplace = True)\n",
    "df = df.reindex(columns = [\"column_5\", \"column_4\", \"column_3\", \"column_2\"])\n",
    "df"
   ]
  },
  {
   "cell_type": "markdown",
   "metadata": {},
   "source": [
    "# Sample Exam Question"
   ]
  },
  {
   "cell_type": "code",
   "execution_count": 26,
   "metadata": {},
   "outputs": [],
   "source": [
    "def recode_split_and_sample(file, name1, name2, num_test_trials):\n",
    "    df = pd.read_csv(file)\n",
    "    df = df.loc[:, name1 : name2]\n",
    "    test = df[:num_test_trials]\n",
    "    test.to_csv(\"test_data.csv\")\n",
    "    train = df[num_test_trials: ]\n",
    "    train.to_csv(\"train_data.csv\")\n",
    "    sample = train.sample(90000, replace = True)\n",
    "    sample.to_csv(\"sampled_train_data.csv\")\n",
    "    return\n",
    "\n",
    "recode_split_and_sample(\"sample_pandas_data.csv\", \"B\", \"E\", 10)"
   ]
  },
  {
   "cell_type": "code",
   "execution_count": 27,
   "metadata": {},
   "outputs": [],
   "source": [
    "def recode_split_and_sample(file, name1, name2, num_test_trials):\n",
    "    df = pd.read_csv(file)\n",
    "    df = df.loc[:, name1 : name2]\n",
    "    df[:num_test_trials].to_csv(\"test_data2.csv\")\n",
    "    train = df[num_test_trials: ]\n",
    "    train.to_csv(\"train_data2.csv\")\n",
    "    train.sample(90000, replace = True).to_csv(\"sampled_train_data2.csv\")\n",
    "    return\n",
    "\n",
    "recode_split_and_sample(\"sample_pandas_data.csv\", \"B\", \"E\", 10)"
   ]
  }
 ],
 "metadata": {
  "kernelspec": {
   "display_name": "Python 3 (ipykernel)",
   "language": "python",
   "name": "python3"
  },
  "language_info": {
   "codemirror_mode": {
    "name": "ipython",
    "version": 3
   },
   "file_extension": ".py",
   "mimetype": "text/x-python",
   "name": "python",
   "nbconvert_exporter": "python",
   "pygments_lexer": "ipython3",
   "version": "3.11.5"
  }
 },
 "nbformat": 4,
 "nbformat_minor": 2
}
