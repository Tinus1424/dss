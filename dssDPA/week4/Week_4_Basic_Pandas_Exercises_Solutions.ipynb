{
 "cells": [
  {
   "cell_type": "markdown",
   "id": "20ac55bd-24a0-4e62-94bd-6e093971e855",
   "metadata": {},
   "source": [
    "## Week 4: Basic Pandas Exercises"
   ]
  },
  {
   "cell_type": "code",
   "execution_count": null,
   "id": "ce1cd346-ad2d-426d-bf3e-251fe18c8734",
   "metadata": {},
   "outputs": [],
   "source": [
    "import pandas as pd"
   ]
  },
  {
   "cell_type": "code",
   "execution_count": null,
   "id": "8890fd29-3218-4445-976c-56197e280065",
   "metadata": {},
   "outputs": [],
   "source": [
    "# read a data file into pandas\n",
    "data = pd.read_csv(\"iris.csv\", index_col=0)\n",
    "data"
   ]
  },
  {
   "cell_type": "markdown",
   "id": "fec15659-9583-4728-a346-7904896b0c97",
   "metadata": {},
   "source": [
    "#### Exercise 1\n",
    "\n",
    "Find the index of the maximum sepal length for an iris type in the dataset (so the index of a setosa, versicolor or virdinica plant with the maximum sepal length of their respective types)."
   ]
  },
  {
   "cell_type": "code",
   "execution_count": null,
   "id": "4a047435-8e05-4ad1-83f7-079ec30ec0f8",
   "metadata": {},
   "outputs": [],
   "source": [
    "# separate into df with only one type\n",
    "data_setosa = data[data.type == \"setosa\"] \n",
    "\n",
    "# get max sepal length index\n",
    "max_idx = data_setosa[\"sepal_length\"].idxmax()\n",
    "print(max_idx)\n",
    "\n",
    "# print resulting row\n",
    "print(data_setosa.iloc[max_idx]) # use iloc here rather than loc in case indexes aren't ordered correctly"
   ]
  },
  {
   "cell_type": "markdown",
   "id": "9a1a271c",
   "metadata": {},
   "source": [
    "But this solution only retrieves one index with maximum value. To return all the indices with maximum value you can instead run:"
   ]
  },
  {
   "cell_type": "code",
   "execution_count": null,
   "metadata": {},
   "outputs": [],
   "source": [
    "# Finding the index of the maximum sepal_length value for setosa:\n",
    "max_value = data[data.type == \"setosa\"][\"sepal_length\"].max()\n",
    "print(max_value)\n",
    "max_indices = data.index[data[\"sepal_length\"] == max_value]\n",
    "print(\"Indices of maximum sepal_length is:\", max_indices)"
   ]
  },
  {
   "cell_type": "markdown",
   "id": "80dd4b08-97a6-49be-88c9-6d4ef1f3d174",
   "metadata": {},
   "source": [
    "#### Exercise 2\n",
    "\n",
    "Find the most common iris type amongst irises that have a sepal width larger than or equal to the 75% percentile of the entire dataset's sepal widths.\n",
    "\n",
    "Hint: use the .describe() function - it returns a DataFrame!\n",
    "\n",
    "Hint: to get the counts of values in a column, you can use the function .value_counts()"
   ]
  },
  {
   "cell_type": "code",
   "execution_count": null,
   "id": "a4e83602-473b-40b9-af58-d8ac808c0235",
   "metadata": {},
   "outputs": [],
   "source": [
    "# first find the size of the 75% percentile of sepal widths\n",
    "descr_iris = data.describe()\n",
    "descr_iris"
   ]
  },
  {
   "cell_type": "code",
   "execution_count": null,
   "id": "d930f1b3-d44e-4ed7-8847-66b2a2f2e30a",
   "metadata": {},
   "outputs": [],
   "source": [
    "percentile = descr_iris.loc[\"75%\",\"sepal_width\"] # get the 75% percentile in sepal width\n",
    "print(percentile)"
   ]
  },
  {
   "cell_type": "code",
   "execution_count": null,
   "id": "b8a04b6f-5861-43e8-b672-9bb834dfd343",
   "metadata": {},
   "outputs": [],
   "source": [
    "data_subset = data[data[\"sepal_width\"] >= percentile]\n",
    "data_subset.head()"
   ]
  },
  {
   "cell_type": "code",
   "execution_count": null,
   "id": "3fcfe016-f458-4af8-a5f4-05b30e0922ae",
   "metadata": {},
   "outputs": [],
   "source": [
    "# find most common type in this subset\n",
    "data_subset.type.value_counts()#.idxmax() # use idxmax to extract the index of the max automatically"
   ]
  },
  {
   "cell_type": "markdown",
   "id": "0b1ce417-a07d-4b7c-9f58-42ae13c4f251",
   "metadata": {},
   "source": [
    "#### Exercise 3\n",
    "\n",
    "Find the index of virginica irises whose sepal width is smaller than the minimum sepal width of setosa irises."
   ]
  },
  {
   "cell_type": "code",
   "execution_count": null,
   "id": "62eddad5-3575-4ef6-bfd8-d9dae328d367",
   "metadata": {},
   "outputs": [],
   "source": [
    "setosa_min_sep_width = data.loc[data.type == \"setosa\",\"sepal_width\"].min()\n",
    "print(setosa_min_sep_width)\n",
    "\n",
    "virginica_subset = data[(data.type == \"virginica\") & (data.sepal_width < setosa_min_sep_width)]\n",
    "virginica_subset\n"
   ]
  }
 ],
 "metadata": {
  "kernelspec": {
   "display_name": "Python 3 (ipykernel)",
   "language": "python",
   "name": "python3"
  },
  "language_info": {
   "codemirror_mode": {
    "name": "ipython",
    "version": 3
   },
   "file_extension": ".py",
   "mimetype": "text/x-python",
   "name": "python",
   "nbconvert_exporter": "python",
   "pygments_lexer": "ipython3",
   "version": "3.9.13"
  }
 },
 "nbformat": 4,
 "nbformat_minor": 5
}
