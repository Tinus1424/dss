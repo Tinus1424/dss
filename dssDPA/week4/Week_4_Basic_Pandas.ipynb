{
 "cells": [
  {
   "cell_type": "markdown",
   "metadata": {},
   "source": [
    "# 4. Pandas Basics\n",
    "\n",
    "Pandas is a python library designed to work with tabular data (two-dimensional structure where columns and rows have meaning) that have a mixuture of data types throughout the data. Furthermore, the aim is to provide functionality that makes many common types of data analysis straightforward but also provides the flexibility to perform complex data transformations.\n",
    "\n",
    "Pandas is designed to a few things very well. It is incredibly useful for grouping data, aggregating and processing these groups, and reshaping data. Support for time-series analyses in Pandas is also strong with built-in date and time representations.\n",
    "\n",
    "## 4.1 Data structure\n",
    "\n",
    "### 4.1.1 Series\n",
    "\n",
    "The basic data structure in Pandas is a Series. The Pandas Series contains three structures: \n",
    "- a numpy one-dimensional array of elements (therefore, all elements are of the same type), \n",
    "- a mapping of Series indexes (which can be numeric, as in numpy, but can also be strings) to positions within the numpy array (this is actually saved as a very efficient dictionary object),\n",
    "- some additional header information.\n",
    "\n",
    "### 4.1.2 DataFrame\n",
    "\n",
    "The most used data structure in Pandas is a DataFrame. A dataframe contains two dimensions: every column is a Series object, and every column has the same number of elements (rows).\n",
    "\n",
    "The way a DataFrame is stored in Pandas is as a python dictionary object (with some additional header information). The key in this dictionary indicates the column name, and the value is the Pandas Series.\n",
    "\n",
    "There are some advantages and disadvantages to how Pandas structures memory. First, by having each column be a numpy array, computations within each column are really fast and get all the benefits of numpy over python. Second, by having a dedicated and reasonably fast data structure to connect row indexes, computations across rows are reasonably fast. However, by storing additional index information for every column (it isn't really *that* bad, but is definitely extra) additional memory is needed to store a pandas DataFrame relative to a numpy multi-dimensional array with the same number of elements.\n",
    "\n",
    "\n",
    "## 4.2 Relating Pandas DataFrames to other representations\n",
    "\n",
    "### 4.2.1 Relationship to a Numpy two-dimensional array\n",
    "\n",
    "A numpy two-dimensional array can be the same shape as a Pandas DataFrame. However, a numpy array can contain only one type of element, whereas each column in a Pandas DataFrame can have a different type.\n",
    "\n",
    "This gives an advantage in processing speed for numpy arrays when data is appropriate for a multi-dimensional numpy array: when all elements are the same type. However, when data is a mixture of types, the flexibility of a Pandas DataFrame is often beneficial and provides functionality that is not easy with a Numpy array.\n",
    "\n",
    "\n",
    "### 4.2.2 Relationship to the dataFrame object in R\n",
    "\n",
    "Very similar. Much of how Pandas is designed was inspired by what works really well with R dataFrames.\n",
    "\n",
    "\n",
    "### 4.2.3 Relationship to SQL and other databases\n",
    "\n",
    "Similar. It is very straightforward to export a Pandas DataFrame to SQL (and import from SQL). Though they are represented in memory very differently, the basic structure is similar.\n",
    "\n",
    "The major difference is that Pandas is (mostly) designed to work with data that fits within the memory of a single computer. SQL and other databases often provide functionality to work with much bigger datasets where only a portion of data is being manipuated or used at any time. This is not the goal of Pandas.\n",
    "\n"
   ]
  },
  {
   "cell_type": "code",
   "execution_count": 2,
   "metadata": {
    "collapsed": false,
    "jupyter": {
     "outputs_hidden": false
    }
   },
   "outputs": [],
   "source": [
    "import numpy\n",
    "import pandas"
   ]
  },
  {
   "cell_type": "markdown",
   "metadata": {},
   "source": [
    "## 4.3 Creating Data Frames\n",
    "\n",
    "### 4.3.1 From a numpy array\n",
    "\n",
    "Including specifying the names of rows and columns:"
   ]
  },
  {
   "cell_type": "code",
   "execution_count": 3,
   "metadata": {},
   "outputs": [
    {
     "data": {
      "text/html": [
       "<div>\n",
       "<style scoped>\n",
       "    .dataframe tbody tr th:only-of-type {\n",
       "        vertical-align: middle;\n",
       "    }\n",
       "\n",
       "    .dataframe tbody tr th {\n",
       "        vertical-align: top;\n",
       "    }\n",
       "\n",
       "    .dataframe thead th {\n",
       "        text-align: right;\n",
       "    }\n",
       "</style>\n",
       "<table border=\"1\" class=\"dataframe\">\n",
       "  <thead>\n",
       "    <tr style=\"text-align: right;\">\n",
       "      <th></th>\n",
       "      <th>Marks</th>\n",
       "      <th>Grade</th>\n",
       "    </tr>\n",
       "  </thead>\n",
       "  <tbody>\n",
       "    <tr>\n",
       "      <th>42343</th>\n",
       "      <td>90.0</td>\n",
       "      <td>9.0</td>\n",
       "    </tr>\n",
       "    <tr>\n",
       "      <th>23423</th>\n",
       "      <td>52.0</td>\n",
       "      <td>5.0</td>\n",
       "    </tr>\n",
       "    <tr>\n",
       "      <th>57567</th>\n",
       "      <td>76.0</td>\n",
       "      <td>7.5</td>\n",
       "    </tr>\n",
       "    <tr>\n",
       "      <th>54644</th>\n",
       "      <td>68.0</td>\n",
       "      <td>7.0</td>\n",
       "    </tr>\n",
       "    <tr>\n",
       "      <th>34534</th>\n",
       "      <td>84.0</td>\n",
       "      <td>8.5</td>\n",
       "    </tr>\n",
       "  </tbody>\n",
       "</table>\n",
       "</div>"
      ],
      "text/plain": [
       "       Marks  Grade\n",
       "42343   90.0    9.0\n",
       "23423   52.0    5.0\n",
       "57567   76.0    7.5\n",
       "54644   68.0    7.0\n",
       "34534   84.0    8.5"
      ]
     },
     "execution_count": 3,
     "metadata": {},
     "output_type": "execute_result"
    }
   ],
   "source": [
    "# creating the Numpy array\n",
    "grades = numpy.array([[90, 9.0],[52, 5.0],[76, 7.5],[68, 7.0],[84, 8.5]])\n",
    "\n",
    "# creating a list of row names\n",
    "student_numbers = [42343, 23423, 57567,54644, 34534]\n",
    "   \n",
    "# creating a list of column names\n",
    "column_labels = ['Marks', 'Grade']\n",
    "  \n",
    "# creating the dataframe\n",
    "df = pandas.DataFrame(data = grades, \n",
    "                      index = student_numbers, \n",
    "                      columns = column_labels)\n",
    "df"
   ]
  },
  {
   "cell_type": "markdown",
   "metadata": {},
   "source": [
    "### 4.3.2 Creating Pandas Dataframes From Python Lists"
   ]
  },
  {
   "cell_type": "code",
   "execution_count": 4,
   "metadata": {},
   "outputs": [
    {
     "data": {
      "text/html": [
       "<div>\n",
       "<style scoped>\n",
       "    .dataframe tbody tr th:only-of-type {\n",
       "        vertical-align: middle;\n",
       "    }\n",
       "\n",
       "    .dataframe tbody tr th {\n",
       "        vertical-align: top;\n",
       "    }\n",
       "\n",
       "    .dataframe thead th {\n",
       "        text-align: right;\n",
       "    }\n",
       "</style>\n",
       "<table border=\"1\" class=\"dataframe\">\n",
       "  <thead>\n",
       "    <tr style=\"text-align: right;\">\n",
       "      <th></th>\n",
       "      <th>Name</th>\n",
       "      <th>Suname</th>\n",
       "      <th>Gender</th>\n",
       "      <th>Marks</th>\n",
       "      <th>Grade</th>\n",
       "      <th>Pass</th>\n",
       "    </tr>\n",
       "  </thead>\n",
       "  <tbody>\n",
       "    <tr>\n",
       "      <th>42343</th>\n",
       "      <td>Anna</td>\n",
       "      <td>van Rossum</td>\n",
       "      <td>F</td>\n",
       "      <td>92</td>\n",
       "      <td>9.0</td>\n",
       "      <td>True</td>\n",
       "    </tr>\n",
       "    <tr>\n",
       "      <th>23423</th>\n",
       "      <td>David</td>\n",
       "      <td>Alberts</td>\n",
       "      <td>M</td>\n",
       "      <td>52</td>\n",
       "      <td>5.0</td>\n",
       "      <td>False</td>\n",
       "    </tr>\n",
       "    <tr>\n",
       "      <th>57567</th>\n",
       "      <td>Ibrahim</td>\n",
       "      <td>Assad</td>\n",
       "      <td>M</td>\n",
       "      <td>76</td>\n",
       "      <td>7.5</td>\n",
       "      <td>True</td>\n",
       "    </tr>\n",
       "    <tr>\n",
       "      <th>54644</th>\n",
       "      <td>Maria</td>\n",
       "      <td>Esposito</td>\n",
       "      <td>F</td>\n",
       "      <td>68</td>\n",
       "      <td>7.0</td>\n",
       "      <td>True</td>\n",
       "    </tr>\n",
       "    <tr>\n",
       "      <th>34534</th>\n",
       "      <td>Sophie</td>\n",
       "      <td>van Dee</td>\n",
       "      <td>F</td>\n",
       "      <td>84</td>\n",
       "      <td>8.5</td>\n",
       "      <td>True</td>\n",
       "    </tr>\n",
       "  </tbody>\n",
       "</table>\n",
       "</div>"
      ],
      "text/plain": [
       "          Name      Suname Gender  Marks  Grade   Pass\n",
       "42343     Anna  van Rossum      F     92    9.0   True\n",
       "23423    David     Alberts      M     52    5.0  False\n",
       "57567  Ibrahim       Assad      M     76    7.5   True\n",
       "54644    Maria    Esposito      F     68    7.0   True\n",
       "34534   Sophie     van Dee      F     84    8.5   True"
      ]
     },
     "execution_count": 4,
     "metadata": {},
     "output_type": "execute_result"
    }
   ],
   "source": [
    "# creating list\n",
    "students_info = [['Anna', 'van Rossum', 'F', 92, 9.0, True],\n",
    "          ['David', 'Alberts', 'M', 52, 5.0, False],\n",
    "         ['Ibrahim', 'Assad', 'M', 76, 7.5, True],\n",
    "         ['Maria', 'Esposito', 'F', 68, 7.0, True],\n",
    "         ['Sophie', 'van Dee', 'F', 84, 8.5, True]]\n",
    "  \n",
    "# creating a list of row names\n",
    "student_numbers = [42343, 23423, 57567,54644, 34534]\n",
    "   \n",
    "# creating a list of column names\n",
    "column_labels = ['Name', 'Suname', 'Gender', 'Marks', 'Grade', 'Pass']\n",
    "  \n",
    "# creating the dataframe\n",
    "ADP_grades = pandas.DataFrame(data = students_info, \n",
    "                      index = student_numbers, \n",
    "                      columns = column_labels)\n",
    "  \n",
    "ADP_grades"
   ]
  },
  {
   "cell_type": "markdown",
   "metadata": {},
   "source": [
    "### 4.3.3 Creating Pandas Dataframes From Dictionaries"
   ]
  },
  {
   "cell_type": "code",
   "execution_count": 6,
   "metadata": {},
   "outputs": [
    {
     "data": {
      "text/html": [
       "<div>\n",
       "<style scoped>\n",
       "    .dataframe tbody tr th:only-of-type {\n",
       "        vertical-align: middle;\n",
       "    }\n",
       "\n",
       "    .dataframe tbody tr th {\n",
       "        vertical-align: top;\n",
       "    }\n",
       "\n",
       "    .dataframe thead th {\n",
       "        text-align: right;\n",
       "    }\n",
       "</style>\n",
       "<table border=\"1\" class=\"dataframe\">\n",
       "  <thead>\n",
       "    <tr style=\"text-align: right;\">\n",
       "      <th></th>\n",
       "      <th>Name</th>\n",
       "      <th>Surname</th>\n",
       "      <th>Gender</th>\n",
       "      <th>Marks</th>\n",
       "      <th>Grade</th>\n",
       "      <th>Pass</th>\n",
       "    </tr>\n",
       "  </thead>\n",
       "  <tbody>\n",
       "    <tr>\n",
       "      <th>42343</th>\n",
       "      <td>Anna</td>\n",
       "      <td>van Rossum</td>\n",
       "      <td>F</td>\n",
       "      <td>92</td>\n",
       "      <td>9.0</td>\n",
       "      <td>True</td>\n",
       "    </tr>\n",
       "    <tr>\n",
       "      <th>23423</th>\n",
       "      <td>David</td>\n",
       "      <td>Alberts</td>\n",
       "      <td>M</td>\n",
       "      <td>52</td>\n",
       "      <td>5.0</td>\n",
       "      <td>False</td>\n",
       "    </tr>\n",
       "    <tr>\n",
       "      <th>57567</th>\n",
       "      <td>Ibrahim</td>\n",
       "      <td>Assad</td>\n",
       "      <td>M</td>\n",
       "      <td>76</td>\n",
       "      <td>7.5</td>\n",
       "      <td>True</td>\n",
       "    </tr>\n",
       "    <tr>\n",
       "      <th>54644</th>\n",
       "      <td>Maria</td>\n",
       "      <td>Esposito</td>\n",
       "      <td>F</td>\n",
       "      <td>68</td>\n",
       "      <td>7.0</td>\n",
       "      <td>True</td>\n",
       "    </tr>\n",
       "    <tr>\n",
       "      <th>34534</th>\n",
       "      <td>Sophie</td>\n",
       "      <td>van Dee</td>\n",
       "      <td>F</td>\n",
       "      <td>84</td>\n",
       "      <td>8.5</td>\n",
       "      <td>True</td>\n",
       "    </tr>\n",
       "  </tbody>\n",
       "</table>\n",
       "</div>"
      ],
      "text/plain": [
       "          Name     Surname Gender  Marks  Grade   Pass\n",
       "42343     Anna  van Rossum      F     92    9.0   True\n",
       "23423    David     Alberts      M     52    5.0  False\n",
       "57567  Ibrahim       Assad      M     76    7.5   True\n",
       "54644    Maria    Esposito      F     68    7.0   True\n",
       "34534   Sophie     van Dee      F     84    8.5   True"
      ]
     },
     "execution_count": 6,
     "metadata": {},
     "output_type": "execute_result"
    }
   ],
   "source": [
    "ADP_grades = {'Name' : ['Anna', 'David', 'Ibrahim', 'Maria', 'Sophie'],\n",
    "              'Surname' : ['van Rossum', 'Alberts', 'Assad', 'Esposito', 'van Dee'],\n",
    "              'Gender' : ['F','M','M','F','F'],\n",
    "             'Marks': [92, 52, 76, 68, 84],\n",
    "             'Grade': [9.0, 5.0, 7.5, 7, 8.5],\n",
    "             'Pass': [True, False, True, True, True]}\n",
    "\n",
    "# creating a list of row names\n",
    "student_numbers = [42343, 23423, 57567,54644, 34534]\n",
    "\n",
    "ADP_grades = pandas.DataFrame(ADP_grades, index=student_numbers)\n",
    "\n",
    "ADP_grades"
   ]
  },
  {
   "cell_type": "markdown",
   "metadata": {},
   "source": [
    "### 4.3.4 Creating Pandas Dataframes From Files"
   ]
  },
  {
   "cell_type": "code",
   "execution_count": 7,
   "metadata": {
    "collapsed": false,
    "jupyter": {
     "outputs_hidden": false
    }
   },
   "outputs": [
    {
     "data": {
      "text/html": [
       "<div>\n",
       "<style scoped>\n",
       "    .dataframe tbody tr th:only-of-type {\n",
       "        vertical-align: middle;\n",
       "    }\n",
       "\n",
       "    .dataframe tbody tr th {\n",
       "        vertical-align: top;\n",
       "    }\n",
       "\n",
       "    .dataframe thead th {\n",
       "        text-align: right;\n",
       "    }\n",
       "</style>\n",
       "<table border=\"1\" class=\"dataframe\">\n",
       "  <thead>\n",
       "    <tr style=\"text-align: right;\">\n",
       "      <th></th>\n",
       "      <th>Name</th>\n",
       "      <th>Surname</th>\n",
       "      <th>Gender</th>\n",
       "      <th>Marks</th>\n",
       "      <th>Grade</th>\n",
       "      <th>Pass</th>\n",
       "    </tr>\n",
       "  </thead>\n",
       "  <tbody>\n",
       "    <tr>\n",
       "      <th>42343</th>\n",
       "      <td>Anna</td>\n",
       "      <td>van Rossum</td>\n",
       "      <td>F</td>\n",
       "      <td>92</td>\n",
       "      <td>9.0</td>\n",
       "      <td>True</td>\n",
       "    </tr>\n",
       "    <tr>\n",
       "      <th>23423</th>\n",
       "      <td>David</td>\n",
       "      <td>Alberts</td>\n",
       "      <td>M</td>\n",
       "      <td>52</td>\n",
       "      <td>5.0</td>\n",
       "      <td>False</td>\n",
       "    </tr>\n",
       "    <tr>\n",
       "      <th>57567</th>\n",
       "      <td>Ibrahim</td>\n",
       "      <td>Assad</td>\n",
       "      <td>M</td>\n",
       "      <td>76</td>\n",
       "      <td>7.5</td>\n",
       "      <td>True</td>\n",
       "    </tr>\n",
       "    <tr>\n",
       "      <th>54644</th>\n",
       "      <td>Maria</td>\n",
       "      <td>Esposito</td>\n",
       "      <td>F</td>\n",
       "      <td>68</td>\n",
       "      <td>7.0</td>\n",
       "      <td>True</td>\n",
       "    </tr>\n",
       "    <tr>\n",
       "      <th>34534</th>\n",
       "      <td>Sophie</td>\n",
       "      <td>van Dee</td>\n",
       "      <td>F</td>\n",
       "      <td>84</td>\n",
       "      <td>8.5</td>\n",
       "      <td>True</td>\n",
       "    </tr>\n",
       "  </tbody>\n",
       "</table>\n",
       "</div>"
      ],
      "text/plain": [
       "          Name     Surname Gender  Marks  Grade   Pass\n",
       "42343     Anna  van Rossum      F     92    9.0   True\n",
       "23423    David     Alberts      M     52    5.0  False\n",
       "57567  Ibrahim       Assad      M     76    7.5   True\n",
       "54644    Maria    Esposito      F     68    7.0   True\n",
       "34534   Sophie     van Dee      F     84    8.5   True"
      ]
     },
     "execution_count": 7,
     "metadata": {},
     "output_type": "execute_result"
    }
   ],
   "source": [
    "# read a data file into pandas\n",
    "ADP_grades.to_csv('ADP_grades.csv')\n",
    "\n",
    "df = pandas.read_csv('ADP_grades.csv', index_col=0)\n",
    "\n",
    "df"
   ]
  },
  {
   "cell_type": "markdown",
   "metadata": {},
   "source": [
    "Other input and output: https://pandas.pydata.org/pandas-docs/stable/user_guide/io.html#io"
   ]
  },
  {
   "cell_type": "markdown",
   "metadata": {},
   "source": [
    "## 4.4 Simple Functions to work with Pandas Dataframes\n",
    "\n",
    "### 4.4.1 Retrieving Index and Columns Labels"
   ]
  },
  {
   "cell_type": "code",
   "execution_count": 8,
   "metadata": {},
   "outputs": [
    {
     "data": {
      "text/plain": [
       "Index([42343, 23423, 57567, 54644, 34534], dtype='int64')"
      ]
     },
     "execution_count": 8,
     "metadata": {},
     "output_type": "execute_result"
    }
   ],
   "source": [
    "# Retrieving index labels\n",
    "ADP_grades.index"
   ]
  },
  {
   "cell_type": "code",
   "execution_count": 9,
   "metadata": {},
   "outputs": [
    {
     "data": {
      "text/plain": [
       "Index(['Name', 'Surname', 'Gender', 'Marks', 'Grade', 'Pass'], dtype='object')"
      ]
     },
     "execution_count": 9,
     "metadata": {},
     "output_type": "execute_result"
    }
   ],
   "source": [
    "# Retrieving column labels\n",
    "ADP_grades.columns"
   ]
  },
  {
   "cell_type": "code",
   "execution_count": 11,
   "metadata": {},
   "outputs": [
    {
     "data": {
      "text/html": [
       "<div>\n",
       "<style scoped>\n",
       "    .dataframe tbody tr th:only-of-type {\n",
       "        vertical-align: middle;\n",
       "    }\n",
       "\n",
       "    .dataframe tbody tr th {\n",
       "        vertical-align: top;\n",
       "    }\n",
       "\n",
       "    .dataframe thead th {\n",
       "        text-align: right;\n",
       "    }\n",
       "</style>\n",
       "<table border=\"1\" class=\"dataframe\">\n",
       "  <thead>\n",
       "    <tr style=\"text-align: right;\">\n",
       "      <th></th>\n",
       "      <th>Surname</th>\n",
       "      <th>Gender</th>\n",
       "      <th>Marks</th>\n",
       "      <th>Grade</th>\n",
       "      <th>Pass</th>\n",
       "    </tr>\n",
       "    <tr>\n",
       "      <th>Name</th>\n",
       "      <th></th>\n",
       "      <th></th>\n",
       "      <th></th>\n",
       "      <th></th>\n",
       "      <th></th>\n",
       "    </tr>\n",
       "  </thead>\n",
       "  <tbody>\n",
       "    <tr>\n",
       "      <th>Anna</th>\n",
       "      <td>van Rossum</td>\n",
       "      <td>F</td>\n",
       "      <td>92</td>\n",
       "      <td>9.0</td>\n",
       "      <td>True</td>\n",
       "    </tr>\n",
       "    <tr>\n",
       "      <th>David</th>\n",
       "      <td>Alberts</td>\n",
       "      <td>M</td>\n",
       "      <td>52</td>\n",
       "      <td>5.0</td>\n",
       "      <td>False</td>\n",
       "    </tr>\n",
       "    <tr>\n",
       "      <th>Ibrahim</th>\n",
       "      <td>Assad</td>\n",
       "      <td>M</td>\n",
       "      <td>76</td>\n",
       "      <td>7.5</td>\n",
       "      <td>True</td>\n",
       "    </tr>\n",
       "    <tr>\n",
       "      <th>Maria</th>\n",
       "      <td>Esposito</td>\n",
       "      <td>F</td>\n",
       "      <td>68</td>\n",
       "      <td>7.0</td>\n",
       "      <td>True</td>\n",
       "    </tr>\n",
       "    <tr>\n",
       "      <th>Sophie</th>\n",
       "      <td>van Dee</td>\n",
       "      <td>F</td>\n",
       "      <td>84</td>\n",
       "      <td>8.5</td>\n",
       "      <td>True</td>\n",
       "    </tr>\n",
       "  </tbody>\n",
       "</table>\n",
       "</div>"
      ],
      "text/plain": [
       "            Surname Gender  Marks  Grade   Pass\n",
       "Name                                           \n",
       "Anna     van Rossum      F     92    9.0   True\n",
       "David       Alberts      M     52    5.0  False\n",
       "Ibrahim       Assad      M     76    7.5   True\n",
       "Maria      Esposito      F     68    7.0   True\n",
       "Sophie      van Dee      F     84    8.5   True"
      ]
     },
     "execution_count": 11,
     "metadata": {},
     "output_type": "execute_result"
    }
   ],
   "source": [
    "# changing the index\n",
    "temp = ADP_grades.copy() # Creating a copy of the original dataframe\n",
    "temp.set_index('Name') # Why this is not a good idea?"
   ]
  },
  {
   "cell_type": "markdown",
   "metadata": {},
   "source": [
    "### 4.4.2 Retrieving some information about the dataframe\n",
    "There are many simple functions that can be called on any DataFrame to provide you with additional information or details about the object.\n",
    "\n",
    "You can use the `head(n)` and `tail(n)` functions to view the first `n` and last`n` rows of a DataFrame "
   ]
  },
  {
   "cell_type": "code",
   "execution_count": null,
   "metadata": {
    "collapsed": false,
    "jupyter": {
     "outputs_hidden": false
    }
   },
   "outputs": [],
   "source": [
    "ADP_grades.head(3)"
   ]
  },
  {
   "cell_type": "code",
   "execution_count": 13,
   "metadata": {
    "collapsed": false,
    "jupyter": {
     "outputs_hidden": false
    }
   },
   "outputs": [
    {
     "data": {
      "text/html": [
       "<div>\n",
       "<style scoped>\n",
       "    .dataframe tbody tr th:only-of-type {\n",
       "        vertical-align: middle;\n",
       "    }\n",
       "\n",
       "    .dataframe tbody tr th {\n",
       "        vertical-align: top;\n",
       "    }\n",
       "\n",
       "    .dataframe thead th {\n",
       "        text-align: right;\n",
       "    }\n",
       "</style>\n",
       "<table border=\"1\" class=\"dataframe\">\n",
       "  <thead>\n",
       "    <tr style=\"text-align: right;\">\n",
       "      <th></th>\n",
       "      <th>Name</th>\n",
       "      <th>Surname</th>\n",
       "      <th>Gender</th>\n",
       "      <th>Marks</th>\n",
       "      <th>Grade</th>\n",
       "      <th>Pass</th>\n",
       "    </tr>\n",
       "  </thead>\n",
       "  <tbody>\n",
       "    <tr>\n",
       "      <th>54644</th>\n",
       "      <td>Maria</td>\n",
       "      <td>Esposito</td>\n",
       "      <td>F</td>\n",
       "      <td>68</td>\n",
       "      <td>7.0</td>\n",
       "      <td>True</td>\n",
       "    </tr>\n",
       "    <tr>\n",
       "      <th>34534</th>\n",
       "      <td>Sophie</td>\n",
       "      <td>van Dee</td>\n",
       "      <td>F</td>\n",
       "      <td>84</td>\n",
       "      <td>8.5</td>\n",
       "      <td>True</td>\n",
       "    </tr>\n",
       "  </tbody>\n",
       "</table>\n",
       "</div>"
      ],
      "text/plain": [
       "         Name   Surname Gender  Marks  Grade  Pass\n",
       "54644   Maria  Esposito      F     68    7.0  True\n",
       "34534  Sophie   van Dee      F     84    8.5  True"
      ]
     },
     "execution_count": 13,
     "metadata": {},
     "output_type": "execute_result"
    }
   ],
   "source": [
    "ADP_grades.tail(2)"
   ]
  },
  {
   "cell_type": "markdown",
   "metadata": {},
   "source": [
    "The `info()` function can tell you about the structure of the DataFrame, including the number of rows and columns, as well as the type of each column"
   ]
  },
  {
   "cell_type": "code",
   "execution_count": 12,
   "metadata": {
    "collapsed": false,
    "jupyter": {
     "outputs_hidden": false
    }
   },
   "outputs": [
    {
     "name": "stdout",
     "output_type": "stream",
     "text": [
      "<class 'pandas.core.frame.DataFrame'>\n",
      "Index: 5 entries, 42343 to 34534\n",
      "Data columns (total 6 columns):\n",
      " #   Column   Non-Null Count  Dtype  \n",
      "---  ------   --------------  -----  \n",
      " 0   Name     5 non-null      object \n",
      " 1   Surname  5 non-null      object \n",
      " 2   Gender   5 non-null      object \n",
      " 3   Marks    5 non-null      int64  \n",
      " 4   Grade    5 non-null      float64\n",
      " 5   Pass     5 non-null      bool   \n",
      "dtypes: bool(1), float64(1), int64(1), object(3)\n",
      "memory usage: 245.0+ bytes\n"
     ]
    }
   ],
   "source": [
    "ADP_grades.info()"
   ]
  },
  {
   "cell_type": "markdown",
   "metadata": {},
   "source": [
    "\n",
    "The `describe()` function provides descriptive statistics of a numeric columns in a dataFrame. See below, non-numeric columns are skipped."
   ]
  },
  {
   "cell_type": "code",
   "execution_count": 14,
   "metadata": {
    "collapsed": false,
    "jupyter": {
     "outputs_hidden": false
    }
   },
   "outputs": [
    {
     "data": {
      "text/html": [
       "<div>\n",
       "<style scoped>\n",
       "    .dataframe tbody tr th:only-of-type {\n",
       "        vertical-align: middle;\n",
       "    }\n",
       "\n",
       "    .dataframe tbody tr th {\n",
       "        vertical-align: top;\n",
       "    }\n",
       "\n",
       "    .dataframe thead th {\n",
       "        text-align: right;\n",
       "    }\n",
       "</style>\n",
       "<table border=\"1\" class=\"dataframe\">\n",
       "  <thead>\n",
       "    <tr style=\"text-align: right;\">\n",
       "      <th></th>\n",
       "      <th>Marks</th>\n",
       "      <th>Grade</th>\n",
       "    </tr>\n",
       "  </thead>\n",
       "  <tbody>\n",
       "    <tr>\n",
       "      <th>count</th>\n",
       "      <td>5.000000</td>\n",
       "      <td>5.000000</td>\n",
       "    </tr>\n",
       "    <tr>\n",
       "      <th>mean</th>\n",
       "      <td>74.400000</td>\n",
       "      <td>7.400000</td>\n",
       "    </tr>\n",
       "    <tr>\n",
       "      <th>std</th>\n",
       "      <td>15.388307</td>\n",
       "      <td>1.557241</td>\n",
       "    </tr>\n",
       "    <tr>\n",
       "      <th>min</th>\n",
       "      <td>52.000000</td>\n",
       "      <td>5.000000</td>\n",
       "    </tr>\n",
       "    <tr>\n",
       "      <th>25%</th>\n",
       "      <td>68.000000</td>\n",
       "      <td>7.000000</td>\n",
       "    </tr>\n",
       "    <tr>\n",
       "      <th>50%</th>\n",
       "      <td>76.000000</td>\n",
       "      <td>7.500000</td>\n",
       "    </tr>\n",
       "    <tr>\n",
       "      <th>75%</th>\n",
       "      <td>84.000000</td>\n",
       "      <td>8.500000</td>\n",
       "    </tr>\n",
       "    <tr>\n",
       "      <th>max</th>\n",
       "      <td>92.000000</td>\n",
       "      <td>9.000000</td>\n",
       "    </tr>\n",
       "  </tbody>\n",
       "</table>\n",
       "</div>"
      ],
      "text/plain": [
       "           Marks     Grade\n",
       "count   5.000000  5.000000\n",
       "mean   74.400000  7.400000\n",
       "std    15.388307  1.557241\n",
       "min    52.000000  5.000000\n",
       "25%    68.000000  7.000000\n",
       "50%    76.000000  7.500000\n",
       "75%    84.000000  8.500000\n",
       "max    92.000000  9.000000"
      ]
     },
     "execution_count": 14,
     "metadata": {},
     "output_type": "execute_result"
    }
   ],
   "source": [
    "ADP_grades.describe()"
   ]
  },
  {
   "cell_type": "markdown",
   "metadata": {},
   "source": [
    "The output of the `describe` function is also a dataframe:"
   ]
  },
  {
   "cell_type": "code",
   "execution_count": 15,
   "metadata": {},
   "outputs": [
    {
     "name": "stdout",
     "output_type": "stream",
     "text": [
      "<class 'pandas.core.frame.DataFrame'>\n",
      "Index: 8 entries, count to max\n",
      "Data columns (total 2 columns):\n",
      " #   Column  Non-Null Count  Dtype  \n",
      "---  ------  --------------  -----  \n",
      " 0   Marks   8 non-null      float64\n",
      " 1   Grade   8 non-null      float64\n",
      "dtypes: float64(2)\n",
      "memory usage: 192.0+ bytes\n"
     ]
    }
   ],
   "source": [
    "df = ADP_grades.describe()\n",
    "df.info()\n"
   ]
  },
  {
   "cell_type": "code",
   "execution_count": 16,
   "metadata": {},
   "outputs": [
    {
     "data": {
      "text/plain": [
       "Index(['count', 'mean', 'std', 'min', '25%', '50%', '75%', 'max'], dtype='object')"
      ]
     },
     "execution_count": 16,
     "metadata": {},
     "output_type": "execute_result"
    }
   ],
   "source": [
    "df.index"
   ]
  },
  {
   "cell_type": "code",
   "execution_count": 17,
   "metadata": {},
   "outputs": [
    {
     "data": {
      "text/plain": [
       "Index(['Marks', 'Grade'], dtype='object')"
      ]
     },
     "execution_count": 17,
     "metadata": {},
     "output_type": "execute_result"
    }
   ],
   "source": [
    "df.columns"
   ]
  },
  {
   "cell_type": "markdown",
   "metadata": {},
   "source": [
    "## 4.5 Indexing data frames\n",
    "\n",
    "As with any data structure, it is important to be able to access subsets of the dataframe. Pandas has a number of methods for accessing both rows and columns in a number of ways.\n",
    "\n",
    "\n",
    "### 4.5.1 Attribute indexing\n",
    "\n",
    "First, much like python dictionaries, you can access a single, complete column from a Pandas Dataframe as an attribute. This method will return a Series object (one column from the DataFrame).\n",
    "\n",
    "This method can only work when the attribute is a valid python attribute (so data.1 would not be allowed even if there is a column named 1 in data) and when that attribute does not already exist (for example, data.min would not work even if a column in data was named min because there is already an attribute min() for any Pandas DataFrame)."
   ]
  },
  {
   "cell_type": "code",
   "execution_count": 18,
   "metadata": {},
   "outputs": [
    {
     "data": {
      "text/html": [
       "<div>\n",
       "<style scoped>\n",
       "    .dataframe tbody tr th:only-of-type {\n",
       "        vertical-align: middle;\n",
       "    }\n",
       "\n",
       "    .dataframe tbody tr th {\n",
       "        vertical-align: top;\n",
       "    }\n",
       "\n",
       "    .dataframe thead th {\n",
       "        text-align: right;\n",
       "    }\n",
       "</style>\n",
       "<table border=\"1\" class=\"dataframe\">\n",
       "  <thead>\n",
       "    <tr style=\"text-align: right;\">\n",
       "      <th></th>\n",
       "      <th>Name</th>\n",
       "      <th>Surname</th>\n",
       "      <th>Gender</th>\n",
       "      <th>Marks</th>\n",
       "      <th>Grade</th>\n",
       "      <th>Pass</th>\n",
       "    </tr>\n",
       "  </thead>\n",
       "  <tbody>\n",
       "    <tr>\n",
       "      <th>42343</th>\n",
       "      <td>Anna</td>\n",
       "      <td>van Rossum</td>\n",
       "      <td>F</td>\n",
       "      <td>92</td>\n",
       "      <td>9.0</td>\n",
       "      <td>True</td>\n",
       "    </tr>\n",
       "    <tr>\n",
       "      <th>23423</th>\n",
       "      <td>David</td>\n",
       "      <td>Alberts</td>\n",
       "      <td>M</td>\n",
       "      <td>52</td>\n",
       "      <td>5.0</td>\n",
       "      <td>False</td>\n",
       "    </tr>\n",
       "    <tr>\n",
       "      <th>57567</th>\n",
       "      <td>Ibrahim</td>\n",
       "      <td>Assad</td>\n",
       "      <td>M</td>\n",
       "      <td>76</td>\n",
       "      <td>7.5</td>\n",
       "      <td>True</td>\n",
       "    </tr>\n",
       "    <tr>\n",
       "      <th>54644</th>\n",
       "      <td>Maria</td>\n",
       "      <td>Esposito</td>\n",
       "      <td>F</td>\n",
       "      <td>68</td>\n",
       "      <td>7.0</td>\n",
       "      <td>True</td>\n",
       "    </tr>\n",
       "    <tr>\n",
       "      <th>34534</th>\n",
       "      <td>Sophie</td>\n",
       "      <td>van Dee</td>\n",
       "      <td>F</td>\n",
       "      <td>84</td>\n",
       "      <td>8.5</td>\n",
       "      <td>True</td>\n",
       "    </tr>\n",
       "  </tbody>\n",
       "</table>\n",
       "</div>"
      ],
      "text/plain": [
       "          Name     Surname Gender  Marks  Grade   Pass\n",
       "42343     Anna  van Rossum      F     92    9.0   True\n",
       "23423    David     Alberts      M     52    5.0  False\n",
       "57567  Ibrahim       Assad      M     76    7.5   True\n",
       "54644    Maria    Esposito      F     68    7.0   True\n",
       "34534   Sophie     van Dee      F     84    8.5   True"
      ]
     },
     "execution_count": 18,
     "metadata": {},
     "output_type": "execute_result"
    }
   ],
   "source": [
    "ADP_grades"
   ]
  },
  {
   "cell_type": "code",
   "execution_count": 19,
   "metadata": {},
   "outputs": [
    {
     "data": {
      "text/plain": [
       "42343    9.0\n",
       "23423    5.0\n",
       "57567    7.5\n",
       "54644    7.0\n",
       "34534    8.5\n",
       "Name: Grade, dtype: float64"
      ]
     },
     "execution_count": 19,
     "metadata": {},
     "output_type": "execute_result"
    }
   ],
   "source": [
    "# Slection by Attribute\n",
    "ADP_grades.Grade"
   ]
  },
  {
   "cell_type": "markdown",
   "metadata": {},
   "source": [
    "The attribute indexing can also be used for assignment, but only if the column already exists:"
   ]
  },
  {
   "cell_type": "code",
   "execution_count": 20,
   "metadata": {},
   "outputs": [
    {
     "data": {
      "text/html": [
       "<div>\n",
       "<style scoped>\n",
       "    .dataframe tbody tr th:only-of-type {\n",
       "        vertical-align: middle;\n",
       "    }\n",
       "\n",
       "    .dataframe tbody tr th {\n",
       "        vertical-align: top;\n",
       "    }\n",
       "\n",
       "    .dataframe thead th {\n",
       "        text-align: right;\n",
       "    }\n",
       "</style>\n",
       "<table border=\"1\" class=\"dataframe\">\n",
       "  <thead>\n",
       "    <tr style=\"text-align: right;\">\n",
       "      <th></th>\n",
       "      <th>Name</th>\n",
       "      <th>Surname</th>\n",
       "      <th>Gender</th>\n",
       "      <th>Marks</th>\n",
       "      <th>Grade</th>\n",
       "      <th>Pass</th>\n",
       "    </tr>\n",
       "  </thead>\n",
       "  <tbody>\n",
       "    <tr>\n",
       "      <th>42343</th>\n",
       "      <td>Anna</td>\n",
       "      <td>van Rossum</td>\n",
       "      <td>F</td>\n",
       "      <td>92</td>\n",
       "      <td>9.0</td>\n",
       "      <td>True</td>\n",
       "    </tr>\n",
       "    <tr>\n",
       "      <th>23423</th>\n",
       "      <td>David</td>\n",
       "      <td>Alberts</td>\n",
       "      <td>M</td>\n",
       "      <td>52</td>\n",
       "      <td>5.0</td>\n",
       "      <td>False</td>\n",
       "    </tr>\n",
       "    <tr>\n",
       "      <th>57567</th>\n",
       "      <td>Ibrahim</td>\n",
       "      <td>Assad</td>\n",
       "      <td>M</td>\n",
       "      <td>76</td>\n",
       "      <td>7.5</td>\n",
       "      <td>True</td>\n",
       "    </tr>\n",
       "    <tr>\n",
       "      <th>54644</th>\n",
       "      <td>Maria</td>\n",
       "      <td>Esposito</td>\n",
       "      <td>F</td>\n",
       "      <td>68</td>\n",
       "      <td>7.0</td>\n",
       "      <td>True</td>\n",
       "    </tr>\n",
       "    <tr>\n",
       "      <th>34534</th>\n",
       "      <td>Sophie</td>\n",
       "      <td>van Dee</td>\n",
       "      <td>F</td>\n",
       "      <td>84</td>\n",
       "      <td>8.5</td>\n",
       "      <td>True</td>\n",
       "    </tr>\n",
       "  </tbody>\n",
       "</table>\n",
       "</div>"
      ],
      "text/plain": [
       "          Name     Surname Gender  Marks  Grade   Pass\n",
       "42343     Anna  van Rossum      F     92    9.0   True\n",
       "23423    David     Alberts      M     52    5.0  False\n",
       "57567  Ibrahim       Assad      M     76    7.5   True\n",
       "54644    Maria    Esposito      F     68    7.0   True\n",
       "34534   Sophie     van Dee      F     84    8.5   True"
      ]
     },
     "execution_count": 20,
     "metadata": {},
     "output_type": "execute_result"
    }
   ],
   "source": [
    "tmp = ADP_grades.copy()\n",
    "tmp.head()"
   ]
  },
  {
   "cell_type": "code",
   "execution_count": 21,
   "metadata": {},
   "outputs": [
    {
     "data": {
      "text/html": [
       "<div>\n",
       "<style scoped>\n",
       "    .dataframe tbody tr th:only-of-type {\n",
       "        vertical-align: middle;\n",
       "    }\n",
       "\n",
       "    .dataframe tbody tr th {\n",
       "        vertical-align: top;\n",
       "    }\n",
       "\n",
       "    .dataframe thead th {\n",
       "        text-align: right;\n",
       "    }\n",
       "</style>\n",
       "<table border=\"1\" class=\"dataframe\">\n",
       "  <thead>\n",
       "    <tr style=\"text-align: right;\">\n",
       "      <th></th>\n",
       "      <th>Name</th>\n",
       "      <th>Surname</th>\n",
       "      <th>Gender</th>\n",
       "      <th>Marks</th>\n",
       "      <th>Grade</th>\n",
       "      <th>Pass</th>\n",
       "    </tr>\n",
       "  </thead>\n",
       "  <tbody>\n",
       "    <tr>\n",
       "      <th>42343</th>\n",
       "      <td>Anna</td>\n",
       "      <td>van Rossum</td>\n",
       "      <td>F</td>\n",
       "      <td>42</td>\n",
       "      <td>9.0</td>\n",
       "      <td>True</td>\n",
       "    </tr>\n",
       "    <tr>\n",
       "      <th>23423</th>\n",
       "      <td>David</td>\n",
       "      <td>Alberts</td>\n",
       "      <td>M</td>\n",
       "      <td>42</td>\n",
       "      <td>5.0</td>\n",
       "      <td>False</td>\n",
       "    </tr>\n",
       "    <tr>\n",
       "      <th>57567</th>\n",
       "      <td>Ibrahim</td>\n",
       "      <td>Assad</td>\n",
       "      <td>M</td>\n",
       "      <td>42</td>\n",
       "      <td>7.5</td>\n",
       "      <td>True</td>\n",
       "    </tr>\n",
       "    <tr>\n",
       "      <th>54644</th>\n",
       "      <td>Maria</td>\n",
       "      <td>Esposito</td>\n",
       "      <td>F</td>\n",
       "      <td>42</td>\n",
       "      <td>7.0</td>\n",
       "      <td>True</td>\n",
       "    </tr>\n",
       "    <tr>\n",
       "      <th>34534</th>\n",
       "      <td>Sophie</td>\n",
       "      <td>van Dee</td>\n",
       "      <td>F</td>\n",
       "      <td>42</td>\n",
       "      <td>8.5</td>\n",
       "      <td>True</td>\n",
       "    </tr>\n",
       "  </tbody>\n",
       "</table>\n",
       "</div>"
      ],
      "text/plain": [
       "          Name     Surname Gender  Marks  Grade   Pass\n",
       "42343     Anna  van Rossum      F     42    9.0   True\n",
       "23423    David     Alberts      M     42    5.0  False\n",
       "57567  Ibrahim       Assad      M     42    7.5   True\n",
       "54644    Maria    Esposito      F     42    7.0   True\n",
       "34534   Sophie     van Dee      F     42    8.5   True"
      ]
     },
     "execution_count": 21,
     "metadata": {},
     "output_type": "execute_result"
    }
   ],
   "source": [
    "tmp.Marks = 42\n",
    "tmp.head()"
   ]
  },
  {
   "cell_type": "markdown",
   "metadata": {},
   "source": [
    "### Selection by isin\n",
    "\n",
    "We can also use the attribute indexing in combination with `isin` function to retrieve records with specific values:"
   ]
  },
  {
   "cell_type": "code",
   "execution_count": 22,
   "metadata": {},
   "outputs": [
    {
     "data": {
      "text/html": [
       "<div>\n",
       "<style scoped>\n",
       "    .dataframe tbody tr th:only-of-type {\n",
       "        vertical-align: middle;\n",
       "    }\n",
       "\n",
       "    .dataframe tbody tr th {\n",
       "        vertical-align: top;\n",
       "    }\n",
       "\n",
       "    .dataframe thead th {\n",
       "        text-align: right;\n",
       "    }\n",
       "</style>\n",
       "<table border=\"1\" class=\"dataframe\">\n",
       "  <thead>\n",
       "    <tr style=\"text-align: right;\">\n",
       "      <th></th>\n",
       "      <th>Name</th>\n",
       "      <th>Surname</th>\n",
       "      <th>Gender</th>\n",
       "      <th>Marks</th>\n",
       "      <th>Grade</th>\n",
       "      <th>Pass</th>\n",
       "    </tr>\n",
       "  </thead>\n",
       "  <tbody>\n",
       "    <tr>\n",
       "      <th>23423</th>\n",
       "      <td>David</td>\n",
       "      <td>Alberts</td>\n",
       "      <td>M</td>\n",
       "      <td>52</td>\n",
       "      <td>5.0</td>\n",
       "      <td>False</td>\n",
       "    </tr>\n",
       "    <tr>\n",
       "      <th>57567</th>\n",
       "      <td>Ibrahim</td>\n",
       "      <td>Assad</td>\n",
       "      <td>M</td>\n",
       "      <td>76</td>\n",
       "      <td>7.5</td>\n",
       "      <td>True</td>\n",
       "    </tr>\n",
       "  </tbody>\n",
       "</table>\n",
       "</div>"
      ],
      "text/plain": [
       "          Name  Surname Gender  Marks  Grade   Pass\n",
       "23423    David  Alberts      M     52    5.0  False\n",
       "57567  Ibrahim    Assad      M     76    7.5   True"
      ]
     },
     "execution_count": 22,
     "metadata": {},
     "output_type": "execute_result"
    }
   ],
   "source": [
    "# column values\n",
    "tmp = ADP_grades[ADP_grades.Gender.isin(['M'])]\n",
    "tmp"
   ]
  },
  {
   "cell_type": "code",
   "execution_count": 23,
   "metadata": {},
   "outputs": [
    {
     "data": {
      "text/html": [
       "<div>\n",
       "<style scoped>\n",
       "    .dataframe tbody tr th:only-of-type {\n",
       "        vertical-align: middle;\n",
       "    }\n",
       "\n",
       "    .dataframe tbody tr th {\n",
       "        vertical-align: top;\n",
       "    }\n",
       "\n",
       "    .dataframe thead th {\n",
       "        text-align: right;\n",
       "    }\n",
       "</style>\n",
       "<table border=\"1\" class=\"dataframe\">\n",
       "  <thead>\n",
       "    <tr style=\"text-align: right;\">\n",
       "      <th></th>\n",
       "      <th>Name</th>\n",
       "      <th>Surname</th>\n",
       "      <th>Gender</th>\n",
       "      <th>Marks</th>\n",
       "      <th>Grade</th>\n",
       "      <th>Pass</th>\n",
       "    </tr>\n",
       "  </thead>\n",
       "  <tbody>\n",
       "    <tr>\n",
       "      <th>23423</th>\n",
       "      <td>David</td>\n",
       "      <td>Alberts</td>\n",
       "      <td>M</td>\n",
       "      <td>52</td>\n",
       "      <td>5.0</td>\n",
       "      <td>False</td>\n",
       "    </tr>\n",
       "    <tr>\n",
       "      <th>57567</th>\n",
       "      <td>Ibrahim</td>\n",
       "      <td>Assad</td>\n",
       "      <td>M</td>\n",
       "      <td>76</td>\n",
       "      <td>7.5</td>\n",
       "      <td>True</td>\n",
       "    </tr>\n",
       "  </tbody>\n",
       "</table>\n",
       "</div>"
      ],
      "text/plain": [
       "          Name  Surname Gender  Marks  Grade   Pass\n",
       "23423    David  Alberts      M     52    5.0  False\n",
       "57567  Ibrahim    Assad      M     76    7.5   True"
      ]
     },
     "execution_count": 23,
     "metadata": {},
     "output_type": "execute_result"
    }
   ],
   "source": [
    "# row indexes\n",
    "tmp = ADP_grades[ADP_grades.index.isin([23423,57567])]\n",
    "tmp"
   ]
  },
  {
   "cell_type": "markdown",
   "metadata": {},
   "source": [
    "### 4.5.2 Numpy-style matrix indexing\n",
    "\n",
    "Much like numpy, the `[]` notation can be used for indexing columns and rows. \n",
    "\n",
    "#### Columns\n",
    "\n",
    "For columns, you can specify a single column name and the object returned will be a Series:"
   ]
  },
  {
   "cell_type": "code",
   "execution_count": 24,
   "metadata": {},
   "outputs": [
    {
     "data": {
      "text/plain": [
       "42343    92\n",
       "23423    52\n",
       "57567    76\n",
       "54644    68\n",
       "34534    84\n",
       "Name: Marks, dtype: int64"
      ]
     },
     "execution_count": 24,
     "metadata": {},
     "output_type": "execute_result"
    }
   ],
   "source": [
    "# Numpy style Selection for columns\n",
    "ADP_grades['Marks']"
   ]
  },
  {
   "cell_type": "markdown",
   "metadata": {},
   "source": [
    "Or, you can specify a list of column labels to retreive several columns:"
   ]
  },
  {
   "cell_type": "code",
   "execution_count": 25,
   "metadata": {},
   "outputs": [
    {
     "data": {
      "text/html": [
       "<div>\n",
       "<style scoped>\n",
       "    .dataframe tbody tr th:only-of-type {\n",
       "        vertical-align: middle;\n",
       "    }\n",
       "\n",
       "    .dataframe tbody tr th {\n",
       "        vertical-align: top;\n",
       "    }\n",
       "\n",
       "    .dataframe thead th {\n",
       "        text-align: right;\n",
       "    }\n",
       "</style>\n",
       "<table border=\"1\" class=\"dataframe\">\n",
       "  <thead>\n",
       "    <tr style=\"text-align: right;\">\n",
       "      <th></th>\n",
       "      <th>Marks</th>\n",
       "      <th>Grade</th>\n",
       "    </tr>\n",
       "  </thead>\n",
       "  <tbody>\n",
       "    <tr>\n",
       "      <th>42343</th>\n",
       "      <td>92</td>\n",
       "      <td>9.0</td>\n",
       "    </tr>\n",
       "    <tr>\n",
       "      <th>23423</th>\n",
       "      <td>52</td>\n",
       "      <td>5.0</td>\n",
       "    </tr>\n",
       "    <tr>\n",
       "      <th>57567</th>\n",
       "      <td>76</td>\n",
       "      <td>7.5</td>\n",
       "    </tr>\n",
       "    <tr>\n",
       "      <th>54644</th>\n",
       "      <td>68</td>\n",
       "      <td>7.0</td>\n",
       "    </tr>\n",
       "    <tr>\n",
       "      <th>34534</th>\n",
       "      <td>84</td>\n",
       "      <td>8.5</td>\n",
       "    </tr>\n",
       "  </tbody>\n",
       "</table>\n",
       "</div>"
      ],
      "text/plain": [
       "       Marks  Grade\n",
       "42343     92    9.0\n",
       "23423     52    5.0\n",
       "57567     76    7.5\n",
       "54644     68    7.0\n",
       "34534     84    8.5"
      ]
     },
     "execution_count": 25,
     "metadata": {},
     "output_type": "execute_result"
    }
   ],
   "source": [
    "# Numpy style Selection for columns\n",
    "ADP_grades[['Marks', 'Grade']]"
   ]
  },
  {
   "cell_type": "markdown",
   "metadata": {},
   "source": [
    "#### Rows\n",
    "\n",
    "When using the `[]` notation to index rows by their index, you cannot specify a single index (this is reserved for columns), you must specify a range (a slice):"
   ]
  },
  {
   "cell_type": "code",
   "execution_count": 26,
   "metadata": {},
   "outputs": [
    {
     "data": {
      "text/html": [
       "<div>\n",
       "<style scoped>\n",
       "    .dataframe tbody tr th:only-of-type {\n",
       "        vertical-align: middle;\n",
       "    }\n",
       "\n",
       "    .dataframe tbody tr th {\n",
       "        vertical-align: top;\n",
       "    }\n",
       "\n",
       "    .dataframe thead th {\n",
       "        text-align: right;\n",
       "    }\n",
       "</style>\n",
       "<table border=\"1\" class=\"dataframe\">\n",
       "  <thead>\n",
       "    <tr style=\"text-align: right;\">\n",
       "      <th></th>\n",
       "      <th>Name</th>\n",
       "      <th>Surname</th>\n",
       "      <th>Gender</th>\n",
       "      <th>Marks</th>\n",
       "      <th>Grade</th>\n",
       "      <th>Pass</th>\n",
       "    </tr>\n",
       "  </thead>\n",
       "  <tbody>\n",
       "    <tr>\n",
       "      <th>42343</th>\n",
       "      <td>Anna</td>\n",
       "      <td>van Rossum</td>\n",
       "      <td>F</td>\n",
       "      <td>92</td>\n",
       "      <td>9.0</td>\n",
       "      <td>True</td>\n",
       "    </tr>\n",
       "    <tr>\n",
       "      <th>23423</th>\n",
       "      <td>David</td>\n",
       "      <td>Alberts</td>\n",
       "      <td>M</td>\n",
       "      <td>52</td>\n",
       "      <td>5.0</td>\n",
       "      <td>False</td>\n",
       "    </tr>\n",
       "  </tbody>\n",
       "</table>\n",
       "</div>"
      ],
      "text/plain": [
       "        Name     Surname Gender  Marks  Grade   Pass\n",
       "42343   Anna  van Rossum      F     92    9.0   True\n",
       "23423  David     Alberts      M     52    5.0  False"
      ]
     },
     "execution_count": 26,
     "metadata": {},
     "output_type": "execute_result"
    }
   ],
   "source": [
    "# Numpy style Selection for rows\n",
    "ADP_grades[0:2]"
   ]
  },
  {
   "cell_type": "code",
   "execution_count": 27,
   "metadata": {},
   "outputs": [
    {
     "data": {
      "text/html": [
       "<div>\n",
       "<style scoped>\n",
       "    .dataframe tbody tr th:only-of-type {\n",
       "        vertical-align: middle;\n",
       "    }\n",
       "\n",
       "    .dataframe tbody tr th {\n",
       "        vertical-align: top;\n",
       "    }\n",
       "\n",
       "    .dataframe thead th {\n",
       "        text-align: right;\n",
       "    }\n",
       "</style>\n",
       "<table border=\"1\" class=\"dataframe\">\n",
       "  <thead>\n",
       "    <tr style=\"text-align: right;\">\n",
       "      <th></th>\n",
       "      <th>Name</th>\n",
       "      <th>Surname</th>\n",
       "      <th>Gender</th>\n",
       "      <th>Marks</th>\n",
       "      <th>Grade</th>\n",
       "      <th>Pass</th>\n",
       "    </tr>\n",
       "  </thead>\n",
       "  <tbody>\n",
       "    <tr>\n",
       "      <th>42343</th>\n",
       "      <td>Anna</td>\n",
       "      <td>van Rossum</td>\n",
       "      <td>F</td>\n",
       "      <td>92</td>\n",
       "      <td>9.0</td>\n",
       "      <td>True</td>\n",
       "    </tr>\n",
       "    <tr>\n",
       "      <th>57567</th>\n",
       "      <td>Ibrahim</td>\n",
       "      <td>Assad</td>\n",
       "      <td>M</td>\n",
       "      <td>76</td>\n",
       "      <td>7.5</td>\n",
       "      <td>True</td>\n",
       "    </tr>\n",
       "    <tr>\n",
       "      <th>34534</th>\n",
       "      <td>Sophie</td>\n",
       "      <td>van Dee</td>\n",
       "      <td>F</td>\n",
       "      <td>84</td>\n",
       "      <td>8.5</td>\n",
       "      <td>True</td>\n",
       "    </tr>\n",
       "  </tbody>\n",
       "</table>\n",
       "</div>"
      ],
      "text/plain": [
       "          Name     Surname Gender  Marks  Grade  Pass\n",
       "42343     Anna  van Rossum      F     92    9.0  True\n",
       "57567  Ibrahim       Assad      M     76    7.5  True\n",
       "34534   Sophie     van Dee      F     84    8.5  True"
      ]
     },
     "execution_count": 27,
     "metadata": {},
     "output_type": "execute_result"
    }
   ],
   "source": [
    "ADP_grades[0::2]"
   ]
  },
  {
   "cell_type": "code",
   "execution_count": 28,
   "metadata": {},
   "outputs": [
    {
     "data": {
      "text/html": [
       "<div>\n",
       "<style scoped>\n",
       "    .dataframe tbody tr th:only-of-type {\n",
       "        vertical-align: middle;\n",
       "    }\n",
       "\n",
       "    .dataframe tbody tr th {\n",
       "        vertical-align: top;\n",
       "    }\n",
       "\n",
       "    .dataframe thead th {\n",
       "        text-align: right;\n",
       "    }\n",
       "</style>\n",
       "<table border=\"1\" class=\"dataframe\">\n",
       "  <thead>\n",
       "    <tr style=\"text-align: right;\">\n",
       "      <th></th>\n",
       "      <th>Name</th>\n",
       "      <th>Surname</th>\n",
       "      <th>Gender</th>\n",
       "      <th>Marks</th>\n",
       "      <th>Grade</th>\n",
       "      <th>Pass</th>\n",
       "    </tr>\n",
       "  </thead>\n",
       "  <tbody>\n",
       "    <tr>\n",
       "      <th>42343</th>\n",
       "      <td>Anna</td>\n",
       "      <td>van Rossum</td>\n",
       "      <td>F</td>\n",
       "      <td>92</td>\n",
       "      <td>9.0</td>\n",
       "      <td>True</td>\n",
       "    </tr>\n",
       "    <tr>\n",
       "      <th>34534</th>\n",
       "      <td>Sophie</td>\n",
       "      <td>van Dee</td>\n",
       "      <td>F</td>\n",
       "      <td>84</td>\n",
       "      <td>8.5</td>\n",
       "      <td>True</td>\n",
       "    </tr>\n",
       "  </tbody>\n",
       "</table>\n",
       "</div>"
      ],
      "text/plain": [
       "         Name     Surname Gender  Marks  Grade  Pass\n",
       "42343    Anna  van Rossum      F     92    9.0  True\n",
       "34534  Sophie     van Dee      F     84    8.5  True"
      ]
     },
     "execution_count": 28,
     "metadata": {},
     "output_type": "execute_result"
    }
   ],
   "source": [
    "# boolean indexing of rows also works\n",
    "ADP_grades[(ADP_grades['Gender'] == \"F\") & (ADP_grades['Marks'] > 70)]"
   ]
  },
  {
   "cell_type": "markdown",
   "metadata": {},
   "source": [
    "#### Rows and columns\n",
    "\n",
    "Unlike with numpy, you cannot specify a subset along multiple dimensions within a single set of []s:"
   ]
  },
  {
   "cell_type": "code",
   "execution_count": 132,
   "metadata": {},
   "outputs": [],
   "source": [
    "# doesn't work!\n",
    "#ADP_grades[:3, 'Marks']"
   ]
  },
  {
   "cell_type": "markdown",
   "metadata": {},
   "source": [
    "Instead, the two subsets must be chained together in separate []s. We will see that this is not the optimal way of doing these indexing calls, but it is _allowed_"
   ]
  },
  {
   "cell_type": "code",
   "execution_count": 30,
   "metadata": {},
   "outputs": [
    {
     "data": {
      "text/plain": [
       "42343    92\n",
       "23423    52\n",
       "57567    76\n",
       "Name: Marks, dtype: int64"
      ]
     },
     "execution_count": 30,
     "metadata": {},
     "output_type": "execute_result"
    }
   ],
   "source": [
    "# does work!\n",
    "ADP_grades[:3]['Marks']"
   ]
  },
  {
   "cell_type": "code",
   "execution_count": 31,
   "metadata": {},
   "outputs": [
    {
     "data": {
      "text/plain": [
       "42343    92\n",
       "23423    52\n",
       "57567    76\n",
       "Name: Marks, dtype: int64"
      ]
     },
     "execution_count": 31,
     "metadata": {},
     "output_type": "execute_result"
    }
   ],
   "source": [
    "# also works!\n",
    "ADP_grades['Marks'][:3]"
   ]
  },
  {
   "cell_type": "markdown",
   "metadata": {},
   "source": [
    "### 4.5.3 Selection using labels\n",
    "\n",
    "The .loc attribute can be used to index:\n",
    "- A single row with a specified index\n",
    "- Multiple rows \n",
    "- Multiple rows and columns"
   ]
  },
  {
   "cell_type": "code",
   "execution_count": 32,
   "metadata": {},
   "outputs": [
    {
     "data": {
      "text/html": [
       "<div>\n",
       "<style scoped>\n",
       "    .dataframe tbody tr th:only-of-type {\n",
       "        vertical-align: middle;\n",
       "    }\n",
       "\n",
       "    .dataframe tbody tr th {\n",
       "        vertical-align: top;\n",
       "    }\n",
       "\n",
       "    .dataframe thead th {\n",
       "        text-align: right;\n",
       "    }\n",
       "</style>\n",
       "<table border=\"1\" class=\"dataframe\">\n",
       "  <thead>\n",
       "    <tr style=\"text-align: right;\">\n",
       "      <th></th>\n",
       "      <th>Name</th>\n",
       "      <th>Surname</th>\n",
       "      <th>Gender</th>\n",
       "      <th>Marks</th>\n",
       "      <th>Grade</th>\n",
       "      <th>Pass</th>\n",
       "    </tr>\n",
       "  </thead>\n",
       "  <tbody>\n",
       "    <tr>\n",
       "      <th>42343</th>\n",
       "      <td>Anna</td>\n",
       "      <td>van Rossum</td>\n",
       "      <td>F</td>\n",
       "      <td>92</td>\n",
       "      <td>9.0</td>\n",
       "      <td>True</td>\n",
       "    </tr>\n",
       "    <tr>\n",
       "      <th>23423</th>\n",
       "      <td>David</td>\n",
       "      <td>Alberts</td>\n",
       "      <td>M</td>\n",
       "      <td>52</td>\n",
       "      <td>5.0</td>\n",
       "      <td>False</td>\n",
       "    </tr>\n",
       "    <tr>\n",
       "      <th>57567</th>\n",
       "      <td>Ibrahim</td>\n",
       "      <td>Assad</td>\n",
       "      <td>M</td>\n",
       "      <td>76</td>\n",
       "      <td>7.5</td>\n",
       "      <td>True</td>\n",
       "    </tr>\n",
       "    <tr>\n",
       "      <th>54644</th>\n",
       "      <td>Maria</td>\n",
       "      <td>Esposito</td>\n",
       "      <td>F</td>\n",
       "      <td>68</td>\n",
       "      <td>7.0</td>\n",
       "      <td>True</td>\n",
       "    </tr>\n",
       "    <tr>\n",
       "      <th>34534</th>\n",
       "      <td>Sophie</td>\n",
       "      <td>van Dee</td>\n",
       "      <td>F</td>\n",
       "      <td>84</td>\n",
       "      <td>8.5</td>\n",
       "      <td>True</td>\n",
       "    </tr>\n",
       "  </tbody>\n",
       "</table>\n",
       "</div>"
      ],
      "text/plain": [
       "          Name     Surname Gender  Marks  Grade   Pass\n",
       "42343     Anna  van Rossum      F     92    9.0   True\n",
       "23423    David     Alberts      M     52    5.0  False\n",
       "57567  Ibrahim       Assad      M     76    7.5   True\n",
       "54644    Maria    Esposito      F     68    7.0   True\n",
       "34534   Sophie     van Dee      F     84    8.5   True"
      ]
     },
     "execution_count": 32,
     "metadata": {},
     "output_type": "execute_result"
    }
   ],
   "source": [
    "ADP_grades"
   ]
  },
  {
   "cell_type": "markdown",
   "metadata": {},
   "source": [
    "#### Indexing a single row\n",
    "\n",
    "When a single label is specified, it is assumed to be an index label (of a row)"
   ]
  },
  {
   "cell_type": "code",
   "execution_count": 33,
   "metadata": {},
   "outputs": [
    {
     "data": {
      "text/plain": [
       "Name       Ibrahim\n",
       "Surname      Assad\n",
       "Gender           M\n",
       "Marks           76\n",
       "Grade          7.5\n",
       "Pass          True\n",
       "Name: 57567, dtype: object"
      ]
     },
     "execution_count": 33,
     "metadata": {},
     "output_type": "execute_result"
    }
   ],
   "source": [
    "# Selection by Label for rows\n",
    "ADP_grades.loc[57567]"
   ]
  },
  {
   "cell_type": "markdown",
   "metadata": {},
   "source": [
    "#### Indexing Multiple Rows\n"
   ]
  },
  {
   "cell_type": "code",
   "execution_count": 34,
   "metadata": {},
   "outputs": [
    {
     "data": {
      "text/html": [
       "<div>\n",
       "<style scoped>\n",
       "    .dataframe tbody tr th:only-of-type {\n",
       "        vertical-align: middle;\n",
       "    }\n",
       "\n",
       "    .dataframe tbody tr th {\n",
       "        vertical-align: top;\n",
       "    }\n",
       "\n",
       "    .dataframe thead th {\n",
       "        text-align: right;\n",
       "    }\n",
       "</style>\n",
       "<table border=\"1\" class=\"dataframe\">\n",
       "  <thead>\n",
       "    <tr style=\"text-align: right;\">\n",
       "      <th></th>\n",
       "      <th>Name</th>\n",
       "      <th>Surname</th>\n",
       "      <th>Gender</th>\n",
       "      <th>Marks</th>\n",
       "      <th>Grade</th>\n",
       "      <th>Pass</th>\n",
       "    </tr>\n",
       "  </thead>\n",
       "  <tbody>\n",
       "    <tr>\n",
       "      <th>57567</th>\n",
       "      <td>Ibrahim</td>\n",
       "      <td>Assad</td>\n",
       "      <td>M</td>\n",
       "      <td>76</td>\n",
       "      <td>7.5</td>\n",
       "      <td>True</td>\n",
       "    </tr>\n",
       "    <tr>\n",
       "      <th>54644</th>\n",
       "      <td>Maria</td>\n",
       "      <td>Esposito</td>\n",
       "      <td>F</td>\n",
       "      <td>68</td>\n",
       "      <td>7.0</td>\n",
       "      <td>True</td>\n",
       "    </tr>\n",
       "    <tr>\n",
       "      <th>34534</th>\n",
       "      <td>Sophie</td>\n",
       "      <td>van Dee</td>\n",
       "      <td>F</td>\n",
       "      <td>84</td>\n",
       "      <td>8.5</td>\n",
       "      <td>True</td>\n",
       "    </tr>\n",
       "  </tbody>\n",
       "</table>\n",
       "</div>"
      ],
      "text/plain": [
       "          Name   Surname Gender  Marks  Grade  Pass\n",
       "57567  Ibrahim     Assad      M     76    7.5  True\n",
       "54644    Maria  Esposito      F     68    7.0  True\n",
       "34534   Sophie   van Dee      F     84    8.5  True"
      ]
     },
     "execution_count": 34,
     "metadata": {},
     "output_type": "execute_result"
    }
   ],
   "source": [
    "# Selection by Label for rows\n",
    "ADP_grades.loc[57567:34534]"
   ]
  },
  {
   "cell_type": "markdown",
   "metadata": {},
   "source": [
    "#### Indexing Multiple Rows and Columns\n",
    "\n",
    "Looking for a label in a column requires including the full range of rows (:) and the comma:"
   ]
  },
  {
   "cell_type": "code",
   "execution_count": 35,
   "metadata": {},
   "outputs": [
    {
     "data": {
      "text/html": [
       "<div>\n",
       "<style scoped>\n",
       "    .dataframe tbody tr th:only-of-type {\n",
       "        vertical-align: middle;\n",
       "    }\n",
       "\n",
       "    .dataframe tbody tr th {\n",
       "        vertical-align: top;\n",
       "    }\n",
       "\n",
       "    .dataframe thead th {\n",
       "        text-align: right;\n",
       "    }\n",
       "</style>\n",
       "<table border=\"1\" class=\"dataframe\">\n",
       "  <thead>\n",
       "    <tr style=\"text-align: right;\">\n",
       "      <th></th>\n",
       "      <th>Name</th>\n",
       "      <th>Grade</th>\n",
       "      <th>Pass</th>\n",
       "    </tr>\n",
       "  </thead>\n",
       "  <tbody>\n",
       "    <tr>\n",
       "      <th>42343</th>\n",
       "      <td>Anna</td>\n",
       "      <td>9.0</td>\n",
       "      <td>True</td>\n",
       "    </tr>\n",
       "    <tr>\n",
       "      <th>23423</th>\n",
       "      <td>David</td>\n",
       "      <td>5.0</td>\n",
       "      <td>False</td>\n",
       "    </tr>\n",
       "    <tr>\n",
       "      <th>57567</th>\n",
       "      <td>Ibrahim</td>\n",
       "      <td>7.5</td>\n",
       "      <td>True</td>\n",
       "    </tr>\n",
       "    <tr>\n",
       "      <th>54644</th>\n",
       "      <td>Maria</td>\n",
       "      <td>7.0</td>\n",
       "      <td>True</td>\n",
       "    </tr>\n",
       "    <tr>\n",
       "      <th>34534</th>\n",
       "      <td>Sophie</td>\n",
       "      <td>8.5</td>\n",
       "      <td>True</td>\n",
       "    </tr>\n",
       "  </tbody>\n",
       "</table>\n",
       "</div>"
      ],
      "text/plain": [
       "          Name  Grade   Pass\n",
       "42343     Anna    9.0   True\n",
       "23423    David    5.0  False\n",
       "57567  Ibrahim    7.5   True\n",
       "54644    Maria    7.0   True\n",
       "34534   Sophie    8.5   True"
      ]
     },
     "execution_count": 35,
     "metadata": {},
     "output_type": "execute_result"
    }
   ],
   "source": [
    "# Selection by Label for columns\n",
    "ADP_grades.loc[:,['Name', 'Grade', 'Pass']]"
   ]
  },
  {
   "cell_type": "code",
   "execution_count": 36,
   "metadata": {},
   "outputs": [
    {
     "data": {
      "text/html": [
       "<div>\n",
       "<style scoped>\n",
       "    .dataframe tbody tr th:only-of-type {\n",
       "        vertical-align: middle;\n",
       "    }\n",
       "\n",
       "    .dataframe tbody tr th {\n",
       "        vertical-align: top;\n",
       "    }\n",
       "\n",
       "    .dataframe thead th {\n",
       "        text-align: right;\n",
       "    }\n",
       "</style>\n",
       "<table border=\"1\" class=\"dataframe\">\n",
       "  <thead>\n",
       "    <tr style=\"text-align: right;\">\n",
       "      <th></th>\n",
       "      <th>Name</th>\n",
       "      <th>Grade</th>\n",
       "      <th>Pass</th>\n",
       "    </tr>\n",
       "  </thead>\n",
       "  <tbody>\n",
       "    <tr>\n",
       "      <th>57567</th>\n",
       "      <td>Ibrahim</td>\n",
       "      <td>7.5</td>\n",
       "      <td>True</td>\n",
       "    </tr>\n",
       "    <tr>\n",
       "      <th>54644</th>\n",
       "      <td>Maria</td>\n",
       "      <td>7.0</td>\n",
       "      <td>True</td>\n",
       "    </tr>\n",
       "  </tbody>\n",
       "</table>\n",
       "</div>"
      ],
      "text/plain": [
       "          Name  Grade  Pass\n",
       "57567  Ibrahim    7.5  True\n",
       "54644    Maria    7.0  True"
      ]
     },
     "execution_count": 36,
     "metadata": {},
     "output_type": "execute_result"
    }
   ],
   "source": [
    "# Selection by labels  for rows and columns\n",
    "ADP_grades.loc[57567:54644,['Name', 'Grade', 'Pass']]"
   ]
  },
  {
   "cell_type": "markdown",
   "metadata": {},
   "source": [
    "#### Slice of labels"
   ]
  },
  {
   "cell_type": "code",
   "execution_count": 37,
   "metadata": {},
   "outputs": [
    {
     "data": {
      "text/html": [
       "<div>\n",
       "<style scoped>\n",
       "    .dataframe tbody tr th:only-of-type {\n",
       "        vertical-align: middle;\n",
       "    }\n",
       "\n",
       "    .dataframe tbody tr th {\n",
       "        vertical-align: top;\n",
       "    }\n",
       "\n",
       "    .dataframe thead th {\n",
       "        text-align: right;\n",
       "    }\n",
       "</style>\n",
       "<table border=\"1\" class=\"dataframe\">\n",
       "  <thead>\n",
       "    <tr style=\"text-align: right;\">\n",
       "      <th></th>\n",
       "      <th>Name</th>\n",
       "      <th>Surname</th>\n",
       "      <th>Gender</th>\n",
       "      <th>Marks</th>\n",
       "      <th>Grade</th>\n",
       "    </tr>\n",
       "  </thead>\n",
       "  <tbody>\n",
       "    <tr>\n",
       "      <th>42343</th>\n",
       "      <td>Anna</td>\n",
       "      <td>van Rossum</td>\n",
       "      <td>F</td>\n",
       "      <td>92</td>\n",
       "      <td>9.0</td>\n",
       "    </tr>\n",
       "    <tr>\n",
       "      <th>23423</th>\n",
       "      <td>David</td>\n",
       "      <td>Alberts</td>\n",
       "      <td>M</td>\n",
       "      <td>52</td>\n",
       "      <td>5.0</td>\n",
       "    </tr>\n",
       "    <tr>\n",
       "      <th>57567</th>\n",
       "      <td>Ibrahim</td>\n",
       "      <td>Assad</td>\n",
       "      <td>M</td>\n",
       "      <td>76</td>\n",
       "      <td>7.5</td>\n",
       "    </tr>\n",
       "  </tbody>\n",
       "</table>\n",
       "</div>"
      ],
      "text/plain": [
       "          Name     Surname Gender  Marks  Grade\n",
       "42343     Anna  van Rossum      F     92    9.0\n",
       "23423    David     Alberts      M     52    5.0\n",
       "57567  Ibrahim       Assad      M     76    7.5"
      ]
     },
     "execution_count": 37,
     "metadata": {},
     "output_type": "execute_result"
    }
   ],
   "source": [
    "ADP_grades.loc[42343:57567, 'Name':'Grade']"
   ]
  },
  {
   "cell_type": "markdown",
   "metadata": {},
   "source": [
    "#### Boolean array\n",
    "\n",
    "This is slightly different than above because instaed of specifying labels a boolean value is specified for each label:"
   ]
  },
  {
   "cell_type": "code",
   "execution_count": 38,
   "metadata": {},
   "outputs": [
    {
     "data": {
      "text/html": [
       "<div>\n",
       "<style scoped>\n",
       "    .dataframe tbody tr th:only-of-type {\n",
       "        vertical-align: middle;\n",
       "    }\n",
       "\n",
       "    .dataframe tbody tr th {\n",
       "        vertical-align: top;\n",
       "    }\n",
       "\n",
       "    .dataframe thead th {\n",
       "        text-align: right;\n",
       "    }\n",
       "</style>\n",
       "<table border=\"1\" class=\"dataframe\">\n",
       "  <thead>\n",
       "    <tr style=\"text-align: right;\">\n",
       "      <th></th>\n",
       "      <th>Name</th>\n",
       "      <th>Grade</th>\n",
       "      <th>Pass</th>\n",
       "    </tr>\n",
       "  </thead>\n",
       "  <tbody>\n",
       "    <tr>\n",
       "      <th>42343</th>\n",
       "      <td>Anna</td>\n",
       "      <td>9.0</td>\n",
       "      <td>True</td>\n",
       "    </tr>\n",
       "    <tr>\n",
       "      <th>23423</th>\n",
       "      <td>David</td>\n",
       "      <td>5.0</td>\n",
       "      <td>False</td>\n",
       "    </tr>\n",
       "    <tr>\n",
       "      <th>57567</th>\n",
       "      <td>Ibrahim</td>\n",
       "      <td>7.5</td>\n",
       "      <td>True</td>\n",
       "    </tr>\n",
       "    <tr>\n",
       "      <th>54644</th>\n",
       "      <td>Maria</td>\n",
       "      <td>7.0</td>\n",
       "      <td>True</td>\n",
       "    </tr>\n",
       "    <tr>\n",
       "      <th>34534</th>\n",
       "      <td>Sophie</td>\n",
       "      <td>8.5</td>\n",
       "      <td>True</td>\n",
       "    </tr>\n",
       "  </tbody>\n",
       "</table>\n",
       "</div>"
      ],
      "text/plain": [
       "          Name  Grade   Pass\n",
       "42343     Anna    9.0   True\n",
       "23423    David    5.0  False\n",
       "57567  Ibrahim    7.5   True\n",
       "54644    Maria    7.0   True\n",
       "34534   Sophie    8.5   True"
      ]
     },
     "execution_count": 38,
     "metadata": {},
     "output_type": "execute_result"
    }
   ],
   "source": [
    "ADP_grades.loc[:, [True, False, False, False, True, True]]"
   ]
  },
  {
   "cell_type": "markdown",
   "metadata": {},
   "source": [
    "### 4.5.4 Selection by location"
   ]
  },
  {
   "cell_type": "markdown",
   "metadata": {},
   "source": [
    "As with the label selection, you can select via position (or location). You can think of this as the _implicit_ position location that does not change when you rename the _labels_.\n",
    "\n",
    "To index based on location, use the .iloc attribute. This can be done via:\n",
    "- a single position (e.g. 14, 2)\n",
    "- a list of positions ([1, 3, 2])\n",
    "- a slice object with integers (3:42) (Note: just like in Numpy, only lower is included, upper is excluded. This is different than loc[]!)"
   ]
  },
  {
   "cell_type": "code",
   "execution_count": 39,
   "metadata": {},
   "outputs": [
    {
     "data": {
      "text/html": [
       "<div>\n",
       "<style scoped>\n",
       "    .dataframe tbody tr th:only-of-type {\n",
       "        vertical-align: middle;\n",
       "    }\n",
       "\n",
       "    .dataframe tbody tr th {\n",
       "        vertical-align: top;\n",
       "    }\n",
       "\n",
       "    .dataframe thead th {\n",
       "        text-align: right;\n",
       "    }\n",
       "</style>\n",
       "<table border=\"1\" class=\"dataframe\">\n",
       "  <thead>\n",
       "    <tr style=\"text-align: right;\">\n",
       "      <th></th>\n",
       "      <th>Name</th>\n",
       "      <th>Surname</th>\n",
       "      <th>Gender</th>\n",
       "      <th>Marks</th>\n",
       "      <th>Grade</th>\n",
       "      <th>Pass</th>\n",
       "    </tr>\n",
       "  </thead>\n",
       "  <tbody>\n",
       "    <tr>\n",
       "      <th>42343</th>\n",
       "      <td>Anna</td>\n",
       "      <td>van Rossum</td>\n",
       "      <td>F</td>\n",
       "      <td>92</td>\n",
       "      <td>9.0</td>\n",
       "      <td>True</td>\n",
       "    </tr>\n",
       "    <tr>\n",
       "      <th>23423</th>\n",
       "      <td>David</td>\n",
       "      <td>Alberts</td>\n",
       "      <td>M</td>\n",
       "      <td>52</td>\n",
       "      <td>5.0</td>\n",
       "      <td>False</td>\n",
       "    </tr>\n",
       "    <tr>\n",
       "      <th>57567</th>\n",
       "      <td>Ibrahim</td>\n",
       "      <td>Assad</td>\n",
       "      <td>M</td>\n",
       "      <td>76</td>\n",
       "      <td>7.5</td>\n",
       "      <td>True</td>\n",
       "    </tr>\n",
       "    <tr>\n",
       "      <th>54644</th>\n",
       "      <td>Maria</td>\n",
       "      <td>Esposito</td>\n",
       "      <td>F</td>\n",
       "      <td>68</td>\n",
       "      <td>7.0</td>\n",
       "      <td>True</td>\n",
       "    </tr>\n",
       "    <tr>\n",
       "      <th>34534</th>\n",
       "      <td>Sophie</td>\n",
       "      <td>van Dee</td>\n",
       "      <td>F</td>\n",
       "      <td>84</td>\n",
       "      <td>8.5</td>\n",
       "      <td>True</td>\n",
       "    </tr>\n",
       "  </tbody>\n",
       "</table>\n",
       "</div>"
      ],
      "text/plain": [
       "          Name     Surname Gender  Marks  Grade   Pass\n",
       "42343     Anna  van Rossum      F     92    9.0   True\n",
       "23423    David     Alberts      M     52    5.0  False\n",
       "57567  Ibrahim       Assad      M     76    7.5   True\n",
       "54644    Maria    Esposito      F     68    7.0   True\n",
       "34534   Sophie     van Dee      F     84    8.5   True"
      ]
     },
     "execution_count": 39,
     "metadata": {},
     "output_type": "execute_result"
    }
   ],
   "source": [
    "ADP_grades"
   ]
  },
  {
   "cell_type": "markdown",
   "metadata": {},
   "source": [
    "#### single position"
   ]
  },
  {
   "cell_type": "code",
   "execution_count": 40,
   "metadata": {
    "tags": []
   },
   "outputs": [
    {
     "data": {
      "text/plain": [
       "Name          Maria\n",
       "Surname    Esposito\n",
       "Gender            F\n",
       "Marks            68\n",
       "Grade           7.0\n",
       "Pass           True\n",
       "Name: 54644, dtype: object"
      ]
     },
     "execution_count": 40,
     "metadata": {},
     "output_type": "execute_result"
    }
   ],
   "source": [
    "ADP_grades.iloc[3]"
   ]
  },
  {
   "cell_type": "code",
   "execution_count": 41,
   "metadata": {},
   "outputs": [
    {
     "data": {
      "text/plain": [
       "'F'"
      ]
     },
     "execution_count": 41,
     "metadata": {},
     "output_type": "execute_result"
    }
   ],
   "source": [
    "ADP_grades.iloc[3, 2]"
   ]
  },
  {
   "cell_type": "markdown",
   "metadata": {},
   "source": [
    "#### a slice of positions"
   ]
  },
  {
   "cell_type": "code",
   "execution_count": 42,
   "metadata": {},
   "outputs": [
    {
     "data": {
      "text/html": [
       "<div>\n",
       "<style scoped>\n",
       "    .dataframe tbody tr th:only-of-type {\n",
       "        vertical-align: middle;\n",
       "    }\n",
       "\n",
       "    .dataframe tbody tr th {\n",
       "        vertical-align: top;\n",
       "    }\n",
       "\n",
       "    .dataframe thead th {\n",
       "        text-align: right;\n",
       "    }\n",
       "</style>\n",
       "<table border=\"1\" class=\"dataframe\">\n",
       "  <thead>\n",
       "    <tr style=\"text-align: right;\">\n",
       "      <th></th>\n",
       "      <th>Name</th>\n",
       "      <th>Surname</th>\n",
       "      <th>Gender</th>\n",
       "      <th>Marks</th>\n",
       "      <th>Grade</th>\n",
       "    </tr>\n",
       "  </thead>\n",
       "  <tbody>\n",
       "    <tr>\n",
       "      <th>54644</th>\n",
       "      <td>Maria</td>\n",
       "      <td>Esposito</td>\n",
       "      <td>F</td>\n",
       "      <td>68</td>\n",
       "      <td>7.0</td>\n",
       "    </tr>\n",
       "    <tr>\n",
       "      <th>34534</th>\n",
       "      <td>Sophie</td>\n",
       "      <td>van Dee</td>\n",
       "      <td>F</td>\n",
       "      <td>84</td>\n",
       "      <td>8.5</td>\n",
       "    </tr>\n",
       "  </tbody>\n",
       "</table>\n",
       "</div>"
      ],
      "text/plain": [
       "         Name   Surname Gender  Marks  Grade\n",
       "54644   Maria  Esposito      F     68    7.0\n",
       "34534  Sophie   van Dee      F     84    8.5"
      ]
     },
     "execution_count": 42,
     "metadata": {},
     "output_type": "execute_result"
    }
   ],
   "source": [
    "# Selection by index for rows\n",
    "ADP_grades.iloc[3:5, 0:5]"
   ]
  },
  {
   "cell_type": "code",
   "execution_count": 43,
   "metadata": {},
   "outputs": [
    {
     "data": {
      "text/html": [
       "<div>\n",
       "<style scoped>\n",
       "    .dataframe tbody tr th:only-of-type {\n",
       "        vertical-align: middle;\n",
       "    }\n",
       "\n",
       "    .dataframe tbody tr th {\n",
       "        vertical-align: top;\n",
       "    }\n",
       "\n",
       "    .dataframe thead th {\n",
       "        text-align: right;\n",
       "    }\n",
       "</style>\n",
       "<table border=\"1\" class=\"dataframe\">\n",
       "  <thead>\n",
       "    <tr style=\"text-align: right;\">\n",
       "      <th></th>\n",
       "      <th>Surname</th>\n",
       "      <th>Marks</th>\n",
       "      <th>Pass</th>\n",
       "    </tr>\n",
       "  </thead>\n",
       "  <tbody>\n",
       "    <tr>\n",
       "      <th>54644</th>\n",
       "      <td>Esposito</td>\n",
       "      <td>68</td>\n",
       "      <td>True</td>\n",
       "    </tr>\n",
       "    <tr>\n",
       "      <th>34534</th>\n",
       "      <td>van Dee</td>\n",
       "      <td>84</td>\n",
       "      <td>True</td>\n",
       "    </tr>\n",
       "  </tbody>\n",
       "</table>\n",
       "</div>"
      ],
      "text/plain": [
       "        Surname  Marks  Pass\n",
       "54644  Esposito     68  True\n",
       "34534   van Dee     84  True"
      ]
     },
     "execution_count": 43,
     "metadata": {},
     "output_type": "execute_result"
    }
   ],
   "source": [
    "# Selection by index for rows and columns\n",
    "ADP_grades.iloc[3:5, [1,3,5]]"
   ]
  },
  {
   "cell_type": "markdown",
   "metadata": {},
   "source": [
    "### 4.5.5 Selection by sample\n",
    "\n",
    "Often in data science you want to sample a random set of rows (or columns) from your data. This is easy within Pandas using the sample() attribute. By default, it assumes you are sampling without replacement from rows:"
   ]
  },
  {
   "cell_type": "code",
   "execution_count": 60,
   "metadata": {},
   "outputs": [
    {
     "data": {
      "text/html": [
       "<div>\n",
       "<style scoped>\n",
       "    .dataframe tbody tr th:only-of-type {\n",
       "        vertical-align: middle;\n",
       "    }\n",
       "\n",
       "    .dataframe tbody tr th {\n",
       "        vertical-align: top;\n",
       "    }\n",
       "\n",
       "    .dataframe thead th {\n",
       "        text-align: right;\n",
       "    }\n",
       "</style>\n",
       "<table border=\"1\" class=\"dataframe\">\n",
       "  <thead>\n",
       "    <tr style=\"text-align: right;\">\n",
       "      <th></th>\n",
       "      <th>Name</th>\n",
       "      <th>Surname</th>\n",
       "      <th>Gender</th>\n",
       "      <th>Marks</th>\n",
       "      <th>Grade</th>\n",
       "      <th>Pass</th>\n",
       "    </tr>\n",
       "  </thead>\n",
       "  <tbody>\n",
       "    <tr>\n",
       "      <th>54644</th>\n",
       "      <td>Maria</td>\n",
       "      <td>Esposito</td>\n",
       "      <td>F</td>\n",
       "      <td>68</td>\n",
       "      <td>7.0</td>\n",
       "      <td>True</td>\n",
       "    </tr>\n",
       "    <tr>\n",
       "      <th>23423</th>\n",
       "      <td>David</td>\n",
       "      <td>Alberts</td>\n",
       "      <td>M</td>\n",
       "      <td>52</td>\n",
       "      <td>5.0</td>\n",
       "      <td>False</td>\n",
       "    </tr>\n",
       "    <tr>\n",
       "      <th>57567</th>\n",
       "      <td>Ibrahim</td>\n",
       "      <td>Assad</td>\n",
       "      <td>M</td>\n",
       "      <td>76</td>\n",
       "      <td>7.5</td>\n",
       "      <td>True</td>\n",
       "    </tr>\n",
       "  </tbody>\n",
       "</table>\n",
       "</div>"
      ],
      "text/plain": [
       "          Name   Surname Gender  Marks  Grade   Pass\n",
       "54644    Maria  Esposito      F     68    7.0   True\n",
       "23423    David   Alberts      M     52    5.0  False\n",
       "57567  Ibrahim     Assad      M     76    7.5   True"
      ]
     },
     "execution_count": 60,
     "metadata": {},
     "output_type": "execute_result"
    }
   ],
   "source": [
    "#Selection by sampling\n",
    "ADP_grades.sample(3)"
   ]
  },
  {
   "cell_type": "code",
   "execution_count": 69,
   "metadata": {},
   "outputs": [
    {
     "data": {
      "text/html": [
       "<div>\n",
       "<style scoped>\n",
       "    .dataframe tbody tr th:only-of-type {\n",
       "        vertical-align: middle;\n",
       "    }\n",
       "\n",
       "    .dataframe tbody tr th {\n",
       "        vertical-align: top;\n",
       "    }\n",
       "\n",
       "    .dataframe thead th {\n",
       "        text-align: right;\n",
       "    }\n",
       "</style>\n",
       "<table border=\"1\" class=\"dataframe\">\n",
       "  <thead>\n",
       "    <tr style=\"text-align: right;\">\n",
       "      <th></th>\n",
       "      <th>Name</th>\n",
       "      <th>Surname</th>\n",
       "      <th>Gender</th>\n",
       "      <th>Marks</th>\n",
       "      <th>Grade</th>\n",
       "      <th>Pass</th>\n",
       "    </tr>\n",
       "  </thead>\n",
       "  <tbody>\n",
       "    <tr>\n",
       "      <th>57567</th>\n",
       "      <td>Ibrahim</td>\n",
       "      <td>Assad</td>\n",
       "      <td>M</td>\n",
       "      <td>76</td>\n",
       "      <td>7.5</td>\n",
       "      <td>True</td>\n",
       "    </tr>\n",
       "    <tr>\n",
       "      <th>54644</th>\n",
       "      <td>Maria</td>\n",
       "      <td>Esposito</td>\n",
       "      <td>F</td>\n",
       "      <td>68</td>\n",
       "      <td>7.0</td>\n",
       "      <td>True</td>\n",
       "    </tr>\n",
       "    <tr>\n",
       "      <th>54644</th>\n",
       "      <td>Maria</td>\n",
       "      <td>Esposito</td>\n",
       "      <td>F</td>\n",
       "      <td>68</td>\n",
       "      <td>7.0</td>\n",
       "      <td>True</td>\n",
       "    </tr>\n",
       "  </tbody>\n",
       "</table>\n",
       "</div>"
      ],
      "text/plain": [
       "          Name   Surname Gender  Marks  Grade  Pass\n",
       "57567  Ibrahim     Assad      M     76    7.5  True\n",
       "54644    Maria  Esposito      F     68    7.0  True\n",
       "54644    Maria  Esposito      F     68    7.0  True"
      ]
     },
     "execution_count": 69,
     "metadata": {},
     "output_type": "execute_result"
    }
   ],
   "source": [
    "# sample n = 3 random rows with replacement\n",
    "ADP_grades.sample(3, replace=True)"
   ]
  },
  {
   "cell_type": "code",
   "execution_count": 95,
   "metadata": {},
   "outputs": [
    {
     "data": {
      "text/html": [
       "<div>\n",
       "<style scoped>\n",
       "    .dataframe tbody tr th:only-of-type {\n",
       "        vertical-align: middle;\n",
       "    }\n",
       "\n",
       "    .dataframe tbody tr th {\n",
       "        vertical-align: top;\n",
       "    }\n",
       "\n",
       "    .dataframe thead th {\n",
       "        text-align: right;\n",
       "    }\n",
       "</style>\n",
       "<table border=\"1\" class=\"dataframe\">\n",
       "  <thead>\n",
       "    <tr style=\"text-align: right;\">\n",
       "      <th></th>\n",
       "      <th>Name</th>\n",
       "      <th>Surname</th>\n",
       "      <th>Gender</th>\n",
       "      <th>Marks</th>\n",
       "      <th>Grade</th>\n",
       "      <th>Pass</th>\n",
       "    </tr>\n",
       "  </thead>\n",
       "  <tbody>\n",
       "    <tr>\n",
       "      <th>57567</th>\n",
       "      <td>Ibrahim</td>\n",
       "      <td>Assad</td>\n",
       "      <td>M</td>\n",
       "      <td>76</td>\n",
       "      <td>7.5</td>\n",
       "      <td>True</td>\n",
       "    </tr>\n",
       "    <tr>\n",
       "      <th>42343</th>\n",
       "      <td>Anna</td>\n",
       "      <td>van Rossum</td>\n",
       "      <td>F</td>\n",
       "      <td>92</td>\n",
       "      <td>9.0</td>\n",
       "      <td>True</td>\n",
       "    </tr>\n",
       "  </tbody>\n",
       "</table>\n",
       "</div>"
      ],
      "text/plain": [
       "          Name     Surname Gender  Marks  Grade  Pass\n",
       "57567  Ibrahim       Assad      M     76    7.5  True\n",
       "42343     Anna  van Rossum      F     92    9.0  True"
      ]
     },
     "execution_count": 95,
     "metadata": {},
     "output_type": "execute_result"
    }
   ],
   "source": [
    "# sample 3% of all rows\n",
    "ADP_grades.sample(frac=0.30)"
   ]
  },
  {
   "cell_type": "code",
   "execution_count": 105,
   "metadata": {},
   "outputs": [
    {
     "data": {
      "text/html": [
       "<div>\n",
       "<style scoped>\n",
       "    .dataframe tbody tr th:only-of-type {\n",
       "        vertical-align: middle;\n",
       "    }\n",
       "\n",
       "    .dataframe tbody tr th {\n",
       "        vertical-align: top;\n",
       "    }\n",
       "\n",
       "    .dataframe thead th {\n",
       "        text-align: right;\n",
       "    }\n",
       "</style>\n",
       "<table border=\"1\" class=\"dataframe\">\n",
       "  <thead>\n",
       "    <tr style=\"text-align: right;\">\n",
       "      <th></th>\n",
       "      <th>Name</th>\n",
       "      <th>Gender</th>\n",
       "    </tr>\n",
       "  </thead>\n",
       "  <tbody>\n",
       "    <tr>\n",
       "      <th>42343</th>\n",
       "      <td>Anna</td>\n",
       "      <td>F</td>\n",
       "    </tr>\n",
       "    <tr>\n",
       "      <th>23423</th>\n",
       "      <td>David</td>\n",
       "      <td>M</td>\n",
       "    </tr>\n",
       "    <tr>\n",
       "      <th>57567</th>\n",
       "      <td>Ibrahim</td>\n",
       "      <td>M</td>\n",
       "    </tr>\n",
       "    <tr>\n",
       "      <th>54644</th>\n",
       "      <td>Maria</td>\n",
       "      <td>F</td>\n",
       "    </tr>\n",
       "    <tr>\n",
       "      <th>34534</th>\n",
       "      <td>Sophie</td>\n",
       "      <td>F</td>\n",
       "    </tr>\n",
       "  </tbody>\n",
       "</table>\n",
       "</div>"
      ],
      "text/plain": [
       "          Name Gender\n",
       "42343     Anna      F\n",
       "23423    David      M\n",
       "57567  Ibrahim      M\n",
       "54644    Maria      F\n",
       "34534   Sophie      F"
      ]
     },
     "execution_count": 105,
     "metadata": {},
     "output_type": "execute_result"
    }
   ],
   "source": [
    "# sample 2 columns\n",
    "ADP_grades.sample(2, axis=1).head()"
   ]
  },
  {
   "cell_type": "markdown",
   "metadata": {},
   "source": [
    "# Exercises\n",
    "\n",
    "We are going to use Iris dataset for this exercise. We first need to load the iris data from the iris.txt file (available in Canvas)."
   ]
  },
  {
   "cell_type": "code",
   "execution_count": 112,
   "metadata": {},
   "outputs": [
    {
     "data": {
      "text/html": [
       "<div>\n",
       "<style scoped>\n",
       "    .dataframe tbody tr th:only-of-type {\n",
       "        vertical-align: middle;\n",
       "    }\n",
       "\n",
       "    .dataframe tbody tr th {\n",
       "        vertical-align: top;\n",
       "    }\n",
       "\n",
       "    .dataframe thead th {\n",
       "        text-align: right;\n",
       "    }\n",
       "</style>\n",
       "<table border=\"1\" class=\"dataframe\">\n",
       "  <thead>\n",
       "    <tr style=\"text-align: right;\">\n",
       "      <th></th>\n",
       "      <th>sepal_length</th>\n",
       "      <th>sepal_width</th>\n",
       "      <th>petal_length</th>\n",
       "      <th>petal_width</th>\n",
       "      <th>type</th>\n",
       "    </tr>\n",
       "  </thead>\n",
       "  <tbody>\n",
       "    <tr>\n",
       "      <th>0</th>\n",
       "      <td>4.9</td>\n",
       "      <td>3.0</td>\n",
       "      <td>1.4</td>\n",
       "      <td>0.2</td>\n",
       "      <td>setosa</td>\n",
       "    </tr>\n",
       "    <tr>\n",
       "      <th>1</th>\n",
       "      <td>4.7</td>\n",
       "      <td>3.2</td>\n",
       "      <td>1.3</td>\n",
       "      <td>0.2</td>\n",
       "      <td>setosa</td>\n",
       "    </tr>\n",
       "    <tr>\n",
       "      <th>2</th>\n",
       "      <td>4.6</td>\n",
       "      <td>3.1</td>\n",
       "      <td>1.5</td>\n",
       "      <td>0.2</td>\n",
       "      <td>setosa</td>\n",
       "    </tr>\n",
       "    <tr>\n",
       "      <th>3</th>\n",
       "      <td>5.0</td>\n",
       "      <td>3.6</td>\n",
       "      <td>1.4</td>\n",
       "      <td>0.2</td>\n",
       "      <td>setosa</td>\n",
       "    </tr>\n",
       "    <tr>\n",
       "      <th>4</th>\n",
       "      <td>5.4</td>\n",
       "      <td>3.9</td>\n",
       "      <td>1.7</td>\n",
       "      <td>0.4</td>\n",
       "      <td>setosa</td>\n",
       "    </tr>\n",
       "    <tr>\n",
       "      <th>...</th>\n",
       "      <td>...</td>\n",
       "      <td>...</td>\n",
       "      <td>...</td>\n",
       "      <td>...</td>\n",
       "      <td>...</td>\n",
       "    </tr>\n",
       "    <tr>\n",
       "      <th>144</th>\n",
       "      <td>6.7</td>\n",
       "      <td>3.0</td>\n",
       "      <td>5.2</td>\n",
       "      <td>2.3</td>\n",
       "      <td>virginica</td>\n",
       "    </tr>\n",
       "    <tr>\n",
       "      <th>145</th>\n",
       "      <td>6.3</td>\n",
       "      <td>2.5</td>\n",
       "      <td>5.0</td>\n",
       "      <td>1.9</td>\n",
       "      <td>virginica</td>\n",
       "    </tr>\n",
       "    <tr>\n",
       "      <th>146</th>\n",
       "      <td>6.5</td>\n",
       "      <td>3.0</td>\n",
       "      <td>5.2</td>\n",
       "      <td>2.0</td>\n",
       "      <td>virginica</td>\n",
       "    </tr>\n",
       "    <tr>\n",
       "      <th>147</th>\n",
       "      <td>6.2</td>\n",
       "      <td>3.4</td>\n",
       "      <td>5.4</td>\n",
       "      <td>2.3</td>\n",
       "      <td>virginica</td>\n",
       "    </tr>\n",
       "    <tr>\n",
       "      <th>148</th>\n",
       "      <td>5.9</td>\n",
       "      <td>3.0</td>\n",
       "      <td>5.1</td>\n",
       "      <td>1.8</td>\n",
       "      <td>virginica</td>\n",
       "    </tr>\n",
       "  </tbody>\n",
       "</table>\n",
       "<p>149 rows × 5 columns</p>\n",
       "</div>"
      ],
      "text/plain": [
       "     sepal_length  sepal_width  petal_length  petal_width       type\n",
       "0             4.9          3.0           1.4          0.2     setosa\n",
       "1             4.7          3.2           1.3          0.2     setosa\n",
       "2             4.6          3.1           1.5          0.2     setosa\n",
       "3             5.0          3.6           1.4          0.2     setosa\n",
       "4             5.4          3.9           1.7          0.4     setosa\n",
       "..            ...          ...           ...          ...        ...\n",
       "144           6.7          3.0           5.2          2.3  virginica\n",
       "145           6.3          2.5           5.0          1.9  virginica\n",
       "146           6.5          3.0           5.2          2.0  virginica\n",
       "147           6.2          3.4           5.4          2.3  virginica\n",
       "148           5.9          3.0           5.1          1.8  virginica\n",
       "\n",
       "[149 rows x 5 columns]"
      ]
     },
     "execution_count": 112,
     "metadata": {},
     "output_type": "execute_result"
    }
   ],
   "source": [
    "# read a data file into pandas\n",
    "data = pandas.read_csv(\"iris.csv\", index_col=0)\n",
    "data"
   ]
  },
  {
   "cell_type": "markdown",
   "metadata": {},
   "source": [
    "#### Exercise 1\n",
    "\n",
    "Find the index of the maximum sepal length for an iris type in the dataset (so the index of a setosa, versicolor or virdinica plant with the maximum sepal length of their respective types).\n",
    "\n",
    "**Hint:** Have a look at Pandas documentation for `idxmax()` function."
   ]
  },
  {
   "cell_type": "code",
   "execution_count": 125,
   "metadata": {},
   "outputs": [
    {
     "data": {
      "text/html": [
       "<div>\n",
       "<style scoped>\n",
       "    .dataframe tbody tr th:only-of-type {\n",
       "        vertical-align: middle;\n",
       "    }\n",
       "\n",
       "    .dataframe tbody tr th {\n",
       "        vertical-align: top;\n",
       "    }\n",
       "\n",
       "    .dataframe thead th {\n",
       "        text-align: right;\n",
       "    }\n",
       "</style>\n",
       "<table border=\"1\" class=\"dataframe\">\n",
       "  <thead>\n",
       "    <tr style=\"text-align: right;\">\n",
       "      <th></th>\n",
       "      <th>sepal_length</th>\n",
       "      <th>sepal_width</th>\n",
       "      <th>petal_length</th>\n",
       "      <th>petal_width</th>\n",
       "    </tr>\n",
       "    <tr>\n",
       "      <th>type</th>\n",
       "      <th></th>\n",
       "      <th></th>\n",
       "      <th></th>\n",
       "      <th></th>\n",
       "    </tr>\n",
       "  </thead>\n",
       "  <tbody>\n",
       "    <tr>\n",
       "      <th>setosa</th>\n",
       "      <td>13</td>\n",
       "      <td>14</td>\n",
       "      <td>23</td>\n",
       "      <td>42</td>\n",
       "    </tr>\n",
       "    <tr>\n",
       "      <th>versicolor</th>\n",
       "      <td>49</td>\n",
       "      <td>84</td>\n",
       "      <td>82</td>\n",
       "      <td>69</td>\n",
       "    </tr>\n",
       "    <tr>\n",
       "      <th>virginica</th>\n",
       "      <td>130</td>\n",
       "      <td>116</td>\n",
       "      <td>117</td>\n",
       "      <td>99</td>\n",
       "    </tr>\n",
       "  </tbody>\n",
       "</table>\n",
       "</div>"
      ],
      "text/plain": [
       "            sepal_length  sepal_width  petal_length  petal_width\n",
       "type                                                            \n",
       "setosa                13           14            23           42\n",
       "versicolor            49           84            82           69\n",
       "virginica            130          116           117           99"
      ]
     },
     "execution_count": 125,
     "metadata": {},
     "output_type": "execute_result"
    }
   ],
   "source": [
    "data.groupby(\"type\").idxmax()"
   ]
  },
  {
   "cell_type": "markdown",
   "metadata": {},
   "source": [
    "#### Exercise 2\n",
    "\n",
    "Find the most common iris type amongst irises that have a sepal width larger than or equal to the 75% percentile of the entire dataset's sepal widths.\n",
    "\n",
    "Hint: use the .describe() function - it returns a DataFrame!\n",
    "\n",
    "Hint: to get the counts of values in a column, you can use the function .value_counts()"
   ]
  },
  {
   "cell_type": "code",
   "execution_count": 147,
   "metadata": {},
   "outputs": [
    {
     "data": {
      "text/html": [
       "<div>\n",
       "<style scoped>\n",
       "    .dataframe tbody tr th:only-of-type {\n",
       "        vertical-align: middle;\n",
       "    }\n",
       "\n",
       "    .dataframe tbody tr th {\n",
       "        vertical-align: top;\n",
       "    }\n",
       "\n",
       "    .dataframe thead th {\n",
       "        text-align: right;\n",
       "    }\n",
       "</style>\n",
       "<table border=\"1\" class=\"dataframe\">\n",
       "  <thead>\n",
       "    <tr style=\"text-align: right;\">\n",
       "      <th></th>\n",
       "      <th>sepal_length</th>\n",
       "      <th>sepal_width</th>\n",
       "      <th>petal_length</th>\n",
       "      <th>petal_width</th>\n",
       "    </tr>\n",
       "  </thead>\n",
       "  <tbody>\n",
       "    <tr>\n",
       "      <th>count</th>\n",
       "      <td>42.000000</td>\n",
       "      <td>42.000000</td>\n",
       "      <td>42.000000</td>\n",
       "      <td>42.000000</td>\n",
       "    </tr>\n",
       "    <tr>\n",
       "      <th>mean</th>\n",
       "      <td>5.542857</td>\n",
       "      <td>3.592857</td>\n",
       "      <td>2.492857</td>\n",
       "      <td>0.726190</td>\n",
       "    </tr>\n",
       "    <tr>\n",
       "      <th>std</th>\n",
       "      <td>0.781850</td>\n",
       "      <td>0.267229</td>\n",
       "      <td>1.838928</td>\n",
       "      <td>0.839006</td>\n",
       "    </tr>\n",
       "    <tr>\n",
       "      <th>min</th>\n",
       "      <td>4.600000</td>\n",
       "      <td>3.300000</td>\n",
       "      <td>1.000000</td>\n",
       "      <td>0.100000</td>\n",
       "    </tr>\n",
       "    <tr>\n",
       "      <th>25%</th>\n",
       "      <td>5.025000</td>\n",
       "      <td>3.400000</td>\n",
       "      <td>1.400000</td>\n",
       "      <td>0.200000</td>\n",
       "    </tr>\n",
       "    <tr>\n",
       "      <th>50%</th>\n",
       "      <td>5.250000</td>\n",
       "      <td>3.500000</td>\n",
       "      <td>1.500000</td>\n",
       "      <td>0.300000</td>\n",
       "    </tr>\n",
       "    <tr>\n",
       "      <th>75%</th>\n",
       "      <td>5.775000</td>\n",
       "      <td>3.800000</td>\n",
       "      <td>1.900000</td>\n",
       "      <td>0.575000</td>\n",
       "    </tr>\n",
       "    <tr>\n",
       "      <th>max</th>\n",
       "      <td>7.900000</td>\n",
       "      <td>4.400000</td>\n",
       "      <td>6.700000</td>\n",
       "      <td>2.500000</td>\n",
       "    </tr>\n",
       "  </tbody>\n",
       "</table>\n",
       "</div>"
      ],
      "text/plain": [
       "       sepal_length  sepal_width  petal_length  petal_width\n",
       "count     42.000000    42.000000     42.000000    42.000000\n",
       "mean       5.542857     3.592857      2.492857     0.726190\n",
       "std        0.781850     0.267229      1.838928     0.839006\n",
       "min        4.600000     3.300000      1.000000     0.100000\n",
       "25%        5.025000     3.400000      1.400000     0.200000\n",
       "50%        5.250000     3.500000      1.500000     0.300000\n",
       "75%        5.775000     3.800000      1.900000     0.575000\n",
       "max        7.900000     4.400000      6.700000     2.500000"
      ]
     },
     "execution_count": 147,
     "metadata": {},
     "output_type": "execute_result"
    }
   ],
   "source": [
    "data.describe()\n",
    "\n",
    "count = data[data[\"sepal_width\"] >= 3.3]\n",
    "count.value_counts(\"type\") \n",
    "count.describe()"
   ]
  },
  {
   "cell_type": "markdown",
   "metadata": {},
   "source": [
    "#### Exercise 3\n",
    "\n",
    "Find the index of virginica irises whose sepal width is smaller than the minimum sepal width of setosa irises."
   ]
  },
  {
   "cell_type": "code",
   "execution_count": 171,
   "metadata": {},
   "outputs": [
    {
     "data": {
      "text/html": [
       "<div>\n",
       "<style scoped>\n",
       "    .dataframe tbody tr th:only-of-type {\n",
       "        vertical-align: middle;\n",
       "    }\n",
       "\n",
       "    .dataframe tbody tr th {\n",
       "        vertical-align: top;\n",
       "    }\n",
       "\n",
       "    .dataframe thead th {\n",
       "        text-align: right;\n",
       "    }\n",
       "</style>\n",
       "<table border=\"1\" class=\"dataframe\">\n",
       "  <thead>\n",
       "    <tr style=\"text-align: right;\">\n",
       "      <th></th>\n",
       "      <th>sepal_length</th>\n",
       "      <th>sepal_width</th>\n",
       "      <th>petal_length</th>\n",
       "      <th>petal_width</th>\n",
       "      <th>type</th>\n",
       "    </tr>\n",
       "  </thead>\n",
       "  <tbody>\n",
       "    <tr>\n",
       "      <th>118</th>\n",
       "      <td>6.0</td>\n",
       "      <td>2.2</td>\n",
       "      <td>5.0</td>\n",
       "      <td>1.5</td>\n",
       "      <td>virginica</td>\n",
       "    </tr>\n",
       "  </tbody>\n",
       "</table>\n",
       "</div>"
      ],
      "text/plain": [
       "     sepal_length  sepal_width  petal_length  petal_width       type\n",
       "118           6.0          2.2           5.0          1.5  virginica"
      ]
     },
     "metadata": {},
     "output_type": "display_data"
    }
   ],
   "source": [
    "setosa = data[data[\"type\"] == \"setosa\"]\n",
    "setosa.describe()[3:4]\n",
    "\n",
    "tightVirgin = data[(data[\"type\"] == \"virginica\") & (data[\"sepal_width\"] < 2.3)]\n",
    "display(tightVirgin)"
   ]
  }
 ],
 "metadata": {
  "kernelspec": {
   "display_name": "Python 3",
   "language": "python",
   "name": "python3"
  },
  "language_info": {
   "codemirror_mode": {
    "name": "ipython",
    "version": 3
   },
   "file_extension": ".py",
   "mimetype": "text/x-python",
   "name": "python",
   "nbconvert_exporter": "python",
   "pygments_lexer": "ipython3",
   "version": "3.11.5"
  }
 },
 "nbformat": 4,
 "nbformat_minor": 4
}
