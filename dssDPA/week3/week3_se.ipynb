{
 "cells": [
  {
   "cell_type": "markdown",
   "metadata": {},
   "source": [
    "Write a function dot_product(a,b) that takes two matrices as input, reshapes a as necessary, and returns the dot product of a and b as a numpy array (a.b not b.a).\n",
    "\n",
    "Depending on the shape of a and b, it may not be possible to compute the dot product of the two matrices as is and it might be necessary to first reshape a such that the dot product can validly be computed.\n",
    "\n",
    "*Mathematically speaking, it isn't always possible to reshape a matrix in the right shape, but for this question, you can assume that matrix a can be reshaped appropriately.\n",
    "Note: You may not use any loops (for, while, etc) to solve this question."
   ]
  },
  {
   "cell_type": "code",
   "execution_count": 3,
   "metadata": {},
   "outputs": [],
   "source": [
    "import numpy as np"
   ]
  },
  {
   "cell_type": "code",
   "execution_count": 2,
   "metadata": {},
   "outputs": [],
   "source": [
    "def dot_product(a, b):\n",
    "    a = a.reshape(-1,b.shape[0])\n",
    "    return (np.dot(a, b))"
   ]
  }
 ],
 "metadata": {
  "kernelspec": {
   "display_name": "base",
   "language": "python",
   "name": "python3"
  },
  "language_info": {
   "codemirror_mode": {
    "name": "ipython",
    "version": 3
   },
   "file_extension": ".py",
   "mimetype": "text/x-python",
   "name": "python",
   "nbconvert_exporter": "python",
   "pygments_lexer": "ipython3",
   "version": "3.11.5"
  }
 },
 "nbformat": 4,
 "nbformat_minor": 2
}
