{
 "cells": [
  {
   "cell_type": "code",
   "execution_count": 4,
   "metadata": {
    "tags": []
   },
   "outputs": [],
   "source": [
    "import numpy"
   ]
  },
  {
   "cell_type": "markdown",
   "metadata": {},
   "source": [
    "## Exercise 3.1\n",
    "\n",
    "- Define function `to_cm` which takes a vector of measurements in inches and converts them to centimeters.\n",
    "- Define function `to_celsius` which takes a vector of measurements in Fahrenheit and converts them to Celsius: C = (F-32)/1.8\n"
   ]
  },
  {
   "cell_type": "code",
   "execution_count": null,
   "metadata": {},
   "outputs": [],
   "source": [
    "def to_cm(x):\n",
    "    return x * 2.54\n",
    "\n",
    "print(to_cm(100))\n",
    "print(to_cm(0))\n",
    "print(to_cm(-5))"
   ]
  },
  {
   "cell_type": "code",
   "execution_count": null,
   "metadata": {},
   "outputs": [],
   "source": [
    "def to_celsius(x):\n",
    "    return (x - 32) / 1.8\n",
    "\n",
    "to_celsius(212)"
   ]
  },
  {
   "cell_type": "markdown",
   "metadata": {},
   "source": [
    "## Exercise 3.2\n",
    "\n",
    "The function `softmax` is often used in machine learning and statistics to convert a vector of arbitrary numbers into a vector of probabilities summing up to 1. Softmax works by computing the exponential of each number, and then dividing each number by the sum of the exponentials:\n",
    "\n",
    "$$ \\mathrm{softmax}(x_i): \\frac{\\exp(x_i)}{\\sum_{k=1}^N \\exp(x_k)} $$\n",
    "\n",
    "Implement the softmax function. Verify that in the resulting vector all number are between 0 and 1. Verify that the resulting numbers sum up to $1$. Try implementing a version that relies on for loops and a version that is vectorized."
   ]
  },
  {
   "cell_type": "code",
   "execution_count": null,
   "metadata": {
    "tags": []
   },
   "outputs": [],
   "source": [
    "# assume a one-dimensional array\n",
    "def softmax(x):\n",
    "    exp_x = numpy.exp(x)\n",
    "    sum_exp_x = numpy.sum(exp_x)\n",
    "    sm = exp_x / sum_exp_x\n",
    "    return sm"
   ]
  },
  {
   "cell_type": "code",
   "execution_count": null,
   "metadata": {},
   "outputs": [],
   "source": [
    "a = numpy.random.random(24)\n",
    "b = softmax(a)\n",
    "\n",
    "print(numpy.sum(b))\n",
    "print(numpy.max(b))\n",
    "print(numpy.min(b))"
   ]
  },
  {
   "cell_type": "code",
   "execution_count": null,
   "metadata": {},
   "outputs": [],
   "source": [
    "import math\n",
    "\n",
    "def for_loop_softmax(x):\n",
    "    exp_x = []\n",
    "    for item in x:\n",
    "        exp_x.append(math.exp(item))\n",
    "    \n",
    "    sum_exp_x = 0\n",
    "    for item in exp_x:\n",
    "        sum_exp_x += item\n",
    "    \n",
    "    sm = []\n",
    "    for item in exp_x:\n",
    "        sm.append(item / sum_exp_x)\n",
    "    \n",
    "    return sm\n",
    "    "
   ]
  },
  {
   "cell_type": "code",
   "execution_count": null,
   "metadata": {},
   "outputs": [],
   "source": [
    "b = for_loop_softmax(a)\n",
    "\n",
    "print(numpy.sum(b))\n",
    "print(numpy.max(b))\n",
    "print(numpy.min(b))"
   ]
  },
  {
   "cell_type": "markdown",
   "metadata": {},
   "source": [
    "### Bonus\n",
    "\n",
    "checking how long it takes (on average) to run these solutions:"
   ]
  },
  {
   "cell_type": "code",
   "execution_count": null,
   "metadata": {},
   "outputs": [],
   "source": [
    "%%timeit\n",
    "a = numpy.random.random(10000)\n",
    "b = softmax(a)"
   ]
  },
  {
   "cell_type": "code",
   "execution_count": null,
   "metadata": {},
   "outputs": [],
   "source": [
    "%%timeit\n",
    "a = numpy.random.random(10000)\n",
    "b = for_loop_softmax(a)"
   ]
  },
  {
   "cell_type": "markdown",
   "metadata": {},
   "source": [
    "## Exercise 3.3\n",
    "\n",
    "Generate a numpy array of length 5 containing random integers between 1 and 15. Use the functions `numpy.reshape` and broadcasting to build a two-dimensional array where each element (i, j) is the product of the ith and jth elements of the initial array.\n",
    "\n",
    "So, for example, the two dimensional array's first element should be `a[0]` * `a[0]`, then `a[0]` * `a[1]` and so forth.\n"
   ]
  },
  {
   "cell_type": "code",
   "execution_count": 5,
   "metadata": {},
   "outputs": [
    {
     "name": "stdout",
     "output_type": "stream",
     "text": [
      "[ 2 13  4 13  3] (5,)\n",
      "\n"
     ]
    }
   ],
   "source": [
    "a = numpy.random.randint(1, 15, 5)\n",
    "print(a, a.shape)\n",
    "print()"
   ]
  },
  {
   "cell_type": "code",
   "execution_count": 6,
   "metadata": {},
   "outputs": [
    {
     "name": "stdout",
     "output_type": "stream",
     "text": [
      "[[ 2]\n",
      " [13]\n",
      " [ 4]\n",
      " [13]\n",
      " [ 3]] (5, 1)\n",
      "\n"
     ]
    }
   ],
   "source": [
    "b = a.reshape((5,1))\n",
    "print(b, b.shape)\n",
    "print()"
   ]
  },
  {
   "cell_type": "code",
   "execution_count": 7,
   "metadata": {},
   "outputs": [
    {
     "name": "stdout",
     "output_type": "stream",
     "text": [
      "[[  4  26   8  26   6]\n",
      " [ 26 169  52 169  39]\n",
      " [  8  52  16  52  12]\n",
      " [ 26 169  52 169  39]\n",
      " [  6  39  12  39   9]]\n"
     ]
    }
   ],
   "source": [
    "c = a * b\n",
    "print( c )"
   ]
  },
  {
   "cell_type": "markdown",
   "metadata": {},
   "source": [
    "## Exercise 3.4\n",
    "\n",
    "- Create a random matrix $A_{3\\times 4}$ and another random matrix $B_{4 \\times 2}$. Multiply AB.  \n",
    "- Create a random matrix $C_{3\\times 3}$ and $D_{3\\times3}$. Multiply CD. Multiply DC. Is matrix multiplication commutative?\n",
    "- Create a identity matrix $I_{3\\times 3}$.  Multiply IC, CI, DI, ID. What do you notice?\n",
    "- What will be the result of multiplying a matrix $Z_{m\\times n}$ by a matrix $O_{n \\times p}$ whose all entries are zero? Check your answer using some examples.\n"
   ]
  },
  {
   "cell_type": "code",
   "execution_count": 8,
   "metadata": {},
   "outputs": [
    {
     "name": "stdout",
     "output_type": "stream",
     "text": [
      "[[0.76525439 0.58780943]\n",
      " [1.10527696 0.49199262]\n",
      " [0.96164341 0.31269419]]\n"
     ]
    }
   ],
   "source": [
    "a = numpy.random.random((3,4))\n",
    "b = numpy.random.random((4,2))\n",
    "\n",
    "print(a.dot(b))"
   ]
  },
  {
   "cell_type": "code",
   "execution_count": 9,
   "metadata": {},
   "outputs": [
    {
     "name": "stdout",
     "output_type": "stream",
     "text": [
      "[[0.2197035  0.30324203 0.2357344 ]\n",
      " [0.41111372 0.81947723 0.68746313]\n",
      " [0.15573571 0.29642409 0.24603191]]\n",
      "\n",
      "[[0.24923057 0.49224319 0.35752086]\n",
      " [0.24388229 0.7802324  0.56229183]\n",
      " [0.19320718 0.3522438  0.25574967]]\n"
     ]
    }
   ],
   "source": [
    "c = numpy.random.random((3,3))\n",
    "d = numpy.random.random((3,3))\n",
    "\n",
    "print (c.dot(d))\n",
    "print()\n",
    "print(d.dot(c))\n"
   ]
  },
  {
   "cell_type": "code",
   "execution_count": null,
   "metadata": {},
   "outputs": [],
   "source": [
    "i = numpy.eye(3)\n",
    "\n",
    "print(c)\n",
    "print()\n",
    "print(c.dot(i))\n",
    "print()\n",
    "print(i.dot(c))\n",
    "\n",
    "print('=========================')\n",
    "\n",
    "print(d)\n",
    "print()\n",
    "print(d.dot(i))\n",
    "print()\n",
    "print(i.dot(d))"
   ]
  },
  {
   "cell_type": "code",
   "execution_count": null,
   "metadata": {},
   "outputs": [],
   "source": [
    "m = 5\n",
    "n = 4\n",
    "p = 3\n",
    "z = numpy.zeros([m,n])\n",
    "o = numpy.zeros([n,p])\n",
    "\n",
    "result = z.dot(o)\n",
    "\n",
    "print(result, result.shape)"
   ]
  },
  {
   "cell_type": "markdown",
   "metadata": {},
   "source": [
    "## Exercise 3.5\n",
    "\n",
    "Generate a $3 \\times 3$ matrix of random values named A.\n",
    "\n",
    "Part A: Verify that $A^{-1}A = I$, where $I$ is the $m \\times m$ identity matrix\n",
    "\n",
    "Part B: Verify that $(A^{-1})^{-1} = A$\n",
    "\n",
    "Part C: Verify that $(A^T)^{-1} = (A^{-1})^T$"
   ]
  },
  {
   "cell_type": "code",
   "execution_count": null,
   "metadata": {},
   "outputs": [],
   "source": [
    "from numpy.linalg import inv\n",
    "\n",
    "a = numpy.random.random((3,3))\n",
    "a_inv = inv(a)\n",
    "\n",
    "\n",
    "print(a.dot(a_inv))\n",
    "print()\n",
    "print(numpy.eye(3))\n",
    "print()\n",
    "print(numpy.allclose(a.dot(a_inv), numpy.eye(3)))\n"
   ]
  },
  {
   "cell_type": "code",
   "execution_count": null,
   "metadata": {},
   "outputs": [],
   "source": [
    "print(a)\n",
    "print()\n",
    "print(a_inv)\n",
    "print()\n",
    "print(inv(a_inv))\n",
    "print()\n",
    "print(numpy.allclose(a, inv(a_inv)))\n"
   ]
  },
  {
   "cell_type": "code",
   "execution_count": null,
   "metadata": {},
   "outputs": [],
   "source": [
    "print(inv(a.T))\n",
    "print()\n",
    "print(inv(a).T)\n",
    "print()\n",
    "print(numpy.allclose(inv(a.T), inv(a).T))\n"
   ]
  }
 ],
 "metadata": {
  "kernelspec": {
   "display_name": "Python 3",
   "language": "python",
   "name": "python3"
  },
  "language_info": {
   "codemirror_mode": {
    "name": "ipython",
    "version": 3
   },
   "file_extension": ".py",
   "mimetype": "text/x-python",
   "name": "python",
   "nbconvert_exporter": "python",
   "pygments_lexer": "ipython3",
   "version": "3.11.5"
  },
  "name": "_merged"
 },
 "nbformat": 4,
 "nbformat_minor": 4
}
