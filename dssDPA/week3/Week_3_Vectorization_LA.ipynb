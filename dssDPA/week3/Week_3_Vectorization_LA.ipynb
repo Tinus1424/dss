{
 "cells": [
  {
   "cell_type": "markdown",
   "metadata": {},
   "source": [
    "# 3 Vectorized Operations, Broadcasting, and Basic Linear Algebra in Numpy\n",
    "\n",
    "Vectorization is applying the same operation to every element within an array, or multiple arrays. Numpy performs vectorized operations much faster and utilizing less memory (in most cases) than iterating through each element in a for loop. Vectorized operations are essential to linear algebra, which form the basis of machine learning, data mining, and processing. There are in general three type of vectorized operations in Numpy:\n",
    "1) Vectorized Transformations\n",
    "2) Vectorized Dimension Reduction\n",
    "3) Vectorized Linear Algebra Operations \n"
   ]
  },
  {
   "cell_type": "code",
   "execution_count": 1,
   "metadata": {},
   "outputs": [],
   "source": [
    "import numpy"
   ]
  },
  {
   "cell_type": "markdown",
   "metadata": {},
   "source": [
    "## 3.1 Vectorized Transformations in Numpy\n",
    "\n",
    "The most basic way to think about vectorization is a transformation being applied to each element of an array which produces an array of the same shape. Below we will discuss a few common types of transformations: \n",
    "- scalar transformations,\n",
    "- boolean operations,\n",
    "- and mathematical functions."
   ]
  },
  {
   "cell_type": "markdown",
   "metadata": {},
   "source": [
    "### 3.1.1 Simple scalar transformations\n",
    "\n",
    "Simple mathematical operations is performed between a multi-dimensional NumPy array (of any dimensionality) and a scalar value:"
   ]
  },
  {
   "cell_type": "code",
   "execution_count": 2,
   "metadata": {},
   "outputs": [
    {
     "name": "stdout",
     "output_type": "stream",
     "text": [
      "x + 2 =  [22 27 32 37]\n",
      "x - 2 =  [18 23 28 33]\n",
      "x * 2 =  [40 50 60 70]\n",
      "x / 2 =  [10.  12.5 15.  17.5]\n",
      "x ** 2 =  [ 400  625  900 1225]\n"
     ]
    }
   ],
   "source": [
    "# 1 dimensional\n",
    "x = numpy.array([20, 25, 30, 35])\n",
    "print(\"x + 2 = \", x + 2)\n",
    "print(\"x - 2 = \", x - 2)\n",
    "print(\"x * 2 = \", x * 2)\n",
    "print(\"x / 2 = \", x / 2)\n",
    "print(\"x ** 2 = \", x ** 2)"
   ]
  },
  {
   "cell_type": "code",
   "execution_count": 3,
   "metadata": {},
   "outputs": [
    {
     "name": "stdout",
     "output_type": "stream",
     "text": [
      "[[[0 1]\n",
      "  [2 3]]\n",
      "\n",
      " [[4 5]\n",
      "  [6 7]]]\n",
      "x * 2 = \n",
      "\n",
      "[[[ 0  2]\n",
      "  [ 4  6]]\n",
      "\n",
      " [[ 8 10]\n",
      "  [12 14]]]\n"
     ]
    }
   ],
   "source": [
    "# N dimensional\n",
    "x = numpy.arange(0, 2**3).reshape(2,2,2)\n",
    "print( x )\n",
    "print( \"x * 2 = \\n\")\n",
    "print(x*2)"
   ]
  },
  {
   "cell_type": "markdown",
   "metadata": {},
   "source": [
    "We can apply the scalar transformation on two (or multiple) arrays with the same shape: "
   ]
  },
  {
   "cell_type": "code",
   "execution_count": 4,
   "metadata": {},
   "outputs": [
    {
     "data": {
      "text/plain": [
       "array([3, 4, 5, 6])"
      ]
     },
     "execution_count": 4,
     "metadata": {},
     "output_type": "execute_result"
    }
   ],
   "source": [
    "# same for two arrays:\n",
    "numpy.array([1,2,3,4]) + numpy.array([2,2,2,2])"
   ]
  },
  {
   "cell_type": "markdown",
   "metadata": {},
   "source": [
    "**Note:** Mind that such operations as above cannot be applied to Python lists. Lists are not designed for mathematical functions. You need a `for` loop to peform such operation son Python list which is costly in terms of computational times especially on large lists. For example:"
   ]
  },
  {
   "cell_type": "code",
   "execution_count": 5,
   "metadata": {},
   "outputs": [
    {
     "data": {
      "text/plain": [
       "[1, 2, 3, 4, 1, 2, 3, 4]"
      ]
     },
     "execution_count": 5,
     "metadata": {},
     "output_type": "execute_result"
    }
   ],
   "source": [
    "# the * operator for python lists duplicates!\n",
    "[1,2,3,4] * 2"
   ]
  },
  {
   "cell_type": "markdown",
   "metadata": {},
   "source": [
    "the + operator concatinates two python lists (it doesn't do addition):"
   ]
  },
  {
   "cell_type": "code",
   "execution_count": 6,
   "metadata": {},
   "outputs": [
    {
     "data": {
      "text/plain": [
       "[1, 2, 3, 4, 2, 2, 2, 2]"
      ]
     },
     "execution_count": 6,
     "metadata": {},
     "output_type": "execute_result"
    }
   ],
   "source": [
    "[1,2,3,4] + [2,2,2,2]"
   ]
  },
  {
   "cell_type": "markdown",
   "metadata": {},
   "source": [
    "addition of a scalar doesn't work for a python list"
   ]
  },
  {
   "cell_type": "code",
   "execution_count": 7,
   "metadata": {},
   "outputs": [
    {
     "ename": "TypeError",
     "evalue": "can only concatenate list (not \"int\") to list",
     "output_type": "error",
     "traceback": [
      "\u001b[1;31m---------------------------------------------------------------------------\u001b[0m",
      "\u001b[1;31mTypeError\u001b[0m                                 Traceback (most recent call last)",
      "Cell \u001b[1;32mIn[7], line 1\u001b[0m\n\u001b[1;32m----> 1\u001b[0m [\u001b[38;5;241m1\u001b[39m,\u001b[38;5;241m2\u001b[39m,\u001b[38;5;241m3\u001b[39m,\u001b[38;5;241m4\u001b[39m] \u001b[38;5;241m+\u001b[39m \u001b[38;5;241m2\u001b[39m\n",
      "\u001b[1;31mTypeError\u001b[0m: can only concatenate list (not \"int\") to list"
     ]
    }
   ],
   "source": [
    "[1,2,3,4] + 2"
   ]
  },
  {
   "cell_type": "markdown",
   "metadata": {},
   "source": [
    "### 3.1.2 Boolean operations on arrays\n",
    "\n",
    "As we've seen before, Boolean conditions can be applied to every element in an array. This is also a vectorized function. \n",
    "\n",
    "Several different conditions can be used, such as: equal to (==), not equal to (!=), greater than (>= or >), or smaller than (<= or <). "
   ]
  },
  {
   "cell_type": "code",
   "execution_count": 8,
   "metadata": {
    "scrolled": true
   },
   "outputs": [
    {
     "name": "stdout",
     "output_type": "stream",
     "text": [
      "(x > 15) =  [False  True  True False False  True]\n",
      "(y == 7) =  [ True False False  True False  True]\n"
     ]
    }
   ],
   "source": [
    "# boolean operations on arrays\n",
    "x = numpy.array([10, 20, 30, 14, 15, 16])\n",
    "y = numpy.array([7, 5, 5, 7, 5, 7]) \n",
    "print(\"(x > 15) = \", x>15)\n",
    "print(\"(y == 7) = \", y==7)"
   ]
  },
  {
   "cell_type": "markdown",
   "metadata": {},
   "source": [
    "### 3.1.3 Mathematical functions"
   ]
  },
  {
   "cell_type": "markdown",
   "metadata": {},
   "source": [
    "NumPy has a huge list of mathematical functions can be applied to multi-dimensional arrays. These operations are vectorized and thus applied to each element. Some examples are:\n",
    "\n",
    "- numpy.sqrt(x): square root\n",
    "- numpy.sin(x): sine\n",
    "- numpy.cos(x): cosine\n",
    "- numpy.tan(x): tangent\n",
    "- numpy.exp(x): exponential\n",
    "- numpy.log(x): natural logarithm\n",
    "\n",
    "The complete list (includes many functions discussed later in this lecture): https://numpy.org/doc/stable/reference/routines.math.html\n"
   ]
  },
  {
   "cell_type": "code",
   "execution_count": 9,
   "metadata": {},
   "outputs": [
    {
     "name": "stdout",
     "output_type": "stream",
     "text": [
      "x =  [1 2 3 4]\n",
      "sqrt(x) =  [1.         1.41421356 1.73205081 2.        ]\n",
      "sin(x) =  [ 0.84147098  0.90929743  0.14112001 -0.7568025 ]\n",
      "cos(x) =  [ 0.54030231 -0.41614684 -0.9899925  -0.65364362]\n",
      "tan(x) =  [ 1.55740772 -2.18503986 -0.14254654  1.15782128]\n",
      "exp(x) =  [ 2.71828183  7.3890561  20.08553692 54.59815003]\n",
      "log(x) =  [0.         0.69314718 1.09861229 1.38629436]\n"
     ]
    }
   ],
   "source": [
    "x = numpy.array([1, 2, 3, 4])\n",
    "print(\"x = \", x)\n",
    "print(\"sqrt(x) = \", numpy.sqrt(x))\n",
    "print(\"sin(x) = \", numpy.sin(x) )\n",
    "print(\"cos(x) = \", numpy.cos(x) )\n",
    "print(\"tan(x) = \", numpy.tan(x) )\n",
    "print(\"exp(x) = \", numpy.exp(x) )\n",
    "print(\"log(x) = \", numpy.log(x) )"
   ]
  },
  {
   "cell_type": "markdown",
   "metadata": {},
   "source": [
    "Another set of common functions are rounding, including:\n",
    "- numpy.round(x, decimals=2) : round to the nearest value\n",
    "- numpy.floor(x): round down to an integer\n",
    "- numpy.ceil(x): round up to an integer"
   ]
  },
  {
   "cell_type": "code",
   "execution_count": 10,
   "metadata": {},
   "outputs": [
    {
     "name": "stdout",
     "output_type": "stream",
     "text": [
      "not rounded: [[2.61108164 3.11602523 4.47984333 1.14114428 3.05433499]\n",
      " [9.22867396 1.42674823 9.4400946  9.13664951 1.69732604]]\n",
      "round: [[2.61 3.12 4.48 1.14 3.05]\n",
      " [9.23 1.43 9.44 9.14 1.7 ]]\n",
      "floor: [[2. 3. 4. 1. 3.]\n",
      " [9. 1. 9. 9. 1.]]\n",
      "ceil: [[ 3.  4.  5.  2.  4.]\n",
      " [10.  2. 10. 10.  2.]]\n"
     ]
    }
   ],
   "source": [
    "x = numpy.random.uniform(0, 10, (2,5))\n",
    "print(\"not rounded:\", x)\n",
    "\n",
    "x1 = numpy.round(x, decimals=2)\n",
    "print(\"round:\", x1)\n",
    "\n",
    "x2 = numpy.floor(x)\n",
    "print(\"floor:\", x2)\n",
    "\n",
    "x3 = numpy.ceil(x)\n",
    "print(\"ceil:\", x3)"
   ]
  },
  {
   "cell_type": "markdown",
   "metadata": {},
   "source": [
    "#### 3.1.3.1 Comparing speed of numpy and python:\n",
    "\n",
    "You might be asking yourself, are these really any faster than python? Let's check with the example of the sin() function:"
   ]
  },
  {
   "cell_type": "code",
   "execution_count": 11,
   "metadata": {},
   "outputs": [
    {
     "name": "stdout",
     "output_type": "stream",
     "text": [
      "<class 'numpy.ndarray'>\n",
      "100000\n",
      "<class 'list'>\n",
      "100000\n"
     ]
    }
   ],
   "source": [
    "a = numpy.random.uniform(-2, 2, 100000)\n",
    "print(type(a))\n",
    "print(a.size)\n",
    "\n",
    "b = a.tolist()\n",
    "print(type(b))\n",
    "print(len(b))"
   ]
  },
  {
   "cell_type": "code",
   "execution_count": 12,
   "metadata": {},
   "outputs": [
    {
     "name": "stdout",
     "output_type": "stream",
     "text": [
      "672 µs ± 12.2 µs per loop (mean ± std. dev. of 7 runs, 1,000 loops each)\n"
     ]
    }
   ],
   "source": [
    "%%timeit \n",
    "a_sin = numpy.sin(a)"
   ]
  },
  {
   "cell_type": "code",
   "execution_count": 13,
   "metadata": {},
   "outputs": [],
   "source": [
    "# Since we do not want to use Numpy, we use alternatively the sin function from the math package\n",
    "import math"
   ]
  },
  {
   "cell_type": "code",
   "execution_count": 14,
   "metadata": {},
   "outputs": [
    {
     "name": "stdout",
     "output_type": "stream",
     "text": [
      "8.41 ms ± 146 µs per loop (mean ± std. dev. of 7 runs, 100 loops each)\n"
     ]
    }
   ],
   "source": [
    "\n",
    "%%timeit \n",
    "bb = []\n",
    "for x in b:\n",
    "    x_sin = math.sin(x)\n",
    "    bb.append(x_sin)\n"
   ]
  },
  {
   "cell_type": "markdown",
   "metadata": {},
   "source": [
    "List comprehensions do not save python in this case (though it is faster):"
   ]
  },
  {
   "cell_type": "code",
   "execution_count": 15,
   "metadata": {},
   "outputs": [
    {
     "name": "stdout",
     "output_type": "stream",
     "text": [
      "7.02 ms ± 71.8 µs per loop (mean ± std. dev. of 7 runs, 100 loops each)\n"
     ]
    }
   ],
   "source": [
    "%%timeit \n",
    "bb_comprehension = [math.sin(x) for x in b]"
   ]
  },
  {
   "cell_type": "markdown",
   "metadata": {},
   "source": [
    "### 3.1.4 Other useful vectorized transformations\n",
    "\n",
    "Numpy provides other functions that perform vectorized operations across arrays that are not traditional mathematical functions but can be very useful. For example:\n",
    "\n",
    "- numpy.cumsum(x): returns an array containing the cumulative sum of the original elements\n",
    "- numpy.cumprod(x): returns an array containing the cumulative propduct of the original elements \n",
    "- numpy.diff(x): returns an array containing the difference between each subsequent element (changes the number of items!)\n"
   ]
  },
  {
   "cell_type": "code",
   "execution_count": 16,
   "metadata": {},
   "outputs": [
    {
     "name": "stdout",
     "output_type": "stream",
     "text": [
      "[1 4 7 2]\n",
      "[ 1  5 12 14]\n",
      "[ 1  4 28 56]\n",
      "[ 3  3 -5]\n"
     ]
    }
   ],
   "source": [
    "x = numpy.array([1, 4, 7, 2])\n",
    "print( x )\n",
    "print( numpy.cumsum(x) )\n",
    "print( numpy.cumprod(x) )\n",
    "print( numpy.diff(x) )\n"
   ]
  },
  {
   "cell_type": "markdown",
   "metadata": {},
   "source": [
    "**Note:** Of course, the `diff` function cannot be considered as a vectorized transformation. But why?"
   ]
  },
  {
   "cell_type": "markdown",
   "metadata": {},
   "source": [
    "## 3.2 Vectorized dimension reduction\n",
    "\n",
    "Vectorized dimension reduction operations reduce the dimensionality of the input array. For example sum takes as input an array and returns a single value."
   ]
  },
  {
   "cell_type": "code",
   "execution_count": 17,
   "metadata": {},
   "outputs": [
    {
     "name": "stdout",
     "output_type": "stream",
     "text": [
      "60\n"
     ]
    }
   ],
   "source": [
    "print( numpy.sum(numpy.array([10, 20, 30])) )"
   ]
  },
  {
   "cell_type": "markdown",
   "metadata": {},
   "source": [
    "Here is the list of some useful vectorized dimension reduction functions in Numpy:\n",
    " \n",
    "- numpy.sum(x)\n",
    "- numpy.min(x)\n",
    "- numpy.argmin()\n",
    "- numpy.max()\n",
    "- numpy.argmax()\n",
    "- numpy.median(x)\n",
    "- numpy.mean(x)\n",
    "- numpy.average(x, weights= ) : (weighted) average\n",
    "- numpy.std(x) : standard deviation\n",
    "- numpy.var(x) : variance"
   ]
  },
  {
   "cell_type": "code",
   "execution_count": 18,
   "metadata": {},
   "outputs": [
    {
     "name": "stdout",
     "output_type": "stream",
     "text": [
      "sum: 29\n",
      "minimum: 1 and index of minimum: 0\n",
      "maximum: 8 and index of maximum: 5\n"
     ]
    }
   ],
   "source": [
    "x = numpy.array([[1, 6, 5], [2, 7, 8]])\n",
    "\n",
    "# functions applied to the entire array:\n",
    "print(\"sum:\", x.sum())\n",
    "print(\"minimum:\", x.min(), \"and index of minimum:\", x.argmin())\n",
    "print(\"maximum:\", x.max(), \"and index of maximum:\", x.argmax())"
   ]
  },
  {
   "cell_type": "markdown",
   "metadata": {},
   "source": [
    "### 3.2.1 Specifying subsets of dimensions\n",
    "\n",
    "Many functions that reduce the number of dimensions can be also applied to a specific subset of dimensions. These functions have an optional parameter which is called `axis` (if no value for `axis` is provided then the function is applied to the whole array). \n",
    "For a two dimensional array (rows and columns), when `axis=0` then the function is applied aross rows (the left-most dimension) and the value for each column is returned. When `axis=1` then the function is applied across columns (the right-most dimension) and the value for each row is returned.\n",
    "\n"
   ]
  },
  {
   "cell_type": "code",
   "execution_count": 19,
   "metadata": {},
   "outputs": [
    {
     "name": "stdout",
     "output_type": "stream",
     "text": [
      "column sums: [ 3 13 13]\n",
      "row sums: [12 17]\n",
      "minimum per column: [1 6 5]\n",
      "maximum per row: [6 8]\n"
     ]
    }
   ],
   "source": [
    "# functions applied to only one dimension of the array:\n",
    "print(\"column sums:\", x.sum(axis=0))\n",
    "print(\"row sums:\", x.sum(axis=1))\n",
    "print(\"minimum per column:\", x.min(axis=0))\n",
    "print(\"maximum per row:\", x.max(axis=1))"
   ]
  },
  {
   "cell_type": "markdown",
   "metadata": {},
   "source": [
    "The same logic for `axis` applies to multi-dimensional arrays. When `axis=0` the left-most dimension is is computed across (and thus is not in the returned array). Higher values of `axis` will compute across dimensions further right:"
   ]
  },
  {
   "cell_type": "code",
   "execution_count": 24,
   "metadata": {},
   "outputs": [
    {
     "name": "stdout",
     "output_type": "stream",
     "text": [
      "(10, 15, 20, 25)\n",
      "Axis 0 (15, 20, 25)\n",
      "Axis 1 (10, 20, 25)\n",
      "Axis 2 (10, 15, 25)\n",
      "Axis 3 (10, 15, 20)\n"
     ]
    }
   ],
   "source": [
    "x = numpy.random.random((10, 15, 20, 25))\n",
    "\n",
    "print(x.shape)\n",
    "print(\"Axis 0\", x.max(axis=0).shape) # compute across left-most dimension\n",
    "print(\"Axis 1\", x.max(axis=1).shape) # compute across 2nd from left dimension\n",
    "print(\"Axis 2\", x.max(axis=2).shape) # compute across 3rd from left dimension\n",
    "print(\"Axis 3\", x.max(axis=3).shape) # compute across 4th from left dimension"
   ]
  },
  {
   "cell_type": "markdown",
   "metadata": {},
   "source": [
    "### 3.2.2 Ignoring NaN values\n",
    "\n",
    "Many similar functions exist which ignore NAN. These functions are called: `nanmedian`, `nanmean`, `nanstd`, `nanvar`, etc. For more statistical functions in numpy: http://docs.scipy.org/doc/numpy/reference/routines.statistics.html"
   ]
  },
  {
   "cell_type": "markdown",
   "metadata": {},
   "source": [
    "### 3.2.3 More complex transformations\n",
    "\n",
    "One can combine different types of vectorized transformations to implement more complex transformations which are very common in machine learning. For example:\n",
    "\n",
    "- Standardization: `z = (x - mean(x)) / std(x)`. Standardized values (z-scores) have zero mean and unit standard deviation. Standardization is often used before applying machine learning algorithms. \n",
    "\n",
    "- Feature scaling: `y = (x - min(x)) / (max(x) - min(x))`, this brings the score in the range 0 to 1.\n"
   ]
  },
  {
   "cell_type": "markdown",
   "metadata": {},
   "source": [
    "## Exercise 3.1\n",
    "\n",
    "- Define function `to_cm` which takes a vector of measurements in inches and converts them to centimeters (1 inch is 2.54cm).\n",
    "- Define function `to_celsius` which takes a vector of measurements in Fahrenheit and converts them to Celsius: C = (F-32)/1.8\n"
   ]
  },
  {
   "cell_type": "code",
   "execution_count": 26,
   "metadata": {},
   "outputs": [],
   "source": [
    "def to_cm(x):\n",
    "    x = x * 2.54\n",
    "    return x"
   ]
  },
  {
   "cell_type": "code",
   "execution_count": 30,
   "metadata": {},
   "outputs": [
    {
     "data": {
      "text/plain": [
       "array([ 0.  ,  2.54,  5.08,  7.62, 10.16])"
      ]
     },
     "execution_count": 30,
     "metadata": {},
     "output_type": "execute_result"
    }
   ],
   "source": [
    "to_cm(x)"
   ]
  },
  {
   "cell_type": "code",
   "execution_count": 28,
   "metadata": {},
   "outputs": [],
   "source": [
    "def to_celsius(x):\n",
    "    x = (x - 32) / 1.8\n",
    "    return x"
   ]
  },
  {
   "cell_type": "code",
   "execution_count": 29,
   "metadata": {},
   "outputs": [
    {
     "data": {
      "text/plain": [
       "37.77777777777778"
      ]
     },
     "execution_count": 29,
     "metadata": {},
     "output_type": "execute_result"
    }
   ],
   "source": [
    "to_celsius(100)"
   ]
  },
  {
   "cell_type": "markdown",
   "metadata": {},
   "source": [
    "## Exercise 3.2\n",
    "\n",
    "The function `softmax` is often used in machine learning and statistics to convert a vector of arbitrary numbers into a vector of probabilities summing up to 1. Softmax works by computing the exponential of each number, and then dividing each number by the sum of the exponentials:\n",
    "\n",
    "$$ \\mathrm{softmax}(x_i): \\frac{\\exp(x_i)}{\\sum_{k=1}^N \\exp(x_k)} $$\n",
    "\n",
    "Implement the softmax function. Verify that in the resulting vector all number are between 0 and 1. Verify that the resulting numbers sum up to $1$. Try implementing a version that relies on for loops and a version that is vectorized."
   ]
  },
  {
   "cell_type": "code",
   "execution_count": 33,
   "metadata": {},
   "outputs": [
    {
     "ename": "TypeError",
     "evalue": "only size-1 arrays can be converted to Python scalars",
     "output_type": "error",
     "traceback": [
      "\u001b[1;31m---------------------------------------------------------------------------\u001b[0m",
      "\u001b[1;31mTypeError\u001b[0m                                 Traceback (most recent call last)",
      "Cell \u001b[1;32mIn[33], line 8\u001b[0m\n\u001b[0;32m      5\u001b[0m     \u001b[38;5;28;01mpass\u001b[39;00m\n\u001b[0;32m      7\u001b[0m a \u001b[38;5;241m=\u001b[39m numpy\u001b[38;5;241m.\u001b[39marange(\u001b[38;5;241m0\u001b[39m, \u001b[38;5;241m5\u001b[39m) \n\u001b[1;32m----> 8\u001b[0m b \u001b[38;5;241m=\u001b[39m softmax(a)\n",
      "Cell \u001b[1;32mIn[33], line 4\u001b[0m, in \u001b[0;36msoftmax\u001b[1;34m(x)\u001b[0m\n\u001b[0;32m      3\u001b[0m \u001b[38;5;28;01mdef\u001b[39;00m \u001b[38;5;21msoftmax\u001b[39m(x):\n\u001b[1;32m----> 4\u001b[0m     x \u001b[38;5;241m=\u001b[39m exp2(x) \u001b[38;5;241m/\u001b[39m \u001b[38;5;28msum\u001b[39m(exp2(x))\n\u001b[0;32m      5\u001b[0m     \u001b[38;5;28;01mpass\u001b[39;00m\n",
      "\u001b[1;31mTypeError\u001b[0m: only size-1 arrays can be converted to Python scalars"
     ]
    }
   ],
   "source": [
    "# assume a one-dimensional array\n",
    "from math import exp2\n",
    "def softmax(x):\n",
    "    x = numpy.exp2(x) / sum(exp2(x))\n",
    "    pass\n",
    "\n",
    "a = numpy.arange(0, 5) \n",
    "b = softmax(a)"
   ]
  },
  {
   "cell_type": "markdown",
   "metadata": {},
   "source": [
    "## 3.3 Vectorized Linear Algebra Operations\n",
    "\n",
    "Linear algebra is a branch of mathematics dealing with vector spaces. Linear algebra operations are very useful when manipulating numeric datasets. Using these operations often allows us to avoid writing explicit loops, and thus make our code more readable, more concise, and faster to execute. Linear algebra is deeply connected to vectorization but has specific mathematical properties. Many machine learning algorithms and methods are specified to be effieciently performed using linear algebra, and we will introduce a few in the following sections.\n",
    "\n",
    "The vectorization principle in Numpy can be used to implement more complext linear algebra operations on multiple multi-dimensional arrays.\n",
    "\n",
    "### 3.3.1 Vectorized element-wise linear algebra operations on multiple arrays with same shape\n",
    "\n",
    "We can perform efficienly the most basic element-wise linear algebra operations such as addition, subtraction, multiplication, and division on multiple arrays using vectorization concept in Numpy. The limitation is that all operands must have exactly the same shape."
   ]
  },
  {
   "cell_type": "code",
   "execution_count": null,
   "metadata": {},
   "outputs": [],
   "source": [
    "x = numpy.array([10, 20, 30, 40])\n",
    "y = numpy.array([5, 7, 52, 34])\n",
    "\n",
    "print(\"y - x = \", y - x)\n",
    "print(\"x + y = \", x + y)\n",
    "print(\"x * y = \", x * y)\n",
    "print(\"x / y = \", x / y)"
   ]
  },
  {
   "cell_type": "markdown",
   "metadata": {},
   "source": [
    "These vectorized functions also work for matricies and N-dimensional arrays of the same size."
   ]
  },
  {
   "cell_type": "code",
   "execution_count": null,
   "metadata": {},
   "outputs": [],
   "source": [
    "x = numpy.array([[10, 20, 25], [30, 40, 50]])\n",
    "y = numpy.array([[5, 7, 10], [52, 34, 17]])\n",
    "\n",
    "print(y - x)\n",
    "print(x + y)\n",
    "print(x * y)\n",
    "print(x / y)"
   ]
  },
  {
   "cell_type": "markdown",
   "metadata": {},
   "source": [
    "### 3.3.2 Broadcasting for vectorized element-wise linear algebra operations on multiple arrays with different shapes\n",
    "\n",
    "Besides operations between arrays of the same shape, it is sometimes possible to perform operations between arrays of different shapes. In numpy performing vectorized operations on arrays with different shapes is called broadcasting. Broadcasting enables NumPy to treat arrays with different shapes during vectorized operations. \n",
    "\n",
    "Broadcasting between two multidimensional arrays of different sizes can be done but is complex. Numpy is smart about figuring out if two arrays can be aligned such that dimensions have the same number of elements to perform the desired operation. The two arrays are “broadcastable” if for each dimension:\n",
    " - they have equal number of elements, otherwise\n",
    " - for non-equal dimensions, either of them must be 1.\n",
    "\n",
    "If two arrays are broadcastabe, then broadcasting is performed in five steps:\n",
    "\n",
    "1) Shift: If the number of dimensions is different, shift the array with smaller dimension to the right.\n",
    "2) Match: Add 1 to the left so that the arrays have the same number of dimensions.\n",
    "3) Check: Check if they are broadcastable: if yes continue to the next step.\n",
    "4) Stretch: “copy” the single dimensions to match dimensions between the arrays.\n",
    "5) Perform the operation.\n",
    "\n",
    "For example:"
   ]
  },
  {
   "cell_type": "code",
   "execution_count": null,
   "metadata": {},
   "outputs": [],
   "source": [
    "a = numpy.array([[ 0.0,  0.0,  0.0],\n",
    "              [10.0, 10.0, 10.0],\n",
    "              [20.0, 20.0, 20.0],\n",
    "              [30.0, 30.0, 30.0]])\n",
    "print(a.shape)\n",
    "b = numpy.array([1.0, 2.0, 3.0])\n",
    "print(b.shape)\n",
    "c = a + b \n",
    "print(c, c.shape)"
   ]
  },
  {
   "cell_type": "markdown",
   "metadata": {},
   "source": [
    "![second example](https://numpy.org/doc/stable/_images/broadcasting_2.png)"
   ]
  },
  {
   "cell_type": "code",
   "execution_count": null,
   "metadata": {},
   "outputs": [],
   "source": [
    "a = numpy.array([[0.0], [10.0], [20.0], [30.0]])\n",
    "print(a.shape)\n",
    "b = numpy.array([1.0, 2.0, 3.0])\n",
    "print(b.shape)\n",
    "c = a + b\n",
    "print(c, c.shape)\n"
   ]
  },
  {
   "cell_type": "markdown",
   "metadata": {},
   "source": [
    "![second example](https://numpy.org/doc/stable/_images/broadcasting_4.png)"
   ]
  },
  {
   "cell_type": "markdown",
   "metadata": {},
   "source": [
    "Some examples that do broadcast:\n",
    "\n",
    "```\n",
    "A      (2d array):  5 x 4\n",
    "B      (1d array):      1\n",
    "Result (2d array):  5 x 4\n",
    "\n",
    "A      (2d array):  5 x 4\n",
    "B      (1d array):      4\n",
    "Result (2d array):  5 x 4\n",
    "\n",
    "A      (3d array):  15 x 3 x 5\n",
    "B      (3d array):  15 x 1 x 5\n",
    "Result (3d array):  15 x 3 x 5\n",
    "\n",
    "A      (3d array):  15 x 3 x 5\n",
    "B      (2d array):       3 x 5\n",
    "Result (3d array):  15 x 3 x 5\n",
    "\n",
    "A      (3d array):  15 x 3 x 5\n",
    "B      (2d array):       3 x 1\n",
    "Result (3d array):  15 x 3 x 5\n",
    "```"
   ]
  },
  {
   "cell_type": "markdown",
   "metadata": {},
   "source": [
    "Some examples that do not broadcast:\n",
    "\n",
    "```\n",
    "A      (1d array):  3\n",
    "B      (1d array):  4 # trailing dimensions do not match\n",
    "\n",
    "A      (2d array):      2 x 1\n",
    "B      (3d array):  8 x 4 x 3 # second from last dimensions mismatched\n",
    "```"
   ]
  },
  {
   "cell_type": "markdown",
   "metadata": {},
   "source": [
    "**Careful:** Often broadcasting this can result in unexpected behavior that does not produce an error if arrays are not the dimensionality you expect. Because of this, it is important to confirm the dimensionality of arrays match your expectations throughout your analysis. For more information about Broadcasting:\n",
    "http://docs.scipy.org/doc/numpy/user/basics.broadcasting.html"
   ]
  },
  {
   "cell_type": "markdown",
   "metadata": {},
   "source": [
    "## Exercise 3.3\n",
    "\n",
    "Generate a numpy array of length 5 containing random integers between 1 and 15. Use the functions `numpy.reshape` and broadcasting to build a two-dimensional array where each element (i, j) is the product of the ith and jth elements of the initial array.\n",
    "\n",
    "So, for example, the two dimensional array's first element should be `a[0]` * `a[0]`, then `a[0]` * `a[1]` and so forth.\n"
   ]
  },
  {
   "cell_type": "code",
   "execution_count": null,
   "metadata": {},
   "outputs": [],
   "source": []
  },
  {
   "cell_type": "markdown",
   "metadata": {},
   "source": [
    "### 3.3.3 Linear Algebra Operations on Vectors and Matrices\n",
    "\n",
    "#### 3.3.3.1 Vector Multiplication (using dot product)\n",
    "\n",
    "The dot product between two matrices returns a scalar value that is the sum of multiplying each element of the two matrices together. In numpy the dot product (or scalar product) between two vectors (one-dimensional arrays) is treated as\n",
    "a special case of multi-dimensional array multiplication. \n",
    "\n",
    "The definition of the dot product between two vectors $a$ and $b$ is:\n",
    "\n",
    "$$\\langle a, b\\rangle = \\sum_{i=1}^N ab$$\n",
    "\n",
    "Other notations that you will come across for this operation are:\n",
    "\n",
    "$a \\cdot b$\n",
    "\n",
    "$a^T b$"
   ]
  },
  {
   "cell_type": "code",
   "execution_count": null,
   "metadata": {},
   "outputs": [],
   "source": [
    "a = numpy.random.uniform(-10,10,100)\n",
    "b = numpy.random.uniform(-10,10,100)\n",
    "\n",
    "c = a * b # Element-wise multiplication\n",
    "d = a.dot(b) # Dot product\n",
    "\n",
    "print(c)\n",
    "print('#########################')\n",
    "print(d)"
   ]
  },
  {
   "cell_type": "markdown",
   "metadata": {},
   "source": [
    "#### 3.3.3.2 Matrix multiplication (using dot product)\n",
    "\n",
    "Matrix multiplication does not produce a single scalar. Instead, it produces a full matrix of values calculated using the same dot product formula from above. Each column in the first matrix is paired with a row in the second matrix and the dot product between those two vectors is a value in the resulting matrix. \n",
    "Because of this, the number of columns in the first matrix needs to be equal to the number of rows in the second matrix. For matrices $A_{m\\times n}$ and $B_{n \\times p}$, the resulting matrix will be $C_{m \\times p}$. The value of each entry in the resulting matrix $C$ is the result of computing the dot product between a row from $A$ and a column from $B$:\n",
    "\n",
    "![](https://upload.wikimedia.org/wikipedia/commons/thumb/e/eb/Matrix_multiplication_diagram_2.svg/470px-Matrix_multiplication_diagram_2.svg.png)\n",
    "\n",
    "The equation for calculating each cell is the same as the vector dot product formula:\n",
    "\n",
    "$$\n",
    "C_{i,j} = \\sum_{k=1}^n A_{i,k}B_{k,j}\n",
    "$$\n",
    "\n",
    "In order to compute the dot product between two matricies a and b, we use:\n",
    "\n",
    "```python\n",
    "numpy.dot(A, B)\n",
    "```\n",
    "or\n",
    "\n",
    "```python\n",
    "A.dot(B)\n",
    "```"
   ]
  },
  {
   "cell_type": "code",
   "execution_count": null,
   "metadata": {},
   "outputs": [],
   "source": [
    "A = numpy.random.random([4, 10])\n",
    "B = numpy.random.random([10, 3])\n",
    "C = A.dot(B)\n",
    "print(C, C.shape)"
   ]
  },
  {
   "cell_type": "markdown",
   "metadata": {},
   "source": [
    "## Exercise 3.4\n",
    "\n",
    "- Create a random matrix $A_{3\\times 4}$ and another random matrix $B_{4 \\times 2}$. Multiply AB.  \n",
    "- Create a random matrix $C_{3\\times 3}$ and $D_{3\\times3}$. Multiply CD. Multiply DC. Is matrix multiplication commutative?\n",
    "- Create a identity matrix $I_{3\\times 3}$.  Multiply IC, CI, DI, ID. What do you notice?\n",
    "- What will be the result of multiplying a matrix $Z_{m\\times n}$ by a matrix $O_{n \\times p}$ whose all entries are zero? Check your answer using some examples."
   ]
  },
  {
   "cell_type": "code",
   "execution_count": null,
   "metadata": {},
   "outputs": [],
   "source": []
  },
  {
   "cell_type": "markdown",
   "metadata": {},
   "source": [
    "#### 3.3.3.3 Matrix Transpose\n",
    "We have already encountered matrix transpose when we discussed reshaping numpy arrays. Transposing a matrix simply means making the rows into columns and columns into rows. This is often required to align a matrix properly for matrix multiplication.\n",
    "\n",
    "The mathematical notation for the transpose of matrix $A$ is $A^T$. If $A$ is $m \\times n$ then $A^T$ is $n \\times m$. The values are:\n",
    "\n",
    "$$A^T_{i,j} = A_{j,i}$$\n",
    "\n",
    "The function to compute the transpose of matrix A is either `numpy.transpose(A)` or simply `A.T`."
   ]
  },
  {
   "cell_type": "code",
   "execution_count": null,
   "metadata": {},
   "outputs": [],
   "source": [
    "A = numpy.random.random([4, 10])\n",
    "print(A.shape)\n",
    "B = A.T\n",
    "print(B.shape)\n",
    "\n",
    "print(numpy.allclose(A, B.T))\n"
   ]
  },
  {
   "cell_type": "markdown",
   "metadata": {},
   "source": [
    "#### 3.3.3.4 Matrix Inversion\n",
    "When using scalar values, dividing by a number $n$ is straightforward: it mearly requires multiplying by $\\frac{1}{n}$. This value is the multiplicative inverse (aka reciprocal) $n$ is $\\frac{1}{n}$ and can also written as $n^{-1}$. \n",
    "\n",
    "The inverse has certain properties, including:\n",
    "- $n^{-1}n = 1$\n",
    "- $(n^{-1})^{-1} = n$\n",
    "\n",
    "For matricies, there is an analogous concept. The inverse of a matrix $A$ is written $A^{-1}$ and it satisfies three critical properties:\n",
    "\n",
    "- $A^{-1}A = I$ where $I$ is the $m \\times m$ identity matrix\n",
    "- $(A^{-1})^{-1} = A$\n",
    "- $(A^T)^{-1} = (A^{-1})^T$\n",
    "\n",
    "Not all matrices are invertible: a matrix needs to be square (that is, the number of rows must equal the number of columns), and its [determinant](https://en.wikipedia.org/wiki/Determinant) needs to be non-zero. \n",
    "\n",
    "Computing the inverse of a matrix is critical for many data science techniques, including computing the best fitting parameter weights for ordinary least squares linear regression (an example we will look at next). We will use the function `inv` from the `linalg` submodule to compute this.\n"
   ]
  },
  {
   "cell_type": "code",
   "execution_count": null,
   "metadata": {},
   "outputs": [],
   "source": [
    "from numpy.linalg import inv\n",
    "A = numpy.random.uniform(0,1,(3,3))\n",
    "print(A)\n",
    "print()\n",
    "print(inv(A))"
   ]
  },
  {
   "cell_type": "markdown",
   "metadata": {},
   "source": [
    "## Exercise 3.5\n",
    "\n",
    "Generate a $3 \\times 3$ matrix of random values named A.\n",
    "\n",
    "Part A: Verify that $A^{-1}A = I$, where $I$ is the $m \\times m$ identity matrix\n",
    "\n",
    "Part B: Verify that $(A^{-1})^{-1} = A$\n",
    "\n",
    "Part C: Verify that $(A^T)^{-1} = (A^{-1})^T$"
   ]
  },
  {
   "cell_type": "code",
   "execution_count": null,
   "metadata": {},
   "outputs": [],
   "source": []
  }
 ],
 "metadata": {
  "kernelspec": {
   "display_name": "Python 3",
   "language": "python",
   "name": "python3"
  },
  "language_info": {
   "codemirror_mode": {
    "name": "ipython",
    "version": 3
   },
   "file_extension": ".py",
   "mimetype": "text/x-python",
   "name": "python",
   "nbconvert_exporter": "python",
   "pygments_lexer": "ipython3",
   "version": "3.11.5"
  },
  "name": "_merged"
 },
 "nbformat": 4,
 "nbformat_minor": 4
}
