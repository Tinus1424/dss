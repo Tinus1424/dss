{
 "cells": [
  {
   "cell_type": "code",
   "execution_count": 2,
   "metadata": {},
   "outputs": [],
   "source": [
    "import numpy as np"
   ]
  },
  {
   "cell_type": "markdown",
   "metadata": {},
   "source": [
    "# Daily Exercise 1\n",
    "Write a function that takes three positive integer parameters size, start, and step and returns a square two-dimensional matrix with size entries per dimension. The values in the matrix should all be zero except values on the principle diagonal. The first value on this diagonal should be start and each subsequent value should be step larger.\n",
    "## My solution with a loop"
   ]
  },
  {
   "cell_type": "code",
   "execution_count": 25,
   "metadata": {},
   "outputs": [],
   "source": [
    "\n",
    "def build_nifty_matrix(size, start, step):\n",
    "    a = np.eye(size)\n",
    "    i = 0\n",
    "    for row in a:\n",
    "        row[i] = start + (step * i)\n",
    "        i += 1\n",
    "    return a"
   ]
  },
  {
   "cell_type": "markdown",
   "metadata": {},
   "source": [
    "## Solution provided\n",
    "This is better because it is a vectorized operation making use of the fact that the other values are zero. Thus, multiplying the a vector by the b matrix provides the solution"
   ]
  },
  {
   "cell_type": "code",
   "execution_count": 31,
   "metadata": {},
   "outputs": [],
   "source": [
    "import numpy as np\n",
    "\n",
    "def build_nifty_matrix(size, start, step):\n",
    "    a = np.arange(start, start + step * size, step)\n",
    "    b = np.eye(size)\n",
    "    return a, b, a*b\n"
   ]
  },
  {
   "cell_type": "code",
   "execution_count": 32,
   "metadata": {},
   "outputs": [
    {
     "name": "stdout",
     "output_type": "stream",
     "text": [
      "(array([42, 44, 46]), array([[1., 0., 0.],\n",
      "       [0., 1., 0.],\n",
      "       [0., 0., 1.]]), array([[42.,  0.,  0.],\n",
      "       [ 0., 44.,  0.],\n",
      "       [ 0.,  0., 46.]]))\n"
     ]
    }
   ],
   "source": [
    "print(build_nifty_matrix(3, 42, 2))"
   ]
  },
  {
   "cell_type": "code",
   "execution_count": 27,
   "metadata": {},
   "outputs": [
    {
     "name": "stdout",
     "output_type": "stream",
     "text": [
      "[[ -1.   0.   0.   0.   0.]\n",
      " [  0.  99.   0.   0.   0.]\n",
      " [  0.   0. 199.   0.   0.]\n",
      " [  0.   0.   0. 299.   0.]\n",
      " [  0.   0.   0.   0. 399.]]\n"
     ]
    }
   ],
   "source": [
    "print(build_nifty_matrix(5, -1, 100))"
   ]
  },
  {
   "cell_type": "markdown",
   "metadata": {},
   "source": [
    "# Daily Exercise 2\n",
    "By default, the reshape function uses the 'C' order to fill in multi-dimensional arrays (see https://numpy.org/doc/stable/reference/generated/numpy.reshape.htmlLinks to an external site. for more information). ‘C’ means to read/write the elements using C-like index order, with the last axis index changing fastest, back to the first axis index changing slowest. To test this, use the arange function to create a one-dimensional array with values between 2 and 12 with step size 2. Then reshape it to a 2 by 3 two-dimensional array. Check the order of numbers in rows and columns.\n",
    "\n",
    "Now, write code that fills in values the other way around when reshaping, i.e. the first axis index should change fastest. Print the results and compare them with the outputs of the previous setting.\n",
    "\n",
    "## My solution\n",
    "Correct according to solution provided"
   ]
  },
  {
   "cell_type": "code",
   "execution_count": 14,
   "metadata": {},
   "outputs": [
    {
     "data": {
      "text/plain": [
       "array([[ 2,  4,  6],\n",
       "       [ 8, 10, 12]])"
      ]
     },
     "execution_count": 14,
     "metadata": {},
     "output_type": "execute_result"
    }
   ],
   "source": [
    "a = np.arange(2, 13, 2).reshape((2,3))"
   ]
  },
  {
   "cell_type": "code",
   "execution_count": 17,
   "metadata": {},
   "outputs": [
    {
     "data": {
      "text/plain": [
       "array([[ 2,  6, 10],\n",
       "       [ 4,  8, 12]])"
      ]
     },
     "execution_count": 17,
     "metadata": {},
     "output_type": "execute_result"
    }
   ],
   "source": [
    "b = np.arange(2, 13, 2).reshape((2,3), order=\"F\")"
   ]
  },
  {
   "cell_type": "markdown",
   "metadata": {},
   "source": [
    "# Daily Exercise 3\n",
    "Create two 4x4, 2-dimensional arrays: one containing only zeros, the other containing only ones.\n",
    "\n",
    "Stack them using a vertical stack, then reshape the stacked array into a 3-dimensional array. Now, use array indexing to retrieve only ones from the stacked array.\n",
    "\n",
    "Now reshape the stacked array into a 3-dimensional array in such a way that the first (the leftmost) dimension consists of only ones or zeros, but not both. Again, use array indexing to retrieve only ones from the reshaped 3D array.\n",
    "## My solution\n",
    "\n",
    "Beetje cursed? The solution provided is bs and does not match with what is asked. Solution asks to stack, reshape, THEN retrieve only ones. Which the solution DOES NOT. "
   ]
  },
  {
   "cell_type": "code",
   "execution_count": 44,
   "metadata": {},
   "outputs": [
    {
     "name": "stdout",
     "output_type": "stream",
     "text": [
      "2\n",
      "[[[1. 1. 1. 1.]\n",
      "  [1. 1. 1. 1.]]\n",
      "\n",
      " [[1. 1. 1. 1.]\n",
      "  [1. 1. 1. 1.]]]\n",
      "[[1.]\n",
      " [1.]\n",
      " [1.]\n",
      " [1.]\n",
      " [1.]\n",
      " [1.]\n",
      " [1.]\n",
      " [1.]\n",
      " [1.]\n",
      " [1.]\n",
      " [1.]\n",
      " [1.]\n",
      " [1.]\n",
      " [1.]\n",
      " [1.]\n",
      " [1.]]\n"
     ]
    }
   ],
   "source": [
    "a = np.ones((4,4))\n",
    "b = np.zeros((4,4))\n",
    "\n",
    "c = np.vstack((a, b))\n",
    "print(c.ndim)\n",
    "c = c.reshape(4, 2, 4)\n",
    "print(c[0:2, ])\n",
    "\n",
    "d = c.reshape(2, 16, 1)\n",
    "print(d[0])\n"
   ]
  }
 ],
 "metadata": {
  "kernelspec": {
   "display_name": "base",
   "language": "python",
   "name": "python3"
  },
  "language_info": {
   "codemirror_mode": {
    "name": "ipython",
    "version": 3
   },
   "file_extension": ".py",
   "mimetype": "text/x-python",
   "name": "python",
   "nbconvert_exporter": "python",
   "pygments_lexer": "ipython3",
   "version": "3.11.5"
  }
 },
 "nbformat": 4,
 "nbformat_minor": 2
}
