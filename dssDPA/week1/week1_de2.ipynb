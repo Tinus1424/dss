{
 "cells": [
  {
   "cell_type": "markdown",
   "metadata": {},
   "source": [
    "Create an array of 501 numbers between 0 and 10000. Write code that prints the stepsize between the values."
   ]
  },
  {
   "cell_type": "code",
   "execution_count": 1,
   "metadata": {},
   "outputs": [
    {
     "name": "stdout",
     "output_type": "stream",
     "text": [
      "20.0\n"
     ]
    },
    {
     "data": {
      "text/plain": [
       "20.0"
      ]
     },
     "metadata": {},
     "output_type": "display_data"
    }
   ],
   "source": [
    "import numpy as np\n",
    "\n",
    "a, stepsize = np.linspace(0, 10000, 501, retstep= True)\n",
    "print(stepsize)\n",
    "\n",
    "# Second method\n",
    "b = np.linspace(0, 10000, 501, retstep = True)\n",
    "display(b[1])"
   ]
  },
  {
   "cell_type": "markdown",
   "metadata": {},
   "source": [
    "np.linspace(a, b, i) takes three inputs, a = start, b = end, i = number of elements you want in the array. retstep by default = false but when you turn it to true. You can get it to return stepsize. I assigned the code to two variables, a and stepsize. Because the method first returns the array and then the stepsize, the stepsize records, well, the stepsize."
   ]
  }
 ],
 "metadata": {
  "kernelspec": {
   "display_name": "base",
   "language": "python",
   "name": "python3"
  },
  "language_info": {
   "codemirror_mode": {
    "name": "ipython",
    "version": 3
   },
   "file_extension": ".py",
   "mimetype": "text/x-python",
   "name": "python",
   "nbconvert_exporter": "python",
   "pygments_lexer": "ipython3",
   "version": "3.10.11"
  }
 },
 "nbformat": 4,
 "nbformat_minor": 2
}
