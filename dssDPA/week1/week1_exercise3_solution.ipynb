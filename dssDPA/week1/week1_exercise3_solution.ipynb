{
 "cells": [
  {
   "cell_type": "markdown",
   "metadata": {},
   "source": [
    "## Week 1: Daily Exercise 3\n",
    "\n",
    "Create an array containing the numbers 1 up to and including 100 (stepsize 1). Assign the last 20 elements to a separate variable, then add 40 to each element in the new array. \n",
    "\n",
    "**Bonus:** Solve the problem two ways, one that changes the values in place, and one that does not change the original values but creates a new array."
   ]
  },
  {
   "cell_type": "markdown",
   "metadata": {},
   "source": [
    "## Solution 1: that changes the original array\n",
    "\n",
    "Here we use linear indexing to refere to the last elements in the array. The new variable will just a reference to the original, thus, chenging it results in changing original values."
   ]
  },
  {
   "cell_type": "code",
   "execution_count": 1,
   "metadata": {},
   "outputs": [
    {
     "name": "stdout",
     "output_type": "stream",
     "text": [
      "[  1   2   3   4   5   6   7   8   9  10  11  12  13  14  15  16  17  18\n",
      "  19  20  21  22  23  24  25  26  27  28  29  30  31  32  33  34  35  36\n",
      "  37  38  39  40  41  42  43  44  45  46  47  48  49  50  51  52  53  54\n",
      "  55  56  57  58  59  60  61  62  63  64  65  66  67  68  69  70  71  72\n",
      "  73  74  75  76  77  78  79  80 121 122 123 124 125 126 127 128 129 130\n",
      " 131 132 133 134 135 136 137 138 139 140]\n"
     ]
    }
   ],
   "source": [
    "import numpy\n",
    "\n",
    "# create the initial array\n",
    "a = numpy.arange(1,101)\n",
    "\n",
    "# select the last 20 elements\n",
    "split = a[-20:]\n",
    "\n",
    "# add 40 to each element\n",
    "split += 40\n",
    "\n",
    "print(a)\n",
    "\n",
    "#the last 20 elements in the original array have also been increased by 40"
   ]
  },
  {
   "cell_type": "markdown",
   "metadata": {},
   "source": [
    "## Solution 2: that does not modify the original array\n",
    "\n",
    "Here we use array of indices to refere to the last 20 elements, thus the new array will be a new copy and changing it does not affect the original values."
   ]
  },
  {
   "cell_type": "code",
   "execution_count": null,
   "metadata": {},
   "outputs": [],
   "source": [
    "# solution that does not modify the original array\n",
    "\n",
    "# create the initial array\n",
    "a = numpy.arange(1,101)\n",
    "\n",
    "# create an index for the final values\n",
    "i = numpy.arange(-20,0,1)\n",
    "split = a[i]\n",
    "split += 20\n",
    "print(a)"
   ]
  }
 ],
 "metadata": {
  "kernelspec": {
   "display_name": "Python 3",
   "language": "python",
   "name": "python3"
  },
  "language_info": {
   "codemirror_mode": {
    "name": "ipython",
    "version": 3
   },
   "file_extension": ".py",
   "mimetype": "text/x-python",
   "name": "python",
   "nbconvert_exporter": "python",
   "pygments_lexer": "ipython3",
   "version": "3.10.11"
  }
 },
 "nbformat": 4,
 "nbformat_minor": 2
}
