{
 "cells": [
  {
   "cell_type": "markdown",
   "metadata": {},
   "source": [
    "# 1. Basic Arrays and Data Types"
   ]
  },
  {
   "cell_type": "markdown",
   "metadata": {
    "tags": []
   },
   "source": [
    "## 1.1 What is an array?\n",
    "\n",
    "An array is an ordered and structured collection of elements. Arrays are structured around the number of dimensions they contain, as well as how many elements exist along each dimension. Today we will focus on arrays that are only one dimension.\n",
    "\n",
    "For example, we can have a one-dimensional array that contains six elements:\n",
    "\n",
    "  4 5 6 7 8 9\n"
   ]
  },
  {
   "cell_type": "markdown",
   "metadata": {},
   "source": [
    "### 1.1.1 Why numpy arrays and not just python lists or tuples?\n",
    "\n",
    "Numpy arrays are structured in memory very differently from python lists or tuples. The full array is stored within a single large block in the computer's memory, thus making it much quicker to do many operations. Especially when the number of elements in the array becomes large."
   ]
  },
  {
   "cell_type": "markdown",
   "metadata": {
    "tags": []
   },
   "source": [
    "## 1.2 Creating an array\n",
    "\n",
    "### 1.2.1 Creating an array from a Python lists or tuples\n",
    "\n",
    "Perhaps the most straightforward way to create a numpy array is by passing a python list or a tuple to the `numpy.array` function. "
   ]
  },
  {
   "cell_type": "code",
   "execution_count": null,
   "metadata": {
    "tags": []
   },
   "outputs": [],
   "source": [
    "import numpy"
   ]
  },
  {
   "cell_type": "code",
   "execution_count": null,
   "metadata": {},
   "outputs": [],
   "source": [
    "# create a numpy array from a python list:\n",
    "my_list = [1, 3, 5, 7, 9]\n",
    "my_array = numpy.array(my_list)\n",
    "print( my_array )"
   ]
  },
  {
   "cell_type": "code",
   "execution_count": null,
   "metadata": {},
   "outputs": [],
   "source": [
    "# numpy arrays can also be created based on python tuples:\n",
    "my_tuple = (11, 12, 13, 14, 15)\n",
    "my_array =  numpy.array(my_tuple) \n",
    "print( my_array )"
   ]
  },
  {
   "cell_type": "markdown",
   "metadata": {},
   "source": [
    "### 1.2.2 Creating an array from a file\n",
    "\n",
    "Another common way of creating a numpy array is to load the information from a file. There are two major filetimes that can be read: text files (csv and similar data types) and binary. To load a text file, use `numpy.loadtxt()`. Next week we will discuss `numpy.load()` for dealing with binary files."
   ]
  },
  {
   "cell_type": "code",
   "execution_count": null,
   "metadata": {},
   "outputs": [],
   "source": [
    "# code to create a file to load:\n",
    "a = numpy.array([2, 4, 6, 8])\n",
    "numpy.savetxt(\"sample_file.txt\", a)\n",
    "\n",
    "# code to load that file:\n",
    "b = numpy.loadtxt(\"sample_file.txt\", dtype=numpy.int32)\n",
    "\n",
    "# check values....\n",
    "print(a)\n",
    "print(b)"
   ]
  },
  {
   "cell_type": "markdown",
   "metadata": {},
   "source": [
    "Given the example above, I suspect you will not be surprised to learn that the function to write a numpy array to a text file is `numpy.savetxt()`."
   ]
  },
  {
   "cell_type": "markdown",
   "metadata": {},
   "source": [
    "### 1.2.3 Intrinsic NumPy array creation functions\n",
    "\n",
    "Numpy has a function which is similar to the `range()` function which is `arange(a, b, s)`, where $a$ is the start point, $b$ is the end point and $s$ is the step size. Values are generated within the half-open interval [start, stop) (in other words, the interval including start but excluding stop). The function can have both integers or floats as inputs (unlike `range()` can only support integers)."
   ]
  },
  {
   "cell_type": "code",
   "execution_count": null,
   "metadata": {},
   "outputs": [],
   "source": [
    "# fixed step size:\n",
    "x = numpy.arange(1, 11.9, 2.1)\n",
    "print( x )"
   ]
  },
  {
   "cell_type": "markdown",
   "metadata": {},
   "source": [
    "Another function to create a range is the `linspace(a, b, i)` function, where $a$ is the start point, $b$ is the end point, and $i$ is the number of items. Return evenly spaced numbers over a specified interval [start, stop]. The endpoint of the interval is included by default but can optionally be excluded by setting `endpoint=False`.\n",
    "\n",
    "The advantage of the `linspace` function is that you can specify the number of items and the advantage of the `arange` function is that you can specify the step size."
   ]
  },
  {
   "cell_type": "code",
   "execution_count": null,
   "metadata": {},
   "outputs": [],
   "source": [
    "# fixed number of items:\n",
    "y = numpy.linspace(0, 2, 9)\n",
    "print( y )"
   ]
  },
  {
   "cell_type": "markdown",
   "metadata": {},
   "source": [
    "We can use also `zeros` or `ones` functions to create an array of all zeros or ones with the desired shape:"
   ]
  },
  {
   "cell_type": "code",
   "execution_count": null,
   "metadata": {},
   "outputs": [],
   "source": [
    "z = numpy.zeros([10])\n",
    "print( z )"
   ]
  },
  {
   "cell_type": "code",
   "execution_count": null,
   "metadata": {},
   "outputs": [],
   "source": [
    "o = numpy.ones([10])\n",
    "print( o )"
   ]
  },
  {
   "cell_type": "markdown",
   "metadata": {},
   "source": [
    "### 1.2.4 Creating arrays of random values\n",
    "\n",
    "If we want to create an array with random numbers we can use the `numpy.random.random(n)` function, this function returns an array with `n` float numbers in the half-open interval `[0.0, 1.0)`."
   ]
  },
  {
   "cell_type": "code",
   "execution_count": null,
   "metadata": {},
   "outputs": [],
   "source": [
    "# create array with four random numbers between 0 and 1:\n",
    "print( numpy.random.random(4) )"
   ]
  },
  {
   "cell_type": "markdown",
   "metadata": {},
   "source": [
    "`randint(low, high, n)` returns `n` random integers from the \"discrete uniform\" distribution of the specified dtype in the \"half-open\" interval `[low, high)`. If high is None (the default), then results are from [0, low)."
   ]
  },
  {
   "cell_type": "code",
   "execution_count": null,
   "metadata": {},
   "outputs": [],
   "source": [
    "# create array with 12 random integers between 5 and 10:\n",
    "print( numpy.random.randint(5, 10, 12) )"
   ]
  },
  {
   "cell_type": "markdown",
   "metadata": {},
   "source": [
    "The expression `numpy.random.uniform(low, high, n)` returns an array with `n` random numbers uniformly drawn from the interval between `[low, high)` (includes low, but excludes high). "
   ]
  },
  {
   "cell_type": "code",
   "execution_count": null,
   "metadata": {},
   "outputs": [],
   "source": [
    "# create array with 12 random numbers with uniform distribution between 5 and 10:\n",
    "print( numpy.random.uniform(5, 10, 12) )"
   ]
  },
  {
   "cell_type": "markdown",
   "metadata": {},
   "source": [
    "`numpy.random.normal(loc=0.0, scale=1.0, size=None)` draws random samples from a normal (Gaussian) distribution. `loc` and `scale` define respectively the mean and standard deviation of the normal distribution."
   ]
  },
  {
   "cell_type": "code",
   "execution_count": null,
   "metadata": {},
   "outputs": [],
   "source": [
    "# create array with 10 random numbers with normal distribution with mean 5 and standard deviation of 3:\n",
    "print( numpy.random.normal(5, 3, 10) )"
   ]
  },
  {
   "cell_type": "markdown",
   "metadata": {},
   "source": [
    "For more information about creating arrays: \n",
    "http://docs.scipy.org/doc/numpy/user/basics.creation.html"
   ]
  },
  {
   "cell_type": "markdown",
   "metadata": {},
   "source": [
    "## 1.3 Utility Functions and attributes\n",
    "\n",
    "### 1.3.1 Size and shape\n",
    "Often it is really useful to check the size and shape of an array when debugging your code. For an array `a` you can use the attribute `a.size` to show the total number of elements in the array and the attribute `a.ndim` to see the number of dimensions. These can differ when we consider arrays that contain more than one dimension (next week)."
   ]
  },
  {
   "cell_type": "code",
   "execution_count": null,
   "metadata": {
    "tags": []
   },
   "outputs": [],
   "source": [
    "a = numpy.random.uniform(1, 100, 1000000)\n",
    "print(numpy.size(a), numpy.ndim(a), numpy.shape(a))\n",
    "print(a.size, a.ndim, a.shape)"
   ]
  },
  {
   "cell_type": "markdown",
   "metadata": {},
   "source": [
    "### 1.3.2 Checking equivalence\n",
    "To check equivalance between two arrays, you could check:\n",
    "- the match between their elements using `numpy.allclose()`"
   ]
  },
  {
   "cell_type": "code",
   "execution_count": null,
   "metadata": {},
   "outputs": [],
   "source": [
    "a = numpy.array([2, 4, 6, 8])\n",
    "a = b"
   ]
  },
  {
   "cell_type": "code",
   "execution_count": null,
   "metadata": {},
   "outputs": [],
   "source": [
    "print(numpy.allclose(a, b))"
   ]
  },
  {
   "cell_type": "markdown",
   "metadata": {},
   "source": [
    "To check whether the locations of two arrays in computer memory is the same, we can use `id()`:\n"
   ]
  },
  {
   "cell_type": "code",
   "execution_count": null,
   "metadata": {},
   "outputs": [],
   "source": [
    "print(id(a) == id(b))"
   ]
  },
  {
   "cell_type": "markdown",
   "metadata": {},
   "source": [
    "## Exercise 1.1\n",
    "\n",
    "Create an array of length 15 with equally spaced values from 13 to 99. Confirm that the number of elements is correct."
   ]
  },
  {
   "cell_type": "code",
   "execution_count": null,
   "metadata": {
    "tags": []
   },
   "outputs": [],
   "source": []
  },
  {
   "cell_type": "markdown",
   "metadata": {},
   "source": [
    "## Exercise 1.2\n",
    "\n",
    "Create an array that ranges from 0 to 1 in steps of 0.015."
   ]
  },
  {
   "cell_type": "code",
   "execution_count": null,
   "metadata": {
    "collapsed": true,
    "jupyter": {
     "outputs_hidden": true
    }
   },
   "outputs": [],
   "source": []
  },
  {
   "cell_type": "markdown",
   "metadata": {},
   "source": [
    "## Exercise 1.3\n",
    "\n",
    "Create an array of length 10,000,000 with random values between 0 and 100. Confirm that the number of elements is correct."
   ]
  },
  {
   "cell_type": "code",
   "execution_count": null,
   "metadata": {
    "tags": []
   },
   "outputs": [],
   "source": []
  },
  {
   "cell_type": "markdown",
   "metadata": {},
   "source": [
    "-----\n",
    "\n",
    "\n",
    "\n",
    "## 1.4 Arrays and data types"
   ]
  },
  {
   "cell_type": "markdown",
   "metadata": {},
   "source": [
    "### 1.4.1 Data types in Python\n",
    "\n",
    "Before discussing Numpy datatypes, first a small list of the data types in Python:\n",
    "\n",
    "##### Immutable types:\n",
    "- boolean (True, False)\n",
    "- int (integer)\n",
    "- float\n",
    "- complex \n",
    "- str (string)\n",
    "- byte\n",
    "- tuple ( )\n",
    "\n",
    "The type of these variables cannot be changed after they are created\n",
    "\n",
    "##### Mutable types:\n",
    "- list [ ]\n",
    "- set\n",
    "- dict { } (dictionary)\n",
    "\n",
    "The type of these variables can be changed after being created"
   ]
  },
  {
   "cell_type": "markdown",
   "metadata": {},
   "source": [
    "### 1.4.2 Data types in Numpy\n",
    "\n",
    "Numpy is based on **arrays**. You can think of an array as a list, or a table, where each cell of the table contains an item of the same **datatype**. The elements of an array must all be the same data type. \n",
    "\n",
    "The 6 basic data types of Numpy arrays are:\n",
    "- float (float16, float32, or float64)\n",
    "- integer (int8, int16, int32, or int64)\n",
    "- unsigned integer: this number cannot be negative (uint8, uint16, uint32, or uint64)\n",
    "- boolean (bool)\n",
    "- complex (complex64 or complex128)\n",
    "- string (for example <U3 or <U64, where the number indicates the maximum length of the strings)\n",
    "\n",
    "The data type of the numpy array `x` can be obtained with the `x.dtype` attribute. \n",
    "\n",
    "#### 1.4.2.1 Memory Details\n",
    "\n",
    "The numbers 8, 16, 32, 64 in the name of datatypes are used to indicate the amount of memory storage.\n",
    "\n",
    "For example, the data type `int8` only uses 1 byte (8 bits) and therefore this variable can only store a number in the range of -128 to 127. The data type int16 uses 2 bytes and therefore this variable can store a number in the range of -32768 to 32767. \n",
    "\n",
    "For the unsigned integer, the number can never by negative and therefore the data type uint8 can have a value in the range of 0 to 255, where 255 = 2^8 - 1. \n",
    "\n",
    "We can use `itemsize` attribute of a numpy array to retrieve the length of an array element in bytes.\n"
   ]
  },
  {
   "cell_type": "code",
   "execution_count": null,
   "metadata": {
    "tags": []
   },
   "outputs": [],
   "source": [
    "# array with integers:\n",
    "x = numpy.array([1, 3, 5, 7, 9])\n",
    "print( x, x.dtype, x.itemsize )"
   ]
  },
  {
   "cell_type": "code",
   "execution_count": null,
   "metadata": {},
   "outputs": [],
   "source": [
    "x = numpy.array([1, 3, 5, 7, 9], dtype='int8')\n",
    "print( x, x.dtype, x.itemsize )"
   ]
  },
  {
   "cell_type": "code",
   "execution_count": null,
   "metadata": {
    "tags": []
   },
   "outputs": [],
   "source": [
    "# array with floats:\n",
    "y = numpy.array([2.2, 4.4, 6.6, 8.8])\n",
    "print( y, y.dtype, y.itemsize )"
   ]
  },
  {
   "cell_type": "code",
   "execution_count": null,
   "metadata": {
    "tags": []
   },
   "outputs": [],
   "source": [
    "# array with booleans:\n",
    "z = numpy.array([True, False, True])\n",
    "print( z, z.dtype, z.itemsize )"
   ]
  },
  {
   "cell_type": "code",
   "execution_count": null,
   "metadata": {
    "tags": []
   },
   "outputs": [],
   "source": [
    "# array with strings:\n",
    "x = numpy.array([\"a\", \"b\", \"cde\"])\n",
    "print( x, x.dtype, x.itemsize )"
   ]
  },
  {
   "cell_type": "markdown",
   "metadata": {},
   "source": [
    "### 1.4.3 Specifying data types\n",
    "\n",
    "If you initialize an array with multiple data types, the elements are converted to the same type. \n",
    "\n",
    "You can specify the data type of the array when you create the array with the `array()` function using the `dtype` keyword argument."
   ]
  },
  {
   "cell_type": "code",
   "execution_count": null,
   "metadata": {
    "tags": []
   },
   "outputs": [],
   "source": [
    "# explicitly specify the data type:\n",
    "y = numpy.array([9, 8, 7, 6], dtype='float')\n",
    "print( y, y.dtype, y.itemsize )"
   ]
  },
  {
   "cell_type": "markdown",
   "metadata": {},
   "source": [
    " Note that not every combination is possible. For example, when your array contains text then you cannot choose float as a data type, because the text cannot be converted to floats, except when the text is exactly representing a floating point number."
   ]
  },
  {
   "cell_type": "code",
   "execution_count": null,
   "metadata": {
    "tags": []
   },
   "outputs": [],
   "source": [
    "# Try to convert strings to integers\n",
    "strings = [\"12\", \"3\", \"24\"]\n",
    "z = numpy.array(strings, dtype='int')\n",
    "print( z, z.dtype, z.itemsize )"
   ]
  },
  {
   "cell_type": "code",
   "execution_count": null,
   "metadata": {},
   "outputs": [],
   "source": [
    "# This will produce an error\n",
    "numerals = [\"one\", \"two\", \"three\"]\n",
    "a = numpy.array(numerals, dtype='int')\n",
    "print( a, a.dtype, a.itemsize )"
   ]
  },
  {
   "cell_type": "code",
   "execution_count": null,
   "metadata": {},
   "outputs": [],
   "source": [
    "# array with mixed data types:\n",
    "x = numpy.array([1, 3.4, True, 2.3+4.5j, \"a\"])\n",
    "print( x, x.dtype, x.itemsize )"
   ]
  },
  {
   "cell_type": "markdown",
   "metadata": {},
   "source": [
    "### 1.4.4 Converting to a different data type\n",
    "\n",
    "use the `astype()` function to convert an existing Numpy array to a different type."
   ]
  },
  {
   "cell_type": "code",
   "execution_count": null,
   "metadata": {
    "tags": []
   },
   "outputs": [],
   "source": [
    "# convert an array with integers to the data type float:\n",
    "x = numpy.array([1, 3, 5, 7, 9])\n",
    "print( x, x.dtype, x.itemsize )\n",
    "\n",
    "g = x.astype('float')\n",
    "print( g, g.dtype, g.itemsize )"
   ]
  },
  {
   "cell_type": "code",
   "execution_count": null,
   "metadata": {
    "tags": []
   },
   "outputs": [],
   "source": [
    "# convert an array with strings to float with 128 bits:\n",
    "y = numpy.array([\"1.4\", \"3.4\", \"5.4\"])\n",
    "print( y, y.dtype, y.itemsize )\n",
    "\n",
    "h = y.astype('float64')\n",
    "print( h, h.dtype, h.itemsize )"
   ]
  },
  {
   "cell_type": "markdown",
   "metadata": {},
   "source": [
    "Sometimes, the data types are converted but the content is slightly changed. \n",
    "For example, when converting from float to integer, then the numbers are rounded down (floor). \n",
    "For example, when converting an array with only zeros and ones to the data type Boolean than the 0 is converted to False and the 1 is converted to True. "
   ]
  },
  {
   "cell_type": "code",
   "execution_count": null,
   "metadata": {
    "tags": []
   },
   "outputs": [],
   "source": [
    "# from float to integer\n",
    "x = numpy.array([2.2, 3.2, 2.8])\n",
    "print( x, x.dtype, x.itemsize)\n",
    "\n",
    "a = x.astype('int')\n",
    "print( a, a.dtype, a.itemsize )"
   ]
  },
  {
   "cell_type": "code",
   "execution_count": null,
   "metadata": {
    "tags": []
   },
   "outputs": [],
   "source": [
    "# from 0-1 to boolean\n",
    "x = numpy.array([0, 1, 1, 0])\n",
    "print( x, x.dtype, x.itemsize )\n",
    "\n",
    "a = x.astype('bool')\n",
    "print( a, a.dtype, a.itemsize )"
   ]
  },
  {
   "cell_type": "markdown",
   "metadata": {},
   "source": [
    "Not every data type can be converted to all other data types. Some examples:\n"
   ]
  },
  {
   "cell_type": "code",
   "execution_count": null,
   "metadata": {
    "scrolled": true,
    "tags": []
   },
   "outputs": [],
   "source": [
    "# from non-numeric strings to integer\n",
    "x = numpy.array([\"a\", \"b\", \"c\"])\n",
    "a = x.astype('bool')"
   ]
  },
  {
   "cell_type": "markdown",
   "metadata": {},
   "source": [
    "## Exercise 1.4\n",
    "\n",
    "Create an array of length 5 containing random values between 1 and 10. Determine the type of the array. Convert the array to type `<U8`, which is a string that uses 8 bytes, and then convert it back to an array of float values. Describe what happens to the values."
   ]
  },
  {
   "cell_type": "code",
   "execution_count": null,
   "metadata": {
    "collapsed": true,
    "jupyter": {
     "outputs_hidden": true
    }
   },
   "outputs": [],
   "source": []
  },
  {
   "cell_type": "markdown",
   "metadata": {},
   "source": [
    "## Exercise 1.5\n",
    "\n",
    "Create an array of length 5 containing random values between 1 and 10. Convert the resulting array into an array of integers. Then convert it back to float values. Describe what happens to the values."
   ]
  },
  {
   "cell_type": "code",
   "execution_count": null,
   "metadata": {
    "collapsed": true,
    "jupyter": {
     "outputs_hidden": true
    }
   },
   "outputs": [],
   "source": []
  },
  {
   "cell_type": "markdown",
   "metadata": {},
   "source": [
    "------\n",
    "\n",
    "## 1.5 Indexing arrays\n",
    "\n",
    "Indexing, as you might remember from Data Processing or Intro to R, involves selecting a subset of an array. There are many ways to address content in an array and we will discuss 3 here (for more complete information about indexing see\n",
    "http://docs.scipy.org/doc/numpy/user/basics.indexing.html) and more next week:"
   ]
  },
  {
   "cell_type": "markdown",
   "metadata": {},
   "source": [
    "### 1.5.1 Linear indexing\n",
    "\n",
    "Indexing in a 1-dimensional array is the same as the indexing in a Python list (we will revisit this next week when we discuss multi-dimensional arrays)."
   ]
  },
  {
   "cell_type": "markdown",
   "metadata": {},
   "source": [
    "When accessing more than one element from an array, the slicing `\":\"` can be used, and this works similar as it works with python lists.\n",
    "If the index is `[a:b)` then indices that are used are `a` up to but not including `b`. "
   ]
  },
  {
   "cell_type": "code",
   "execution_count": null,
   "metadata": {
    "tags": []
   },
   "outputs": [],
   "source": [
    "a = numpy.arange(10)\n",
    "print(a)"
   ]
  },
  {
   "cell_type": "code",
   "execution_count": null,
   "metadata": {},
   "outputs": [],
   "source": [
    "print( a[0] )\n",
    "print( a[3] )\n",
    "print( a[9] )\n",
    "print( a[-1] )"
   ]
  },
  {
   "cell_type": "code",
   "execution_count": null,
   "metadata": {
    "tags": []
   },
   "outputs": [],
   "source": [
    "print( a[:] )\n",
    "print( a[3:6] )\n",
    "print( a[:4] )\n",
    "print( a[-4:] )"
   ]
  },
  {
   "cell_type": "markdown",
   "metadata": {},
   "source": [
    "## Exercise 1.6\n",
    "\n",
    "Build an array of 100 random values between 0 and 1. On three separate lines print A) the first 4 elements, B) the last 3 elements, C) the 37th to 42nd elements."
   ]
  },
  {
   "cell_type": "code",
   "execution_count": null,
   "metadata": {
    "collapsed": true,
    "jupyter": {
     "outputs_hidden": true
    }
   },
   "outputs": [],
   "source": []
  },
  {
   "cell_type": "markdown",
   "metadata": {},
   "source": [
    "## Exercise 1.7\n",
    "\n",
    "Build an array of 10,000,000 random values between 0 and 1. Print the minimum value of the array as well as the five values that occur before the minimum."
   ]
  },
  {
   "cell_type": "code",
   "execution_count": null,
   "metadata": {
    "collapsed": true,
    "jupyter": {
     "outputs_hidden": true
    }
   },
   "outputs": [],
   "source": []
  },
  {
   "cell_type": "markdown",
   "metadata": {},
   "source": [
    "-----\n",
    "\n",
    "### 1.5.2 Boolean indexing\n",
    "\n",
    "Return all values in the array for which the index is True."
   ]
  },
  {
   "cell_type": "code",
   "execution_count": null,
   "metadata": {
    "tags": []
   },
   "outputs": [],
   "source": [
    "a = numpy.random.uniform(-0.5, .5, 25)\n",
    "print(a)"
   ]
  },
  {
   "cell_type": "code",
   "execution_count": null,
   "metadata": {
    "tags": []
   },
   "outputs": [],
   "source": [
    "# Create a boolean index for positive numbers in array a\n",
    "index = a > 0.0\n",
    "print( index )"
   ]
  },
  {
   "cell_type": "code",
   "execution_count": null,
   "metadata": {
    "tags": []
   },
   "outputs": [],
   "source": [
    "# Print all the positive numbers\n",
    "b =  a[index] \n",
    "print( b )"
   ]
  },
  {
   "cell_type": "markdown",
   "metadata": {},
   "source": [
    "#### Aside about length\n",
    "\n",
    "The number of elements of b is less than the length of a:"
   ]
  },
  {
   "cell_type": "code",
   "execution_count": null,
   "metadata": {},
   "outputs": [],
   "source": [
    "print( a.size )\n",
    "print( b.size )"
   ]
  },
  {
   "cell_type": "markdown",
   "metadata": {},
   "source": [
    "### 1.5.3 Indexing with an array of indices\n",
    "\n",
    "Specify a separate array in which you store the indices as integers and you will return exactly the elements of the array with these indices. "
   ]
  },
  {
   "cell_type": "code",
   "execution_count": null,
   "metadata": {},
   "outputs": [],
   "source": [
    "b = numpy.linspace(0, 1, 10)\n",
    "print( b )"
   ]
  },
  {
   "cell_type": "code",
   "execution_count": null,
   "metadata": {},
   "outputs": [],
   "source": [
    "# Print numbers at prime indices\n",
    "index = numpy.array([ 2, 3, 5, 7])\n",
    "print( b[index] )"
   ]
  },
  {
   "cell_type": "markdown",
   "metadata": {},
   "source": [
    "## Exercise 1.8\n",
    "\n",
    "Draw 1,000,000 samples from a normal distribution with a mean of 1 and a standard deviation of 0.5. Compute the proportion of samples that are below 0.\n"
   ]
  },
  {
   "cell_type": "code",
   "execution_count": null,
   "metadata": {
    "collapsed": true,
    "jupyter": {
     "outputs_hidden": true
    }
   },
   "outputs": [],
   "source": []
  },
  {
   "cell_type": "markdown",
   "metadata": {},
   "source": [
    "## Exercise 1.9\n",
    "\n",
    "Build an array with 10,000 random values between 0 and 1. Determine the value of the entry that is the largest value of all entries whose index is divisable by 5.\n"
   ]
  },
  {
   "cell_type": "code",
   "execution_count": null,
   "metadata": {
    "collapsed": true,
    "jupyter": {
     "outputs_hidden": true
    }
   },
   "outputs": [],
   "source": []
  }
 ],
 "metadata": {
  "kernelspec": {
   "display_name": "Python 3 (ipykernel)",
   "language": "python",
   "name": "python3"
  },
  "language_info": {
   "codemirror_mode": {
    "name": "ipython",
    "version": 3
   },
   "file_extension": ".py",
   "mimetype": "text/x-python",
   "name": "python",
   "nbconvert_exporter": "python",
   "pygments_lexer": "ipython3",
   "version": "3.9.13"
  },
  "name": "_merged",
  "vscode": {
   "interpreter": {
    "hash": "aee8b7b246df8f9039afb4144a1f6fd8d2ca17a180786b69acc140d282b71a49"
   }
  }
 },
 "nbformat": 4,
 "nbformat_minor": 4
}
