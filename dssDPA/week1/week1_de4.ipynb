{
 "cells": [
  {
   "cell_type": "markdown",
   "metadata": {},
   "source": [
    "Create a function that takes as input an integer. The function should create an array of random values between 0 and 1 the size of the input parameter, and return the number of entries with a value lower than 0.025 or higher than 0.975.\n",
    "\n",
    "Hint: Check the documentation for the binary OR operator | in Python and numpy.sum function.\n",
    "\n",
    "Note: This is a very important exercise that is very similar to the exam questions."
   ]
  },
  {
   "cell_type": "code",
   "execution_count": 49,
   "metadata": {},
   "outputs": [],
   "source": [
    "import numpy as np"
   ]
  },
  {
   "cell_type": "markdown",
   "metadata": {},
   "source": [
    "This was my first intution but this is kind of slow because this is O(n) time complexity."
   ]
  },
  {
   "cell_type": "code",
   "execution_count": 54,
   "metadata": {},
   "outputs": [
    {
     "name": "stdout",
     "output_type": "stream",
     "text": [
      "0\n"
     ]
    }
   ],
   "source": [
    "def specifySize(input):\n",
    "    a = np.random.random(input)\n",
    "    b = 0\n",
    "    for i in a: \n",
    "        if i < 0.025 or i > 0.975:\n",
    "            b += 1\n",
    "    return b\n",
    "\n",
    "len10 = specifySize(10)\n",
    "print(len10)"
   ]
  },
  {
   "cell_type": "markdown",
   "metadata": {},
   "source": [
    "Second attempt, lowvalue is a reference to the values array but instead makes it a boolean array whereby true is the condition stated. Same reasoning for highValue. ExtremeValues is a combination and is summed because in the boolean array, 0 = False, 1 = True.    "
   ]
  },
  {
   "cell_type": "code",
   "execution_count": 85,
   "metadata": {},
   "outputs": [
    {
     "name": "stdout",
     "output_type": "stream",
     "text": [
      "7\n"
     ]
    }
   ],
   "source": [
    "def doBetter(input):\n",
    "    values = np.random.random(input)\n",
    "    lowValue = values < 0.025\n",
    "    highValue = values > 0.975\n",
    "\n",
    "    extremeValue = lowValue | highValue\n",
    "\n",
    "    count = np.sum(extremeValue)\n",
    "    \n",
    "    return count\n",
    "\n",
    "print(doBetter(100))"
   ]
  }
 ],
 "metadata": {
  "kernelspec": {
   "display_name": "base",
   "language": "python",
   "name": "python3"
  },
  "language_info": {
   "codemirror_mode": {
    "name": "ipython",
    "version": 3
   },
   "file_extension": ".py",
   "mimetype": "text/x-python",
   "name": "python",
   "nbconvert_exporter": "python",
   "pygments_lexer": "ipython3",
   "version": "3.10.11"
  }
 },
 "nbformat": 4,
 "nbformat_minor": 2
}
