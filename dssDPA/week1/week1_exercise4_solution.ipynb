{
 "cells": [
  {
   "cell_type": "markdown",
   "metadata": {},
   "source": [
    "## Week 1: Daily Exercise 4 \n",
    "\n",
    "Create a function that takes as input an integer. The function should create an array of random values between 0 and 1 the size of the input parameter, and return the number of entries with a value lower than 0.025 or higher than 0.975.\n",
    "\n",
    "**Hint:** Check the documentation for binary OR operator `|` in Python and `numpy.sum` function.\n",
    "\n",
    "**Note:** This is a very important exercise that is very similar to the exam questions.  \n",
    "\n",
    "----------------\n",
    "### Solution:"
   ]
  },
  {
   "cell_type": "code",
   "execution_count": 7,
   "metadata": {},
   "outputs": [],
   "source": [
    "import numpy\n",
    "\n",
    "def count_extreme_values(n):\n",
    "    \n",
    "    # create array of random values\n",
    "    values = numpy.random.random(n)\n",
    "    \n",
    "    # create indicies of the high and low values\n",
    "    low_values_index = values < 0.025\n",
    "    high_values_index = values > 0.975\n",
    "\n",
    "    \n",
    "    # combine high and low indicies\n",
    "    extreme_values_index = low_values_index | high_values_index\n",
    "    \n",
    "    # count total number of extreme values and return\n",
    "    extreme_values_count = numpy.sum(extreme_values_index)\n",
    "    return extreme_values_count"
   ]
  },
  {
   "cell_type": "code",
   "execution_count": 6,
   "metadata": {},
   "outputs": [
    {
     "name": "stdout",
     "output_type": "stream",
     "text": [
      "(0, array([False, False, False, False, False, False, False, False, False,\n",
      "       False]))\n",
      "(489, array([False, False, False, ..., False, False, False]))\n"
     ]
    }
   ],
   "source": [
    "# tests!\n",
    "\n",
    "print(count_extreme_values(10))\n",
    "print(count_extreme_values(10000))"
   ]
  }
 ],
 "metadata": {
  "kernelspec": {
   "display_name": "Python 3",
   "language": "python",
   "name": "python3"
  },
  "language_info": {
   "codemirror_mode": {
    "name": "ipython",
    "version": 3
   },
   "file_extension": ".py",
   "mimetype": "text/x-python",
   "name": "python",
   "nbconvert_exporter": "python",
   "pygments_lexer": "ipython3",
   "version": "3.10.11"
  }
 },
 "nbformat": 4,
 "nbformat_minor": 4
}
