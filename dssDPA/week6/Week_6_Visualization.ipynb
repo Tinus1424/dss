{
 "cells": [
  {
   "cell_type": "markdown",
   "metadata": {},
   "source": [
    "# 6. Data Visualization using Matplotlib"
   ]
  },
  {
   "cell_type": "markdown",
   "metadata": {},
   "source": [
    "Everything you need to know about matplotlib can be find in its documentation (available during the exam): https://matplotlib.org/stable/\n",
    "\n",
    "You can also have a look at this cheat sheet:\n",
    "\n",
    "https://matplotlib.org/cheatsheets/_images/cheatsheets-1.png\n"
   ]
  },
  {
   "cell_type": "markdown",
   "metadata": {},
   "source": [
    "## 6.1 The anatomy of a figure in matplotlib:\n",
    "\n",
    "![Tux, the Linux mascot](https://matplotlib.org/stable/_images/anatomy.png)"
   ]
  },
  {
   "cell_type": "markdown",
   "metadata": {},
   "source": [
    "## 6.2 Creating a figure"
   ]
  },
  {
   "cell_type": "code",
   "execution_count": null,
   "metadata": {},
   "outputs": [],
   "source": [
    "%matplotlib inline \n",
    "import numpy\n",
    "import pandas\n",
    "import matplotlib.pyplot as plt"
   ]
  },
  {
   "cell_type": "code",
   "execution_count": null,
   "metadata": {},
   "outputs": [],
   "source": [
    "# creating an empty axes\n",
    "plt.figure(figsize=[10,6]) # This is an optional line that gives us the flexibility to decide the size of the figure, i.e the width, height of the figure in inches.\n",
    "plt.plot()"
   ]
  },
  {
   "cell_type": "markdown",
   "metadata": {},
   "source": [
    "Next, we build and display a simple plot"
   ]
  },
  {
   "cell_type": "code",
   "execution_count": null,
   "metadata": {},
   "outputs": [],
   "source": [
    "x = numpy.linspace(0, 20, 100)  # 100 evenly-spaced values from 0 to 20\n",
    "y = numpy.sin(x)\n",
    "plt.plot(x, y)"
   ]
  },
  {
   "cell_type": "markdown",
   "metadata": {},
   "source": [
    "## 6.3 Attributes of a matplotlib plot\n",
    "Here we are going to learn about some important plot attributes. For a full list have a look at https://matplotlib.org/stable/api/_as_gen/matplotlib.pyplot.plot.html."
   ]
  },
  {
   "cell_type": "markdown",
   "metadata": {},
   "source": [
    "### 6.3.1 Color\n",
    "\n",
    "Usually we can set the color of different plot elements using `color` or `c` attribute. We can use color names or RGB color codes to set the color attribute. You can fine a full list of RGB color codes at https://www.rapidtables.com/web/color/RGB_Color.html."
   ]
  },
  {
   "cell_type": "code",
   "execution_count": null,
   "metadata": {},
   "outputs": [],
   "source": [
    "plt.plot(x, y, color='r') "
   ]
  },
  {
   "cell_type": "markdown",
   "metadata": {},
   "source": [
    "### 6.3.2 Line Style\n",
    "We can use `linestyle` attribute to set the format of lines in a matplotlib plot. For all possible options for the linestyle see the list at https://matplotlib.org/stable/gallery/lines_bars_and_markers/linestyles.html"
   ]
  },
  {
   "cell_type": "code",
   "execution_count": null,
   "metadata": {},
   "outputs": [],
   "source": [
    "plt.plot(x, y, color='r', linestyle='--')"
   ]
  },
  {
   "cell_type": "markdown",
   "metadata": {},
   "source": [
    "### 6.3.3 Line Width\n",
    "To specify the thickness of the lines in matplotlib we can use `linewidth` attribute."
   ]
  },
  {
   "cell_type": "code",
   "execution_count": null,
   "metadata": {},
   "outputs": [],
   "source": [
    "plt.plot(x, y, color='r', linestyle='--', linewidth=3)"
   ]
  },
  {
   "cell_type": "markdown",
   "metadata": {},
   "source": [
    "### 6.3.4 Opacity\n",
    "The `alpha` attribute cab used to specify the opacity of objects in a plot."
   ]
  },
  {
   "cell_type": "code",
   "execution_count": null,
   "metadata": {},
   "outputs": [],
   "source": [
    "plt.plot(x, y, color='r', linestyle='--', linewidth=3, alpha=0.5)"
   ]
  },
  {
   "cell_type": "markdown",
   "metadata": {},
   "source": [
    "### 6.3.5 Labels and the legend\n",
    "We can label different components in a plot to create a legend. "
   ]
  },
  {
   "cell_type": "code",
   "execution_count": null,
   "metadata": {},
   "outputs": [],
   "source": [
    "plt.plot(x, y, color='r', linestyle='--', linewidth=3, \n",
    "         alpha=0.5, label='sin curve')\n",
    "plt.legend()"
   ]
  },
  {
   "cell_type": "markdown",
   "metadata": {},
   "source": [
    "### 6.3.6 Marker\n",
    "The `marker` attribute is used to decide the type of markers in a matplotlib plot. For all possible options for the marker types see the list at: https://matplotlib.org/stable/api/markers_api.html.\n",
    "Other attributes such as `markersize`, `markerfacecolor`, and `markeredgecolor` can be used to decide the size, the color, and edge color of the markers."
   ]
  },
  {
   "cell_type": "code",
   "execution_count": null,
   "metadata": {},
   "outputs": [],
   "source": [
    "plt.plot(x, y, color='r', linestyle='--', linewidth=3, \n",
    "         alpha=0.5, label='sin curve', marker='d', markersize=10,\n",
    "        markerfacecolor='r', markeredgecolor='k')\n",
    "plt.legend()"
   ]
  },
  {
   "cell_type": "markdown",
   "metadata": {},
   "source": [
    "## 6.4 Multiple Plots in the Same Axes\n",
    "We can overlay several plots in the same Axes."
   ]
  },
  {
   "cell_type": "code",
   "execution_count": null,
   "metadata": {},
   "outputs": [],
   "source": [
    "plt.plot(x, y, color='r', linestyle='--', linewidth=3, \n",
    "         alpha=0.5, label='sin curve', marker='d', markersize=10,\n",
    "        markerfacecolor='r', markeredgecolor='k')\n",
    "plt.plot(x, numpy.cos(x), color='b', linestyle=':', linewidth=3, \n",
    "         alpha=0.5, label='cos curve', marker='o', markersize=10,\n",
    "        markerfacecolor='b', markeredgecolor='g')\n",
    "plt.legend()"
   ]
  },
  {
   "cell_type": "markdown",
   "metadata": {},
   "source": [
    "## 6.5 Axes Attributes"
   ]
  },
  {
   "cell_type": "markdown",
   "metadata": {},
   "source": [
    "### 6.5.1 Title and Axis Labels\n",
    "The `title` function is used to create a title for the plot. We can also use `xlabel` and `ylabel` functions to label the x-axis and y-axis, respectievly."
   ]
  },
  {
   "cell_type": "code",
   "execution_count": null,
   "metadata": {},
   "outputs": [],
   "source": [
    "plt.plot(x, y, color='r', linestyle='--', linewidth=3, \n",
    "         alpha=0.5, label='sin curve', marker='d', markersize=10,\n",
    "        markerfacecolor='r', markeredgecolor='r')\n",
    "plt.plot(x, numpy.cos(x), color='b', linestyle=':', linewidth=3, \n",
    "         alpha=0.5, label='cos curve', marker='o', markersize=10,\n",
    "        markerfacecolor='b', markeredgecolor='b')\n",
    "plt.title('A Sample Plot')\n",
    "plt.xlabel('X')\n",
    "plt.ylabel('Sin(X) and Cos(X)')\n",
    "plt.legend()"
   ]
  },
  {
   "cell_type": "markdown",
   "metadata": {},
   "source": [
    "### 6.5.2 Axis Limites\n",
    "\n",
    "`xlim` and `ylim` functions are used to set the limits on the x-axis and y-axis, respectively."
   ]
  },
  {
   "cell_type": "code",
   "execution_count": null,
   "metadata": {},
   "outputs": [],
   "source": [
    "plt.plot(x, y, color='r', linestyle='--', linewidth=3, \n",
    "         alpha=0.5, label='sin curve', marker='d', markersize=10,\n",
    "        markerfacecolor='r', markeredgecolor='r')\n",
    "plt.plot(x, numpy.cos(x), color='b', linestyle=':', linewidth=3, \n",
    "         alpha=0.5, label='cos curve', marker='o', markersize=10,\n",
    "        markerfacecolor='b', markeredgecolor='b')\n",
    "plt.title('A Sample Plot')\n",
    "plt.xlabel('X')\n",
    "plt.ylabel('Sin(X) and Cos(X)')\n",
    "plt.xlim([5,15])\n",
    "plt.ylim([-1.5,1.5])\n",
    "plt.legend()"
   ]
  },
  {
   "cell_type": "markdown",
   "metadata": {},
   "source": [
    "## 6.6 Another Example\n",
    "\n",
    "Here we try to overlay three linear, quadratic, and cubic curves within the same axes. If no attribute is specified then the matplotlib will use automaticaly the default values."
   ]
  },
  {
   "cell_type": "code",
   "execution_count": null,
   "metadata": {},
   "outputs": [],
   "source": [
    "x = numpy.linspace(0, 2, 25)  # Sample data.\n",
    "\n",
    "plt.plot(x, x, label='linear')  # Plot some data on the (implicit) axes.\n",
    "plt.plot(x, x**2, label='quadratic')  # etc.\n",
    "plt.plot(x, x**3, label='cubic')\n",
    "\n",
    "plt.xlabel('x label')\n",
    "plt.ylabel('y label')\n",
    "plt.title(\"Simple Plot\")\n",
    "plt.legend()"
   ]
  },
  {
   "cell_type": "markdown",
   "metadata": {},
   "source": [
    "We may also use a condense coding format to plot all three curves in one line of code:"
   ]
  },
  {
   "cell_type": "code",
   "execution_count": null,
   "metadata": {},
   "outputs": [],
   "source": [
    "# A condense format\n",
    "plt.plot(x, x, x, x**2, x, x**3)"
   ]
  },
  {
   "cell_type": "code",
   "execution_count": null,
   "metadata": {},
   "outputs": [],
   "source": [
    "# A condense format\n",
    "plt.plot(x, x, 'r--', x, x**2, 'bs', x, x**3, 'g^')"
   ]
  },
  {
   "cell_type": "markdown",
   "metadata": {},
   "source": [
    "## 6.7 Saving a plot\n",
    "We can use the `savefig` function to save a figure into a file with specific format (e.g. png, pdf, svg, etc.) and resolution (dpi)."
   ]
  },
  {
   "cell_type": "code",
   "execution_count": null,
   "metadata": {},
   "outputs": [],
   "source": [
    "x = numpy.linspace(0, 20, 100)  # 100 evenly-spaced values from 0 to 20\n",
    "\n",
    "plt.plot(x, numpy.sin(x), color='r', linestyle='--', linewidth=3, \n",
    "         alpha=0.5, label='sin curve', marker='d', markersize=10,\n",
    "        markerfacecolor='r', markeredgecolor='r')\n",
    "plt.plot(x, numpy.cos(x), color='b', linestyle=':', linewidth=3, \n",
    "         alpha=0.5, label='cos curve', marker='o', markersize=10,\n",
    "        markerfacecolor='b', markeredgecolor='b')\n",
    "plt.title('A Sample Plot')\n",
    "plt.xlabel('X')\n",
    "plt.ylabel('Sin(X) and Cos(X)')\n",
    "plt.xlim([5,15])\n",
    "plt.ylim([-1.5,1.5])\n",
    "plt.legend()\n",
    "plt.savefig('our_plot.pdf', dpi=300) # dpi define number of dots per inch"
   ]
  },
  {
   "cell_type": "markdown",
   "metadata": {
    "tags": []
   },
   "source": [
    "## 6.8 Subplots\n",
    "\n",
    "When you want to have multiple subplots, the difference between figures and axes objects become more important. The figure has some settings but can contain multiple subplots (called Axes in matplotlib). Subplots can be created in an object-oriented or functional way. We can use the `subplots` function to create subplots in object oriented manner:"
   ]
  },
  {
   "cell_type": "code",
   "execution_count": null,
   "metadata": {},
   "outputs": [],
   "source": [
    "fig, axes = plt.subplots(nrows=2, ncols=2, figsize=(6, 6), \n",
    "                         sharex=True, sharey=True)"
   ]
  },
  {
   "cell_type": "markdown",
   "metadata": {},
   "source": [
    "The line `fig, axes = plt.subplots()` is generating both a figure object and a matrix of Axis objects. The figure is the overall object and the Axis object contains the specific objects plotted in the sub-plot. If there is only one sub-plot, the Figure object can possess the objects."
   ]
  },
  {
   "cell_type": "code",
   "execution_count": null,
   "metadata": {},
   "outputs": [],
   "source": [
    "# creating sub-plots\n",
    "# the object oriented way!\n",
    "\n",
    "x = numpy.linspace(1, 20, 100)  # 100 evenly-spaced values from 0 to 20\n",
    "\n",
    "# build a figure and a set of axes\n",
    "# the number of rows and columns in the subplots() function\n",
    "# dictate the shape of the nd array axes\n",
    "fig, axes = plt.subplots(nrows=2, ncols=2, figsize=(10, 6), \n",
    "                         sharex=True)\n",
    "\n",
    "# for each entry in axes, specify what information to plot\n",
    "axes[0, 0].plot(x, numpy.sin(x), 'bo', x,  numpy.sin(x), '-k')\n",
    "axes[0, 0].set_ylabel('sin(x)')\n",
    "axes[0, 0].set_title('Sin Curve')\n",
    "axes[0, 1].plot(x, numpy.cos(x), 'r+', x,  numpy.cos(x), '-g')\n",
    "axes[0, 1].set_ylabel('cos(x)')\n",
    "axes[0, 1].set_title('Cos Curve')\n",
    "axes[1, 0].plot(x, numpy.log(x), 'g^', x,  numpy.log(x), '-r')\n",
    "axes[1, 0].set_ylabel('log(x)')\n",
    "axes[1, 0].set_xlabel('x')\n",
    "axes[1, 0].set_title('Log Curve')\n",
    "axes[1, 1].plot(x, numpy.tanh(x), 'mv', x,  numpy.tanh(x), '-b')\n",
    "axes[1, 1].set_ylabel('tanh(x)')\n",
    "axes[1, 1].set_xlabel('x')\n",
    "axes[1, 1].set_title('Tanh Curve')"
   ]
  },
  {
   "cell_type": "markdown",
   "metadata": {},
   "source": [
    "Alternatively, we can use the `subplot()` command to creat the subplots in a functional manner. It specifies the number of rows, the number of columns, and the current figure number. Figure number ranges from 1 to (#rows x #cols). "
   ]
  },
  {
   "cell_type": "code",
   "execution_count": null,
   "metadata": {},
   "outputs": [],
   "source": [
    "# creating sub-plots\n",
    "# the functional way!\n",
    "\n",
    "plt.figure(figsize=[10,6])\n",
    "plt.subplot(2, 2, 1) \n",
    "plt.plot(x, numpy.sin(x), 'bo', x,  numpy.sin(x), '-k')\n",
    "plt.ylabel('sin(x)')\n",
    "plt.title('Sin Curve')\n",
    "plt.subplot(2, 2, 2)\n",
    "plt.plot(x, numpy.cos(x), 'r+', x,  numpy.cos(x), '-g')\n",
    "plt.ylabel('cos(x)')\n",
    "plt.title('Cos Curve')\n",
    "plt.subplot(2, 2, 3) \n",
    "plt.plot(x, numpy.log(x), 'g^', x,  numpy.log(x), '-r')\n",
    "plt.ylabel('log(x)')\n",
    "plt.xlabel('x')\n",
    "plt.title('Log Curve')\n",
    "plt.subplot(2, 2, 4) \n",
    "plt.plot(x, numpy.tanh(x), 'mv', x,  numpy.tanh(x), '-b')\n",
    "plt.ylabel('tanh(x)')\n",
    "plt.xlabel('x')\n",
    "plt.title('Tanh Curve')"
   ]
  },
  {
   "cell_type": "markdown",
   "metadata": {},
   "source": [
    "## 6.9 Common types of plots\n",
    "Have a look at https://matplotlib.org/stable/plot_types/index.html for a comrehensive list of different plot types in matplotlib. Here, we exeplify only the most popular plot types. In the following, we are going to use our preprocessed Google Play Store dataset to demonstrate different plot types."
   ]
  },
  {
   "cell_type": "markdown",
   "metadata": {},
   "source": [
    "### 6.9.1 Scatter plot\n",
    "Scatter plots are useful for:\n",
    "- Correlation Detection: Scatter plots are ideal for detecting and showing the correlation between two variables. \n",
    "- Outlier Identification: They are also useful for spotting outliers or anomalies in data.\n",
    "- Data Distribution Clarity: Scatter plots can give a general idea of whether data points are tightly grouped or dispersed, which indicates the degree of variance within the data."
   ]
  },
  {
   "cell_type": "code",
   "execution_count": null,
   "metadata": {},
   "outputs": [],
   "source": [
    "df = pandas.read_csv('googleplaystore_preprocessed.csv', index_col=0)\n",
    "df.head()"
   ]
  },
  {
   "cell_type": "code",
   "execution_count": null,
   "metadata": {},
   "outputs": [],
   "source": [
    "# we first select the paid apps that are installed atleast once:\n",
    "selected_df = df[(df['Type']=='Paid') & (df['Installs']>0)]\n",
    "selected_df"
   ]
  },
  {
   "cell_type": "markdown",
   "metadata": {},
   "source": [
    "We can use the size `s` and color `c` properties in the scatter plot to visualize more aspects of data in the same plot."
   ]
  },
  {
   "cell_type": "code",
   "execution_count": null,
   "metadata": {},
   "outputs": [],
   "source": [
    "plt.scatter(selected_df['Rating'], selected_df['Price'], s=selected_df['Size']/1000000, \n",
    "            c=numpy.log(selected_df['Installs']), alpha=0.5)\n",
    "plt.xlabel('Rating')\n",
    "plt.ylabel('Price')\n",
    "#plt.ylim([0,50])\n",
    "plt.colorbar()"
   ]
  },
  {
   "cell_type": "markdown",
   "metadata": {},
   "source": [
    "### 6.9.2 Pie Chart\n",
    "A pie chart is a circular graph where the circle is divided into sectors or slices. Pie charts are useful for displaying the percentage or the proportion of categorical data.\n"
   ]
  },
  {
   "cell_type": "code",
   "execution_count": null,
   "metadata": {},
   "outputs": [],
   "source": [
    "types = df['Type'].value_counts()\n",
    "plt.pie(types, labels=df['Type'].unique(), autopct='%.1f%%', explode=[0,0.1])\n",
    "plt.title('The Distribution of APP Types')"
   ]
  },
  {
   "cell_type": "markdown",
   "metadata": {},
   "source": [
    "### 6.9.3 Bar plot\n",
    "Bar plots are excellent for comparing different groups."
   ]
  },
  {
   "cell_type": "code",
   "execution_count": null,
   "metadata": {},
   "outputs": [],
   "source": [
    "bar_width = 0.8\n",
    "plt.bar(df['Type'].unique(), types, bar_width)\n",
    "plt.title('The Number of Free and Paid APPs')\n",
    "plt.xlabel('App Type')\n",
    "plt.ylabel('Number of Apps in each category')\n"
   ]
  },
  {
   "cell_type": "markdown",
   "metadata": {},
   "source": [
    "Another maybe useful example is when we want to compare the accuracies of different classifiers:"
   ]
  },
  {
   "cell_type": "code",
   "execution_count": null,
   "metadata": {},
   "outputs": [],
   "source": [
    "# Simple bar chart\n",
    "\n",
    "classifiers = ('NB', 'LR', 'DT', 'SVM', 'RF', 'GB')\n",
    "accuracies = (0.6, 0.65, 0.62, 0.75, 0.8, 0.78)\n",
    "bar_width = 0.5\n",
    "\n",
    "plt.bar(classifiers, accuracies, bar_width)\n",
    "plt.xlabel('Classifiers')\n",
    "plt.ylabel('Accuracy')\n",
    "plt.title('Classifer Comparison')\n"
   ]
  },
  {
   "cell_type": "code",
   "execution_count": null,
   "metadata": {},
   "outputs": [],
   "source": [
    "# grouped bar charts\n",
    "\n",
    "classifiers = ('NB', 'LR', 'DT', 'SVM', 'RF', 'GB')\n",
    "accuracies_dataset1 = (0.6, 0.65, 0.62, 0.75, 0.8, 0.78)\n",
    "accuracies_dataset2 = (0.5, 0.65, 0.60, 0.8, 0.9, 0.75)\n",
    "bar_width = 0.35\n",
    "opacity = 0.5\n",
    "\n",
    "index = numpy.arange(len(classifiers))\n",
    "\n",
    "rects1 = plt.bar(index, accuracies_dataset1, bar_width,\n",
    "                 color='b', label='Dataset 1', alpha=opacity)\n",
    "\n",
    "rects1 = plt.bar(index+bar_width, accuracies_dataset2, bar_width,\n",
    "                 color='r', label='Dataset 2', alpha=opacity)\n",
    "\n",
    "plt.xlabel('Classifiers')\n",
    "plt.ylabel('Accuracy')\n",
    "plt.title('Classifier Comparison on two Datasets')\n",
    "plt.xticks(index + bar_width / 2, classifiers) # This is to make sure the ticks are at the center of bar groups\n",
    "plt.legend()"
   ]
  },
  {
   "cell_type": "code",
   "execution_count": null,
   "metadata": {},
   "outputs": [],
   "source": [
    "# Bar charts with error bars\n",
    "\n",
    "classifiers = ('NB', 'LR', 'DT', 'SVM', 'RF', 'GB')\n",
    "mean_accuracies_dataset1 = (0.6, 0.65, 0.62, 0.75, 0.8, 0.78)\n",
    "std_accuracies_dataset1 = (0.1, 0.05, 0.02, 0.05, 0.03, 0.04)\n",
    "mean_accuracies_dataset2 = (0.5, 0.65, 0.60, 0.8, 0.9, 0.75)\n",
    "std_accuracies_dataset2 = (0.08, 0.01, 0.02, 0.1, 0.05, 0.1)\n",
    "bar_width = 0.35\n",
    "opacity = 0.5\n",
    "\n",
    "index = numpy.arange(len(classifiers))\n",
    "\n",
    "rects1 = plt.bar(index, mean_accuracies_dataset1, bar_width,\n",
    "                 yerr=std_accuracies_dataset1, color='b', \n",
    "                 label='Dataset 1', alpha=opacity)\n",
    "\n",
    "rects1 = plt.bar(index+bar_width, mean_accuracies_dataset2, bar_width,\n",
    "                 yerr=std_accuracies_dataset2, color='r', \n",
    "                 label='Dataset 2', alpha=opacity)\n",
    "\n",
    "plt.xlabel('Classifiers')\n",
    "plt.ylabel('Accuracy')\n",
    "plt.title('Classifier Comparison on two Datasets woth Error-bars')\n",
    "plt.xticks(index + bar_width / 2, classifiers)\n",
    "plt.legend()"
   ]
  },
  {
   "cell_type": "markdown",
   "metadata": {},
   "source": [
    "### 6.9.4 Histograms\n",
    "A histogram displays the frequency of data points within specified ranges (known as 'bins’). It is generally used for:\n",
    "- Data Distribution Insight: Histograms are used to get a sense of the distribution of a numerical dataset. \n",
    "- Identifying Patterns: They are useful for identifying patterns, outliers, and the spread of the data.\n",
    "- Comparing Data Sets: Histograms can also be used to compare the distributions of multiple data sets.\n"
   ]
  },
  {
   "cell_type": "code",
   "execution_count": null,
   "metadata": {},
   "outputs": [],
   "source": [
    "fig, axes = plt.subplots(nrows=1, ncols=2, figsize=(10, 6), sharey=True)\n",
    "axes[0].hist(df.Rating, bins=10, facecolor='g', alpha=0.75)\n",
    "axes[0].grid(True)\n",
    "axes[1].hist(df.Size, bins=10, facecolor='r', alpha=0.75)\n",
    "axes[1].grid(True)"
   ]
  },
  {
   "cell_type": "markdown",
   "metadata": {},
   "source": [
    "If we set the `density` to `True`, the histogram will be drawn for a probability density in which each bin will display the bin's raw count divided by the total number of counts and the bin width (`density = counts / (sum(counts) * np.diff(bins)))`, so that the area under the histogram integrates to 1:"
   ]
  },
  {
   "cell_type": "code",
   "execution_count": null,
   "metadata": {},
   "outputs": [],
   "source": [
    "fig, axes = plt.subplots(nrows=1, ncols=2, figsize=(10, 6))\n",
    "axes[0].hist(df.Rating, bins=10, facecolor='g', alpha=0.75, density=True)\n",
    "axes[0].grid(True)\n",
    "axes[1].hist(df.Size, bins=10, facecolor='r', alpha=0.75, density=True)\n",
    "axes[1].grid(True)"
   ]
  },
  {
   "cell_type": "markdown",
   "metadata": {},
   "source": [
    "### 6.9.5 Boxplots\n",
    "Boxplot visually shows the distribution of numerical data and its skewness through displaying the data quartiles and averages. It is usually used for: \n",
    "- Outlier Identification: Box plots are great for spotting outliers and data variability.\n",
    "- Comparison of Distributions: They are useful for comparing the distribution of data across different categories.\n",
    "- Concise Data Representation: Box plots can summarize a large amount of data in a visually digestible way.\n"
   ]
  },
  {
   "cell_type": "code",
   "execution_count": null,
   "metadata": {},
   "outputs": [],
   "source": [
    "fig, ax = plt.subplots(1,2, figsize=[12,4])\n",
    "data = (df[df.Type=='Paid'].Rating, df[df.Type=='Free'].Rating)\n",
    "labels = ['Paid','Free']\n",
    "ax[0].set_title('Comparing the Ratings for Paid and Free Apps')\n",
    "ax[0].boxplot(data, labels=labels, notch=True, vert=True, showfliers=True)\n",
    "ax[0].set_ylabel('Ratings')\n",
    "ax[0].set_xlabel('Type of App')\n",
    "data = (numpy.log(df[df.Type=='Paid'].Size), numpy.log(df[df.Type=='Free'].Size))\n",
    "ax[1].set_title('Comparing the Size of Paid and Free Apps')\n",
    "ax[1].boxplot(data, labels=labels, notch=True, vert=True, showfliers=True)\n",
    "ax[1].set_ylabel('Size (in log space)')\n",
    "ax[1].set_xlabel('Type of App')"
   ]
  },
  {
   "cell_type": "markdown",
   "metadata": {
    "tags": []
   },
   "source": [
    "## 6.10 Plotting from Pandas\n",
    "\n",
    "The `plot` method of a Pandas DataFrame objects is just a simple wrapper around `plt.plot()`:"
   ]
  },
  {
   "cell_type": "code",
   "execution_count": null,
   "metadata": {},
   "outputs": [],
   "source": [
    "grouped_stats = df.groupby('Type').describe()\n",
    "grouped_stats"
   ]
  },
  {
   "cell_type": "code",
   "execution_count": null,
   "metadata": {},
   "outputs": [],
   "source": [
    "fig, ax = plt.subplots(1,2, figsize=(10,4))\n",
    "grouped_stats['Rating']['mean'].plot.bar(ax=ax[0], color='g',\n",
    "                                         yerr=grouped_stats['Rating']['std'])\n",
    "ax[0].set_ylabel('Rating')\n",
    "ax[0].set_title('Rating')\n",
    "grouped_stats['Size']['mean'].plot.bar(ax=ax[1], color='r',\n",
    "                                         yerr=grouped_stats['Size']['std'])\n",
    "ax[1].set_ylabel('Size')\n",
    "ax[1].set_title('Size')\n",
    "\n"
   ]
  },
  {
   "cell_type": "code",
   "execution_count": null,
   "metadata": {},
   "outputs": [],
   "source": [
    "fig, ax = plt.subplots(1,2, figsize=[12,6])\n",
    "df['Rating'][df['Type']=='Free'].plot.hist(ax=ax[0], color='g', alpha=0.5, density=True)\n",
    "df['Rating'][df['Type']=='Paid'].plot.hist(ax=ax[0], color='y', alpha=0.5, density=True)\n",
    "ax[0].set_title('Rating')\n",
    "df['Size'][df['Type']=='Free'].plot.hist(ax=ax[1], color='g', alpha=0.5, label='Free', density=True)\n",
    "df['Size'][df['Type']=='Paid'].plot.hist(ax=ax[1], color='y', alpha=0.5, label='Paid', density=True)\n",
    "ax[1].set_title('Size')\n",
    "ax[1].legend()"
   ]
  },
  {
   "cell_type": "markdown",
   "metadata": {},
   "source": [
    "**Exercise 6.1:** We are going to use the preprocessed Google Play Store dataset in this exercise. \n",
    "1) Create a figure with two subplots and set the figure size to `[10,4]`. \n",
    "2) Use `groupby` and `sort_values` functions to compute the average price of apps per genre and sort them. \n",
    "3) In the left subplot, use a bar plot to compare the average price of apps in top 10 most expensive genres. Set the title of the subplot to `Expensive Apps`, and the label of y-axis to `Average Price`. Set the color of bars to red.\n",
    "4) In the left subplot, do the same for the 10 least expensive genres. Set the title of the subplot to `Cheap Apps`, and the label of y-axis to `Average Price`. Set the color of bars to green."
   ]
  },
  {
   "cell_type": "code",
   "execution_count": null,
   "metadata": {},
   "outputs": [],
   "source": []
  }
 ],
 "metadata": {
  "kernelspec": {
   "display_name": "Python 3 (ipykernel)",
   "language": "python",
   "name": "python3"
  },
  "language_info": {
   "codemirror_mode": {
    "name": "ipython",
    "version": 3
   },
   "file_extension": ".py",
   "mimetype": "text/x-python",
   "name": "python",
   "nbconvert_exporter": "python",
   "pygments_lexer": "ipython3",
   "version": "3.11.5"
  }
 },
 "nbformat": 4,
 "nbformat_minor": 4
}
