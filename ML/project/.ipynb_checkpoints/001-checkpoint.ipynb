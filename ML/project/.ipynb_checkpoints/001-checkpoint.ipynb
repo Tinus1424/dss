{
 "cells": [
  {
   "cell_type": "markdown",
   "metadata": {},
   "source": [
    "# Prerequisites "
   ]
  },
  {
   "cell_type": "code",
   "execution_count": 2,
   "metadata": {},
   "outputs": [],
   "source": [
    "import pandas as pd\n",
    "import numpy as np\n",
    "import matplotlib.pyplot as plt\n",
    "def loadFile(googleTrue, file = None ):\n",
    "    if googleTrue == True:\n",
    "        from google.colab import drive\n",
    "        drive.mount('/content/drive')\n",
    "        x = pd.read_csv(\"drive/MyDrive/train_data.csv\")\n",
    "    else:\n",
    "        x = pd.read_csv(file)\n",
    "    return x"
   ]
  },
  {
   "cell_type": "code",
   "execution_count": 4,
   "metadata": {
    "tags": []
   },
   "outputs": [],
   "source": [
    "trainFEATURES = [\"QuestionTiming\", \"TimeUtc\", \"CurrentGameMode\", \"LevelProgressionAmount\", \"CurrentTask\", \"ResponseValue\"]\n",
    "TARGET = [\"ResponseValue\"]\n",
    "def transformX(df, features):\n",
    "    df = df[features].dropna()\n",
    "    return df"
   ]
  },
  {
   "cell_type": "markdown",
   "metadata": {},
   "source": [
    "# loadFile(false, FILELOCATIE) als je in JupyterLab werkt, loadFile(True) als je in Colab werkt) "
   ]
  },
  {
   "cell_type": "code",
   "execution_count": 6,
   "metadata": {},
   "outputs": [],
   "source": [
    "train_data = loadFile(False, \"data/train_data.csv\")\n",
    "test_data = loadFile(False, \"data/test_data.csv\")\n",
    "supp_data = loadFile(False, \"data/supplimental_data.csv\")"
   ]
  },
  {
   "cell_type": "markdown",
   "metadata": {
    "id": "26HvDNGwaVv6",
    "tags": []
   },
   "source": [
    "# Feature Engineering"
   ]
  },
  {
   "cell_type": "code",
   "execution_count": 8,
   "metadata": {},
   "outputs": [],
   "source": [
    "from sklearn.preprocessing import OrdinalEncoder\n",
    "from sklearn.preprocessing import OneHotEncoder\n",
    "from sklearn.model_selection import train_test_split"
   ]
  },
  {
   "cell_type": "code",
   "execution_count": 9,
   "metadata": {
    "id": "M7DUFieYaVv7",
    "tags": []
   },
   "outputs": [],
   "source": [
    "def prepareDf(df, FEATURES):\n",
    "    df = df.dropna()\n",
    "    df = df[FEATURES]\n",
    "    return df"
   ]
  },
  {
   "cell_type": "code",
   "execution_count": 10,
   "metadata": {
    "id": "-QlyDtYR0rGi"
   },
   "outputs": [],
   "source": [
    "def fixQuestionTiming(df):\n",
    "    oe = OrdinalEncoder().set_output(transform = \"pandas\")\n",
    "    oeData = oe.fit_transform(df[[\"QuestionTiming\"]])\n",
    "    oeData = oeData.rename(columns = {\"QuestionTiming\": \"QuestionTimingBinary\"})\n",
    "    newDf = pd.concat([df, oeData], axis = 1).drop(columns = \"QuestionTiming\")\n",
    "    return newDf"
   ]
  },
  {
   "cell_type": "code",
   "execution_count": 11,
   "metadata": {
    "id": "DeoGAKYt0yrT"
   },
   "outputs": [],
   "source": [
    "def fixCurrentGameMode(df):\n",
    "    df.dropna()\n",
    "    ohe = OneHotEncoder(sparse_output = False).set_output(transform = \"pandas\")\n",
    "    oheData = ohe.fit_transform(df[[\"CurrentGameMode\"]])\n",
    "    newDf = pd.concat([df, oheData], axis = 1).drop(columns = \"CurrentGameMode\")\n",
    "    return newDf"
   ]
  },
  {
   "cell_type": "code",
   "execution_count": 12,
   "metadata": {
    "id": "n-j2KYta03Ax"
   },
   "outputs": [],
   "source": [
    "def fixTimeUtc(df):\n",
    "    df[\"TimeUtc\"] = pd.to_datetime(df[\"TimeUtc\"])\n",
    "    df[\"TimeUtc\"] = pd.to_numeric(df[\"TimeUtc\"])\n",
    "    return df"
   ]
  },
  {
   "cell_type": "code",
   "execution_count": 13,
   "metadata": {
    "id": "Evi1NTrq5e63"
   },
   "outputs": [],
   "source": [
    "def fixCurrentTask(df):\n",
    "    df[\"CurrentTask\"] = df[\"CurrentTask\"].apply(lambda x: str(x))\n",
    "    df[\"CurrentTask\"] = df[\"CurrentTask\"].apply(lambda x: x.split('_')[0])\n",
    "    ohe = OneHotEncoder(sparse_output = False).set_output(transform = \"pandas\")\n",
    "    oheData = ohe.fit_transform(df[[\"CurrentTask\"]])\n",
    "    newDf = pd.concat([df, oheData], axis = 1).drop(columns = \"CurrentTask\")\n",
    "    return newDf"
   ]
  },
  {
   "cell_type": "code",
   "execution_count": 14,
   "metadata": {
    "tags": []
   },
   "outputs": [],
   "source": [
    "def fixFeatures(df):\n",
    "    newdf = fixQuestionTiming(df)\n",
    "    newdf = fixCurrentGameMode(newdf)\n",
    "    newdf = fixTimeUtc(newdf)\n",
    "    newdf = fixCurrentTask(newdf)\n",
    "    return newdf"
   ]
  },
  {
   "cell_type": "code",
   "execution_count": 15,
   "metadata": {
    "tags": []
   },
   "outputs": [],
   "source": [
    "df = prepareDf(train_data, trainFEATURES)\n",
    "df1 = fixFeatures(df)"
   ]
  },
  {
   "cell_type": "markdown",
   "metadata": {},
   "source": [
    "## Data Split"
   ]
  },
  {
   "cell_type": "markdown",
   "metadata": {
    "id": "MYGSXMIg5JOi",
    "tags": []
   },
   "source": [
    "The split that will be used for the first three models."
   ]
  },
  {
   "cell_type": "code",
   "execution_count": 18,
   "metadata": {
    "tags": []
   },
   "outputs": [],
   "source": [
    "X = df1.loc[:, df1.columns != \"ResponseValue\"]\n",
    "y = df1.loc[:, df1.columns == \"ResponseValue\"]\n",
    "\n",
    "X_train, X_test, y_train, y_test = train_test_split(\n",
    "    X, y, test_size = 0.2, random_state = 14\n",
    ")"
   ]
  },
  {
   "cell_type": "code",
   "execution_count": 19,
   "metadata": {
    "tags": []
   },
   "outputs": [
    {
     "name": "stdout",
     "output_type": "stream",
     "text": [
      "\n"
     ]
    }
   ],
   "source": [
    "from sklearn.model_selection import TimeSeriesSplit\n",
    "tss = TimeSeriesSplit(n_splits = 3, test_size = 20000)\n",
    "df1.sort_values(\"TimeUtc\")\n",
    "print()"
   ]
  },
  {
   "cell_type": "markdown",
   "metadata": {
    "tags": []
   },
   "source": [
    "The split used for the last model."
   ]
  },
  {
   "cell_type": "code",
   "execution_count": 58,
   "metadata": {
    "tags": []
   },
   "outputs": [
    {
     "data": {
      "image/png": "[encoded data removed]",
      "text/plain": [
       "<Figure size 500x500 with 3 Axes>"
      ]
     },
     "metadata": {},
     "output_type": "display_data"
    }
   ],
   "source": [
    "fig, axs = plt.subplots(3, 1, figsize = (5, 5),\n",
    "                        sharex = True)\n",
    "fold = 0\n",
    "for train_idx, val_idx in tss.split(df1):\n",
    "    train = df.iloc[train_idx]\n",
    "    test = df.iloc[val_idx]\n",
    "    train[\"ResponseValue\"].plot(ax = axs[fold],\n",
    "                                label = \"Training Set\")\n",
    "    test[\"ResponseValue\"].plot(ax = axs[fold],\n",
    "                               label = \"Test Set\")\n",
    "    axs[fold].axvline(test.index.min(), color = \"black\", ls = \"--\")\n",
    "    fold +=1\n",
    "plt.show()"
   ]
  },
  {
   "cell_type": "markdown",
   "metadata": {
    "id": "aad2SxYMaVv9",
    "tags": []
   },
   "source": [
    "# Learning Algorithms"
   ]
  },
  {
   "cell_type": "markdown",
   "metadata": {},
   "source": [
    "In this section, I experiment with Linear Regression, KNN, and a simple decision tree using a random split. These results are not good because timeseries data is relational. The entry of a user is highly correlated with the previous entry and the manner in which users indicate their responsevalue is also different. In the last model, I have tried to apply a timeseries cross validation split, this has also not been sufficient. I have written some personal hyperparameter tuning functions for fun (they are not good)."
   ]
  },
  {
   "cell_type": "code",
   "execution_count": 24,
   "metadata": {
    "tags": []
   },
   "outputs": [],
   "source": [
    "from sklearn.metrics import mean_absolute_error\n",
    "from sklearn.linear_model import LinearRegression\n",
    "from sklearn import tree\n",
    "from sklearn.neighbors import KNeighborsRegressor\n",
    "from sklearn.ensemble import HistGradientBoostingRegressor\n",
    "from sklearn.inspection import permutation_importance"
   ]
  },
  {
   "cell_type": "markdown",
   "metadata": {
    "id": "OtAnKl6H66aG"
   },
   "source": [
    "## Linear Regression"
   ]
  },
  {
   "cell_type": "code",
   "execution_count": 26,
   "metadata": {
    "id": "JLM-7Qu67En1",
    "tags": []
   },
   "outputs": [
    {
     "data": {
      "text/plain": [
       "163.84623911102477"
      ]
     },
     "execution_count": 26,
     "metadata": {},
     "output_type": "execute_result"
    }
   ],
   "source": [
    "linReg = LinearRegression().fit(X_train, y_train)\n",
    "linPred = linReg.predict(X_test)\n",
    "mean_absolute_error(y_test, linPred)"
   ]
  },
  {
   "cell_type": "markdown",
   "metadata": {
    "id": "jkWJB5vk7ip6"
   },
   "source": [
    "## Decision Tree"
   ]
  },
  {
   "cell_type": "code",
   "execution_count": 28,
   "metadata": {
    "executionInfo": {
     "elapsed": 10,
     "status": "aborted",
     "timestamp": 1716193243646,
     "user": {
      "displayName": "Martijn van 't Zelfden",
      "userId": "17777520305535195490"
     },
     "user_tz": -120
    },
    "id": "sztaHDuV7hbK",
    "outputId": "a807f9a9-f967-46f8-a2bd-1a6e325f73ab"
   },
   "outputs": [],
   "source": [
    "def dtModelSelect(max_depth, verbose = 1, X0 = X_train, y0 = y_train, X1 = X_test, y1 = y_test):\n",
    "    i = 1\n",
    "    bestModel = {\"Depth\": 0, \"MAE\": 999}\n",
    "    while i < max_depth:\n",
    "        treeReg = tree.DecisionTreeRegressor(max_depth = i).fit(X0, y0)\n",
    "        treePred = treeReg.predict(X1)\n",
    "        mae = mean_absolute_error(y1, treePred)\n",
    "        if i % verbose == 0:\n",
    "            print(\"Depth = {}, MAE = {}\".format(i, mae))\n",
    "        if mae < bestModel[\"MAE\"]:\n",
    "            bestModel.update({\"Depth\": i, \"MAE\" : mae})\n",
    "        i += 1\n",
    "    treeReg = tree.DecisionTreeRegressor(max_depth = bestModel[\"Depth\"]).fit(X0, y0)\n",
    "    treePred = treeReg.predict(X1)\n",
    "    return treeReg, treePred\n",
    "\n",
    "#treeReg, treePred = dtModelSelect(max_depth = 10, verbose = 3)"
   ]
  },
  {
   "cell_type": "markdown",
   "metadata": {
    "id": "WyWUMINLEPMD",
    "jp-MarkdownHeadingCollapsed": true,
    "tags": []
   },
   "source": [
    "## KNN"
   ]
  },
  {
   "cell_type": "code",
   "execution_count": 30,
   "metadata": {
    "id": "RNv6SyEGEOmM"
   },
   "outputs": [],
   "source": [
    "def knnModelSelect(max_neighbors, start = 1, step = 1, verbose = 1, X0 = X_train, y0 = y_train, X1 = X_test, y1 = y_test):\n",
    "    i = start\n",
    "    bestModel = {\"Neighbors\": start, \"MAE\" : 999}\n",
    "    while i < max_neighbors:\n",
    "        knnReg = KNeighborsRegressor(n_neighbors = i).fit(X0, y0)\n",
    "        knnPred = knnReg.predict(X1)\n",
    "        mae = mean_absolute_error(y1, knnPred)\n",
    "        if i % verbose == 0:\n",
    "            print(\"Neighbors = {}, MAE = {}\".format(i, mae))\n",
    "        if mae < bestModel[\"MAE\"]:\n",
    "            bestModel.update({\"Neighbors\" : i, \"MAE\" : mae})\n",
    "        i += step\n",
    "    knnReg = KNeighborsRegressor(n_neighbors = bestModel[\"Neighbors\"]).fit(X0, y0 )\n",
    "    knnPred = knnReg.predict(X1)\n",
    "    return knnReg, knnPred\n",
    "\n",
    "#knnReg, knnPred = knnModelSelect(max_neighbors = 100, start = 50, step = 25, verbose = 50)"
   ]
  },
  {
   "cell_type": "markdown",
   "metadata": {
    "id": "EHeRjpu_H8Qf",
    "jp-MarkdownHeadingCollapsed": true,
    "tags": []
   },
   "source": [
    "## Gradient Booster"
   ]
  },
  {
   "cell_type": "code",
   "execution_count": 32,
   "metadata": {
    "id": "zdBdCuz7H74e",
    "tags": []
   },
   "outputs": [],
   "source": [
    "y_trainrf = np.ravel(y_train)\n",
    "\n",
    "def gbModelSelect(max_depth, max_leaf_nodes, max_features, X0 = X_train, y0 = y_trainrf, X1 = X_test, y1 = y_test):\n",
    "    i0, i1, i2 = (1, 2, 0.1)\n",
    "    bestModel = {\"maxLeafNodes\" : i0, \"maxDepth\": i1, \"maxFeatures\": i2, \"MAE0\" : 999, \"MAE1\" : 999, \"MAE2\" : 999}\n",
    "    while i0 < max_depth:\n",
    "        gbReg = HistGradientBoostingRegressor(loss = \"absolute_error\", max_depth = i0).fit(X0, y0)\n",
    "        gbPred = gbReg.predict(X1)\n",
    "        mae = mean_absolute_error(y1, gbPred)\n",
    "        if mae < bestModel[\"MAE0\"]:\n",
    "            bestModel.update({\"maxDepth\" : i0, \"MAE0\": mae})\n",
    "        i0 += 1\n",
    "    print(\"New bestModel! maxDepth = {}, MAE = {}\".format(bestModel[\"maxDepth\"], bestModel[\"MAE0\"]))\n",
    "    while i1 < max_leaf_nodes:\n",
    "        gbReg = HistGradientBoostingRegressor(loss = \"absolute_error\", max_depth = bestModel[\"maxDepth\"], max_leaf_nodes = i1).fit(X0, y0)\n",
    "        gbPred = gbReg.predict(X1)\n",
    "        mae = mean_absolute_error(y1, gbPred)\n",
    "        if mae < bestModel[\"MAE1\"]:\n",
    "            bestModel.update({\"maxLeafNodes\": i1, \"MAE1\": mae})\n",
    "        i1 += 1\n",
    "    print(\"New bestModel! maxLeafNodes = {}, MAE = {}\".format(bestModel[\"maxLeafNodes\"], bestModel[\"MAE1\"]))\n",
    "    while i2 <= max_features:\n",
    "        gbReg = HistGradientBoostingRegressor(loss = \"absolute_error\", max_leaf_nodes = bestModel[\"maxLeafNodes\"], max_depth = bestModel[\"maxDepth\"], max_features = i2).fit(X0, y0)\n",
    "        gbPred = gbReg.predict(X1)\n",
    "        mae = mean_absolute_error(y1, gbPred)\n",
    "        if mae < bestModel[\"MAE2\"]:\n",
    "            bestModel.update({\"maxFeatures\" : i2, \"MAE2\": mae})\n",
    "        i2 += 0.1\n",
    "    print(\"New bestModel! maxFeatures = {}, MAE = {}\".format(bestModel[\"maxFeatures\"], bestModel[\"MAE2\"]))\n",
    "    gbReg = HistGradientBoostingRegressor(loss = \"absolute_error\",\n",
    "                                          max_leaf_nodes = bestModel[\"maxLeafNodes\"], \n",
    "                                          max_depth = bestModel[\"maxDepth\"], \n",
    "                                          max_features = bestModel[\"maxFeatures\"]).fit(X0, y0)\n",
    "    gbPred = gbReg.predict(X1)\n",
    "    mae = mean_absolute_error(y1, gbPred)\n",
    "    return gbReg, gbPred, mae"
   ]
  },
  {
   "cell_type": "code",
   "execution_count": 33,
   "metadata": {
    "tags": []
   },
   "outputs": [],
   "source": [
    "fold = 0\n",
    "preds = []\n",
    "scores = []\n",
    "for train_idx, val_idx in tss.split(df1):\n",
    "    train = df1.iloc[train_idx]\n",
    "    test = df1.iloc[val_idx]\n",
    "\n",
    "    X_train = train.loc[:, df1.columns != \"ResponseValue\"]\n",
    "    y_train = train.loc[:, df1.columns == \"ResponseValue\"]\n",
    "    X_test = test.loc[:, df1.columns != \"ResponseValue\"]\n",
    "    y_test = test.loc[:, df1.columns == \"ResponseValue\"]\n",
    "    \n",
    "    #gbReg, gbPred, mae = gbModelSelect(100, 100, 1)\n",
    "    #preds.append(gbPred)\n",
    "    #Uncomment the above to actually run it"
   ]
  },
  {
   "cell_type": "markdown",
   "metadata": {},
   "source": [
    "# Prediction"
   ]
  },
  {
   "cell_type": "code",
   "execution_count": 35,
   "metadata": {
    "tags": []
   },
   "outputs": [
    {
     "data": {
      "text/plain": [
       "'y = pd.read_csv(\"data/test_data.csv\")\\ny = y[[\"QuestionTiming\", \"TimeUtc\", \"CurrentGameMode\", \"LevelProgressionAmount\", \"CurrentTask\"]]\\ny = fixFeatures(y)\\ny = y.drop(columns = [\"CurrentGameMode_nan\", \"CurrentTask_nan\"])\\ntestPred = gbReg.predict(y)\\nnp.savetxt(\"predicted.csv\", testPred)'"
      ]
     },
     "execution_count": 35,
     "metadata": {},
     "output_type": "execute_result"
    }
   ],
   "source": [
    "\"\"\"y = pd.read_csv(\"data/test_data.csv\")\n",
    "y = y[[\"QuestionTiming\", \"TimeUtc\", \"CurrentGameMode\", \"LevelProgressionAmount\", \"CurrentTask\"]]\n",
    "y = fixFeatures(y)\n",
    "y = y.drop(columns = [\"CurrentGameMode_nan\", \"CurrentTask_nan\"])\n",
    "testPred = gbReg.predict(y)\n",
    "np.savetxt(\"predicted.csv\", testPred)\"\"\""
   ]
  },
  {
   "cell_type": "markdown",
   "metadata": {},
   "source": [
    "# BACK TO BASIC"
   ]
  },
  {
   "cell_type": "code",
   "execution_count": 263,
   "metadata": {
    "tags": []
   },
   "outputs": [],
   "source": [
    "FEATURES = [\"UserID\", \"TimeUtc\", \"QuestionTiming\", \"CurrentGameMode\", \"CurrentSessionLength\", \"LevelProgressionAmount\", \"ResponseValue\"]"
   ]
  },
  {
   "cell_type": "code",
   "execution_count": 265,
   "metadata": {
    "tags": []
   },
   "outputs": [],
   "source": [
    "import pandas as pd\n",
    "import numpy as np\n",
    "import matplotlib.pyplot as plt\n",
    "def loadFile(googleTrue, file = None ):\n",
    "    if googleTrue == True:\n",
    "        from google.colab import drive\n",
    "        drive.mount('/content/drive')\n",
    "        x = pd.read_csv(\"drive/MyDrive/train_data.csv\")\n",
    "    else:\n",
    "        x = pd.read_csv(file)\n",
    "    return x"
   ]
  },
  {
   "cell_type": "code",
   "execution_count": 267,
   "metadata": {
    "tags": []
   },
   "outputs": [],
   "source": [
    "train_data = loadFile(False, \"data/train_data.csv\")\n",
    "test_data = loadFile(False, \"data/test_data.csv\")\n",
    "supp_data = loadFile(False, \"data/supplimental_data.csv\")"
   ]
  },
  {
   "cell_type": "code",
   "execution_count": 269,
   "metadata": {
    "tags": []
   },
   "outputs": [],
   "source": [
    "def binaryQuestionTiming(df):\n",
    "    df.loc[:, \"QuestionTiming\"] = df.loc[:, \"QuestionTiming\"].astype(str)\n",
    "    df.loc[:, \"QuestionTiming\"] = df.loc[:, \"QuestionTiming\"].apply(lambda x: 1 if x == \"System Initiated\" else 0)\n",
    "    return df\n",
    "    \n",
    "def binaryCurrentGameMode(df):\n",
    "    df.loc[:, \"CurrentGameMode\"] = df.loc[:, \"CurrentGameMode\"].astype(str)\n",
    "    df.loc[:, \"CurrentGameMode\"] = df.loc[:, \"CurrentGameMode\"].apply(lambda x: 1 if x == \"Career\" else 0)\n",
    "    return df\n",
    "\n",
    "def numericalTime(df):\n",
    "    df.loc[:, \"TimeUtcX\"] = pd.to_datetime(df.loc[:, \"TimeUtc\"])\n",
    "    df.loc[:, \"TimeUtcY\"] = pd.to_numeric(df.loc[:, \"TimeUtcX\"])\n",
    "    df = df.drop(columns= [\"TimeUtc\", \"TimeUtcX\"])\n",
    "    return df\n",
    "\n",
    "def fillLPA(df):\n",
    "    df.loc[:, \"LevelProgressionAmount\"] = df.loc[:, \"LevelProgressionAmount\"].apply(lambda x: 0 if pd.isna(x) else x)\n",
    "    return df"
   ]
  },
  {
   "cell_type": "code",
   "execution_count": 271,
   "metadata": {
    "tags": []
   },
   "outputs": [
    {
     "name": "stderr",
     "output_type": "stream",
     "text": [
      "C:\\Users\\marti\\AppData\\Local\\Temp\\ipykernel_21064\\972792912.py:12: SettingWithCopyWarning: \n",
      "A value is trying to be set on a copy of a slice from a DataFrame.\n",
      "Try using .loc[row_indexer,col_indexer] = value instead\n",
      "\n",
      "See the caveats in the documentation: https://pandas.pydata.org/pandas-docs/stable/user_guide/indexing.html#returning-a-view-versus-a-copy\n",
      "  df.loc[:, \"TimeUtcX\"] = pd.to_datetime(df.loc[:, \"TimeUtc\"])\n",
      "C:\\Users\\marti\\AppData\\Local\\Temp\\ipykernel_21064\\972792912.py:13: SettingWithCopyWarning: \n",
      "A value is trying to be set on a copy of a slice from a DataFrame.\n",
      "Try using .loc[row_indexer,col_indexer] = value instead\n",
      "\n",
      "See the caveats in the documentation: https://pandas.pydata.org/pandas-docs/stable/user_guide/indexing.html#returning-a-view-versus-a-copy\n",
      "  df.loc[:, \"TimeUtcY\"] = pd.to_numeric(df.loc[:, \"TimeUtcX\"])\n"
     ]
    },
    {
     "data": {
      "text/html": [
       "<div>\n",
       "<style scoped>\n",
       "    .dataframe tbody tr th:only-of-type {\n",
       "        vertical-align: middle;\n",
       "    }\n",
       "\n",
       "    .dataframe tbody tr th {\n",
       "        vertical-align: top;\n",
       "    }\n",
       "\n",
       "    .dataframe thead th {\n",
       "        text-align: right;\n",
       "    }\n",
       "</style>\n",
       "<table border=\"1\" class=\"dataframe\">\n",
       "  <thead>\n",
       "    <tr style=\"text-align: right;\">\n",
       "      <th></th>\n",
       "      <th>UserID</th>\n",
       "      <th>QuestionTiming</th>\n",
       "      <th>CurrentGameMode</th>\n",
       "      <th>CurrentSessionLength</th>\n",
       "      <th>LevelProgressionAmount</th>\n",
       "      <th>ResponseValue</th>\n",
       "      <th>TimeUtcY</th>\n",
       "    </tr>\n",
       "  </thead>\n",
       "  <tbody>\n",
       "    <tr>\n",
       "      <th>0</th>\n",
       "      <td>p1</td>\n",
       "      <td>0</td>\n",
       "      <td>0</td>\n",
       "      <td>2</td>\n",
       "      <td>0.000000</td>\n",
       "      <td>509.0</td>\n",
       "      <td>1660863327000000000</td>\n",
       "    </tr>\n",
       "    <tr>\n",
       "      <th>1</th>\n",
       "      <td>p1</td>\n",
       "      <td>1</td>\n",
       "      <td>0</td>\n",
       "      <td>0</td>\n",
       "      <td>0.000000</td>\n",
       "      <td>653.0</td>\n",
       "      <td>1660865911000000000</td>\n",
       "    </tr>\n",
       "    <tr>\n",
       "      <th>2</th>\n",
       "      <td>p1</td>\n",
       "      <td>0</td>\n",
       "      <td>1</td>\n",
       "      <td>1</td>\n",
       "      <td>1.000000</td>\n",
       "      <td>705.0</td>\n",
       "      <td>1660865964000000000</td>\n",
       "    </tr>\n",
       "    <tr>\n",
       "      <th>3</th>\n",
       "      <td>p1</td>\n",
       "      <td>1</td>\n",
       "      <td>1</td>\n",
       "      <td>6</td>\n",
       "      <td>0.168267</td>\n",
       "      <td>817.0</td>\n",
       "      <td>1660866301000000000</td>\n",
       "    </tr>\n",
       "    <tr>\n",
       "      <th>4</th>\n",
       "      <td>p1</td>\n",
       "      <td>1</td>\n",
       "      <td>1</td>\n",
       "      <td>13</td>\n",
       "      <td>0.429364</td>\n",
       "      <td>810.0</td>\n",
       "      <td>1660866682000000000</td>\n",
       "    </tr>\n",
       "    <tr>\n",
       "      <th>...</th>\n",
       "      <td>...</td>\n",
       "      <td>...</td>\n",
       "      <td>...</td>\n",
       "      <td>...</td>\n",
       "      <td>...</td>\n",
       "      <td>...</td>\n",
       "      <td>...</td>\n",
       "    </tr>\n",
       "    <tr>\n",
       "      <th>134415</th>\n",
       "      <td>p9991</td>\n",
       "      <td>1</td>\n",
       "      <td>1</td>\n",
       "      <td>64</td>\n",
       "      <td>0.837365</td>\n",
       "      <td>634.0</td>\n",
       "      <td>1678939091000000000</td>\n",
       "    </tr>\n",
       "    <tr>\n",
       "      <th>134416</th>\n",
       "      <td>p9991</td>\n",
       "      <td>1</td>\n",
       "      <td>1</td>\n",
       "      <td>109</td>\n",
       "      <td>0.983866</td>\n",
       "      <td>806.0</td>\n",
       "      <td>1678941794000000000</td>\n",
       "    </tr>\n",
       "    <tr>\n",
       "      <th>134417</th>\n",
       "      <td>p9992</td>\n",
       "      <td>1</td>\n",
       "      <td>1</td>\n",
       "      <td>37</td>\n",
       "      <td>0.999620</td>\n",
       "      <td>902.0</td>\n",
       "      <td>1676236506000000000</td>\n",
       "    </tr>\n",
       "    <tr>\n",
       "      <th>134418</th>\n",
       "      <td>p9992</td>\n",
       "      <td>1</td>\n",
       "      <td>1</td>\n",
       "      <td>55</td>\n",
       "      <td>0.763144</td>\n",
       "      <td>1000.0</td>\n",
       "      <td>1676237611000000000</td>\n",
       "    </tr>\n",
       "    <tr>\n",
       "      <th>134419</th>\n",
       "      <td>p9992</td>\n",
       "      <td>1</td>\n",
       "      <td>1</td>\n",
       "      <td>115</td>\n",
       "      <td>0.936303</td>\n",
       "      <td>1000.0</td>\n",
       "      <td>1676241209000000000</td>\n",
       "    </tr>\n",
       "  </tbody>\n",
       "</table>\n",
       "<p>134420 rows × 7 columns</p>\n",
       "</div>"
      ],
      "text/plain": [
       "       UserID QuestionTiming CurrentGameMode  CurrentSessionLength  \\\n",
       "0          p1              0               0                     2   \n",
       "1          p1              1               0                     0   \n",
       "2          p1              0               1                     1   \n",
       "3          p1              1               1                     6   \n",
       "4          p1              1               1                    13   \n",
       "...       ...            ...             ...                   ...   \n",
       "134415  p9991              1               1                    64   \n",
       "134416  p9991              1               1                   109   \n",
       "134417  p9992              1               1                    37   \n",
       "134418  p9992              1               1                    55   \n",
       "134419  p9992              1               1                   115   \n",
       "\n",
       "        LevelProgressionAmount  ResponseValue             TimeUtcY  \n",
       "0                     0.000000          509.0  1660863327000000000  \n",
       "1                     0.000000          653.0  1660865911000000000  \n",
       "2                     1.000000          705.0  1660865964000000000  \n",
       "3                     0.168267          817.0  1660866301000000000  \n",
       "4                     0.429364          810.0  1660866682000000000  \n",
       "...                        ...            ...                  ...  \n",
       "134415                0.837365          634.0  1678939091000000000  \n",
       "134416                0.983866          806.0  1678941794000000000  \n",
       "134417                0.999620          902.0  1676236506000000000  \n",
       "134418                0.763144         1000.0  1676237611000000000  \n",
       "134419                0.936303         1000.0  1676241209000000000  \n",
       "\n",
       "[134420 rows x 7 columns]"
      ]
     },
     "execution_count": 271,
     "metadata": {},
     "output_type": "execute_result"
    }
   ],
   "source": [
    "X = train_data[FEATURES]\n",
    "X = binaryQuestionTiming(X)\n",
    "X = binaryCurrentGameMode(X)\n",
    "X = numericalTime(X)\n",
    "X = fillLPA(X)\n",
    "X"
   ]
  },
  {
   "cell_type": "code",
   "execution_count": 273,
   "metadata": {
    "tags": []
   },
   "outputs": [],
   "source": [
    "from sklearn import tree\n",
    "from sklearn.metrics import mean_absolute_error"
   ]
  },
  {
   "cell_type": "code",
   "execution_count": 275,
   "metadata": {
    "tags": []
   },
   "outputs": [],
   "source": [
    "grouped = X.groupby(\"UserID\")\n",
    "features = [\"TimeUtcY\", \"QuestionTiming\", \"CurrentGameMode\", \"CurrentSessionLength\", \"LevelProgressionAmount\"]\n",
    "target = [\"ResponseValue\"]\n",
    "userDf = {user_id: group for user_id, group in grouped}\n",
    "preds = []"
   ]
  },
  {
   "cell_type": "code",
   "execution_count": 277,
   "metadata": {
    "tags": []
   },
   "outputs": [
    {
     "data": {
      "text/plain": [
       "8169"
      ]
     },
     "execution_count": 277,
     "metadata": {},
     "output_type": "execute_result"
    }
   ],
   "source": [
    "len(userDf.keys())"
   ]
  },
  {
   "cell_type": "markdown",
   "metadata": {
    "tags": []
   },
   "source": [
    "preds = []\n",
    "tests = []\n",
    "models = []\n",
    "for key in userDf.values():\n",
    "    data = pd.DataFrame(key)\n",
    "    data = data.reset_index()\n",
    "    trainSize = int(len(data) // 1.2)\n",
    "    if trainSize < 1:\n",
    "        preds.extend([500])\n",
    "        tests.extend(data[\"ResponseValue\"])\n",
    "    else:\n",
    "        X = data[features]\n",
    "        y = data[target]\n",
    "        X_train = X.loc[:trainSize]\n",
    "        y_train = y.loc[:trainSize]\n",
    "        X_test = X.loc[trainSize:]\n",
    "        y_test = y.loc[trainSize:]\n",
    "        reg = tree.DecisionTreeRegressor(criterion = \"squared_error\", max_depth = 5)\n",
    "        reg = reg.fit(X_train, y_train)\n",
    "        preds.extend(reg.predict(X_test))\n",
    "        tests.extend(list(y_test[\"ResponseValue\"]))\n",
    "        models.extend([reg])\n",
    "mae = mean_absolute_error(tests, preds)\n",
    "\n",
    "\n",
    "    "
   ]
  },
  {
   "cell_type": "code",
   "execution_count": 292,
   "metadata": {
    "tags": []
   },
   "outputs": [],
   "source": [
    "import warnings\n",
    "warnings.simplefilter(action='ignore', category=FutureWarning)"
   ]
  },
  {
   "cell_type": "code",
   "execution_count": 316,
   "metadata": {
    "tags": []
   },
   "outputs": [],
   "source": [
    "from sklearn.model_selection import train_test_split\n",
    "userModels = {}\n",
    "preds = []\n",
    "tests = []\n",
    "threshold = 5\n",
    "genData = pd.DataFrame()\n",
    "for key in userDf.values():\n",
    "    data = pd.DataFrame(key).reset_index().drop(columns = \"index\")\n",
    "    if len(data) < 30:\n",
    "        genData = pd.concat([genData, data])\n",
    "    else: \n",
    "        trainSize = int(len(data) // 1.2)\n",
    "        USERID = data.iloc[0][0]\n",
    "        X = data[features]\n",
    "        y = data[target]\n",
    "        X_train = X.iloc[:trainSize]\n",
    "        y_train = y.iloc[:trainSize]\n",
    "        X_test = X.iloc[trainSize:]\n",
    "        y_test = y.iloc[trainSize:]\n",
    "        reg = tree.DecisionTreeRegressor(criterion = \"squared_error\", max_depth = 5)\n",
    "        reg = reg.fit(X_train, y_train)\n",
    "        preds.extend(reg.predict(X_test))\n",
    "        tests.extend(list(y_test[\"ResponseValue\"]))\n",
    "        userModels.update({USERID: reg})\n",
    "        \n",
    "genX = genData[features]\n",
    "geny = genData[target]\n",
    "X_train, X_test, y_train, y_test = train_test_split(\n",
    "    genX, geny, test_size = 0.2, random_state = 14)\n",
    "genReg = tree.DecisionTreeRegressor(criterion = \"absolute_error\", max_depth = 5)\n",
    "genReg = genReg.fit(X_train, y_train)\n",
    "genPred = genReg.predict(X_test)\n",
    "genMae = mean_absolute_error(y_test, genPred)\n",
    "userMae = mean_absolute_error(tests, preds)"
   ]
  },
  {
   "cell_type": "code",
   "execution_count": 317,
   "metadata": {
    "tags": []
   },
   "outputs": [
    {
     "data": {
      "text/plain": [
       "99.30226632229584"
      ]
     },
     "execution_count": 317,
     "metadata": {},
     "output_type": "execute_result"
    }
   ],
   "source": [
    "userMae"
   ]
  },
  {
   "cell_type": "code",
   "execution_count": 318,
   "metadata": {
    "tags": []
   },
   "outputs": [
    {
     "data": {
      "text/plain": [
       "170.7800236931734"
      ]
     },
     "execution_count": 318,
     "metadata": {},
     "output_type": "execute_result"
    }
   ],
   "source": [
    "genMae"
   ]
  }
 ],
 "metadata": {
  "colab": {
   "provenance": []
  },
  "kernelspec": {
   "display_name": "Python 3 (ipykernel)",
   "language": "python",
   "name": "python3"
  },
  "language_info": {
   "codemirror_mode": {
    "name": "ipython",
    "version": 3
   },
   "file_extension": ".py",
   "mimetype": "text/x-python",
   "name": "python",
   "nbconvert_exporter": "python",
   "pygments_lexer": "ipython3",
   "version": "3.11.5"
  }
 },
 "nbformat": 4,
 "nbformat_minor": 4
}
