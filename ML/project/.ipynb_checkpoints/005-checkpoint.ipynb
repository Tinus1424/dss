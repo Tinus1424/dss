{
 "cells": [
  {
   "cell_type": "markdown",
   "metadata": {},
   "source": [
    "# CLUSTER / LEARN"
   ]
  },
  {
   "cell_type": "code",
   "execution_count": 2,
   "metadata": {
    "tags": []
   },
   "outputs": [],
   "source": [
    "import pandas as pd\n",
    "import numpy as np\n",
    "import matplotlib.pyplot as plt\n",
    "import warnings\n",
    "#warnings.simplefilter(action='ignore', category=pd.errors.SettingWithCopyWarning)\n",
    "#warnings.simplefilter(action='ignore', category=FutureWarning)\n",
    "\n",
    "def loadFile(googleTrue, file = None ):\n",
    "    if googleTrue == True:\n",
    "        from google.colab import drive\n",
    "        drive.mount('/content/drive')\n",
    "        x = pd.read_csv(\"drive/MyDrive/train_data.csv\")\n",
    "    else:\n",
    "        x = pd.read_csv(file)\n",
    "    return x\n",
    "\n",
    "train_data = loadFile(False, \"data/train_data.csv\")\n",
    "test_data = loadFile(False, \"data/test_data.csv\")\n",
    "supp_data = loadFile(False, \"data/supplimental_data.csv\")"
   ]
  },
  {
   "cell_type": "code",
   "execution_count": 3,
   "metadata": {
    "tags": []
   },
   "outputs": [],
   "source": [
    "from sklearn.metrics import mean_absolute_error\n",
    "from sklearn.preprocessing import StandardScaler\n",
    "from sklearn.tree import DecisionTreeRegressor\n",
    "from sklearn.model_selection import TimeSeriesSplit"
   ]
  },
  {
   "cell_type": "markdown",
   "metadata": {
    "tags": []
   },
   "source": [
    "# Functions\n",
    "Time converted to numerical because most models do not support datetime. Missing values in levelprogression were filled with 0 because most NA's also had sessionlength 0. sumDf creates summary statistics for each user which are used to train the kmeans clustering\n",
    "algorithm. In previous iterations, currentgamemode was converted to a binary with career being 1 and all other values 0, due to class imbalance that was the best. QuestionTiming was also converted to binary but these did not help much either. "
   ]
  },
  {
   "cell_type": "code",
   "execution_count": 5,
   "metadata": {},
   "outputs": [],
   "source": [
    "def fillLPA(df):\n",
    "    df.loc[:, \"LevelProgressionAmount\"] = df.loc[:, \"LevelProgressionAmount\"].apply(lambda x: 0 if pd.isna(x) else x)\n",
    "    return df"
   ]
  },
  {
   "cell_type": "code",
   "execution_count": 6,
   "metadata": {
    "tags": []
   },
   "outputs": [],
   "source": [
    "def numericalTime(df):\n",
    "    TimeUtcDate = pd.to_datetime(df.loc[:, \"TimeUtc\"])\n",
    "    TimeUtcNumeric = pd.to_numeric(TimeUtcDate)\n",
    "    df.loc[:, \"TimeUtc\"] = TimeUtcNumeric\n",
    "    return df"
   ]
  },
  {
   "cell_type": "code",
   "execution_count": 7,
   "metadata": {
    "tags": []
   },
   "outputs": [],
   "source": [
    "def binaryQuestion(df):\n",
    "    df.loc[:, \"QuestionType\"] = df.loc[:, \"QuestionType\"].astype(str)\n",
    "    df.loc[:, \"QuestionType\"] = df.loc[:, \"QuestionType\"].apply(lambda x: 1 if x.strip() == \"Wellbeing\" else 0)\n",
    "    return df"
   ]
  },
  {
   "cell_type": "code",
   "execution_count": 8,
   "metadata": {
    "tags": []
   },
   "outputs": [],
   "source": [
    "def scaleVariables(df):\n",
    "    scaler = StandardScaler()\n",
    "    grouped = df.groupby(\"UserID\")\n",
    "    result = pd.DataFrame()\n",
    "    for UserID, data in grouped:\n",
    "        before = pd.DataFrame(data[FEATURES])\n",
    "        after = scaler.fit_transform(X = before)\n",
    "        afterDf = pd.DataFrame(after, index=data.index, columns = FEATURES)\n",
    "        result = pd.concat([result, afterDf])\n",
    "    result = result.sort_index()\n",
    "    try:\n",
    "        df1 = df[[\"TimeUtc\", \"UserID\", \"QuestionType\", \"ResponseValue\"]]\n",
    "    except:\n",
    "        df1 = df[[\"TimeUtc\", \"UserID\", \"QuestionType\"]]\n",
    "    df2 = pd.concat([df1, result], axis = 1)\n",
    "    return df2"
   ]
  },
  {
   "cell_type": "code",
   "execution_count": 9,
   "metadata": {
    "tags": []
   },
   "outputs": [],
   "source": [
    "def indexTime(df):\n",
    "    df.index = pd.to_datetime(df[\"TimeUtc\"], format = \"%Y-%m-%d %H:%M:%S\")\n",
    "    df = df.drop(columns = [\"TimeUtc\"])\n",
    "    return df"
   ]
  },
  {
   "cell_type": "markdown",
   "metadata": {},
   "source": [
    "# Grouped Model\n",
    "Grouping the users is a better way for going forward"
   ]
  },
  {
   "cell_type": "code",
   "execution_count": 11,
   "metadata": {},
   "outputs": [],
   "source": [
    "G = pd.read_csv(\"data/train_data.csv\")\n",
    "S = pd.read_csv(\"data/supplimental_data.csv\")"
   ]
  },
  {
   "cell_type": "code",
   "execution_count": 12,
   "metadata": {},
   "outputs": [],
   "source": [
    "TESTSELECT = [\"UserID\", \"TimeUtc\", \"CurrentSessionLength\", \"LevelProgressionAmount\", \"QuestionType\"]\n",
    "SELECT = [\"UserID\", \"TimeUtc\", \"CurrentSessionLength\", \"LevelProgressionAmount\", \"QuestionType\", \"ResponseValue\"]\n",
    "FEATURES =  [\"CurrentSessionLength\", \"LevelProgressionAmount\"]\n",
    "TARGET = [\"ResponseValue\"]"
   ]
  },
  {
   "cell_type": "code",
   "execution_count": 13,
   "metadata": {
    "tags": []
   },
   "outputs": [],
   "source": [
    "GS = pd.concat([G, S])\n",
    "GS = GS.reset_index()\n",
    "GS = GS.sort_values(by = [\"UserID\", \"TimeUtc\"])\n",
    "GS = GS[SELECT]"
   ]
  },
  {
   "cell_type": "code",
   "execution_count": 14,
   "metadata": {
    "tags": []
   },
   "outputs": [
    {
     "data": {
      "text/html": [
       "<div>\n",
       "<style scoped>\n",
       "    .dataframe tbody tr th:only-of-type {\n",
       "        vertical-align: middle;\n",
       "    }\n",
       "\n",
       "    .dataframe tbody tr th {\n",
       "        vertical-align: top;\n",
       "    }\n",
       "\n",
       "    .dataframe thead th {\n",
       "        text-align: right;\n",
       "    }\n",
       "</style>\n",
       "<table border=\"1\" class=\"dataframe\">\n",
       "  <thead>\n",
       "    <tr style=\"text-align: right;\">\n",
       "      <th></th>\n",
       "      <th>UserID</th>\n",
       "      <th>QuestionType</th>\n",
       "      <th>ResponseValue</th>\n",
       "      <th>CurrentSessionLength</th>\n",
       "      <th>LevelProgressionAmount</th>\n",
       "    </tr>\n",
       "    <tr>\n",
       "      <th>TimeUtc</th>\n",
       "      <th></th>\n",
       "      <th></th>\n",
       "      <th></th>\n",
       "      <th></th>\n",
       "      <th></th>\n",
       "    </tr>\n",
       "  </thead>\n",
       "  <tbody>\n",
       "    <tr>\n",
       "      <th>2022-08-18 22:55:27</th>\n",
       "      <td>p1</td>\n",
       "      <td>1</td>\n",
       "      <td>509.0</td>\n",
       "      <td>-1.089177</td>\n",
       "      <td>-1.430427</td>\n",
       "    </tr>\n",
       "    <tr>\n",
       "      <th>2022-08-18 23:38:31</th>\n",
       "      <td>p1</td>\n",
       "      <td>1</td>\n",
       "      <td>653.0</td>\n",
       "      <td>-1.248658</td>\n",
       "      <td>-1.430427</td>\n",
       "    </tr>\n",
       "    <tr>\n",
       "      <th>2022-08-18 23:39:24</th>\n",
       "      <td>p1</td>\n",
       "      <td>1</td>\n",
       "      <td>705.0</td>\n",
       "      <td>-1.168918</td>\n",
       "      <td>1.507010</td>\n",
       "    </tr>\n",
       "    <tr>\n",
       "      <th>2022-08-18 23:45:01</th>\n",
       "      <td>p1</td>\n",
       "      <td>1</td>\n",
       "      <td>817.0</td>\n",
       "      <td>-0.770217</td>\n",
       "      <td>-0.936153</td>\n",
       "    </tr>\n",
       "    <tr>\n",
       "      <th>2022-08-18 23:51:22</th>\n",
       "      <td>p1</td>\n",
       "      <td>1</td>\n",
       "      <td>810.0</td>\n",
       "      <td>-0.212036</td>\n",
       "      <td>-0.169196</td>\n",
       "    </tr>\n",
       "    <tr>\n",
       "      <th>...</th>\n",
       "      <td>...</td>\n",
       "      <td>...</td>\n",
       "      <td>...</td>\n",
       "      <td>...</td>\n",
       "      <td>...</td>\n",
       "    </tr>\n",
       "    <tr>\n",
       "      <th>2022-10-12 04:53:50</th>\n",
       "      <td>p9999</td>\n",
       "      <td>0</td>\n",
       "      <td>961.0</td>\n",
       "      <td>0.098333</td>\n",
       "      <td>1.305168</td>\n",
       "    </tr>\n",
       "    <tr>\n",
       "      <th>2022-10-12 05:01:29</th>\n",
       "      <td>p9999</td>\n",
       "      <td>1</td>\n",
       "      <td>948.0</td>\n",
       "      <td>0.228961</td>\n",
       "      <td>1.408868</td>\n",
       "    </tr>\n",
       "    <tr>\n",
       "      <th>2022-10-12 05:09:22</th>\n",
       "      <td>p9999</td>\n",
       "      <td>1</td>\n",
       "      <td>881.0</td>\n",
       "      <td>0.359588</td>\n",
       "      <td>1.501254</td>\n",
       "    </tr>\n",
       "    <tr>\n",
       "      <th>2022-10-12 05:18:11</th>\n",
       "      <td>p9999</td>\n",
       "      <td>0</td>\n",
       "      <td>924.0</td>\n",
       "      <td>0.506544</td>\n",
       "      <td>-1.390615</td>\n",
       "    </tr>\n",
       "    <tr>\n",
       "      <th>2022-10-12 05:24:06</th>\n",
       "      <td>p9999</td>\n",
       "      <td>1</td>\n",
       "      <td>884.0</td>\n",
       "      <td>0.604515</td>\n",
       "      <td>-1.073661</td>\n",
       "    </tr>\n",
       "  </tbody>\n",
       "</table>\n",
       "<p>429146 rows × 5 columns</p>\n",
       "</div>"
      ],
      "text/plain": [
       "                    UserID QuestionType  ResponseValue  CurrentSessionLength  \\\n",
       "TimeUtc                                                                        \n",
       "2022-08-18 22:55:27     p1            1          509.0             -1.089177   \n",
       "2022-08-18 23:38:31     p1            1          653.0             -1.248658   \n",
       "2022-08-18 23:39:24     p1            1          705.0             -1.168918   \n",
       "2022-08-18 23:45:01     p1            1          817.0             -0.770217   \n",
       "2022-08-18 23:51:22     p1            1          810.0             -0.212036   \n",
       "...                    ...          ...            ...                   ...   \n",
       "2022-10-12 04:53:50  p9999            0          961.0              0.098333   \n",
       "2022-10-12 05:01:29  p9999            1          948.0              0.228961   \n",
       "2022-10-12 05:09:22  p9999            1          881.0              0.359588   \n",
       "2022-10-12 05:18:11  p9999            0          924.0              0.506544   \n",
       "2022-10-12 05:24:06  p9999            1          884.0              0.604515   \n",
       "\n",
       "                     LevelProgressionAmount  \n",
       "TimeUtc                                      \n",
       "2022-08-18 22:55:27               -1.430427  \n",
       "2022-08-18 23:38:31               -1.430427  \n",
       "2022-08-18 23:39:24                1.507010  \n",
       "2022-08-18 23:45:01               -0.936153  \n",
       "2022-08-18 23:51:22               -0.169196  \n",
       "...                                     ...  \n",
       "2022-10-12 04:53:50                1.305168  \n",
       "2022-10-12 05:01:29                1.408868  \n",
       "2022-10-12 05:09:22                1.501254  \n",
       "2022-10-12 05:18:11               -1.390615  \n",
       "2022-10-12 05:24:06               -1.073661  \n",
       "\n",
       "[429146 rows x 5 columns]"
      ]
     },
     "execution_count": 14,
     "metadata": {},
     "output_type": "execute_result"
    }
   ],
   "source": [
    "GS = fillLPA(GS)\n",
    "GS = binaryQuestion(GS)\n",
    "GS = scaleVariables(GS)\n",
    "GS = indexTime(GS)\n",
    "GS"
   ]
  },
  {
   "cell_type": "code",
   "execution_count": 15,
   "metadata": {
    "tags": []
   },
   "outputs": [],
   "source": [
    "GS1 = GS[:100]\n",
    "usercounts = GS1[\"UserID\"].value_counts()\n",
    "userkeep = usercounts[usercounts >= 5].index\n",
    "GS1 = GS1[GS1[\"UserID\"].isin(userkeep)]"
   ]
  },
  {
   "cell_type": "code",
   "execution_count": 16,
   "metadata": {
    "tags": []
   },
   "outputs": [],
   "source": [
    "df = GS1[GS1[\"UserID\"] == \"p1\"]\n",
    "df = df.drop(columns = \"UserID\")\n"
   ]
  },
  {
   "cell_type": "code",
   "execution_count": 33,
   "metadata": {
    "tags": []
   },
   "outputs": [],
   "source": [
    "df[\"QuestionType\"] = df[\"QuestionType\"].astype(float)"
   ]
  },
  {
   "cell_type": "markdown",
   "metadata": {},
   "source": [
    "SOURCE: https://www.youtube.com/watch?v=c0k-YLQGKjY&ab_channel=GregHogg"
   ]
  },
  {
   "cell_type": "code",
   "execution_count": 41,
   "metadata": {
    "tags": []
   },
   "outputs": [],
   "source": [
    "import tensorflow as ts\n",
    "from tensorflow.keras.models import Sequential\n",
    "from tensorflow.keras.layers import *\n",
    "from tensorflow.keras.callbacks import ModelCheckpoint\n",
    "from tensorflow.keras.losses import MeanSquaredError\n",
    "from tensorflow.keras.losses import MeanAbsoluteError\n",
    "from tensorflow.keras.metrics import RootMeanSquaredError\n",
    "from tensorflow.keras.optimizers import Adam"
   ]
  },
  {
   "cell_type": "code",
   "execution_count": 20,
   "metadata": {
    "tags": []
   },
   "outputs": [],
   "source": [
    "from sklearn.metrics import mean_squared_error as mse\n",
    "\n",
    "def plot_predictions1(model, X, y, start = 0, end = 100):\n",
    "    predictions = model.predict(X).flatten()\n",
    "    df = pd.DataFrame(data = {\"Predictions\": predictions, \"Actualy\":y})\n",
    "    return df, mse(y, predictions)"
   ]
  },
  {
   "cell_type": "code",
   "execution_count": 21,
   "metadata": {
    "tags": []
   },
   "outputs": [],
   "source": [
    "def lagXy(df, window_size = 6):\n",
    "    df_as_np = df.to_numpy()\n",
    "    X = []\n",
    "    y = []\n",
    "    for i in range(len(df_as_np) - window_size):\n",
    "        row = [r for r in df_as_np[i:i+window_size]]\n",
    "        X.append(row)\n",
    "        label = df_as_np[i+window_size][2]\n",
    "        y.append(label)\n",
    "    return np.array(X), np.array(y)"
   ]
  },
  {
   "cell_type": "code",
   "execution_count": 22,
   "metadata": {
    "tags": []
   },
   "outputs": [
    {
     "data": {
      "text/plain": [
       "((38, 6, 4), (38,))"
      ]
     },
     "execution_count": 22,
     "metadata": {},
     "output_type": "execute_result"
    }
   ],
   "source": [
    "X2, y2, = lagXy(df)\n",
    "\n",
    "X2.shape, y2.shape"
   ]
  },
  {
   "cell_type": "code",
   "execution_count": 23,
   "metadata": {
    "tags": []
   },
   "outputs": [
    {
     "data": {
      "text/plain": [
       "((20, 6, 4), (20,), (5, 6, 4), (5,), (13, 6, 4), (13,))"
      ]
     },
     "execution_count": 23,
     "metadata": {},
     "output_type": "execute_result"
    }
   ],
   "source": [
    "X2_train, y2_train = X2[:20], y2[:20]\n",
    "X2_val, y2_val = X2[20:25], y2[20:25]\n",
    "X2_test, y2_test = X2[25:], y2[25:]\n",
    "X2_train.shape, y2_train.shape, X2_val.shape, y2_val.shape, X2_test.shape, y2_test.shape"
   ]
  },
  {
   "cell_type": "code",
   "execution_count": 27,
   "metadata": {
    "tags": []
   },
   "outputs": [
    {
     "data": {
      "text/html": [
       "<pre style=\"white-space:pre;overflow-x:auto;line-height:normal;font-family:Menlo,'DejaVu Sans Mono',consolas,'Courier New',monospace\"><span style=\"font-weight: bold\">Model: \"sequential_1\"</span>\n",
       "</pre>\n"
      ],
      "text/plain": [
       "\u001b[1mModel: \"sequential_1\"\u001b[0m\n"
      ]
     },
     "metadata": {},
     "output_type": "display_data"
    },
    {
     "data": {
      "text/html": [
       "<pre style=\"white-space:pre;overflow-x:auto;line-height:normal;font-family:Menlo,'DejaVu Sans Mono',consolas,'Courier New',monospace\">┏━━━━━━━━━━━━━━━━━━━━━━━━━━━━━━━━━┳━━━━━━━━━━━━━━━━━━━━━━━━┳━━━━━━━━━━━━━━━┓\n",
       "┃<span style=\"font-weight: bold\"> Layer (type)                    </span>┃<span style=\"font-weight: bold\"> Output Shape           </span>┃<span style=\"font-weight: bold\">       Param # </span>┃\n",
       "┡━━━━━━━━━━━━━━━━━━━━━━━━━━━━━━━━━╇━━━━━━━━━━━━━━━━━━━━━━━━╇━━━━━━━━━━━━━━━┩\n",
       "│ lstm_1 (<span style=\"color: #0087ff; text-decoration-color: #0087ff\">LSTM</span>)                   │ (<span style=\"color: #00d7ff; text-decoration-color: #00d7ff\">None</span>, <span style=\"color: #00af00; text-decoration-color: #00af00\">64</span>)             │        <span style=\"color: #00af00; text-decoration-color: #00af00\">17,664</span> │\n",
       "├─────────────────────────────────┼────────────────────────┼───────────────┤\n",
       "│ dense_2 (<span style=\"color: #0087ff; text-decoration-color: #0087ff\">Dense</span>)                 │ (<span style=\"color: #00d7ff; text-decoration-color: #00d7ff\">None</span>, <span style=\"color: #00af00; text-decoration-color: #00af00\">8</span>)              │           <span style=\"color: #00af00; text-decoration-color: #00af00\">520</span> │\n",
       "├─────────────────────────────────┼────────────────────────┼───────────────┤\n",
       "│ dense_3 (<span style=\"color: #0087ff; text-decoration-color: #0087ff\">Dense</span>)                 │ (<span style=\"color: #00d7ff; text-decoration-color: #00d7ff\">None</span>, <span style=\"color: #00af00; text-decoration-color: #00af00\">1</span>)              │             <span style=\"color: #00af00; text-decoration-color: #00af00\">9</span> │\n",
       "└─────────────────────────────────┴────────────────────────┴───────────────┘\n",
       "</pre>\n"
      ],
      "text/plain": [
       "┏━━━━━━━━━━━━━━━━━━━━━━━━━━━━━━━━━┳━━━━━━━━━━━━━━━━━━━━━━━━┳━━━━━━━━━━━━━━━┓\n",
       "┃\u001b[1m \u001b[0m\u001b[1mLayer (type)                   \u001b[0m\u001b[1m \u001b[0m┃\u001b[1m \u001b[0m\u001b[1mOutput Shape          \u001b[0m\u001b[1m \u001b[0m┃\u001b[1m \u001b[0m\u001b[1m      Param #\u001b[0m\u001b[1m \u001b[0m┃\n",
       "┡━━━━━━━━━━━━━━━━━━━━━━━━━━━━━━━━━╇━━━━━━━━━━━━━━━━━━━━━━━━╇━━━━━━━━━━━━━━━┩\n",
       "│ lstm_1 (\u001b[38;5;33mLSTM\u001b[0m)                   │ (\u001b[38;5;45mNone\u001b[0m, \u001b[38;5;34m64\u001b[0m)             │        \u001b[38;5;34m17,664\u001b[0m │\n",
       "├─────────────────────────────────┼────────────────────────┼───────────────┤\n",
       "│ dense_2 (\u001b[38;5;33mDense\u001b[0m)                 │ (\u001b[38;5;45mNone\u001b[0m, \u001b[38;5;34m8\u001b[0m)              │           \u001b[38;5;34m520\u001b[0m │\n",
       "├─────────────────────────────────┼────────────────────────┼───────────────┤\n",
       "│ dense_3 (\u001b[38;5;33mDense\u001b[0m)                 │ (\u001b[38;5;45mNone\u001b[0m, \u001b[38;5;34m1\u001b[0m)              │             \u001b[38;5;34m9\u001b[0m │\n",
       "└─────────────────────────────────┴────────────────────────┴───────────────┘\n"
      ]
     },
     "metadata": {},
     "output_type": "display_data"
    },
    {
     "data": {
      "text/html": [
       "<pre style=\"white-space:pre;overflow-x:auto;line-height:normal;font-family:Menlo,'DejaVu Sans Mono',consolas,'Courier New',monospace\"><span style=\"font-weight: bold\"> Total params: </span><span style=\"color: #00af00; text-decoration-color: #00af00\">18,193</span> (71.07 KB)\n",
       "</pre>\n"
      ],
      "text/plain": [
       "\u001b[1m Total params: \u001b[0m\u001b[38;5;34m18,193\u001b[0m (71.07 KB)\n"
      ]
     },
     "metadata": {},
     "output_type": "display_data"
    },
    {
     "data": {
      "text/html": [
       "<pre style=\"white-space:pre;overflow-x:auto;line-height:normal;font-family:Menlo,'DejaVu Sans Mono',consolas,'Courier New',monospace\"><span style=\"font-weight: bold\"> Trainable params: </span><span style=\"color: #00af00; text-decoration-color: #00af00\">18,193</span> (71.07 KB)\n",
       "</pre>\n"
      ],
      "text/plain": [
       "\u001b[1m Trainable params: \u001b[0m\u001b[38;5;34m18,193\u001b[0m (71.07 KB)\n"
      ]
     },
     "metadata": {},
     "output_type": "display_data"
    },
    {
     "data": {
      "text/html": [
       "<pre style=\"white-space:pre;overflow-x:auto;line-height:normal;font-family:Menlo,'DejaVu Sans Mono',consolas,'Courier New',monospace\"><span style=\"font-weight: bold\"> Non-trainable params: </span><span style=\"color: #00af00; text-decoration-color: #00af00\">0</span> (0.00 B)\n",
       "</pre>\n"
      ],
      "text/plain": [
       "\u001b[1m Non-trainable params: \u001b[0m\u001b[38;5;34m0\u001b[0m (0.00 B)\n"
      ]
     },
     "metadata": {},
     "output_type": "display_data"
    }
   ],
   "source": [
    "model4 = Sequential()\n",
    "model4.add(InputLayer((6, 4)))\n",
    "model4.add(LSTM(64))\n",
    "model4.add(Dense(8, 'relu'))\n",
    "model4.add(Dense(1, 'linear'))\n",
    "\n",
    "model4.summary()\n"
   ]
  },
  {
   "cell_type": "code",
   "execution_count": 43,
   "metadata": {
    "tags": []
   },
   "outputs": [],
   "source": [
    "cp4 = ModelCheckpoint('model4.keras', save_best_only=True)\n",
    "model4.compile(loss=MeanAbsoluteError(), optimizer=Adam(learning_rate=0.0001), metrics=[MeanAbsoluteError()])"
   ]
  },
  {
   "cell_type": "code",
   "execution_count": 45,
   "metadata": {
    "tags": []
   },
   "outputs": [
    {
     "name": "stdout",
     "output_type": "stream",
     "text": [
      "Epoch 1/10\n",
      "\u001b[1m1/1\u001b[0m \u001b[32m━━━━━━━━━━━━━━━━━━━━\u001b[0m\u001b[37m\u001b[0m \u001b[1m1s\u001b[0m 1s/step - loss: 1.1295 - mean_absolute_error: 1.1295 - val_loss: 1.0908 - val_mean_absolute_error: 1.0908\n",
      "Epoch 2/10\n",
      "\u001b[1m1/1\u001b[0m \u001b[32m━━━━━━━━━━━━━━━━━━━━\u001b[0m\u001b[37m\u001b[0m \u001b[1m0s\u001b[0m 54ms/step - loss: 1.1267 - mean_absolute_error: 1.1267 - val_loss: 1.0863 - val_mean_absolute_error: 1.0863\n",
      "Epoch 3/10\n",
      "\u001b[1m1/1\u001b[0m \u001b[32m━━━━━━━━━━━━━━━━━━━━\u001b[0m\u001b[37m\u001b[0m \u001b[1m0s\u001b[0m 52ms/step - loss: 1.1237 - mean_absolute_error: 1.1237 - val_loss: 1.0814 - val_mean_absolute_error: 1.0814\n",
      "Epoch 4/10\n",
      "\u001b[1m1/1\u001b[0m \u001b[32m━━━━━━━━━━━━━━━━━━━━\u001b[0m\u001b[37m\u001b[0m \u001b[1m0s\u001b[0m 53ms/step - loss: 1.1204 - mean_absolute_error: 1.1204 - val_loss: 1.0763 - val_mean_absolute_error: 1.0763\n",
      "Epoch 5/10\n",
      "\u001b[1m1/1\u001b[0m \u001b[32m━━━━━━━━━━━━━━━━━━━━\u001b[0m\u001b[37m\u001b[0m \u001b[1m0s\u001b[0m 51ms/step - loss: 1.1170 - mean_absolute_error: 1.1170 - val_loss: 1.0708 - val_mean_absolute_error: 1.0708\n",
      "Epoch 6/10\n",
      "\u001b[1m1/1\u001b[0m \u001b[32m━━━━━━━━━━━━━━━━━━━━\u001b[0m\u001b[37m\u001b[0m \u001b[1m0s\u001b[0m 52ms/step - loss: 1.1134 - mean_absolute_error: 1.1134 - val_loss: 1.0650 - val_mean_absolute_error: 1.0650\n",
      "Epoch 7/10\n",
      "\u001b[1m1/1\u001b[0m \u001b[32m━━━━━━━━━━━━━━━━━━━━\u001b[0m\u001b[37m\u001b[0m \u001b[1m0s\u001b[0m 50ms/step - loss: 1.1095 - mean_absolute_error: 1.1095 - val_loss: 1.0589 - val_mean_absolute_error: 1.0589\n",
      "Epoch 8/10\n",
      "\u001b[1m1/1\u001b[0m \u001b[32m━━━━━━━━━━━━━━━━━━━━\u001b[0m\u001b[37m\u001b[0m \u001b[1m0s\u001b[0m 50ms/step - loss: 1.1055 - mean_absolute_error: 1.1055 - val_loss: 1.0525 - val_mean_absolute_error: 1.0525\n",
      "Epoch 9/10\n",
      "\u001b[1m1/1\u001b[0m \u001b[32m━━━━━━━━━━━━━━━━━━━━\u001b[0m\u001b[37m\u001b[0m \u001b[1m0s\u001b[0m 52ms/step - loss: 1.1013 - mean_absolute_error: 1.1013 - val_loss: 1.0459 - val_mean_absolute_error: 1.0459\n",
      "Epoch 10/10\n",
      "\u001b[1m1/1\u001b[0m \u001b[32m━━━━━━━━━━━━━━━━━━━━\u001b[0m\u001b[37m\u001b[0m \u001b[1m0s\u001b[0m 51ms/step - loss: 1.0969 - mean_absolute_error: 1.0969 - val_loss: 1.0389 - val_mean_absolute_error: 1.0389\n"
     ]
    },
    {
     "data": {
      "text/plain": [
       "<keras.src.callbacks.history.History at 0x1b6fea33fd0>"
      ]
     },
     "execution_count": 45,
     "metadata": {},
     "output_type": "execute_result"
    }
   ],
   "source": [
    "model4.fit(X2_train, y2_train, validation_data=(X2_val, y2_val), epochs=10, callbacks=[cp4])"
   ]
  },
  {
   "cell_type": "code",
   "execution_count": null,
   "metadata": {},
   "outputs": [],
   "source": []
  }
 ],
 "metadata": {
  "colab": {
   "provenance": []
  },
  "kernelspec": {
   "display_name": "Python 3 (ipykernel)",
   "language": "python",
   "name": "python3"
  },
  "language_info": {
   "codemirror_mode": {
    "name": "ipython",
    "version": 3
   },
   "file_extension": ".py",
   "mimetype": "text/x-python",
   "name": "python",
   "nbconvert_exporter": "python",
   "pygments_lexer": "ipython3",
   "version": "3.11.5"
  }
 },
 "nbformat": 4,
 "nbformat_minor": 4
}
